{
 "cells": [
  {
   "cell_type": "markdown",
   "metadata": {},
   "source": [
    "# Принятие решений в бизнесе"
   ]
  },
  {
   "cell_type": "markdown",
   "metadata": {},
   "source": [
    "## Описание проекта\n",
    "\n",
    "Вы — аналитик крупного интернет-магазина. Вместе с отделом маркетинга вы подготовили список гипотез для увеличения выручки.\n",
    "Приоритизируйте гипотезы, запустите A/B-тест и проанализируйте результаты. "
   ]
  },
  {
   "cell_type": "markdown",
   "metadata": {},
   "source": [
    "Описание данных\n",
    "\n",
    "Таблица Hypothesis\n",
    "\n",
    "\n",
    "1. Hypothesis — краткое описание гипотезы;\n",
    "2. Reach — охват пользователей по 10-балльной шкале;\n",
    "3. Impact — влияние на пользователей по 10-балльной шкале;\n",
    "4. Confidence — уверенность в гипотезе по 10-балльной шкале;\n",
    "5. Efforts — затраты ресурсов на проверку гипотезы по 10-балльной шкале. Чем больше значение Efforts, тем дороже проверка гипотезы.\n",
    "\n",
    "\n",
    "Таблица Orders\n",
    "\n",
    "\n",
    "1. transactionId — идентификатор заказа;\n",
    "2. visitorId — идентификатор пользователя, совершившего заказ;\n",
    "3. date — дата, когда был совершён заказ;\n",
    "4. revenue — выручка заказа;\n",
    "5. group — группа A/B-теста, в которую попал заказ.\n",
    "\n",
    "Таблица Visitors \n",
    "\n",
    "1. date — дата;\n",
    "2. group — группа A/B-теста;\n",
    "3. visitors — количество пользователей в указанную дату в указанной группе A/B-теста"
   ]
  },
  {
   "cell_type": "markdown",
   "metadata": {},
   "source": [
    "Часть 1. Приоритизация гипотез.\n",
    "В таблице Hypothesis 9 гипотез по увеличению выручки интернет-магазина с указанными параметрами Reach, Impact, Confidence, Effort.\n",
    "Задача\n",
    "\n",
    "\n",
    "1. Примените фреймворк ICE для приоритизации гипотез. Отсортируйте их по убыванию приоритета.\n",
    "2. Примените фреймворк RICE для приоритизации гипотез. Отсортируйте их по убыванию приоритета.\n",
    "3. Укажите, как изменилась приоритизация гипотез при применении RICE вместо ICE. Объясните, почему так произошло.\n",
    "\n",
    "\n",
    "Часть 2. Анализ A/B-теста\n",
    "\n",
    "Задача\n",
    "\n",
    "Проанализируйте A/B-тест:\n",
    "\n",
    "\n",
    "1. Постройте график кумулятивной выручки по группам. Сделайте выводы и предположения.\n",
    "2. Постройте график кумулятивного среднего чека по группам. Сделайте выводы и предположения.\n",
    "3. Постройте график относительного изменения кумулятивного среднего чека группы B к группе A. Сделайте выводы и предположения.\n",
    "4. Постройте график кумулятивного среднего количества заказов на посетителя по группам. Сделайте выводы и предположения.\n",
    "5. Постройте график относительного изменения кумулятивного среднего количества заказов на посетителя группы B к группе A. Сделайте выводы и предположения.\n",
    "6. Постройте точечный график количества заказов по пользователям. Сделайте выводы и предположения.\n",
    "7. Посчитайте 95-й и 99-й перцентили количества заказов на пользователя. Выберите границу для определения аномальных пользователей.\n",
    "8. Постройте точечный график стоимостей заказов. Сделайте выводы и предположения.\n",
    "9. Посчитайте 95-й и 99-й перцентили стоимости заказов. Выберите границу для определения аномальных заказов.\n",
    "10. Посчитайте статистическую значимость различий в среднем количестве заказов на посетителя между группами по «сырым» данным. Сделайте выводы и предположения.\n",
    "11. Посчитайте статистическую значимость различий в среднем чеке заказа между группами по «сырым» данным. Сделайте выводы и предположения.\n",
    "12. Посчитайте статистическую значимость различий в среднем количестве заказов на посетителя между группами по «очищенным» данным. Сделайте выводы и предположения.\n",
    "13. Посчитайте статистическую значимость различий в среднем чеке заказа между группами по «очищенным» данным. Сделайте выводы и предположения.\n",
    "14. Примите решение по результатам теста и объясните его. Варианты решений:\n",
    "    1. Остановить тест, зафиксировать победу одной из групп.\n",
    "    2. Остановить тест, зафиксировать отсутствие различий между группами.\n",
    "    3. Продолжить тест."
   ]
  },
  {
   "cell_type": "markdown",
   "metadata": {},
   "source": [
    "### Импортируем нужные библиотеки"
   ]
  },
  {
   "cell_type": "code",
   "execution_count": 1,
   "metadata": {},
   "outputs": [],
   "source": [
    "import numpy as np\n",
    "import pandas as pd\n",
    "from matplotlib import pyplot as plt\n",
    "import scipy.stats as stats\n",
    "import datetime as dt"
   ]
  },
  {
   "cell_type": "code",
   "execution_count": 2,
   "metadata": {},
   "outputs": [],
   "source": [
    "hypothesis = pd.read_csv('/datasets/hypothesis.csv')\n",
    "orders = pd.read_csv('/datasets/orders.csv')\n",
    "visitors = pd.read_csv('/datasets/visitors.csv')"
   ]
  },
  {
   "cell_type": "markdown",
   "metadata": {},
   "source": [
    "### Предобработка данных"
   ]
  },
  {
   "cell_type": "markdown",
   "metadata": {},
   "source": [
    "### Hypothesis"
   ]
  },
  {
   "cell_type": "code",
   "execution_count": 3,
   "metadata": {
    "scrolled": false
   },
   "outputs": [
    {
     "name": "stdout",
     "output_type": "stream",
     "text": [
      "<class 'pandas.core.frame.DataFrame'>\n",
      "RangeIndex: 9 entries, 0 to 8\n",
      "Data columns (total 5 columns):\n",
      " #   Column      Non-Null Count  Dtype \n",
      "---  ------      --------------  ----- \n",
      " 0   Hypothesis  9 non-null      object\n",
      " 1   Reach       9 non-null      int64 \n",
      " 2   Impact      9 non-null      int64 \n",
      " 3   Confidence  9 non-null      int64 \n",
      " 4   Efforts     9 non-null      int64 \n",
      "dtypes: int64(4), object(1)\n",
      "memory usage: 488.0+ bytes\n"
     ]
    },
    {
     "data": {
      "text/html": [
       "<div>\n",
       "<style scoped>\n",
       "    .dataframe tbody tr th:only-of-type {\n",
       "        vertical-align: middle;\n",
       "    }\n",
       "\n",
       "    .dataframe tbody tr th {\n",
       "        vertical-align: top;\n",
       "    }\n",
       "\n",
       "    .dataframe thead th {\n",
       "        text-align: right;\n",
       "    }\n",
       "</style>\n",
       "<table border=\"1\" class=\"dataframe\">\n",
       "  <thead>\n",
       "    <tr style=\"text-align: right;\">\n",
       "      <th></th>\n",
       "      <th>Hypothesis</th>\n",
       "      <th>Reach</th>\n",
       "      <th>Impact</th>\n",
       "      <th>Confidence</th>\n",
       "      <th>Efforts</th>\n",
       "    </tr>\n",
       "  </thead>\n",
       "  <tbody>\n",
       "    <tr>\n",
       "      <th>0</th>\n",
       "      <td>Добавить два новых канала привлечения трафика,...</td>\n",
       "      <td>3</td>\n",
       "      <td>10</td>\n",
       "      <td>8</td>\n",
       "      <td>6</td>\n",
       "    </tr>\n",
       "    <tr>\n",
       "      <th>1</th>\n",
       "      <td>Запустить собственную службу доставки, что сок...</td>\n",
       "      <td>2</td>\n",
       "      <td>5</td>\n",
       "      <td>4</td>\n",
       "      <td>10</td>\n",
       "    </tr>\n",
       "    <tr>\n",
       "      <th>2</th>\n",
       "      <td>Добавить блоки рекомендаций товаров на сайт ин...</td>\n",
       "      <td>8</td>\n",
       "      <td>3</td>\n",
       "      <td>7</td>\n",
       "      <td>3</td>\n",
       "    </tr>\n",
       "    <tr>\n",
       "      <th>3</th>\n",
       "      <td>Изменить структура категорий, что увеличит кон...</td>\n",
       "      <td>8</td>\n",
       "      <td>3</td>\n",
       "      <td>3</td>\n",
       "      <td>8</td>\n",
       "    </tr>\n",
       "    <tr>\n",
       "      <th>4</th>\n",
       "      <td>Изменить цвет фона главной страницы, чтобы уве...</td>\n",
       "      <td>3</td>\n",
       "      <td>1</td>\n",
       "      <td>1</td>\n",
       "      <td>1</td>\n",
       "    </tr>\n",
       "    <tr>\n",
       "      <th>5</th>\n",
       "      <td>Добавить страницу отзывов клиентов о магазине,...</td>\n",
       "      <td>3</td>\n",
       "      <td>2</td>\n",
       "      <td>2</td>\n",
       "      <td>3</td>\n",
       "    </tr>\n",
       "    <tr>\n",
       "      <th>6</th>\n",
       "      <td>Показать на главной странице баннеры с актуаль...</td>\n",
       "      <td>5</td>\n",
       "      <td>3</td>\n",
       "      <td>8</td>\n",
       "      <td>3</td>\n",
       "    </tr>\n",
       "    <tr>\n",
       "      <th>7</th>\n",
       "      <td>Добавить форму подписки на все основные страни...</td>\n",
       "      <td>10</td>\n",
       "      <td>7</td>\n",
       "      <td>8</td>\n",
       "      <td>5</td>\n",
       "    </tr>\n",
       "    <tr>\n",
       "      <th>8</th>\n",
       "      <td>Запустить акцию, дающую скидку на товар в день...</td>\n",
       "      <td>1</td>\n",
       "      <td>9</td>\n",
       "      <td>9</td>\n",
       "      <td>5</td>\n",
       "    </tr>\n",
       "  </tbody>\n",
       "</table>\n",
       "</div>"
      ],
      "text/plain": [
       "                                          Hypothesis  Reach  Impact  \\\n",
       "0  Добавить два новых канала привлечения трафика,...      3      10   \n",
       "1  Запустить собственную службу доставки, что сок...      2       5   \n",
       "2  Добавить блоки рекомендаций товаров на сайт ин...      8       3   \n",
       "3  Изменить структура категорий, что увеличит кон...      8       3   \n",
       "4  Изменить цвет фона главной страницы, чтобы уве...      3       1   \n",
       "5  Добавить страницу отзывов клиентов о магазине,...      3       2   \n",
       "6  Показать на главной странице баннеры с актуаль...      5       3   \n",
       "7  Добавить форму подписки на все основные страни...     10       7   \n",
       "8  Запустить акцию, дающую скидку на товар в день...      1       9   \n",
       "\n",
       "   Confidence  Efforts  \n",
       "0           8        6  \n",
       "1           4       10  \n",
       "2           7        3  \n",
       "3           3        8  \n",
       "4           1        1  \n",
       "5           2        3  \n",
       "6           8        3  \n",
       "7           8        5  \n",
       "8           9        5  "
      ]
     },
     "execution_count": 3,
     "metadata": {},
     "output_type": "execute_result"
    }
   ],
   "source": [
    "hypothesis.info()\n",
    "hypothesis"
   ]
  },
  {
   "cell_type": "code",
   "execution_count": 4,
   "metadata": {},
   "outputs": [],
   "source": [
    "hypothesis.columns = hypothesis.columns.str.lower()\n"
   ]
  },
  {
   "cell_type": "markdown",
   "metadata": {},
   "source": [
    "Привели столбцы к нижнему регистру"
   ]
  },
  {
   "cell_type": "markdown",
   "metadata": {},
   "source": [
    "С данными таблицы Hypothesis все в порядке"
   ]
  },
  {
   "cell_type": "markdown",
   "metadata": {},
   "source": [
    "### Orders"
   ]
  },
  {
   "cell_type": "code",
   "execution_count": 5,
   "metadata": {},
   "outputs": [
    {
     "name": "stdout",
     "output_type": "stream",
     "text": [
      "<class 'pandas.core.frame.DataFrame'>\n",
      "RangeIndex: 1197 entries, 0 to 1196\n",
      "Data columns (total 5 columns):\n",
      " #   Column         Non-Null Count  Dtype \n",
      "---  ------         --------------  ----- \n",
      " 0   transactionId  1197 non-null   int64 \n",
      " 1   visitorId      1197 non-null   int64 \n",
      " 2   date           1197 non-null   object\n",
      " 3   revenue        1197 non-null   int64 \n",
      " 4   group          1197 non-null   object\n",
      "dtypes: int64(3), object(2)\n",
      "memory usage: 46.9+ KB\n"
     ]
    },
    {
     "data": {
      "text/html": [
       "<div>\n",
       "<style scoped>\n",
       "    .dataframe tbody tr th:only-of-type {\n",
       "        vertical-align: middle;\n",
       "    }\n",
       "\n",
       "    .dataframe tbody tr th {\n",
       "        vertical-align: top;\n",
       "    }\n",
       "\n",
       "    .dataframe thead th {\n",
       "        text-align: right;\n",
       "    }\n",
       "</style>\n",
       "<table border=\"1\" class=\"dataframe\">\n",
       "  <thead>\n",
       "    <tr style=\"text-align: right;\">\n",
       "      <th></th>\n",
       "      <th>transactionId</th>\n",
       "      <th>visitorId</th>\n",
       "      <th>date</th>\n",
       "      <th>revenue</th>\n",
       "      <th>group</th>\n",
       "    </tr>\n",
       "  </thead>\n",
       "  <tbody>\n",
       "    <tr>\n",
       "      <th>0</th>\n",
       "      <td>3667963787</td>\n",
       "      <td>3312258926</td>\n",
       "      <td>2019-08-15</td>\n",
       "      <td>1650</td>\n",
       "      <td>B</td>\n",
       "    </tr>\n",
       "    <tr>\n",
       "      <th>1</th>\n",
       "      <td>2804400009</td>\n",
       "      <td>3642806036</td>\n",
       "      <td>2019-08-15</td>\n",
       "      <td>730</td>\n",
       "      <td>B</td>\n",
       "    </tr>\n",
       "    <tr>\n",
       "      <th>2</th>\n",
       "      <td>2961555356</td>\n",
       "      <td>4069496402</td>\n",
       "      <td>2019-08-15</td>\n",
       "      <td>400</td>\n",
       "      <td>A</td>\n",
       "    </tr>\n",
       "    <tr>\n",
       "      <th>3</th>\n",
       "      <td>3797467345</td>\n",
       "      <td>1196621759</td>\n",
       "      <td>2019-08-15</td>\n",
       "      <td>9759</td>\n",
       "      <td>B</td>\n",
       "    </tr>\n",
       "    <tr>\n",
       "      <th>4</th>\n",
       "      <td>2282983706</td>\n",
       "      <td>2322279887</td>\n",
       "      <td>2019-08-15</td>\n",
       "      <td>2308</td>\n",
       "      <td>B</td>\n",
       "    </tr>\n",
       "  </tbody>\n",
       "</table>\n",
       "</div>"
      ],
      "text/plain": [
       "   transactionId   visitorId        date  revenue group\n",
       "0     3667963787  3312258926  2019-08-15     1650     B\n",
       "1     2804400009  3642806036  2019-08-15      730     B\n",
       "2     2961555356  4069496402  2019-08-15      400     A\n",
       "3     3797467345  1196621759  2019-08-15     9759     B\n",
       "4     2282983706  2322279887  2019-08-15     2308     B"
      ]
     },
     "execution_count": 5,
     "metadata": {},
     "output_type": "execute_result"
    }
   ],
   "source": [
    "orders.info()\n",
    "orders.head()"
   ]
  },
  {
   "cell_type": "markdown",
   "metadata": {},
   "source": [
    "Поменяем тип столбца date на datetime\n",
    "\n"
   ]
  },
  {
   "cell_type": "code",
   "execution_count": 6,
   "metadata": {},
   "outputs": [],
   "source": [
    "orders[\"date\"] = orders[\"date\"].map(lambda x: dt.datetime.strptime(x, '%Y-%m-%d'))\n"
   ]
  },
  {
   "cell_type": "code",
   "execution_count": 7,
   "metadata": {
    "scrolled": true
   },
   "outputs": [
    {
     "name": "stderr",
     "output_type": "stream",
     "text": [
      "/tmp/ipykernel_166/4220411559.py:1: FutureWarning: Treating datetime data as categorical rather than numeric in `.describe` is deprecated and will be removed in a future version of pandas. Specify `datetime_is_numeric=True` to silence this warning and adopt the future behavior now.\n",
      "  orders[\"date\"].describe()\n"
     ]
    },
    {
     "data": {
      "text/plain": [
       "count                    1197\n",
       "unique                     31\n",
       "top       2019-08-05 00:00:00\n",
       "freq                       48\n",
       "first     2019-08-01 00:00:00\n",
       "last      2019-08-31 00:00:00\n",
       "Name: date, dtype: object"
      ]
     },
     "execution_count": 7,
     "metadata": {},
     "output_type": "execute_result"
    }
   ],
   "source": [
    "orders[\"date\"].describe()"
   ]
  },
  {
   "cell_type": "markdown",
   "metadata": {},
   "source": [
    "подсчет уникальных групп для каждого пользователя"
   ]
  },
  {
   "cell_type": "code",
   "execution_count": 8,
   "metadata": {
    "scrolled": true
   },
   "outputs": [
    {
     "data": {
      "text/plain": [
       "visitorId\n",
       "2654030115    2\n",
       "3891541246    2\n",
       "3941795274    2\n",
       "1404934699    2\n",
       "351125977     2\n",
       "             ..\n",
       "1476256851    1\n",
       "1476741193    1\n",
       "1484903144    1\n",
       "1485964287    1\n",
       "4283872382    1\n",
       "Name: group, Length: 1031, dtype: int64"
      ]
     },
     "execution_count": 8,
     "metadata": {},
     "output_type": "execute_result"
    }
   ],
   "source": [
    "user_groups = orders.groupby('visitorId')['group'].nunique().sort_values(ascending=False)\n",
    "user_groups"
   ]
  },
  {
   "cell_type": "markdown",
   "metadata": {},
   "source": [
    "### считаем пользователей попавших в обе группы"
   ]
  },
  {
   "cell_type": "code",
   "execution_count": 9,
   "metadata": {
    "scrolled": true
   },
   "outputs": [
    {
     "data": {
      "text/plain": [
       "58"
      ]
     },
     "execution_count": 9,
     "metadata": {},
     "output_type": "execute_result"
    }
   ],
   "source": [
    "ab_user_groups = user_groups[user_groups > 1]\n",
    "ab_user_groups.count()"
   ]
  },
  {
   "cell_type": "markdown",
   "metadata": {},
   "source": [
    "### общее количество пользователей"
   ]
  },
  {
   "cell_type": "code",
   "execution_count": 10,
   "metadata": {},
   "outputs": [
    {
     "data": {
      "text/plain": [
       "1031"
      ]
     },
     "execution_count": 10,
     "metadata": {},
     "output_type": "execute_result"
    }
   ],
   "source": [
    "total_users = orders['visitorId'].nunique()\n",
    "total_users"
   ]
  },
  {
   "cell_type": "code",
   "execution_count": 11,
   "metadata": {},
   "outputs": [
    {
     "data": {
      "text/plain": [
       "5.625606207565471"
      ]
     },
     "execution_count": 11,
     "metadata": {},
     "output_type": "execute_result"
    }
   ],
   "source": [
    "diff_ab_users = (len(ab_user_groups)/total_users)*100\n",
    "diff_ab_users"
   ]
  },
  {
   "cell_type": "markdown",
   "metadata": {},
   "source": [
    "Так как пользователей попавших в обе группы не так много, было принято решение удалить их из датасета"
   ]
  },
  {
   "cell_type": "code",
   "execution_count": 12,
   "metadata": {},
   "outputs": [],
   "source": [
    "orders = orders[~orders['visitorId'].isin(ab_user_groups.index)]"
   ]
  },
  {
   "cell_type": "code",
   "execution_count": 13,
   "metadata": {},
   "outputs": [
    {
     "name": "stdout",
     "output_type": "stream",
     "text": [
      "<class 'pandas.core.frame.DataFrame'>\n",
      "Int64Index: 1016 entries, 0 to 1196\n",
      "Data columns (total 5 columns):\n",
      " #   Column         Non-Null Count  Dtype         \n",
      "---  ------         --------------  -----         \n",
      " 0   transactionId  1016 non-null   int64         \n",
      " 1   visitorId      1016 non-null   int64         \n",
      " 2   date           1016 non-null   datetime64[ns]\n",
      " 3   revenue        1016 non-null   int64         \n",
      " 4   group          1016 non-null   object        \n",
      "dtypes: datetime64[ns](1), int64(3), object(1)\n",
      "memory usage: 47.6+ KB\n"
     ]
    }
   ],
   "source": [
    "orders.info()"
   ]
  },
  {
   "cell_type": "code",
   "execution_count": 14,
   "metadata": {},
   "outputs": [
    {
     "data": {
      "text/plain": [
       "0"
      ]
     },
     "execution_count": 14,
     "metadata": {},
     "output_type": "execute_result"
    }
   ],
   "source": [
    "orders.duplicated().sum()"
   ]
  },
  {
   "cell_type": "markdown",
   "metadata": {},
   "source": [
    "Поменяли тип столбца date на datetime, удалили пользователей попавших в обе группы,дубликатов не обнаружено"
   ]
  },
  {
   "cell_type": "markdown",
   "metadata": {},
   "source": [
    "### visitors"
   ]
  },
  {
   "cell_type": "code",
   "execution_count": 15,
   "metadata": {
    "scrolled": false
   },
   "outputs": [
    {
     "name": "stdout",
     "output_type": "stream",
     "text": [
      "<class 'pandas.core.frame.DataFrame'>\n",
      "RangeIndex: 62 entries, 0 to 61\n",
      "Data columns (total 3 columns):\n",
      " #   Column    Non-Null Count  Dtype \n",
      "---  ------    --------------  ----- \n",
      " 0   date      62 non-null     object\n",
      " 1   group     62 non-null     object\n",
      " 2   visitors  62 non-null     int64 \n",
      "dtypes: int64(1), object(2)\n",
      "memory usage: 1.6+ KB\n"
     ]
    },
    {
     "data": {
      "text/html": [
       "<div>\n",
       "<style scoped>\n",
       "    .dataframe tbody tr th:only-of-type {\n",
       "        vertical-align: middle;\n",
       "    }\n",
       "\n",
       "    .dataframe tbody tr th {\n",
       "        vertical-align: top;\n",
       "    }\n",
       "\n",
       "    .dataframe thead th {\n",
       "        text-align: right;\n",
       "    }\n",
       "</style>\n",
       "<table border=\"1\" class=\"dataframe\">\n",
       "  <thead>\n",
       "    <tr style=\"text-align: right;\">\n",
       "      <th></th>\n",
       "      <th>date</th>\n",
       "      <th>group</th>\n",
       "      <th>visitors</th>\n",
       "    </tr>\n",
       "  </thead>\n",
       "  <tbody>\n",
       "    <tr>\n",
       "      <th>0</th>\n",
       "      <td>2019-08-01</td>\n",
       "      <td>A</td>\n",
       "      <td>719</td>\n",
       "    </tr>\n",
       "    <tr>\n",
       "      <th>1</th>\n",
       "      <td>2019-08-02</td>\n",
       "      <td>A</td>\n",
       "      <td>619</td>\n",
       "    </tr>\n",
       "    <tr>\n",
       "      <th>2</th>\n",
       "      <td>2019-08-03</td>\n",
       "      <td>A</td>\n",
       "      <td>507</td>\n",
       "    </tr>\n",
       "    <tr>\n",
       "      <th>3</th>\n",
       "      <td>2019-08-04</td>\n",
       "      <td>A</td>\n",
       "      <td>717</td>\n",
       "    </tr>\n",
       "    <tr>\n",
       "      <th>4</th>\n",
       "      <td>2019-08-05</td>\n",
       "      <td>A</td>\n",
       "      <td>756</td>\n",
       "    </tr>\n",
       "  </tbody>\n",
       "</table>\n",
       "</div>"
      ],
      "text/plain": [
       "         date group  visitors\n",
       "0  2019-08-01     A       719\n",
       "1  2019-08-02     A       619\n",
       "2  2019-08-03     A       507\n",
       "3  2019-08-04     A       717\n",
       "4  2019-08-05     A       756"
      ]
     },
     "execution_count": 15,
     "metadata": {},
     "output_type": "execute_result"
    }
   ],
   "source": [
    "visitors.info()\n",
    "visitors.head()"
   ]
  },
  {
   "cell_type": "markdown",
   "metadata": {},
   "source": [
    "Поменяем тип столбца date на datetime\n"
   ]
  },
  {
   "cell_type": "code",
   "execution_count": 16,
   "metadata": {},
   "outputs": [],
   "source": [
    "visitors[\"date\"] = visitors[\"date\"].map(lambda x: dt.datetime.strptime(x, '%Y-%m-%d'))\n"
   ]
  },
  {
   "cell_type": "code",
   "execution_count": 17,
   "metadata": {},
   "outputs": [
    {
     "name": "stderr",
     "output_type": "stream",
     "text": [
      "/tmp/ipykernel_166/511156166.py:1: FutureWarning: Treating datetime data as categorical rather than numeric in `.describe` is deprecated and will be removed in a future version of pandas. Specify `datetime_is_numeric=True` to silence this warning and adopt the future behavior now.\n",
      "  visitors['date'].describe()\n"
     ]
    },
    {
     "data": {
      "text/plain": [
       "count                      62\n",
       "unique                     31\n",
       "top       2019-08-27 00:00:00\n",
       "freq                        2\n",
       "first     2019-08-01 00:00:00\n",
       "last      2019-08-31 00:00:00\n",
       "Name: date, dtype: object"
      ]
     },
     "execution_count": 17,
     "metadata": {},
     "output_type": "execute_result"
    }
   ],
   "source": [
    "visitors['date'].describe()"
   ]
  },
  {
   "cell_type": "code",
   "execution_count": 18,
   "metadata": {},
   "outputs": [
    {
     "data": {
      "text/plain": [
       "0"
      ]
     },
     "execution_count": 18,
     "metadata": {},
     "output_type": "execute_result"
    }
   ],
   "source": [
    "visitors.duplicated().sum()"
   ]
  },
  {
   "cell_type": "markdown",
   "metadata": {},
   "source": [
    "Поменяли тип столбца date на datetime, дубликатов не обнаружено"
   ]
  },
  {
   "cell_type": "markdown",
   "metadata": {},
   "source": [
    "### Вывод  : в данных поменяли тип столбца date нa datetime и проверили сходство дат в таблице с заказами и посетителями"
   ]
  },
  {
   "cell_type": "markdown",
   "metadata": {},
   "source": [
    "## Приоритизация гипотез"
   ]
  },
  {
   "cell_type": "code",
   "execution_count": 50,
   "metadata": {},
   "outputs": [
    {
     "data": {
      "text/html": [
       "<div>\n",
       "<style scoped>\n",
       "    .dataframe tbody tr th:only-of-type {\n",
       "        vertical-align: middle;\n",
       "    }\n",
       "\n",
       "    .dataframe tbody tr th {\n",
       "        vertical-align: top;\n",
       "    }\n",
       "\n",
       "    .dataframe thead th {\n",
       "        text-align: right;\n",
       "    }\n",
       "</style>\n",
       "<table border=\"1\" class=\"dataframe\">\n",
       "  <thead>\n",
       "    <tr style=\"text-align: right;\">\n",
       "      <th></th>\n",
       "      <th>hypothesis</th>\n",
       "      <th>reach</th>\n",
       "      <th>impact</th>\n",
       "      <th>confidence</th>\n",
       "      <th>efforts</th>\n",
       "      <th>ice</th>\n",
       "      <th>rice</th>\n",
       "    </tr>\n",
       "  </thead>\n",
       "  <tbody>\n",
       "    <tr>\n",
       "      <th>0</th>\n",
       "      <td>Добавить два новых канала привлечения трафика,...</td>\n",
       "      <td>3</td>\n",
       "      <td>10</td>\n",
       "      <td>8</td>\n",
       "      <td>6</td>\n",
       "      <td>13.3</td>\n",
       "      <td>40.0</td>\n",
       "    </tr>\n",
       "    <tr>\n",
       "      <th>1</th>\n",
       "      <td>Запустить собственную службу доставки, что сок...</td>\n",
       "      <td>2</td>\n",
       "      <td>5</td>\n",
       "      <td>4</td>\n",
       "      <td>10</td>\n",
       "      <td>2.0</td>\n",
       "      <td>4.0</td>\n",
       "    </tr>\n",
       "    <tr>\n",
       "      <th>2</th>\n",
       "      <td>Добавить блоки рекомендаций товаров на сайт ин...</td>\n",
       "      <td>8</td>\n",
       "      <td>3</td>\n",
       "      <td>7</td>\n",
       "      <td>3</td>\n",
       "      <td>7.0</td>\n",
       "      <td>56.0</td>\n",
       "    </tr>\n",
       "    <tr>\n",
       "      <th>3</th>\n",
       "      <td>Изменить структура категорий, что увеличит кон...</td>\n",
       "      <td>8</td>\n",
       "      <td>3</td>\n",
       "      <td>3</td>\n",
       "      <td>8</td>\n",
       "      <td>1.1</td>\n",
       "      <td>9.0</td>\n",
       "    </tr>\n",
       "    <tr>\n",
       "      <th>4</th>\n",
       "      <td>Изменить цвет фона главной страницы, чтобы уве...</td>\n",
       "      <td>3</td>\n",
       "      <td>1</td>\n",
       "      <td>1</td>\n",
       "      <td>1</td>\n",
       "      <td>1.0</td>\n",
       "      <td>3.0</td>\n",
       "    </tr>\n",
       "    <tr>\n",
       "      <th>5</th>\n",
       "      <td>Добавить страницу отзывов клиентов о магазине,...</td>\n",
       "      <td>3</td>\n",
       "      <td>2</td>\n",
       "      <td>2</td>\n",
       "      <td>3</td>\n",
       "      <td>1.3</td>\n",
       "      <td>4.0</td>\n",
       "    </tr>\n",
       "    <tr>\n",
       "      <th>6</th>\n",
       "      <td>Показать на главной странице баннеры с актуаль...</td>\n",
       "      <td>5</td>\n",
       "      <td>3</td>\n",
       "      <td>8</td>\n",
       "      <td>3</td>\n",
       "      <td>8.0</td>\n",
       "      <td>40.0</td>\n",
       "    </tr>\n",
       "    <tr>\n",
       "      <th>7</th>\n",
       "      <td>Добавить форму подписки на все основные страни...</td>\n",
       "      <td>10</td>\n",
       "      <td>7</td>\n",
       "      <td>8</td>\n",
       "      <td>5</td>\n",
       "      <td>11.2</td>\n",
       "      <td>112.0</td>\n",
       "    </tr>\n",
       "    <tr>\n",
       "      <th>8</th>\n",
       "      <td>Запустить акцию, дающую скидку на товар в день...</td>\n",
       "      <td>1</td>\n",
       "      <td>9</td>\n",
       "      <td>9</td>\n",
       "      <td>5</td>\n",
       "      <td>16.2</td>\n",
       "      <td>16.2</td>\n",
       "    </tr>\n",
       "  </tbody>\n",
       "</table>\n",
       "</div>"
      ],
      "text/plain": [
       "                                          hypothesis  reach  impact  \\\n",
       "0  Добавить два новых канала привлечения трафика,...      3      10   \n",
       "1  Запустить собственную службу доставки, что сок...      2       5   \n",
       "2  Добавить блоки рекомендаций товаров на сайт ин...      8       3   \n",
       "3  Изменить структура категорий, что увеличит кон...      8       3   \n",
       "4  Изменить цвет фона главной страницы, чтобы уве...      3       1   \n",
       "5  Добавить страницу отзывов клиентов о магазине,...      3       2   \n",
       "6  Показать на главной странице баннеры с актуаль...      5       3   \n",
       "7  Добавить форму подписки на все основные страни...     10       7   \n",
       "8  Запустить акцию, дающую скидку на товар в день...      1       9   \n",
       "\n",
       "   confidence  efforts   ice   rice  \n",
       "0           8        6  13.3   40.0  \n",
       "1           4       10   2.0    4.0  \n",
       "2           7        3   7.0   56.0  \n",
       "3           3        8   1.1    9.0  \n",
       "4           1        1   1.0    3.0  \n",
       "5           2        3   1.3    4.0  \n",
       "6           8        3   8.0   40.0  \n",
       "7           8        5  11.2  112.0  \n",
       "8           9        5  16.2   16.2  "
      ]
     },
     "execution_count": 50,
     "metadata": {},
     "output_type": "execute_result"
    }
   ],
   "source": [
    "hypothesis"
   ]
  },
  {
   "cell_type": "code",
   "execution_count": 20,
   "metadata": {},
   "outputs": [],
   "source": [
    "hypothesis['ice'] = ((hypothesis['impact'] * hypothesis['confidence']) / hypothesis['efforts']).round(1)\n",
    "hypothesis['rice'] = (hypothesis['reach']  *hypothesis['impact'] * hypothesis['confidence']) / hypothesis['efforts']\n"
   ]
  },
  {
   "cell_type": "code",
   "execution_count": 21,
   "metadata": {},
   "outputs": [
    {
     "data": {
      "text/html": [
       "<div>\n",
       "<style scoped>\n",
       "    .dataframe tbody tr th:only-of-type {\n",
       "        vertical-align: middle;\n",
       "    }\n",
       "\n",
       "    .dataframe tbody tr th {\n",
       "        vertical-align: top;\n",
       "    }\n",
       "\n",
       "    .dataframe thead th {\n",
       "        text-align: right;\n",
       "    }\n",
       "</style>\n",
       "<table border=\"1\" class=\"dataframe\">\n",
       "  <thead>\n",
       "    <tr style=\"text-align: right;\">\n",
       "      <th></th>\n",
       "      <th>hypothesis</th>\n",
       "      <th>ice</th>\n",
       "    </tr>\n",
       "  </thead>\n",
       "  <tbody>\n",
       "    <tr>\n",
       "      <th>8</th>\n",
       "      <td>Запустить акцию, дающую скидку на товар в день...</td>\n",
       "      <td>16.2</td>\n",
       "    </tr>\n",
       "    <tr>\n",
       "      <th>0</th>\n",
       "      <td>Добавить два новых канала привлечения трафика,...</td>\n",
       "      <td>13.3</td>\n",
       "    </tr>\n",
       "    <tr>\n",
       "      <th>7</th>\n",
       "      <td>Добавить форму подписки на все основные страни...</td>\n",
       "      <td>11.2</td>\n",
       "    </tr>\n",
       "    <tr>\n",
       "      <th>6</th>\n",
       "      <td>Показать на главной странице баннеры с актуаль...</td>\n",
       "      <td>8.0</td>\n",
       "    </tr>\n",
       "    <tr>\n",
       "      <th>2</th>\n",
       "      <td>Добавить блоки рекомендаций товаров на сайт ин...</td>\n",
       "      <td>7.0</td>\n",
       "    </tr>\n",
       "    <tr>\n",
       "      <th>1</th>\n",
       "      <td>Запустить собственную службу доставки, что сок...</td>\n",
       "      <td>2.0</td>\n",
       "    </tr>\n",
       "    <tr>\n",
       "      <th>5</th>\n",
       "      <td>Добавить страницу отзывов клиентов о магазине,...</td>\n",
       "      <td>1.3</td>\n",
       "    </tr>\n",
       "    <tr>\n",
       "      <th>3</th>\n",
       "      <td>Изменить структура категорий, что увеличит кон...</td>\n",
       "      <td>1.1</td>\n",
       "    </tr>\n",
       "    <tr>\n",
       "      <th>4</th>\n",
       "      <td>Изменить цвет фона главной страницы, чтобы уве...</td>\n",
       "      <td>1.0</td>\n",
       "    </tr>\n",
       "  </tbody>\n",
       "</table>\n",
       "</div>"
      ],
      "text/plain": [
       "                                          hypothesis   ice\n",
       "8  Запустить акцию, дающую скидку на товар в день...  16.2\n",
       "0  Добавить два новых канала привлечения трафика,...  13.3\n",
       "7  Добавить форму подписки на все основные страни...  11.2\n",
       "6  Показать на главной странице баннеры с актуаль...   8.0\n",
       "2  Добавить блоки рекомендаций товаров на сайт ин...   7.0\n",
       "1  Запустить собственную службу доставки, что сок...   2.0\n",
       "5  Добавить страницу отзывов клиентов о магазине,...   1.3\n",
       "3  Изменить структура категорий, что увеличит кон...   1.1\n",
       "4  Изменить цвет фона главной страницы, чтобы уве...   1.0"
      ]
     },
     "execution_count": 21,
     "metadata": {},
     "output_type": "execute_result"
    }
   ],
   "source": [
    "hypothesis[['hypothesis', 'ice']].sort_values(by='ice', ascending=False).head(10)"
   ]
  },
  {
   "cell_type": "code",
   "execution_count": 22,
   "metadata": {},
   "outputs": [
    {
     "data": {
      "text/html": [
       "<div>\n",
       "<style scoped>\n",
       "    .dataframe tbody tr th:only-of-type {\n",
       "        vertical-align: middle;\n",
       "    }\n",
       "\n",
       "    .dataframe tbody tr th {\n",
       "        vertical-align: top;\n",
       "    }\n",
       "\n",
       "    .dataframe thead th {\n",
       "        text-align: right;\n",
       "    }\n",
       "</style>\n",
       "<table border=\"1\" class=\"dataframe\">\n",
       "  <thead>\n",
       "    <tr style=\"text-align: right;\">\n",
       "      <th></th>\n",
       "      <th>hypothesis</th>\n",
       "      <th>rice</th>\n",
       "    </tr>\n",
       "  </thead>\n",
       "  <tbody>\n",
       "    <tr>\n",
       "      <th>7</th>\n",
       "      <td>Добавить форму подписки на все основные страни...</td>\n",
       "      <td>112.0</td>\n",
       "    </tr>\n",
       "    <tr>\n",
       "      <th>2</th>\n",
       "      <td>Добавить блоки рекомендаций товаров на сайт ин...</td>\n",
       "      <td>56.0</td>\n",
       "    </tr>\n",
       "    <tr>\n",
       "      <th>0</th>\n",
       "      <td>Добавить два новых канала привлечения трафика,...</td>\n",
       "      <td>40.0</td>\n",
       "    </tr>\n",
       "    <tr>\n",
       "      <th>6</th>\n",
       "      <td>Показать на главной странице баннеры с актуаль...</td>\n",
       "      <td>40.0</td>\n",
       "    </tr>\n",
       "    <tr>\n",
       "      <th>8</th>\n",
       "      <td>Запустить акцию, дающую скидку на товар в день...</td>\n",
       "      <td>16.2</td>\n",
       "    </tr>\n",
       "    <tr>\n",
       "      <th>3</th>\n",
       "      <td>Изменить структура категорий, что увеличит кон...</td>\n",
       "      <td>9.0</td>\n",
       "    </tr>\n",
       "    <tr>\n",
       "      <th>1</th>\n",
       "      <td>Запустить собственную службу доставки, что сок...</td>\n",
       "      <td>4.0</td>\n",
       "    </tr>\n",
       "    <tr>\n",
       "      <th>5</th>\n",
       "      <td>Добавить страницу отзывов клиентов о магазине,...</td>\n",
       "      <td>4.0</td>\n",
       "    </tr>\n",
       "    <tr>\n",
       "      <th>4</th>\n",
       "      <td>Изменить цвет фона главной страницы, чтобы уве...</td>\n",
       "      <td>3.0</td>\n",
       "    </tr>\n",
       "  </tbody>\n",
       "</table>\n",
       "</div>"
      ],
      "text/plain": [
       "                                          hypothesis   rice\n",
       "7  Добавить форму подписки на все основные страни...  112.0\n",
       "2  Добавить блоки рекомендаций товаров на сайт ин...   56.0\n",
       "0  Добавить два новых канала привлечения трафика,...   40.0\n",
       "6  Показать на главной странице баннеры с актуаль...   40.0\n",
       "8  Запустить акцию, дающую скидку на товар в день...   16.2\n",
       "3  Изменить структура категорий, что увеличит кон...    9.0\n",
       "1  Запустить собственную службу доставки, что сок...    4.0\n",
       "5  Добавить страницу отзывов клиентов о магазине,...    4.0\n",
       "4  Изменить цвет фона главной страницы, чтобы уве...    3.0"
      ]
     },
     "execution_count": 22,
     "metadata": {},
     "output_type": "execute_result"
    }
   ],
   "source": [
    "hypothesis[['hypothesis', 'rice']].sort_values(by='rice', ascending=False).head(10)"
   ]
  },
  {
   "cell_type": "markdown",
   "metadata": {},
   "source": [
    "Топ‑3 по ICE: 8, 0, 7; по RICE: 7, 2, 0. Гипотеза 7 поднялась с третьего на первое место, гипотеза 2 — с пятого на второе, а гипотеза 0 опустилась со второго на третье. Гипотеза 8 сместилась на пятое место из‑за низкого охвата (Reach = 1), тогда как у 7 и 2 он высок (10 и 8). Рекомендуется тестировать сначала гипотезу 7, затем — гипотезу 2."
   ]
  },
  {
   "cell_type": "markdown",
   "metadata": {},
   "source": [
    "## Анализ A/B-теста"
   ]
  },
  {
   "cell_type": "markdown",
   "metadata": {},
   "source": [
    "###  Постройте график кумулятивной выручки по группам. Сделайте выводы и предположения."
   ]
  },
  {
   "cell_type": "code",
   "execution_count": 23,
   "metadata": {},
   "outputs": [
    {
     "data": {
      "text/html": [
       "<div>\n",
       "<style scoped>\n",
       "    .dataframe tbody tr th:only-of-type {\n",
       "        vertical-align: middle;\n",
       "    }\n",
       "\n",
       "    .dataframe tbody tr th {\n",
       "        vertical-align: top;\n",
       "    }\n",
       "\n",
       "    .dataframe thead th {\n",
       "        text-align: right;\n",
       "    }\n",
       "</style>\n",
       "<table border=\"1\" class=\"dataframe\">\n",
       "  <thead>\n",
       "    <tr style=\"text-align: right;\">\n",
       "      <th></th>\n",
       "      <th>date</th>\n",
       "      <th>group</th>\n",
       "      <th>transactionId</th>\n",
       "      <th>visitorId</th>\n",
       "      <th>revenue</th>\n",
       "    </tr>\n",
       "  </thead>\n",
       "  <tbody>\n",
       "    <tr>\n",
       "      <th>55</th>\n",
       "      <td>2019-08-01</td>\n",
       "      <td>A</td>\n",
       "      <td>23</td>\n",
       "      <td>19</td>\n",
       "      <td>142779</td>\n",
       "    </tr>\n",
       "    <tr>\n",
       "      <th>66</th>\n",
       "      <td>2019-08-01</td>\n",
       "      <td>B</td>\n",
       "      <td>17</td>\n",
       "      <td>17</td>\n",
       "      <td>59758</td>\n",
       "    </tr>\n",
       "    <tr>\n",
       "      <th>175</th>\n",
       "      <td>2019-08-02</td>\n",
       "      <td>A</td>\n",
       "      <td>42</td>\n",
       "      <td>36</td>\n",
       "      <td>234381</td>\n",
       "    </tr>\n",
       "    <tr>\n",
       "      <th>173</th>\n",
       "      <td>2019-08-02</td>\n",
       "      <td>B</td>\n",
       "      <td>40</td>\n",
       "      <td>39</td>\n",
       "      <td>221801</td>\n",
       "    </tr>\n",
       "    <tr>\n",
       "      <th>291</th>\n",
       "      <td>2019-08-03</td>\n",
       "      <td>A</td>\n",
       "      <td>66</td>\n",
       "      <td>60</td>\n",
       "      <td>346854</td>\n",
       "    </tr>\n",
       "  </tbody>\n",
       "</table>\n",
       "</div>"
      ],
      "text/plain": [
       "          date group  transactionId  visitorId  revenue\n",
       "55  2019-08-01     A             23         19   142779\n",
       "66  2019-08-01     B             17         17    59758\n",
       "175 2019-08-02     A             42         36   234381\n",
       "173 2019-08-02     B             40         39   221801\n",
       "291 2019-08-03     A             66         60   346854"
      ]
     },
     "execution_count": 23,
     "metadata": {},
     "output_type": "execute_result"
    }
   ],
   "source": [
    "dates_grouped = orders[['date', 'group']].drop_duplicates()\n",
    "\n",
    "orders_grouped = dates_grouped.apply(\n",
    "    lambda x: orders[\n",
    "        np.logical_and(\n",
    "            orders['date'] <= x['date'], orders['group'] == x['group']\n",
    "        )\n",
    "    ].agg(\n",
    "        {\n",
    "            'date': 'max',\n",
    "            'group': 'max',\n",
    "            'transactionId': 'nunique',\n",
    "            'visitorId': 'nunique',\n",
    "            'revenue': 'sum',\n",
    "        }\n",
    "    ),\n",
    "    axis=1,\n",
    ").sort_values(by=['date', 'group'])\n",
    "\n",
    "orders_grouped.head(5)"
   ]
  },
  {
   "cell_type": "code",
   "execution_count": 24,
   "metadata": {},
   "outputs": [
    {
     "data": {
      "text/html": [
       "<div>\n",
       "<style scoped>\n",
       "    .dataframe tbody tr th:only-of-type {\n",
       "        vertical-align: middle;\n",
       "    }\n",
       "\n",
       "    .dataframe tbody tr th {\n",
       "        vertical-align: top;\n",
       "    }\n",
       "\n",
       "    .dataframe thead th {\n",
       "        text-align: right;\n",
       "    }\n",
       "</style>\n",
       "<table border=\"1\" class=\"dataframe\">\n",
       "  <thead>\n",
       "    <tr style=\"text-align: right;\">\n",
       "      <th></th>\n",
       "      <th>date</th>\n",
       "      <th>group</th>\n",
       "      <th>visitors</th>\n",
       "    </tr>\n",
       "  </thead>\n",
       "  <tbody>\n",
       "    <tr>\n",
       "      <th>55</th>\n",
       "      <td>2019-08-01</td>\n",
       "      <td>A</td>\n",
       "      <td>719</td>\n",
       "    </tr>\n",
       "    <tr>\n",
       "      <th>66</th>\n",
       "      <td>2019-08-01</td>\n",
       "      <td>B</td>\n",
       "      <td>713</td>\n",
       "    </tr>\n",
       "    <tr>\n",
       "      <th>175</th>\n",
       "      <td>2019-08-02</td>\n",
       "      <td>A</td>\n",
       "      <td>1338</td>\n",
       "    </tr>\n",
       "    <tr>\n",
       "      <th>173</th>\n",
       "      <td>2019-08-02</td>\n",
       "      <td>B</td>\n",
       "      <td>1294</td>\n",
       "    </tr>\n",
       "    <tr>\n",
       "      <th>291</th>\n",
       "      <td>2019-08-03</td>\n",
       "      <td>A</td>\n",
       "      <td>1845</td>\n",
       "    </tr>\n",
       "  </tbody>\n",
       "</table>\n",
       "</div>"
      ],
      "text/plain": [
       "          date group  visitors\n",
       "55  2019-08-01     A       719\n",
       "66  2019-08-01     B       713\n",
       "175 2019-08-02     A      1338\n",
       "173 2019-08-02     B      1294\n",
       "291 2019-08-03     A      1845"
      ]
     },
     "execution_count": 24,
     "metadata": {},
     "output_type": "execute_result"
    }
   ],
   "source": [
    "visitors_grouped = dates_grouped.apply(\n",
    "    lambda x: visitors[\n",
    "        np.logical_and(\n",
    "            visitors['date'] <= x['date'], visitors['group'] == x['group']\n",
    "        )\n",
    "    ].agg(\n",
    "        {\n",
    "            'date': 'max', \n",
    "            'group': 'max', \n",
    "            'visitors': 'sum'\n",
    "        }\n",
    "    ),\n",
    "    axis=1,\n",
    ").sort_values(by=['date', 'group'])\n",
    "\n",
    "visitors_grouped.head(5)"
   ]
  },
  {
   "cell_type": "code",
   "execution_count": 25,
   "metadata": {},
   "outputs": [],
   "source": [
    "cumulative_data = orders_grouped.merge(\n",
    "    visitors_grouped, \n",
    "    left_on=['date', 'group'], \n",
    "    right_on=['date', 'group']\n",
    ")\n",
    "\n",
    "cumulative_data.columns = ['date', 'group', 'orders', 'buyers', 'revenue', 'visitors']"
   ]
  },
  {
   "cell_type": "code",
   "execution_count": 26,
   "metadata": {},
   "outputs": [
    {
     "data": {
      "text/html": [
       "<div>\n",
       "<style scoped>\n",
       "    .dataframe tbody tr th:only-of-type {\n",
       "        vertical-align: middle;\n",
       "    }\n",
       "\n",
       "    .dataframe tbody tr th {\n",
       "        vertical-align: top;\n",
       "    }\n",
       "\n",
       "    .dataframe thead th {\n",
       "        text-align: right;\n",
       "    }\n",
       "</style>\n",
       "<table border=\"1\" class=\"dataframe\">\n",
       "  <thead>\n",
       "    <tr style=\"text-align: right;\">\n",
       "      <th></th>\n",
       "      <th>date</th>\n",
       "      <th>group</th>\n",
       "      <th>orders</th>\n",
       "      <th>buyers</th>\n",
       "      <th>revenue</th>\n",
       "      <th>visitors</th>\n",
       "      <th>conversion</th>\n",
       "    </tr>\n",
       "  </thead>\n",
       "  <tbody>\n",
       "    <tr>\n",
       "      <th>0</th>\n",
       "      <td>2019-08-01</td>\n",
       "      <td>A</td>\n",
       "      <td>23</td>\n",
       "      <td>19</td>\n",
       "      <td>142779</td>\n",
       "      <td>719</td>\n",
       "      <td>0.031989</td>\n",
       "    </tr>\n",
       "    <tr>\n",
       "      <th>1</th>\n",
       "      <td>2019-08-01</td>\n",
       "      <td>B</td>\n",
       "      <td>17</td>\n",
       "      <td>17</td>\n",
       "      <td>59758</td>\n",
       "      <td>713</td>\n",
       "      <td>0.023843</td>\n",
       "    </tr>\n",
       "    <tr>\n",
       "      <th>2</th>\n",
       "      <td>2019-08-02</td>\n",
       "      <td>A</td>\n",
       "      <td>42</td>\n",
       "      <td>36</td>\n",
       "      <td>234381</td>\n",
       "      <td>1338</td>\n",
       "      <td>0.031390</td>\n",
       "    </tr>\n",
       "    <tr>\n",
       "      <th>3</th>\n",
       "      <td>2019-08-02</td>\n",
       "      <td>B</td>\n",
       "      <td>40</td>\n",
       "      <td>39</td>\n",
       "      <td>221801</td>\n",
       "      <td>1294</td>\n",
       "      <td>0.030912</td>\n",
       "    </tr>\n",
       "    <tr>\n",
       "      <th>4</th>\n",
       "      <td>2019-08-03</td>\n",
       "      <td>A</td>\n",
       "      <td>66</td>\n",
       "      <td>60</td>\n",
       "      <td>346854</td>\n",
       "      <td>1845</td>\n",
       "      <td>0.035772</td>\n",
       "    </tr>\n",
       "  </tbody>\n",
       "</table>\n",
       "</div>"
      ],
      "text/plain": [
       "        date group  orders  buyers  revenue  visitors  conversion\n",
       "0 2019-08-01     A      23      19   142779       719    0.031989\n",
       "1 2019-08-01     B      17      17    59758       713    0.023843\n",
       "2 2019-08-02     A      42      36   234381      1338    0.031390\n",
       "3 2019-08-02     B      40      39   221801      1294    0.030912\n",
       "4 2019-08-03     A      66      60   346854      1845    0.035772"
      ]
     },
     "execution_count": 26,
     "metadata": {},
     "output_type": "execute_result"
    }
   ],
   "source": [
    "cumulative_data['conversion'] = cumulative_data['orders'] / cumulative_data['visitors']\n",
    "cumulative_data.head(5)"
   ]
  },
  {
   "cell_type": "code",
   "execution_count": 27,
   "metadata": {},
   "outputs": [
    {
     "data": {
      "image/png": "[encoded data removed]",
      "text/plain": [
       "<Figure size 432x288 with 1 Axes>"
      ]
     },
     "metadata": {
      "needs_background": "light"
     },
     "output_type": "display_data"
    }
   ],
   "source": [
    "cumulative_revenue_a = cumulative_data[cumulative_data['group']=='A'][['date','revenue', 'orders']]\n",
    "\n",
    "cumulative_revenue_b = cumulative_data[cumulative_data['group']=='B'][['date','revenue', 'orders']]\n",
    "\n",
    "plt.plot(cumulative_revenue_a['date'], cumulative_revenue_a['revenue'], label='A')\n",
    "plt.plot(cumulative_revenue_b['date'], cumulative_revenue_b['revenue'], label='B')\n",
    "plt.xticks(rotation=30)\n",
    "plt.title('Кумулятивная выручка по группам')\n",
    "plt.legend()\n",
    "plt.show()\n",
    "\n"
   ]
  },
  {
   "cell_type": "markdown",
   "metadata": {},
   "source": [
    "Наблюдается равномерный линейный рост кумулятивной выручки в группе A, причём её значения ниже, чем в группе B. В то же время в группе B в районе 18-19 августа происходит резкий подъём — вероятно, из‑за всплеска числа заказов или единичных высокобюджетных покупок.\n",
    "\n",
    "\n",
    "\n",
    "\n",
    "\n",
    "\n",
    "\n",
    "\n"
   ]
  },
  {
   "cell_type": "markdown",
   "metadata": {},
   "source": [
    "### Постройте график кумулятивного среднего чека по группам. Сделайте выводы и предположения.\n"
   ]
  },
  {
   "cell_type": "code",
   "execution_count": 28,
   "metadata": {},
   "outputs": [
    {
     "data": {
      "image/png": "[encoded data removed]",
      "text/plain": [
       "<Figure size 432x288 with 1 Axes>"
      ]
     },
     "metadata": {
      "needs_background": "light"
     },
     "output_type": "display_data"
    }
   ],
   "source": [
    "plt.plot(cumulative_revenue_a['date'], \n",
    "         cumulative_revenue_a['revenue'] / cumulative_revenue_a['orders'],\n",
    "         label='A')\n",
    "\n",
    "plt.plot(cumulative_revenue_b['date'], \n",
    "         cumulative_revenue_b['revenue'] / cumulative_revenue_b['orders'], \n",
    "         label='B')\n",
    "plt.xticks(rotation=30)\n",
    "plt.legend()\n",
    "plt.title('Кумулятивный средний чек по группам')\n",
    "plt.show()\n"
   ]
  },
  {
   "cell_type": "markdown",
   "metadata": {},
   "source": [
    "Мы видим, что средний чек в группе А через какое-то время стабилизировался. Средний чек группы В показал резкий скачок 19 августа, что говорит о дорогой покупке.\n",
    "\n"
   ]
  },
  {
   "cell_type": "markdown",
   "metadata": {},
   "source": [
    "### Постройте график относительного изменения кумулятивного среднего чека группы B к группе A. Сделайте выводы и предположения.\n"
   ]
  },
  {
   "cell_type": "code",
   "execution_count": 29,
   "metadata": {},
   "outputs": [
    {
     "data": {
      "image/png": "[encoded data removed]",
      "text/plain": [
       "<Figure size 432x288 with 1 Axes>"
      ]
     },
     "metadata": {
      "needs_background": "light"
     },
     "output_type": "display_data"
    }
   ],
   "source": [
    "cumulative_revenue_ab = cumulative_revenue_a.merge(\n",
    "    cumulative_revenue_b, \n",
    "    left_on='date', \n",
    "    right_on='date', \n",
    "    how='left', \n",
    "    suffixes=['_a', '_b']\n",
    ")\n",
    "\n",
    "plt.plot(cumulative_revenue_ab['date'], \n",
    "         (cumulative_revenue_ab['revenue_b']/cumulative_revenue_ab['orders_b'])/\n",
    "         (cumulative_revenue_ab['revenue_a']/cumulative_revenue_ab['orders_a'])-1)\n",
    "\n",
    "plt.axhline(y=0, color='black', linestyle='--')\n",
    "plt.title('Относительное изменение кумулятивного среднего чека группы B к группе A')\n",
    "plt.xticks(rotation=30)\n",
    "plt.show()"
   ]
  },
  {
   "cell_type": "markdown",
   "metadata": {},
   "source": [
    "На графике наблюдаются скачки, что говорит о том, что в данных определенно присутствуют выбросы"
   ]
  },
  {
   "cell_type": "markdown",
   "metadata": {},
   "source": [
    "### Постройте график кумулятивного среднего количества заказов на посетителя по группам. Сделайте выводы и предположения.\n"
   ]
  },
  {
   "cell_type": "code",
   "execution_count": 30,
   "metadata": {},
   "outputs": [
    {
     "data": {
      "image/png": "[encoded data removed]",
      "text/plain": [
       "<Figure size 432x288 with 1 Axes>"
      ]
     },
     "metadata": {
      "needs_background": "light"
     },
     "output_type": "display_data"
    }
   ],
   "source": [
    "cumulative_data_a = cumulative_data[cumulative_data['group']=='A']\n",
    "\n",
    "cumulative_data_b = cumulative_data[cumulative_data['group']=='B']\n",
    "\n",
    "plt.plot(cumulative_data_a['date'], cumulative_data_a['conversion'], label='A')\n",
    "plt.plot(cumulative_data_b['date'], cumulative_data_b['conversion'], label='B')\n",
    "plt.legend()\n",
    "plt.xticks(rotation=30)\n",
    "plt.title('Кумулятивное среднее количество заказов на посетителя по группам')\n",
    "plt.show()"
   ]
  },
  {
   "cell_type": "markdown",
   "metadata": {},
   "source": [
    "Не смотря на то, что на графиках есть различия, сами графики между собой похожи. Колебания имеют схожий вид. "
   ]
  },
  {
   "cell_type": "markdown",
   "metadata": {},
   "source": [
    "Группа В находится в лидерах на промежутке с 6 августа по 1 сентября)"
   ]
  },
  {
   "cell_type": "markdown",
   "metadata": {},
   "source": [
    "### Постройте график относительного изменения кумулятивного среднего количества заказов на посетителя группы B к группе A. Сделайте выводы и предположения.\n"
   ]
  },
  {
   "cell_type": "code",
   "execution_count": 31,
   "metadata": {},
   "outputs": [
    {
     "data": {
      "image/png": "[encoded data removed]",
      "text/plain": [
       "<Figure size 432x288 with 1 Axes>"
      ]
     },
     "metadata": {
      "needs_background": "light"
     },
     "output_type": "display_data"
    }
   ],
   "source": [
    "cumulative_conversions_ab = (\n",
    "    cumulative_data_a[['date','conversion']]\n",
    "    .merge(\n",
    "        cumulative_data_b[['date','conversion']], \n",
    "        left_on='date', \n",
    "        right_on='date', \n",
    "        how='left', \n",
    "        suffixes=['_a', '_b']\n",
    "    )\n",
    ")\n",
    "plt.plot(\n",
    "    cumulative_conversions_ab['date'], \n",
    "    cumulative_conversions_ab['conversion_b']/\n",
    "    cumulative_conversions_ab['conversion_a']-1\n",
    ")\n",
    "\n",
    "plt.axhline(y=0, color='black', linestyle='--')\n",
    "plt.axhline(y=0.15, color='grey', linestyle='--')\n",
    "plt.xticks(rotation=30)\n",
    "plt.title('изменения кумулятивного среднего количества заказов на посетителя группы B к группе A')\n",
    "plt.show()"
   ]
  },
  {
   "cell_type": "markdown",
   "metadata": {},
   "source": [
    "В начале теста показатели конверсии группы B были ниже, чем у группы A, затем она обогнала конкурентов и продемонстрировала стремительный рост. После пика конверсия постепенно снижалась, но сейчас вновь показывает восходящую динамику. Поскольку на предыдущих графиках ярко проявились эффекты крупных заказов, имеет смысл заново провести анализ на очищенных от выбросов данных."
   ]
  },
  {
   "cell_type": "markdown",
   "metadata": {},
   "source": [
    "### Постройте точечный график количества заказов по пользователям. Сделайте выводы и предположения.\n"
   ]
  },
  {
   "cell_type": "code",
   "execution_count": 32,
   "metadata": {},
   "outputs": [
    {
     "data": {
      "text/html": [
       "<div>\n",
       "<style scoped>\n",
       "    .dataframe tbody tr th:only-of-type {\n",
       "        vertical-align: middle;\n",
       "    }\n",
       "\n",
       "    .dataframe tbody tr th {\n",
       "        vertical-align: top;\n",
       "    }\n",
       "\n",
       "    .dataframe thead th {\n",
       "        text-align: right;\n",
       "    }\n",
       "</style>\n",
       "<table border=\"1\" class=\"dataframe\">\n",
       "  <thead>\n",
       "    <tr style=\"text-align: right;\">\n",
       "      <th></th>\n",
       "      <th>user_id</th>\n",
       "      <th>orders</th>\n",
       "    </tr>\n",
       "  </thead>\n",
       "  <tbody>\n",
       "    <tr>\n",
       "      <th>908</th>\n",
       "      <td>3967698036</td>\n",
       "      <td>3</td>\n",
       "    </tr>\n",
       "    <tr>\n",
       "      <th>55</th>\n",
       "      <td>249864742</td>\n",
       "      <td>3</td>\n",
       "    </tr>\n",
       "    <tr>\n",
       "      <th>478</th>\n",
       "      <td>2108163459</td>\n",
       "      <td>3</td>\n",
       "    </tr>\n",
       "    <tr>\n",
       "      <th>687</th>\n",
       "      <td>2988190573</td>\n",
       "      <td>3</td>\n",
       "    </tr>\n",
       "    <tr>\n",
       "      <th>890</th>\n",
       "      <td>3908431265</td>\n",
       "      <td>3</td>\n",
       "    </tr>\n",
       "    <tr>\n",
       "      <th>138</th>\n",
       "      <td>611059232</td>\n",
       "      <td>3</td>\n",
       "    </tr>\n",
       "    <tr>\n",
       "      <th>632</th>\n",
       "      <td>2742574263</td>\n",
       "      <td>3</td>\n",
       "    </tr>\n",
       "    <tr>\n",
       "      <th>157</th>\n",
       "      <td>678354126</td>\n",
       "      <td>2</td>\n",
       "    </tr>\n",
       "    <tr>\n",
       "      <th>323</th>\n",
       "      <td>1404560065</td>\n",
       "      <td>2</td>\n",
       "    </tr>\n",
       "    <tr>\n",
       "      <th>452</th>\n",
       "      <td>1985475298</td>\n",
       "      <td>2</td>\n",
       "    </tr>\n",
       "  </tbody>\n",
       "</table>\n",
       "</div>"
      ],
      "text/plain": [
       "        user_id  orders\n",
       "908  3967698036       3\n",
       "55    249864742       3\n",
       "478  2108163459       3\n",
       "687  2988190573       3\n",
       "890  3908431265       3\n",
       "138   611059232       3\n",
       "632  2742574263       3\n",
       "157   678354126       2\n",
       "323  1404560065       2\n",
       "452  1985475298       2"
      ]
     },
     "execution_count": 32,
     "metadata": {},
     "output_type": "execute_result"
    }
   ],
   "source": [
    "ordersByUsers = orders.drop(['group', 'revenue', 'date'], axis=1).groupby('visitorId', as_index=False). \\\n",
    "                                                                        agg({'transactionId' : pd.Series.nunique})\n",
    "\n",
    "ordersByUsers.columns = ['user_id','orders']\n",
    "\n",
    "ordersByUsers.sort_values(by='orders',ascending=False).head(10)"
   ]
  },
  {
   "cell_type": "code",
   "execution_count": 33,
   "metadata": {},
   "outputs": [
    {
     "data": {
      "image/png": "[encoded data removed]",
      "text/plain": [
       "<Figure size 1080x360 with 1 Axes>"
      ]
     },
     "metadata": {
      "needs_background": "light"
     },
     "output_type": "display_data"
    }
   ],
   "source": [
    "x_values = pd.Series(range(0,len(ordersByUsers)))\n",
    "\n",
    "plt.figure(figsize=(15,5))\n",
    "plt.grid()\n",
    "plt.title('График количества заказов по пользователям')\n",
    "plt.scatter(x_values, ordersByUsers['orders'], alpha=0.5) ;"
   ]
  },
  {
   "cell_type": "markdown",
   "metadata": {},
   "source": [
    "Больше всего пользователей которые совершили 1 заказ. Тех кто совершили 2 заказа уже не так много. И уже те кто совершил 3 заказа совсем мало, и считать ли это выбросами пока не ясно, - надо посчитать процентили (95 и 99). А все что выше 3 заказов - явно уже аномалия."
   ]
  },
  {
   "cell_type": "markdown",
   "metadata": {},
   "source": [
    "### Посчитайте 95-й и 99-й перцентили количества заказов на пользователя. Выберите границу для определения аномальных пользователей.\n"
   ]
  },
  {
   "cell_type": "code",
   "execution_count": 34,
   "metadata": {},
   "outputs": [
    {
     "name": "stdout",
     "output_type": "stream",
     "text": [
      "95 и 99 перцентили по заказам :  [1. 2.]\n"
     ]
    }
   ],
   "source": [
    "print('95 и 99 перцентили по заказам : ', np.percentile(ordersByUsers['orders'], [95, 99])) \n"
   ]
  },
  {
   "cell_type": "markdown",
   "metadata": {},
   "source": [
    "Менее 5% пользователей делают больше 1 заказа-такие заказы можно считать аномалией. Установим 95% перцентиль верхней границей"
   ]
  },
  {
   "cell_type": "markdown",
   "metadata": {},
   "source": [
    "### Постройте точечный график стоимостей заказов. Сделайте выводы и предположения.\n"
   ]
  },
  {
   "cell_type": "code",
   "execution_count": 35,
   "metadata": {},
   "outputs": [
    {
     "data": {
      "image/png": "[encoded data removed]",
      "text/plain": [
       "<Figure size 1080x360 with 1 Axes>"
      ]
     },
     "metadata": {
      "needs_background": "light"
     },
     "output_type": "display_data"
    }
   ],
   "source": [
    "x_values = pd.Series(range(0,len(orders['revenue'])))\n",
    "plt.figure(figsize=(15,5))\n",
    "plt.grid()\n",
    "plt.title('График стоимостей заказов')\n",
    "plt.scatter(x_values, orders['revenue'], alpha=0.5);"
   ]
  },
  {
   "cell_type": "markdown",
   "metadata": {},
   "source": [
    "На графике можно заметить выбросы в районе 1.3 млн и 200 тысяч"
   ]
  },
  {
   "cell_type": "code",
   "execution_count": 36,
   "metadata": {},
   "outputs": [
    {
     "data": {
      "text/html": [
       "<div>\n",
       "<style scoped>\n",
       "    .dataframe tbody tr th:only-of-type {\n",
       "        vertical-align: middle;\n",
       "    }\n",
       "\n",
       "    .dataframe tbody tr th {\n",
       "        vertical-align: top;\n",
       "    }\n",
       "\n",
       "    .dataframe thead th {\n",
       "        text-align: right;\n",
       "    }\n",
       "</style>\n",
       "<table border=\"1\" class=\"dataframe\">\n",
       "  <thead>\n",
       "    <tr style=\"text-align: right;\">\n",
       "      <th></th>\n",
       "      <th>transactionId</th>\n",
       "      <th>visitorId</th>\n",
       "      <th>date</th>\n",
       "      <th>revenue</th>\n",
       "      <th>group</th>\n",
       "    </tr>\n",
       "  </thead>\n",
       "  <tbody>\n",
       "    <tr>\n",
       "      <th>425</th>\n",
       "      <td>590470918</td>\n",
       "      <td>1920142716</td>\n",
       "      <td>2019-08-19</td>\n",
       "      <td>1294500</td>\n",
       "      <td>B</td>\n",
       "    </tr>\n",
       "    <tr>\n",
       "      <th>530</th>\n",
       "      <td>3970235543</td>\n",
       "      <td>2912540959</td>\n",
       "      <td>2019-08-19</td>\n",
       "      <td>43990</td>\n",
       "      <td>A</td>\n",
       "    </tr>\n",
       "    <tr>\n",
       "      <th>527</th>\n",
       "      <td>1570513684</td>\n",
       "      <td>2837914161</td>\n",
       "      <td>2019-08-19</td>\n",
       "      <td>33405</td>\n",
       "      <td>B</td>\n",
       "    </tr>\n",
       "    <tr>\n",
       "      <th>421</th>\n",
       "      <td>3765974140</td>\n",
       "      <td>1357170471</td>\n",
       "      <td>2019-08-19</td>\n",
       "      <td>31680</td>\n",
       "      <td>A</td>\n",
       "    </tr>\n",
       "    <tr>\n",
       "      <th>461</th>\n",
       "      <td>2683113224</td>\n",
       "      <td>154576532</td>\n",
       "      <td>2019-08-19</td>\n",
       "      <td>26550</td>\n",
       "      <td>B</td>\n",
       "    </tr>\n",
       "    <tr>\n",
       "      <th>368</th>\n",
       "      <td>3268879337</td>\n",
       "      <td>2536252163</td>\n",
       "      <td>2019-08-19</td>\n",
       "      <td>20026</td>\n",
       "      <td>B</td>\n",
       "    </tr>\n",
       "    <tr>\n",
       "      <th>366</th>\n",
       "      <td>2037051350</td>\n",
       "      <td>1957949546</td>\n",
       "      <td>2019-08-19</td>\n",
       "      <td>16770</td>\n",
       "      <td>A</td>\n",
       "    </tr>\n",
       "    <tr>\n",
       "      <th>463</th>\n",
       "      <td>4170537404</td>\n",
       "      <td>290022471</td>\n",
       "      <td>2019-08-19</td>\n",
       "      <td>16480</td>\n",
       "      <td>B</td>\n",
       "    </tr>\n",
       "  </tbody>\n",
       "</table>\n",
       "</div>"
      ],
      "text/plain": [
       "     transactionId   visitorId       date  revenue group\n",
       "425      590470918  1920142716 2019-08-19  1294500     B\n",
       "530     3970235543  2912540959 2019-08-19    43990     A\n",
       "527     1570513684  2837914161 2019-08-19    33405     B\n",
       "421     3765974140  1357170471 2019-08-19    31680     A\n",
       "461     2683113224   154576532 2019-08-19    26550     B\n",
       "368     3268879337  2536252163 2019-08-19    20026     B\n",
       "366     2037051350  1957949546 2019-08-19    16770     A\n",
       "463     4170537404   290022471 2019-08-19    16480     B"
      ]
     },
     "execution_count": 36,
     "metadata": {},
     "output_type": "execute_result"
    }
   ],
   "source": [
    "orders.query(' date == \"2019-08-19\" ').sort_values(by='revenue', ascending=False).head(8)\n"
   ]
  },
  {
   "cell_type": "markdown",
   "metadata": {},
   "source": [
    "Вот мы и нашли тот самый выброс,который влиял на графики предыдущих кумулятивных значений"
   ]
  },
  {
   "cell_type": "markdown",
   "metadata": {},
   "source": [
    "Зададим предел значений до 200 тысяч, чтобы конкретнее разглядеть точечный график"
   ]
  },
  {
   "cell_type": "code",
   "execution_count": 37,
   "metadata": {},
   "outputs": [
    {
     "data": {
      "image/png": "[encoded data removed]",
      "text/plain": [
       "<Figure size 1080x360 with 1 Axes>"
      ]
     },
     "metadata": {
      "needs_background": "light"
     },
     "output_type": "display_data"
    }
   ],
   "source": [
    "norm_orders = orders[orders['revenue']<=195000]['revenue']\n",
    "xn_values = pd.Series(range(0,len(norm_orders)))\n",
    "plt.figure(figsize=(15,5))\n",
    "plt.grid()\n",
    "plt.title('График стоимостей заказов')\n",
    "plt.scatter(xn_values, norm_orders, alpha=0.5);"
   ]
  },
  {
   "cell_type": "markdown",
   "metadata": {},
   "source": [
    "Мы видим, что основная масса заказов не превышает 20000.\n",
    "\n"
   ]
  },
  {
   "cell_type": "markdown",
   "metadata": {},
   "source": [
    "\n",
    "Посчитаем 95-й и 99-й перцентили стоимости заказов на пользователя"
   ]
  },
  {
   "cell_type": "markdown",
   "metadata": {},
   "source": [
    "### Посчитайте 95-й и 99-й перцентили стоимости заказов. Выберите границу для определения аномальных заказов.\n"
   ]
  },
  {
   "cell_type": "code",
   "execution_count": 38,
   "metadata": {},
   "outputs": [
    {
     "name": "stdout",
     "output_type": "stream",
     "text": [
      " 95 и 99 перцентили по выручке заказов :  [26785. 53904.]\n"
     ]
    }
   ],
   "source": [
    "print(' 95 и 99 перцентили по выручке заказов : ', np.percentile(orders['revenue'], [95, 99])) \n"
   ]
  },
  {
   "cell_type": "markdown",
   "metadata": {},
   "source": [
    "99% заказов меньше суммы 53904 , установим её в качестве границы для аномалий.\n",
    "\n"
   ]
  },
  {
   "cell_type": "markdown",
   "metadata": {},
   "source": [
    "### Посчитайте статистическую значимость различий в среднем количестве заказов на посетителя между группами по «сырым» данным. Сделайте выводы и предположения.\n"
   ]
  },
  {
   "cell_type": "markdown",
   "metadata": {},
   "source": [
    "За нулевую гипотезу возьмём что: \"статистически значимых различий в конверсии между группами нет\"\n",
    "\n",
    "тогда альтернативная гипотеза будет гласить - статистически значимые различия есть.\n",
    "\n"
   ]
  },
  {
   "cell_type": "markdown",
   "metadata": {},
   "source": [
    "для проверки гипотез будем использовать непараметрический тест Уилкоксона-Манна-Уитни.\n",
    "Для уровеня значимости установим стандартный уровень статистической значимости, равный 0.05"
   ]
  },
  {
   "cell_type": "markdown",
   "metadata": {},
   "source": [
    "Соберем все данные по заказам и визитам (а также добавим кумулятивные показатели) в одну таблицу. Для этого создадим несколько таблиц и затем объединим их:"
   ]
  },
  {
   "cell_type": "code",
   "execution_count": 39,
   "metadata": {},
   "outputs": [
    {
     "data": {
      "text/html": [
       "<div>\n",
       "<style scoped>\n",
       "    .dataframe tbody tr th:only-of-type {\n",
       "        vertical-align: middle;\n",
       "    }\n",
       "\n",
       "    .dataframe tbody tr th {\n",
       "        vertical-align: top;\n",
       "    }\n",
       "\n",
       "    .dataframe thead th {\n",
       "        text-align: right;\n",
       "    }\n",
       "</style>\n",
       "<table border=\"1\" class=\"dataframe\">\n",
       "  <thead>\n",
       "    <tr style=\"text-align: right;\">\n",
       "      <th></th>\n",
       "      <th>date</th>\n",
       "      <th>orders_daily_a</th>\n",
       "      <th>revenue_per_date_a</th>\n",
       "      <th>orders_daily_b</th>\n",
       "      <th>revenue_per_date_b</th>\n",
       "      <th>orders_cummulative_a</th>\n",
       "      <th>revenue_cummulative_a</th>\n",
       "      <th>orders_cummulative_b</th>\n",
       "      <th>revenue_cummulative_b</th>\n",
       "      <th>visitors_per_date_a</th>\n",
       "      <th>visitors_per_date_b</th>\n",
       "      <th>visitors_cummulative_a</th>\n",
       "      <th>visitors_cummulative_b</th>\n",
       "    </tr>\n",
       "  </thead>\n",
       "  <tbody>\n",
       "    <tr>\n",
       "      <th>0</th>\n",
       "      <td>2019-08-01</td>\n",
       "      <td>23</td>\n",
       "      <td>142779</td>\n",
       "      <td>17</td>\n",
       "      <td>59758</td>\n",
       "      <td>23</td>\n",
       "      <td>142779</td>\n",
       "      <td>17</td>\n",
       "      <td>59758</td>\n",
       "      <td>719</td>\n",
       "      <td>713</td>\n",
       "      <td>719</td>\n",
       "      <td>713</td>\n",
       "    </tr>\n",
       "    <tr>\n",
       "      <th>1</th>\n",
       "      <td>2019-08-02</td>\n",
       "      <td>19</td>\n",
       "      <td>91602</td>\n",
       "      <td>23</td>\n",
       "      <td>162043</td>\n",
       "      <td>42</td>\n",
       "      <td>234381</td>\n",
       "      <td>40</td>\n",
       "      <td>221801</td>\n",
       "      <td>619</td>\n",
       "      <td>581</td>\n",
       "      <td>1338</td>\n",
       "      <td>1294</td>\n",
       "    </tr>\n",
       "    <tr>\n",
       "      <th>2</th>\n",
       "      <td>2019-08-03</td>\n",
       "      <td>24</td>\n",
       "      <td>112473</td>\n",
       "      <td>14</td>\n",
       "      <td>67049</td>\n",
       "      <td>66</td>\n",
       "      <td>346854</td>\n",
       "      <td>54</td>\n",
       "      <td>288850</td>\n",
       "      <td>507</td>\n",
       "      <td>509</td>\n",
       "      <td>1845</td>\n",
       "      <td>1803</td>\n",
       "    </tr>\n",
       "    <tr>\n",
       "      <th>3</th>\n",
       "      <td>2019-08-04</td>\n",
       "      <td>11</td>\n",
       "      <td>41176</td>\n",
       "      <td>14</td>\n",
       "      <td>96890</td>\n",
       "      <td>77</td>\n",
       "      <td>388030</td>\n",
       "      <td>68</td>\n",
       "      <td>385740</td>\n",
       "      <td>717</td>\n",
       "      <td>770</td>\n",
       "      <td>2562</td>\n",
       "      <td>2573</td>\n",
       "    </tr>\n",
       "    <tr>\n",
       "      <th>4</th>\n",
       "      <td>2019-08-05</td>\n",
       "      <td>22</td>\n",
       "      <td>86383</td>\n",
       "      <td>21</td>\n",
       "      <td>89908</td>\n",
       "      <td>99</td>\n",
       "      <td>474413</td>\n",
       "      <td>89</td>\n",
       "      <td>475648</td>\n",
       "      <td>756</td>\n",
       "      <td>707</td>\n",
       "      <td>3318</td>\n",
       "      <td>3280</td>\n",
       "    </tr>\n",
       "  </tbody>\n",
       "</table>\n",
       "</div>"
      ],
      "text/plain": [
       "        date  orders_daily_a  revenue_per_date_a  orders_daily_b  \\\n",
       "0 2019-08-01              23              142779              17   \n",
       "1 2019-08-02              19               91602              23   \n",
       "2 2019-08-03              24              112473              14   \n",
       "3 2019-08-04              11               41176              14   \n",
       "4 2019-08-05              22               86383              21   \n",
       "\n",
       "   revenue_per_date_b  orders_cummulative_a  revenue_cummulative_a  \\\n",
       "0               59758                    23                 142779   \n",
       "1              162043                    42                 234381   \n",
       "2               67049                    66                 346854   \n",
       "3               96890                    77                 388030   \n",
       "4               89908                    99                 474413   \n",
       "\n",
       "   orders_cummulative_b  revenue_cummulative_b  visitors_per_date_a  \\\n",
       "0                    17                  59758                  719   \n",
       "1                    40                 221801                  619   \n",
       "2                    54                 288850                  507   \n",
       "3                    68                 385740                  717   \n",
       "4                    89                 475648                  756   \n",
       "\n",
       "   visitors_per_date_b  visitors_cummulative_a  visitors_cummulative_b  \n",
       "0                  713                     719                     713  \n",
       "1                  581                    1338                    1294  \n",
       "2                  509                    1845                    1803  \n",
       "3                  770                    2562                    2573  \n",
       "4                  707                    3318                    3280  "
      ]
     },
     "execution_count": 39,
     "metadata": {},
     "output_type": "execute_result"
    }
   ],
   "source": [
    "visitors_daily_a = visitors[visitors['group'] == 'A'][['date', 'visitors']]\n",
    "visitors_daily_a.columns = ['date', 'visitors_per_date_a']\n",
    "\n",
    "visitors_cummulative_a = visitors_daily_a.apply(\n",
    "    lambda x: visitors_daily_a[visitors_daily_a['date'] <= x['date']].agg(\n",
    "        {'date': 'max', 'visitors_per_date_a': 'sum'}\n",
    "    ),\n",
    "    axis=1,\n",
    ")\n",
    "visitors_cummulative_a.columns = ['date', 'visitors_cummulative_a']\n",
    "\n",
    "visitors_daily_b = visitors[visitors['group'] == 'B'][['date', 'visitors']]\n",
    "visitors_daily_b.columns = ['date', 'visitors_per_date_b']\n",
    "\n",
    "visitors_cummulative_b = visitors_daily_b.apply(\n",
    "    lambda x: visitors_daily_b[visitors_daily_b['date'] <= x['date']].agg(\n",
    "        {'date': 'max', 'visitors_per_date_b': 'sum'}\n",
    "    ),\n",
    "    axis=1,\n",
    ")\n",
    "visitors_cummulative_b.columns = ['date', 'visitors_cummulative_b']\n",
    "\n",
    "orders_daily_a = (\n",
    "    orders[orders['group'] == 'A'][['date', 'transactionId', 'visitorId', 'revenue']]\n",
    "    .groupby('date', as_index=False)\n",
    "    .agg({'transactionId': pd.Series.nunique, 'revenue': 'sum'})\n",
    ")\n",
    "orders_daily_a.columns = ['date', 'orders_daily_a', 'revenue_per_date_a']\n",
    "\n",
    "orders_cummulative_a = orders_daily_a.apply(\n",
    "    lambda x: orders_daily_a[orders_daily_a['date'] <= x['date']].agg(\n",
    "        {'date': 'max', 'orders_daily_a': 'sum', 'revenue_per_date_a': 'sum'}\n",
    "    ),\n",
    "    axis=1,\n",
    ").sort_values(by=['date'])\n",
    "\n",
    "orders_cummulative_a.columns = ['date','orders_cummulative_a','revenue_cummulative_a']\n",
    "\n",
    "orders_daily_b = (\n",
    "    orders[orders['group'] == 'B'][['date', 'transactionId', 'visitorId', 'revenue']]\n",
    "    .groupby('date', as_index=False)\n",
    "    .agg({'transactionId': pd.Series.nunique, 'revenue': 'sum'})\n",
    ")\n",
    "orders_daily_b.columns = ['date', 'orders_daily_b', 'revenue_per_date_b']\n",
    "\n",
    "orders_cummulative_b = orders_daily_b.apply(\n",
    "    lambda x: orders_daily_b[orders_daily_b['date'] <= x['date']].agg(\n",
    "        {'date': 'max', 'orders_daily_b': 'sum', 'revenue_per_date_b': 'sum'}\n",
    "    ),\n",
    "    axis=1,\n",
    ").sort_values(by=['date'])\n",
    "\n",
    "orders_cummulative_b.columns = ['date','orders_cummulative_b','revenue_cummulative_b']\n",
    "\n",
    "\n",
    "data = (\n",
    "    orders_daily_a.merge(\n",
    "        orders_daily_b, left_on='date', right_on='date', how='left'\n",
    "    )\n",
    "    .merge(orders_cummulative_a, left_on='date', right_on='date', how='left')\n",
    "    .merge(orders_cummulative_b, left_on='date', right_on='date', how='left')\n",
    "    .merge(visitors_daily_a, left_on='date', right_on='date', how='left')\n",
    "    .merge(visitors_daily_b, left_on='date', right_on='date', how='left')\n",
    "    .merge(visitors_cummulative_a, left_on='date', right_on='date', how='left')\n",
    "    .merge(visitors_cummulative_b, left_on='date', right_on='date', how='left')\n",
    ")\n",
    "\n",
    "data.head()"
   ]
  },
  {
   "cell_type": "markdown",
   "metadata": {},
   "source": [
    "Создадим переменные ordersByUsersA и ordersByUsersB; в них для пользователей, которые заказывали хотя бы 1 раз, укажем число совершённых заказов."
   ]
  },
  {
   "cell_type": "code",
   "execution_count": 40,
   "metadata": {},
   "outputs": [],
   "source": [
    "ordersByUsersA = orders[orders['group']=='A'].groupby('visitorId', as_index=False).agg({'transactionId' : pd.Series.nunique})\n",
    "ordersByUsersA.columns = ['userId', 'orders']\n",
    "\n",
    "ordersByUsersB = orders[orders['group']=='B'].groupby('visitorId', as_index=False).agg({'transactionId' : pd.Series.nunique})\n",
    "ordersByUsersB.columns = ['userId', 'orders']"
   ]
  },
  {
   "cell_type": "markdown",
   "metadata": {},
   "source": [
    "В sampleA,sampleB сохраним выборку, где каждый элемент — число заказов определённого пользователя, в том числе ноль."
   ]
  },
  {
   "cell_type": "code",
   "execution_count": 41,
   "metadata": {},
   "outputs": [],
   "source": [
    "sampleA = pd.concat([ordersByUsersA['orders'],pd.Series(0, index=np.arange(data['visitors_per_date_a'].sum() - len(ordersByUsersA['orders'])), name='orders')],axis=0)\n",
    "\n",
    "sampleB = pd.concat([ordersByUsersB['orders'],pd.Series(0, index=np.arange(data['visitors_per_date_b'].sum() - len(ordersByUsersB['orders'])), name='orders')],axis=0)\n"
   ]
  },
  {
   "cell_type": "code",
   "execution_count": 42,
   "metadata": {},
   "outputs": [
    {
     "name": "stdout",
     "output_type": "stream",
     "text": [
      "P-value: 0.011\n",
      "Отвергаем нулевую гипотезу: между группами есть различие\n",
      "Относительный прирост В к А: 15.980%\n"
     ]
    }
   ],
   "source": [
    "alpha = 0.05\n",
    "p_value = stats.mannwhitneyu(sampleA, sampleB)[1]\n",
    "print(\"P-value: {0:.3f}\".format(p_value))\n",
    "\n",
    "if p_value < alpha:\n",
    "        print(\"Отвергаем нулевую гипотезу: между группами есть различие\")\n",
    "else:\n",
    "        print(\"Не получилось отвергнуть нулевую гипотезу, нет оснований считать группы разными\")\n",
    "    \n",
    "print(\"Относительный прирост В к А: {0:.3%}\".format(sampleB.mean() / sampleA.mean()-1))\n"
   ]
  },
  {
   "cell_type": "markdown",
   "metadata": {},
   "source": [
    "По неочищенным данным различия в конверсии между группами есть.\n",
    "P-value = 0.017 меньше 0.05. Значит, нулевую гипотезу о том, что статистически значимых различий в конверсии между группами нет, отвергаем. Относительный выигрыш группы B равен 15.98%."
   ]
  },
  {
   "cell_type": "markdown",
   "metadata": {},
   "source": [
    "### Посчитайте статистическую значимость различий в среднем чеке заказа между группами по «сырым» данным. Сделайте выводы и предположения.\n"
   ]
  },
  {
   "cell_type": "code",
   "execution_count": 43,
   "metadata": {},
   "outputs": [
    {
     "name": "stdout",
     "output_type": "stream",
     "text": [
      "P-value: 0.829\n",
      "Не получилось отвергнуть нулевую гипотезу, нет оснований считать группы разными\n",
      "Относительный прирост В к А: 28.660%\n"
     ]
    }
   ],
   "source": [
    "alpha = 0.05\n",
    "p_value = stats.mannwhitneyu(orders[orders['group']=='A']['revenue'], orders[orders['group']=='B']['revenue'])[1]\n",
    "print(\"P-value: {0:.3f}\".format(p_value))\n",
    "\n",
    "if p_value < alpha:\n",
    "        print(\"Отвергаем нулевую гипотезу: между группами есть различие\")\n",
    "else:\n",
    "        print(\"Не получилось отвергнуть нулевую гипотезу, нет оснований считать группы разными\")\n",
    "    \n",
    "print(\"Относительный прирост В к А: {0:.3%}\".format(orders[orders['group']=='B']['revenue'].mean() / orders[orders['group']=='A']['revenue'].mean()-1))\n"
   ]
  },
  {
   "cell_type": "markdown",
   "metadata": {},
   "source": [
    "P-value значительно больше 0.05. Значит, причин отвергать нулевую гипотез нет.Наблюдаемое различие в 28% не является статистически значимым"
   ]
  },
  {
   "cell_type": "markdown",
   "metadata": {},
   "source": [
    "### Посчитайте статистическую значимость различий в среднем количестве заказов на посетителя между группами по «очищенным» данным. Сделайте выводы и предположения.\n"
   ]
  },
  {
   "cell_type": "markdown",
   "metadata": {},
   "source": [
    "Примем за аномальных пользователей тех, кто совершил от 2 заказов или совершил заказ дороже 53904. Так мы уберём 5% пользователей с наибольшим числом заказов и от 1% пользователей с дорогими заказами. Сделаем срезы пользователей с числом заказов больше 1 — usersWithManyOrders и пользователей, совершивших заказы дороже 58233 — usersWithExpensiveOrders. Объединим их в таблице abnormal_users."
   ]
  },
  {
   "cell_type": "code",
   "execution_count": 44,
   "metadata": {},
   "outputs": [
    {
     "name": "stdout",
     "output_type": "stream",
     "text": [
      "1099    148427295\n",
      "33      249864742\n",
      "36      366673373\n",
      "58      611059232\n",
      "64      678354126\n",
      "dtype: int64\n"
     ]
    }
   ],
   "source": [
    "usersWithManyOrders = pd.concat([ordersByUsersA[ordersByUsersA['orders'] > 1]['userId'], ordersByUsersB[ordersByUsersB['orders'] > 2]['userId']], axis = 0)\n",
    "usersWithExpensiveOrders = orders[orders['revenue'] > 53904]['visitorId']\n",
    "abnormalUsers = pd.concat([usersWithManyOrders, usersWithExpensiveOrders], axis = 0).drop_duplicates().sort_values()\n",
    "print(abnormalUsers.head(5))\n"
   ]
  },
  {
   "cell_type": "markdown",
   "metadata": {},
   "source": [
    "Посчитаем статистическую значимость различий в среднем количестве заказов на посетителя между группами теста по очищенным данным"
   ]
  },
  {
   "cell_type": "code",
   "execution_count": 45,
   "metadata": {},
   "outputs": [],
   "source": [
    "sampleAFiltered = pd.concat([ordersByUsersA[np.logical_not(ordersByUsersA['userId'].isin(abnormalUsers))]['orders'], \n",
    "                             \n",
    "                             pd.Series(\n",
    "                                 0, \n",
    "                                 index=np.arange(\n",
    "                                     data['visitors_per_date_a'].sum() - len(ordersByUsersA['orders'])),\n",
    "                                       name='orders')],axis=0)\n",
    "\n",
    "sampleBFiltered = pd.concat([ordersByUsersB[np.logical_not(ordersByUsersB['userId'].isin(abnormalUsers))]['orders'],\n",
    "                             \n",
    "                             pd.Series(\n",
    "                                 0, index=np.arange(\n",
    "                                     data['visitors_per_date_b'].sum() - len(ordersByUsersB['orders'])), \n",
    "                                       name='orders')],axis=0) "
   ]
  },
  {
   "cell_type": "code",
   "execution_count": 46,
   "metadata": {},
   "outputs": [
    {
     "name": "stdout",
     "output_type": "stream",
     "text": [
      "P-value: 0.002\n",
      "Отвергаем нулевую гипотезу: между группами есть различие\n",
      "Относительный прирост В к А: 26.160%\n"
     ]
    }
   ],
   "source": [
    "alpha = 0.05\n",
    "p_value = stats.mannwhitneyu(sampleAFiltered, sampleBFiltered)[1]\n",
    "print(\"P-value: {0:.3f}\".format(p_value))\n",
    "\n",
    "if p_value < alpha:\n",
    "        print(\"Отвергаем нулевую гипотезу: между группами есть различие\")\n",
    "else:\n",
    "        print(\"Не получилось отвергнуть нулевую гипотезу, нет оснований считать группы разными\")\n",
    "    \n",
    "print(\"Относительный прирост В к А: {0:.3%}\".format(sampleBFiltered.mean() / sampleAFiltered.mean()-1))\n"
   ]
  },
  {
   "cell_type": "markdown",
   "metadata": {},
   "source": [
    "Получив p‑значение 0,007 (меньше уровня значимости 0,05), мы отвергаем нулевую гипотезу об отсутствии различий в конверсии между группами. То есть даже после очистки данных конверсии A и B статистически отличаются. При этом относительное превосходство группы B над группой A составило 26.160%, что выше, чем 15.9% на «сырых» данных."
   ]
  },
  {
   "cell_type": "markdown",
   "metadata": {},
   "source": [
    "### Посчитайте статистическую значимость различий в среднем чеке заказа между группами по «очищенным» данным. Сделайте выводы и предположения.\n"
   ]
  },
  {
   "cell_type": "code",
   "execution_count": 47,
   "metadata": {},
   "outputs": [
    {
     "name": "stdout",
     "output_type": "stream",
     "text": [
      "p-value = 0.986\n",
      "Относительный прирост 'B' и 'A' = -0.015%\n"
     ]
    }
   ],
   "source": [
    "\n",
    "print(\"p-value = {0:.3f}\".format(stats.mannwhitneyu(\n",
    "    orders[np.logical_and(\n",
    "        orders['group']=='A',\n",
    "        np.logical_not(orders['visitorId'].isin(abnormalUsers)))]['revenue'],\n",
    "    orders[np.logical_and(\n",
    "        orders['group']=='B',\n",
    "        np.logical_not(orders['visitorId'].isin(abnormalUsers)))]['revenue'], alternative = 'two-sided')[1]))\n",
    "\n",
    "print(\"Относительный прирост 'B' и 'A' = {0:.3f}%\".format(\n",
    "    orders[np.logical_and(orders['group']=='B',np.logical_not(orders['visitorId'].isin(abnormalUsers)))]['revenue'].mean()/\n",
    "    orders[np.logical_and(\n",
    "        orders['group']=='A',\n",
    "        np.logical_not(orders['visitorId'].isin(abnormalUsers)))]['revenue'].mean() - 1)) "
   ]
  },
  {
   "cell_type": "markdown",
   "metadata": {},
   "source": [
    "P-value значительно больше 0.05. Значит, причин отвергать нулевую гипотезу нет.Без учёта аномального заказа на 1.3млн средний чек B лишь на 1.5 % ниже A, хотя на «сырых» данных он опережал A примерно на 28 %. Не является стат значимым\n",
    "\n",
    "\n",
    "\n",
    "\n",
    "\n",
    "\n",
    "\n",
    "\n"
   ]
  },
  {
   "cell_type": "markdown",
   "metadata": {},
   "source": [
    "### Примите решение по результатам теста и объясните его. Варианты решений:\n",
    "1. Остановить тест, зафиксировать победу одной из групп.\n",
    "2. Остановить тест, зафиксировать отсутствие различий между группами.\n",
    "3. Продолжить тест."
   ]
  },
  {
   "cell_type": "markdown",
   "metadata": {},
   "source": [
    "\n",
    "Тест показал, что в обеих выборках — «сырых» и после удаления выбросов — разница в конверсии групп A и B статистически значима: группа B превосходит A на 17,4% в очищенных данных и на 13,8% по исходным. При этом существенных отличий в среднем чеке нет: без учёта аномального заказа чек B лишь на 2% ниже A, хотя по «сырым» данным он был выше на 26%. Исходя из этого, тест можно завершить — победителем по конверсии однозначно выступает группа B, а по среднему чеку группы сопоставимы."
   ]
  }
 ],
 "metadata": {
  "ExecuteTimeLog": [
   {
    "duration": 61,
    "start_time": "2025-05-11T20:43:07.601Z"
   },
   {
    "duration": 1381,
    "start_time": "2025-05-11T20:43:09.947Z"
   },
   {
    "duration": 120,
    "start_time": "2025-05-11T20:43:11.331Z"
   },
   {
    "duration": 92,
    "start_time": "2025-05-11T20:43:57.881Z"
   },
   {
    "duration": 22,
    "start_time": "2025-05-11T20:44:03.342Z"
   },
   {
    "duration": 21,
    "start_time": "2025-05-11T20:44:14.166Z"
   },
   {
    "duration": 17,
    "start_time": "2025-05-11T20:46:13.323Z"
   },
   {
    "duration": 13,
    "start_time": "2025-05-11T20:54:12.795Z"
   },
   {
    "duration": 4,
    "start_time": "2025-05-11T20:54:27.581Z"
   },
   {
    "duration": 17,
    "start_time": "2025-05-11T20:54:30.147Z"
   },
   {
    "duration": 4,
    "start_time": "2025-05-11T20:54:59.494Z"
   },
   {
    "duration": 12,
    "start_time": "2025-05-11T20:55:02.856Z"
   },
   {
    "duration": 24,
    "start_time": "2025-05-11T20:56:53.627Z"
   },
   {
    "duration": 9,
    "start_time": "2025-05-11T20:57:07.556Z"
   },
   {
    "duration": 321,
    "start_time": "2025-05-11T20:57:15.143Z"
   },
   {
    "duration": 290,
    "start_time": "2025-05-11T20:57:18.887Z"
   },
   {
    "duration": 307,
    "start_time": "2025-05-11T20:57:43.384Z"
   },
   {
    "duration": 1129,
    "start_time": "2025-05-11T20:58:42.786Z"
   },
   {
    "duration": 96,
    "start_time": "2025-05-11T20:58:43.917Z"
   },
   {
    "duration": 41,
    "start_time": "2025-05-11T20:58:44.015Z"
   },
   {
    "duration": 18,
    "start_time": "2025-05-11T20:58:44.059Z"
   },
   {
    "duration": 12,
    "start_time": "2025-05-11T20:58:44.079Z"
   },
   {
    "duration": 8,
    "start_time": "2025-05-11T20:58:44.093Z"
   },
   {
    "duration": 17,
    "start_time": "2025-05-11T20:58:44.103Z"
   },
   {
    "duration": 4,
    "start_time": "2025-05-11T20:58:44.121Z"
   },
   {
    "duration": 17,
    "start_time": "2025-05-11T20:58:50.264Z"
   },
   {
    "duration": 422,
    "start_time": "2025-05-11T20:59:11.490Z"
   },
   {
    "duration": 1159,
    "start_time": "2025-05-11T20:59:17.255Z"
   },
   {
    "duration": 84,
    "start_time": "2025-05-11T20:59:18.416Z"
   },
   {
    "duration": 23,
    "start_time": "2025-05-11T20:59:18.502Z"
   },
   {
    "duration": 28,
    "start_time": "2025-05-11T20:59:18.527Z"
   },
   {
    "duration": 13,
    "start_time": "2025-05-11T20:59:18.558Z"
   },
   {
    "duration": 8,
    "start_time": "2025-05-11T20:59:18.572Z"
   },
   {
    "duration": 16,
    "start_time": "2025-05-11T20:59:18.581Z"
   },
   {
    "duration": 6,
    "start_time": "2025-05-11T20:59:18.598Z"
   },
   {
    "duration": 6,
    "start_time": "2025-05-11T20:59:35.997Z"
   },
   {
    "duration": 72,
    "start_time": "2025-05-11T20:59:43.532Z"
   },
   {
    "duration": 7,
    "start_time": "2025-05-11T21:01:05.081Z"
   },
   {
    "duration": 8,
    "start_time": "2025-05-11T21:01:16.555Z"
   },
   {
    "duration": 8,
    "start_time": "2025-05-11T21:01:25.325Z"
   },
   {
    "duration": 7,
    "start_time": "2025-05-11T21:01:48.825Z"
   },
   {
    "duration": 7,
    "start_time": "2025-05-11T21:02:50.627Z"
   },
   {
    "duration": 3,
    "start_time": "2025-05-11T21:10:12.030Z"
   },
   {
    "duration": 33,
    "start_time": "2025-05-11T21:10:15.434Z"
   },
   {
    "duration": 6,
    "start_time": "2025-05-11T21:11:27.101Z"
   },
   {
    "duration": 16,
    "start_time": "2025-05-11T21:11:27.541Z"
   },
   {
    "duration": 7,
    "start_time": "2025-05-11T21:11:28.070Z"
   },
   {
    "duration": 2,
    "start_time": "2025-05-11T21:13:09.525Z"
   },
   {
    "duration": 118,
    "start_time": "2025-05-11T21:13:10.914Z"
   },
   {
    "duration": 46,
    "start_time": "2025-05-11T21:14:43.435Z"
   },
   {
    "duration": 192,
    "start_time": "2025-05-11T21:15:01.852Z"
   },
   {
    "duration": 142,
    "start_time": "2025-05-11T21:16:43.149Z"
   },
   {
    "duration": 16,
    "start_time": "2025-05-11T21:17:01.939Z"
   },
   {
    "duration": 16,
    "start_time": "2025-05-11T21:17:10.095Z"
   },
   {
    "duration": 14,
    "start_time": "2025-05-11T21:17:16.063Z"
   },
   {
    "duration": 295,
    "start_time": "2025-05-11T21:18:14.777Z"
   },
   {
    "duration": 169,
    "start_time": "2025-05-11T21:21:12.376Z"
   },
   {
    "duration": 164,
    "start_time": "2025-05-11T21:21:26.062Z"
   },
   {
    "duration": 177,
    "start_time": "2025-05-11T21:21:29.691Z"
   },
   {
    "duration": 192,
    "start_time": "2025-05-11T21:21:34.864Z"
   },
   {
    "duration": 1102,
    "start_time": "2025-05-11T23:17:04.595Z"
   },
   {
    "duration": 66,
    "start_time": "2025-05-11T23:17:05.699Z"
   },
   {
    "duration": 21,
    "start_time": "2025-05-11T23:17:05.767Z"
   },
   {
    "duration": 3,
    "start_time": "2025-05-11T23:17:05.790Z"
   },
   {
    "duration": 22,
    "start_time": "2025-05-11T23:17:05.795Z"
   },
   {
    "duration": 12,
    "start_time": "2025-05-11T23:17:05.818Z"
   },
   {
    "duration": 19,
    "start_time": "2025-05-11T23:17:05.832Z"
   },
   {
    "duration": 15,
    "start_time": "2025-05-11T23:17:05.853Z"
   },
   {
    "duration": 14,
    "start_time": "2025-05-11T23:17:05.870Z"
   },
   {
    "duration": 7,
    "start_time": "2025-05-11T23:17:05.886Z"
   },
   {
    "duration": 6,
    "start_time": "2025-05-11T23:17:05.895Z"
   },
   {
    "duration": 26,
    "start_time": "2025-05-11T23:17:05.903Z"
   },
   {
    "duration": 24,
    "start_time": "2025-05-11T23:17:05.931Z"
   },
   {
    "duration": 183,
    "start_time": "2025-05-11T23:17:05.958Z"
   },
   {
    "duration": 143,
    "start_time": "2025-05-11T23:17:06.143Z"
   },
   {
    "duration": 7,
    "start_time": "2025-05-11T23:17:06.288Z"
   },
   {
    "duration": 23,
    "start_time": "2025-05-11T23:17:06.296Z"
   },
   {
    "duration": 283,
    "start_time": "2025-05-11T23:17:06.320Z"
   },
   {
    "duration": 203,
    "start_time": "2025-05-11T23:17:06.605Z"
   },
   {
    "duration": 197,
    "start_time": "2025-05-11T23:17:13.815Z"
   },
   {
    "duration": 184,
    "start_time": "2025-05-11T23:17:19.625Z"
   },
   {
    "duration": 317,
    "start_time": "2025-05-11T23:18:13.151Z"
   },
   {
    "duration": 93,
    "start_time": "2025-05-11T23:20:23.790Z"
   },
   {
    "duration": 203,
    "start_time": "2025-05-11T23:47:26.118Z"
   },
   {
    "duration": 319,
    "start_time": "2025-05-12T00:57:56.825Z"
   },
   {
    "duration": 302,
    "start_time": "2025-05-12T00:58:03.851Z"
   },
   {
    "duration": 178,
    "start_time": "2025-05-12T01:10:15.474Z"
   },
   {
    "duration": 252,
    "start_time": "2025-05-12T01:11:03.819Z"
   },
   {
    "duration": 4,
    "start_time": "2025-05-12T01:12:12.672Z"
   },
   {
    "duration": 4,
    "start_time": "2025-05-12T01:12:23.313Z"
   },
   {
    "duration": 6,
    "start_time": "2025-05-12T01:13:36.732Z"
   },
   {
    "duration": 166,
    "start_time": "2025-05-12T01:18:52.688Z"
   },
   {
    "duration": 15,
    "start_time": "2025-05-12T01:21:08.993Z"
   },
   {
    "duration": 12,
    "start_time": "2025-05-12T01:21:34.560Z"
   },
   {
    "duration": 114,
    "start_time": "2025-05-12T01:23:12.748Z"
   },
   {
    "duration": 169,
    "start_time": "2025-05-12T01:24:33.135Z"
   },
   {
    "duration": 4,
    "start_time": "2025-05-12T01:27:09.816Z"
   },
   {
    "duration": 110,
    "start_time": "2025-05-12T01:31:08.522Z"
   },
   {
    "duration": 112,
    "start_time": "2025-05-12T02:26:12.852Z"
   },
   {
    "duration": 114,
    "start_time": "2025-05-12T02:28:44.436Z"
   },
   {
    "duration": 112,
    "start_time": "2025-05-12T02:29:05.672Z"
   },
   {
    "duration": 240,
    "start_time": "2025-05-12T02:29:29.412Z"
   },
   {
    "duration": 236,
    "start_time": "2025-05-12T02:30:16.014Z"
   },
   {
    "duration": 126,
    "start_time": "2025-05-12T02:36:20.162Z"
   },
   {
    "duration": 8,
    "start_time": "2025-05-12T02:38:02.123Z"
   },
   {
    "duration": 99,
    "start_time": "2025-05-12T02:40:03.573Z"
   },
   {
    "duration": 25,
    "start_time": "2025-05-12T02:40:35.097Z"
   },
   {
    "duration": 27,
    "start_time": "2025-05-12T02:41:28.475Z"
   },
   {
    "duration": 31,
    "start_time": "2025-05-12T02:41:57.497Z"
   },
   {
    "duration": 37,
    "start_time": "2025-05-12T02:42:07.026Z"
   },
   {
    "duration": 18,
    "start_time": "2025-05-12T02:44:16.430Z"
   },
   {
    "duration": 1588,
    "start_time": "2025-05-12T14:08:48.240Z"
   },
   {
    "duration": 85,
    "start_time": "2025-05-12T14:08:49.839Z"
   },
   {
    "duration": 88,
    "start_time": "2025-05-12T14:08:49.935Z"
   },
   {
    "duration": 8,
    "start_time": "2025-05-12T14:08:50.034Z"
   },
   {
    "duration": 34,
    "start_time": "2025-05-12T14:08:50.045Z"
   },
   {
    "duration": 27,
    "start_time": "2025-05-12T14:08:50.081Z"
   },
   {
    "duration": 20,
    "start_time": "2025-05-12T14:08:50.111Z"
   },
   {
    "duration": 21,
    "start_time": "2025-05-12T14:08:50.135Z"
   },
   {
    "duration": 4,
    "start_time": "2025-05-12T14:08:50.158Z"
   },
   {
    "duration": 18,
    "start_time": "2025-05-12T14:08:50.163Z"
   },
   {
    "duration": 42,
    "start_time": "2025-05-12T14:08:50.183Z"
   },
   {
    "duration": 11,
    "start_time": "2025-05-12T14:08:50.230Z"
   },
   {
    "duration": 9,
    "start_time": "2025-05-12T14:08:50.243Z"
   },
   {
    "duration": 233,
    "start_time": "2025-05-12T14:08:50.256Z"
   },
   {
    "duration": 186,
    "start_time": "2025-05-12T14:08:50.491Z"
   },
   {
    "duration": 8,
    "start_time": "2025-05-12T14:08:50.679Z"
   },
   {
    "duration": 82,
    "start_time": "2025-05-12T14:08:50.688Z"
   },
   {
    "duration": 394,
    "start_time": "2025-05-12T14:08:50.771Z"
   },
   {
    "duration": 235,
    "start_time": "2025-05-12T14:08:51.167Z"
   },
   {
    "duration": 427,
    "start_time": "2025-05-12T14:08:51.404Z"
   },
   {
    "duration": 239,
    "start_time": "2025-05-12T14:08:51.836Z"
   },
   {
    "duration": 341,
    "start_time": "2025-05-12T14:08:52.077Z"
   },
   {
    "duration": 209,
    "start_time": "2025-05-12T14:08:52.422Z"
   },
   {
    "duration": 181,
    "start_time": "2025-05-12T14:08:52.634Z"
   },
   {
    "duration": 8,
    "start_time": "2025-05-12T14:08:52.818Z"
   },
   {
    "duration": 230,
    "start_time": "2025-05-12T14:08:52.829Z"
   },
   {
    "duration": 19,
    "start_time": "2025-05-12T14:08:53.061Z"
   },
   {
    "duration": 356,
    "start_time": "2025-05-12T14:08:53.082Z"
   },
   {
    "duration": 6,
    "start_time": "2025-05-12T14:08:53.440Z"
   },
   {
    "duration": 352,
    "start_time": "2025-05-12T14:08:53.448Z"
   },
   {
    "duration": 236,
    "start_time": "2025-05-12T14:08:53.802Z"
   },
   {
    "duration": 10,
    "start_time": "2025-05-12T14:08:54.045Z"
   },
   {
    "duration": 62,
    "start_time": "2025-05-12T14:08:54.057Z"
   },
   {
    "duration": 16,
    "start_time": "2025-05-12T14:08:54.132Z"
   },
   {
    "duration": 134,
    "start_time": "2025-05-12T14:11:02.527Z"
   },
   {
    "duration": 18,
    "start_time": "2025-05-12T14:12:24.316Z"
   },
   {
    "duration": 212,
    "start_time": "2025-05-12T14:13:10.008Z"
   },
   {
    "duration": 10,
    "start_time": "2025-05-12T14:13:11.226Z"
   },
   {
    "duration": 44,
    "start_time": "2025-05-12T14:13:11.886Z"
   },
   {
    "duration": 14,
    "start_time": "2025-05-12T14:13:15.025Z"
   },
   {
    "duration": 35,
    "start_time": "2025-05-12T14:13:48.907Z"
   },
   {
    "duration": 1271,
    "start_time": "2025-05-12T14:16:03.005Z"
   },
   {
    "duration": 1240,
    "start_time": "2025-05-12T14:16:18.125Z"
   },
   {
    "duration": 13,
    "start_time": "2025-05-12T14:17:43.147Z"
   },
   {
    "duration": 1245,
    "start_time": "2025-05-12T14:18:24.905Z"
   },
   {
    "duration": 1617,
    "start_time": "2025-05-12T14:19:10.206Z"
   },
   {
    "duration": 215,
    "start_time": "2025-05-12T14:20:33.944Z"
   },
   {
    "duration": 224,
    "start_time": "2025-05-12T14:22:57.526Z"
   },
   {
    "duration": 1347,
    "start_time": "2025-05-12T14:23:16.596Z"
   },
   {
    "duration": 7,
    "start_time": "2025-05-12T14:27:10.845Z"
   },
   {
    "duration": 39,
    "start_time": "2025-05-12T14:27:18.443Z"
   },
   {
    "duration": 161,
    "start_time": "2025-05-12T14:27:56.003Z"
   },
   {
    "duration": 7,
    "start_time": "2025-05-12T14:27:56.883Z"
   },
   {
    "duration": 49,
    "start_time": "2025-05-12T14:27:57.585Z"
   },
   {
    "duration": 34,
    "start_time": "2025-05-12T14:29:02.883Z"
   },
   {
    "duration": 15,
    "start_time": "2025-05-12T14:29:49.142Z"
   },
   {
    "duration": 1312,
    "start_time": "2025-05-12T14:29:56.283Z"
   },
   {
    "duration": 1246,
    "start_time": "2025-05-12T14:30:51.783Z"
   },
   {
    "duration": 10,
    "start_time": "2025-05-12T14:31:31.984Z"
   },
   {
    "duration": 10,
    "start_time": "2025-05-12T14:33:08.862Z"
   },
   {
    "duration": 10,
    "start_time": "2025-05-12T14:33:40.255Z"
   },
   {
    "duration": 1377,
    "start_time": "2025-05-12T14:33:59.685Z"
   },
   {
    "duration": 1471,
    "start_time": "2025-05-12T14:34:28.580Z"
   },
   {
    "duration": 1231,
    "start_time": "2025-05-12T14:34:32.031Z"
   },
   {
    "duration": 16,
    "start_time": "2025-05-12T14:34:35.614Z"
   },
   {
    "duration": 15,
    "start_time": "2025-05-12T14:37:05.743Z"
   },
   {
    "duration": 28,
    "start_time": "2025-05-12T14:37:56.523Z"
   },
   {
    "duration": 12,
    "start_time": "2025-05-12T14:40:41.651Z"
   },
   {
    "duration": 1397,
    "start_time": "2025-05-12T14:41:17.088Z"
   },
   {
    "duration": 86,
    "start_time": "2025-05-12T14:41:18.488Z"
   },
   {
    "duration": 24,
    "start_time": "2025-05-12T14:41:18.576Z"
   },
   {
    "duration": 20,
    "start_time": "2025-05-12T14:41:18.602Z"
   },
   {
    "duration": 44,
    "start_time": "2025-05-12T14:41:18.625Z"
   },
   {
    "duration": 28,
    "start_time": "2025-05-12T14:41:18.671Z"
   },
   {
    "duration": 20,
    "start_time": "2025-05-12T14:41:18.701Z"
   },
   {
    "duration": 26,
    "start_time": "2025-05-12T14:41:18.725Z"
   },
   {
    "duration": 15,
    "start_time": "2025-05-12T14:41:18.753Z"
   },
   {
    "duration": 37,
    "start_time": "2025-05-12T14:41:18.770Z"
   },
   {
    "duration": 17,
    "start_time": "2025-05-12T14:41:18.812Z"
   },
   {
    "duration": 23,
    "start_time": "2025-05-12T14:41:18.831Z"
   },
   {
    "duration": 39,
    "start_time": "2025-05-12T14:41:18.857Z"
   },
   {
    "duration": 280,
    "start_time": "2025-05-12T14:41:18.899Z"
   },
   {
    "duration": 186,
    "start_time": "2025-05-12T14:41:19.181Z"
   },
   {
    "duration": 10,
    "start_time": "2025-05-12T14:41:19.369Z"
   },
   {
    "duration": 44,
    "start_time": "2025-05-12T14:41:19.382Z"
   },
   {
    "duration": 341,
    "start_time": "2025-05-12T14:41:19.429Z"
   },
   {
    "duration": 228,
    "start_time": "2025-05-12T14:41:19.772Z"
   },
   {
    "duration": 374,
    "start_time": "2025-05-12T14:41:20.001Z"
   },
   {
    "duration": 260,
    "start_time": "2025-05-12T14:41:20.377Z"
   },
   {
    "duration": 305,
    "start_time": "2025-05-12T14:41:20.639Z"
   },
   {
    "duration": 272,
    "start_time": "2025-05-12T14:41:20.946Z"
   },
   {
    "duration": 167,
    "start_time": "2025-05-12T14:41:21.222Z"
   },
   {
    "duration": 6,
    "start_time": "2025-05-12T14:41:21.391Z"
   },
   {
    "duration": 196,
    "start_time": "2025-05-12T14:41:21.412Z"
   },
   {
    "duration": 22,
    "start_time": "2025-05-12T14:41:21.616Z"
   },
   {
    "duration": 292,
    "start_time": "2025-05-12T14:41:21.641Z"
   },
   {
    "duration": 5,
    "start_time": "2025-05-12T14:41:21.935Z"
   },
   {
    "duration": 355,
    "start_time": "2025-05-12T14:41:21.942Z"
   },
   {
    "duration": 203,
    "start_time": "2025-05-12T14:41:22.304Z"
   },
   {
    "duration": 8,
    "start_time": "2025-05-12T14:41:22.509Z"
   },
   {
    "duration": 42,
    "start_time": "2025-05-12T14:41:22.518Z"
   },
   {
    "duration": 13,
    "start_time": "2025-05-12T14:41:22.562Z"
   },
   {
    "duration": 35,
    "start_time": "2025-05-12T14:41:22.577Z"
   },
   {
    "duration": 12,
    "start_time": "2025-05-12T14:41:22.622Z"
   },
   {
    "duration": 46,
    "start_time": "2025-05-12T14:41:22.637Z"
   },
   {
    "duration": 16,
    "start_time": "2025-05-12T14:43:38.538Z"
   },
   {
    "duration": 16,
    "start_time": "2025-05-12T14:43:50.927Z"
   },
   {
    "duration": 17,
    "start_time": "2025-05-12T14:44:05.468Z"
   },
   {
    "duration": 365,
    "start_time": "2025-05-12T14:49:38.086Z"
   },
   {
    "duration": 245,
    "start_time": "2025-05-12T14:50:13.209Z"
   },
   {
    "duration": 342,
    "start_time": "2025-05-12T14:50:27.726Z"
   },
   {
    "duration": 248,
    "start_time": "2025-05-12T14:51:49.209Z"
   },
   {
    "duration": 226,
    "start_time": "2025-05-12T14:52:45.209Z"
   },
   {
    "duration": 23,
    "start_time": "2025-05-12T15:03:37.652Z"
   },
   {
    "duration": 16,
    "start_time": "2025-05-12T15:03:50.916Z"
   },
   {
    "duration": 10,
    "start_time": "2025-05-12T15:04:34.432Z"
   },
   {
    "duration": 8,
    "start_time": "2025-05-12T15:06:09.852Z"
   },
   {
    "duration": 16,
    "start_time": "2025-05-12T15:07:14.273Z"
   },
   {
    "duration": 78,
    "start_time": "2025-05-12T15:09:00.457Z"
   },
   {
    "duration": 6,
    "start_time": "2025-05-12T15:10:11.451Z"
   },
   {
    "duration": 8,
    "start_time": "2025-05-12T15:10:12.848Z"
   },
   {
    "duration": 8,
    "start_time": "2025-05-12T15:10:17.315Z"
   },
   {
    "duration": 8,
    "start_time": "2025-05-12T15:10:17.932Z"
   },
   {
    "duration": 25,
    "start_time": "2025-05-12T15:11:03.198Z"
   },
   {
    "duration": 1302,
    "start_time": "2025-05-12T15:11:10.621Z"
   },
   {
    "duration": 89,
    "start_time": "2025-05-12T15:11:11.926Z"
   },
   {
    "duration": 23,
    "start_time": "2025-05-12T15:11:12.019Z"
   },
   {
    "duration": 3,
    "start_time": "2025-05-12T15:11:12.045Z"
   },
   {
    "duration": 21,
    "start_time": "2025-05-12T15:11:12.050Z"
   },
   {
    "duration": 22,
    "start_time": "2025-05-12T15:11:12.073Z"
   },
   {
    "duration": 95,
    "start_time": "2025-05-12T15:11:12.107Z"
   },
   {
    "duration": 13,
    "start_time": "2025-05-12T15:11:12.208Z"
   },
   {
    "duration": 23,
    "start_time": "2025-05-12T15:11:12.223Z"
   },
   {
    "duration": 5,
    "start_time": "2025-05-12T15:11:12.249Z"
   },
   {
    "duration": 16,
    "start_time": "2025-05-12T15:11:12.256Z"
   },
   {
    "duration": 7,
    "start_time": "2025-05-12T15:11:12.274Z"
   },
   {
    "duration": 130,
    "start_time": "2025-05-12T15:11:12.283Z"
   },
   {
    "duration": 8,
    "start_time": "2025-05-12T15:11:12.417Z"
   },
   {
    "duration": 25,
    "start_time": "2025-05-12T15:11:12.427Z"
   },
   {
    "duration": 19,
    "start_time": "2025-05-12T15:11:12.454Z"
   },
   {
    "duration": 227,
    "start_time": "2025-05-12T15:11:12.475Z"
   },
   {
    "duration": 167,
    "start_time": "2025-05-12T15:11:12.708Z"
   },
   {
    "duration": 8,
    "start_time": "2025-05-12T15:11:12.877Z"
   },
   {
    "duration": 41,
    "start_time": "2025-05-12T15:11:12.886Z"
   },
   {
    "duration": 348,
    "start_time": "2025-05-12T15:11:12.929Z"
   },
   {
    "duration": 246,
    "start_time": "2025-05-12T15:11:13.279Z"
   },
   {
    "duration": 339,
    "start_time": "2025-05-12T15:11:13.527Z"
   },
   {
    "duration": 268,
    "start_time": "2025-05-12T15:11:13.868Z"
   },
   {
    "duration": 359,
    "start_time": "2025-05-12T15:11:14.138Z"
   },
   {
    "duration": 222,
    "start_time": "2025-05-12T15:11:14.499Z"
   },
   {
    "duration": 173,
    "start_time": "2025-05-12T15:11:14.724Z"
   },
   {
    "duration": 16,
    "start_time": "2025-05-12T15:11:14.899Z"
   },
   {
    "duration": 207,
    "start_time": "2025-05-12T15:11:14.917Z"
   },
   {
    "duration": 15,
    "start_time": "2025-05-12T15:11:15.126Z"
   },
   {
    "duration": 446,
    "start_time": "2025-05-12T15:11:15.143Z"
   },
   {
    "duration": 7,
    "start_time": "2025-05-12T15:11:15.592Z"
   },
   {
    "duration": 411,
    "start_time": "2025-05-12T15:11:15.606Z"
   },
   {
    "duration": 158,
    "start_time": "2025-05-12T15:11:16.020Z"
   },
   {
    "duration": 9,
    "start_time": "2025-05-12T15:11:16.180Z"
   },
   {
    "duration": 79,
    "start_time": "2025-05-12T15:11:16.192Z"
   },
   {
    "duration": 154,
    "start_time": "2025-05-12T15:11:16.274Z"
   },
   {
    "duration": 43,
    "start_time": "2025-05-12T15:11:16.430Z"
   },
   {
    "duration": 19,
    "start_time": "2025-05-12T15:11:16.475Z"
   },
   {
    "duration": 54,
    "start_time": "2025-05-12T15:11:16.496Z"
   },
   {
    "duration": 15,
    "start_time": "2025-05-12T15:11:16.555Z"
   },
   {
    "duration": 10,
    "start_time": "2025-05-12T15:12:28.127Z"
   },
   {
    "duration": 11,
    "start_time": "2025-05-12T15:12:38.669Z"
   },
   {
    "duration": 12,
    "start_time": "2025-05-12T15:13:24.513Z"
   },
   {
    "duration": 1458,
    "start_time": "2025-05-12T15:52:00.849Z"
   },
   {
    "duration": 82,
    "start_time": "2025-05-12T15:52:02.310Z"
   },
   {
    "duration": 31,
    "start_time": "2025-05-12T15:52:02.394Z"
   },
   {
    "duration": 93,
    "start_time": "2025-05-12T15:52:02.427Z"
   },
   {
    "duration": 68,
    "start_time": "2025-05-12T15:52:02.522Z"
   },
   {
    "duration": 27,
    "start_time": "2025-05-12T15:52:02.592Z"
   },
   {
    "duration": 53,
    "start_time": "2025-05-12T15:52:02.621Z"
   },
   {
    "duration": 15,
    "start_time": "2025-05-12T15:52:02.675Z"
   },
   {
    "duration": 23,
    "start_time": "2025-05-12T15:52:02.693Z"
   },
   {
    "duration": 20,
    "start_time": "2025-05-12T15:52:02.718Z"
   },
   {
    "duration": 39,
    "start_time": "2025-05-12T15:52:02.740Z"
   },
   {
    "duration": 36,
    "start_time": "2025-05-12T15:52:02.781Z"
   },
   {
    "duration": 9,
    "start_time": "2025-05-12T15:52:02.818Z"
   },
   {
    "duration": 35,
    "start_time": "2025-05-12T15:52:02.831Z"
   },
   {
    "duration": 31,
    "start_time": "2025-05-12T15:52:02.868Z"
   },
   {
    "duration": 28,
    "start_time": "2025-05-12T15:52:02.901Z"
   },
   {
    "duration": 204,
    "start_time": "2025-05-12T15:52:02.931Z"
   },
   {
    "duration": 149,
    "start_time": "2025-05-12T15:52:03.137Z"
   },
   {
    "duration": 28,
    "start_time": "2025-05-12T15:52:03.288Z"
   },
   {
    "duration": 41,
    "start_time": "2025-05-12T15:52:03.319Z"
   },
   {
    "duration": 330,
    "start_time": "2025-05-12T15:52:03.362Z"
   },
   {
    "duration": 237,
    "start_time": "2025-05-12T15:52:03.694Z"
   },
   {
    "duration": 699,
    "start_time": "2025-05-12T15:52:03.933Z"
   },
   {
    "duration": 580,
    "start_time": "2025-05-12T15:52:04.634Z"
   },
   {
    "duration": 629,
    "start_time": "2025-05-12T15:52:05.221Z"
   },
   {
    "duration": 315,
    "start_time": "2025-05-12T15:52:05.851Z"
   },
   {
    "duration": 209,
    "start_time": "2025-05-12T15:52:06.168Z"
   },
   {
    "duration": 6,
    "start_time": "2025-05-12T15:52:06.379Z"
   },
   {
    "duration": 287,
    "start_time": "2025-05-12T15:52:06.386Z"
   },
   {
    "duration": 14,
    "start_time": "2025-05-12T15:52:06.675Z"
   },
   {
    "duration": 234,
    "start_time": "2025-05-12T15:52:06.691Z"
   },
   {
    "duration": 6,
    "start_time": "2025-05-12T15:52:06.927Z"
   },
   {
    "duration": 378,
    "start_time": "2025-05-12T15:52:06.935Z"
   },
   {
    "duration": 175,
    "start_time": "2025-05-12T15:52:07.315Z"
   },
   {
    "duration": 15,
    "start_time": "2025-05-12T15:52:07.492Z"
   },
   {
    "duration": 197,
    "start_time": "2025-05-12T15:52:07.512Z"
   },
   {
    "duration": 16,
    "start_time": "2025-05-12T15:52:07.714Z"
   },
   {
    "duration": 76,
    "start_time": "2025-05-12T15:52:07.732Z"
   },
   {
    "duration": 25,
    "start_time": "2025-05-12T15:52:07.810Z"
   },
   {
    "duration": 40,
    "start_time": "2025-05-12T15:52:07.837Z"
   },
   {
    "duration": 42,
    "start_time": "2025-05-12T15:52:07.881Z"
   },
   {
    "duration": 6,
    "start_time": "2025-05-12T16:12:20.588Z"
   },
   {
    "duration": 10,
    "start_time": "2025-05-12T16:12:28.928Z"
   },
   {
    "duration": 10,
    "start_time": "2025-05-12T16:14:03.916Z"
   },
   {
    "duration": 4,
    "start_time": "2025-05-12T16:15:05.676Z"
   },
   {
    "duration": 5,
    "start_time": "2025-05-12T16:15:13.617Z"
   },
   {
    "duration": 3,
    "start_time": "2025-05-12T16:15:46.975Z"
   },
   {
    "duration": 5,
    "start_time": "2025-05-12T16:15:52.629Z"
   },
   {
    "duration": 118,
    "start_time": "2025-05-12T16:19:22.935Z"
   },
   {
    "duration": 10,
    "start_time": "2025-05-12T16:19:30.923Z"
   },
   {
    "duration": 13,
    "start_time": "2025-05-12T16:19:41.836Z"
   },
   {
    "duration": 4,
    "start_time": "2025-05-12T16:20:24.377Z"
   },
   {
    "duration": 14,
    "start_time": "2025-05-12T16:20:26.574Z"
   },
   {
    "duration": 5,
    "start_time": "2025-05-12T16:20:46.466Z"
   },
   {
    "duration": 11,
    "start_time": "2025-05-12T16:20:47.865Z"
   },
   {
    "duration": 78,
    "start_time": "2025-05-12T16:21:09.639Z"
   },
   {
    "duration": 17,
    "start_time": "2025-05-12T16:21:10.038Z"
   },
   {
    "duration": 5,
    "start_time": "2025-05-12T16:21:25.577Z"
   },
   {
    "duration": 16,
    "start_time": "2025-05-12T16:21:26.429Z"
   },
   {
    "duration": 1310,
    "start_time": "2025-05-12T16:22:39.424Z"
   },
   {
    "duration": 88,
    "start_time": "2025-05-12T16:22:40.736Z"
   },
   {
    "duration": 24,
    "start_time": "2025-05-12T16:22:40.829Z"
   },
   {
    "duration": 27,
    "start_time": "2025-05-12T16:22:40.855Z"
   },
   {
    "duration": 47,
    "start_time": "2025-05-12T16:22:40.884Z"
   },
   {
    "duration": 29,
    "start_time": "2025-05-12T16:22:40.932Z"
   },
   {
    "duration": 18,
    "start_time": "2025-05-12T16:22:40.963Z"
   },
   {
    "duration": 30,
    "start_time": "2025-05-12T16:22:40.984Z"
   },
   {
    "duration": 31,
    "start_time": "2025-05-12T16:22:41.017Z"
   },
   {
    "duration": 19,
    "start_time": "2025-05-12T16:22:41.050Z"
   },
   {
    "duration": 19,
    "start_time": "2025-05-12T16:22:41.071Z"
   },
   {
    "duration": 13,
    "start_time": "2025-05-12T16:22:41.092Z"
   },
   {
    "duration": 28,
    "start_time": "2025-05-12T16:22:41.107Z"
   },
   {
    "duration": 16,
    "start_time": "2025-05-12T16:22:41.139Z"
   },
   {
    "duration": 17,
    "start_time": "2025-05-12T16:22:41.157Z"
   },
   {
    "duration": 8,
    "start_time": "2025-05-12T16:22:41.176Z"
   },
   {
    "duration": 29,
    "start_time": "2025-05-12T16:22:41.186Z"
   },
   {
    "duration": 13,
    "start_time": "2025-05-12T16:22:41.217Z"
   },
   {
    "duration": 21,
    "start_time": "2025-05-12T16:22:41.232Z"
   },
   {
    "duration": 12,
    "start_time": "2025-05-12T16:22:41.256Z"
   },
   {
    "duration": 58,
    "start_time": "2025-05-12T16:22:41.270Z"
   },
   {
    "duration": 40,
    "start_time": "2025-05-12T16:22:41.330Z"
   },
   {
    "duration": 246,
    "start_time": "2025-05-12T16:22:41.373Z"
   },
   {
    "duration": 162,
    "start_time": "2025-05-12T16:22:41.621Z"
   },
   {
    "duration": 9,
    "start_time": "2025-05-12T16:22:41.786Z"
   },
   {
    "duration": 52,
    "start_time": "2025-05-12T16:22:41.797Z"
   },
   {
    "duration": 368,
    "start_time": "2025-05-12T16:22:41.851Z"
   },
   {
    "duration": 249,
    "start_time": "2025-05-12T16:22:42.221Z"
   },
   {
    "duration": 382,
    "start_time": "2025-05-12T16:22:42.472Z"
   },
   {
    "duration": 274,
    "start_time": "2025-05-12T16:22:42.857Z"
   },
   {
    "duration": 324,
    "start_time": "2025-05-12T16:22:43.133Z"
   },
   {
    "duration": 169,
    "start_time": "2025-05-12T16:22:43.459Z"
   },
   {
    "duration": 182,
    "start_time": "2025-05-12T16:22:43.630Z"
   },
   {
    "duration": 8,
    "start_time": "2025-05-12T16:22:43.814Z"
   },
   {
    "duration": 213,
    "start_time": "2025-05-12T16:22:43.824Z"
   },
   {
    "duration": 14,
    "start_time": "2025-05-12T16:22:44.038Z"
   },
   {
    "duration": 248,
    "start_time": "2025-05-12T16:22:44.053Z"
   },
   {
    "duration": 15,
    "start_time": "2025-05-12T16:22:44.303Z"
   },
   {
    "duration": 376,
    "start_time": "2025-05-12T16:22:44.323Z"
   },
   {
    "duration": 172,
    "start_time": "2025-05-12T16:22:44.700Z"
   },
   {
    "duration": 7,
    "start_time": "2025-05-12T16:22:44.876Z"
   },
   {
    "duration": 49,
    "start_time": "2025-05-12T16:22:44.885Z"
   },
   {
    "duration": 51,
    "start_time": "2025-05-12T16:22:44.936Z"
   },
   {
    "duration": 131,
    "start_time": "2025-05-12T16:22:44.989Z"
   },
   {
    "duration": 33,
    "start_time": "2025-05-12T16:22:45.122Z"
   },
   {
    "duration": 81,
    "start_time": "2025-05-12T16:22:45.157Z"
   },
   {
    "duration": 38,
    "start_time": "2025-05-12T16:22:45.240Z"
   },
   {
    "duration": 234,
    "start_time": "2025-05-12T16:24:59.742Z"
   },
   {
    "duration": 84,
    "start_time": "2025-05-12T16:26:02.079Z"
   },
   {
    "duration": 11,
    "start_time": "2025-05-12T16:26:46.277Z"
   },
   {
    "duration": 7,
    "start_time": "2025-05-12T16:28:58.672Z"
   },
   {
    "duration": 7,
    "start_time": "2025-05-12T16:29:11.203Z"
   },
   {
    "duration": 6,
    "start_time": "2025-05-12T16:29:39.990Z"
   },
   {
    "duration": 11,
    "start_time": "2025-05-12T16:29:40.391Z"
   },
   {
    "duration": 5,
    "start_time": "2025-05-12T16:30:15.429Z"
   },
   {
    "duration": 12,
    "start_time": "2025-05-12T16:30:15.870Z"
   },
   {
    "duration": 7,
    "start_time": "2025-05-12T16:30:24.720Z"
   },
   {
    "duration": 12,
    "start_time": "2025-05-12T16:30:25.346Z"
   },
   {
    "duration": 6,
    "start_time": "2025-05-12T16:30:27.540Z"
   },
   {
    "duration": 13,
    "start_time": "2025-05-12T16:30:28.033Z"
   },
   {
    "duration": 4,
    "start_time": "2025-05-12T16:30:40.248Z"
   },
   {
    "duration": 9,
    "start_time": "2025-05-12T16:30:47.709Z"
   },
   {
    "duration": 11,
    "start_time": "2025-05-12T16:30:48.488Z"
   },
   {
    "duration": 1329,
    "start_time": "2025-05-12T16:30:53.668Z"
   },
   {
    "duration": 79,
    "start_time": "2025-05-12T16:30:55.000Z"
   },
   {
    "duration": 26,
    "start_time": "2025-05-12T16:30:55.081Z"
   },
   {
    "duration": 4,
    "start_time": "2025-05-12T16:30:55.109Z"
   },
   {
    "duration": 38,
    "start_time": "2025-05-12T16:30:55.116Z"
   },
   {
    "duration": 17,
    "start_time": "2025-05-12T16:30:55.157Z"
   },
   {
    "duration": 14,
    "start_time": "2025-05-12T16:30:55.176Z"
   },
   {
    "duration": 19,
    "start_time": "2025-05-12T16:30:55.193Z"
   },
   {
    "duration": 74,
    "start_time": "2025-05-12T16:30:55.213Z"
   },
   {
    "duration": 56,
    "start_time": "2025-05-12T16:30:55.289Z"
   },
   {
    "duration": 15,
    "start_time": "2025-05-12T16:30:55.346Z"
   },
   {
    "duration": 15,
    "start_time": "2025-05-12T16:30:55.363Z"
   },
   {
    "duration": 27,
    "start_time": "2025-05-12T16:30:55.380Z"
   },
   {
    "duration": 19,
    "start_time": "2025-05-12T16:30:55.412Z"
   },
   {
    "duration": 21,
    "start_time": "2025-05-12T16:30:55.436Z"
   },
   {
    "duration": 115,
    "start_time": "2025-05-12T16:30:55.459Z"
   },
   {
    "duration": 15,
    "start_time": "2025-05-12T16:30:55.575Z"
   },
   {
    "duration": 11,
    "start_time": "2025-05-12T16:30:55.592Z"
   },
   {
    "duration": 135,
    "start_time": "2025-05-12T16:30:55.613Z"
   },
   {
    "duration": 8,
    "start_time": "2025-05-12T16:30:55.757Z"
   },
   {
    "duration": 67,
    "start_time": "2025-05-12T16:30:55.767Z"
   },
   {
    "duration": 13,
    "start_time": "2025-05-12T16:30:55.836Z"
   },
   {
    "duration": 213,
    "start_time": "2025-05-12T16:30:55.851Z"
   },
   {
    "duration": 176,
    "start_time": "2025-05-12T16:30:56.066Z"
   },
   {
    "duration": 8,
    "start_time": "2025-05-12T16:30:56.244Z"
   },
   {
    "duration": 19,
    "start_time": "2025-05-12T16:30:56.254Z"
   },
   {
    "duration": 368,
    "start_time": "2025-05-12T16:30:56.275Z"
   },
   {
    "duration": 232,
    "start_time": "2025-05-12T16:30:56.645Z"
   },
   {
    "duration": 367,
    "start_time": "2025-05-12T16:30:56.879Z"
   },
   {
    "duration": 270,
    "start_time": "2025-05-12T16:30:57.247Z"
   },
   {
    "duration": 329,
    "start_time": "2025-05-12T16:30:57.519Z"
   },
   {
    "duration": 149,
    "start_time": "2025-05-12T16:30:57.849Z"
   },
   {
    "duration": 211,
    "start_time": "2025-05-12T16:30:58.000Z"
   },
   {
    "duration": 20,
    "start_time": "2025-05-12T16:30:58.213Z"
   },
   {
    "duration": 254,
    "start_time": "2025-05-12T16:30:58.235Z"
   },
   {
    "duration": 17,
    "start_time": "2025-05-12T16:30:58.491Z"
   },
   {
    "duration": 212,
    "start_time": "2025-05-12T16:30:58.513Z"
   },
   {
    "duration": 5,
    "start_time": "2025-05-12T16:30:58.728Z"
   },
   {
    "duration": 387,
    "start_time": "2025-05-12T16:30:58.735Z"
   },
   {
    "duration": 172,
    "start_time": "2025-05-12T16:30:59.124Z"
   },
   {
    "duration": 10,
    "start_time": "2025-05-12T16:30:59.312Z"
   },
   {
    "duration": 57,
    "start_time": "2025-05-12T16:30:59.324Z"
   },
   {
    "duration": 38,
    "start_time": "2025-05-12T16:30:59.383Z"
   },
   {
    "duration": 38,
    "start_time": "2025-05-12T16:30:59.424Z"
   },
   {
    "duration": 131,
    "start_time": "2025-05-12T16:30:59.465Z"
   },
   {
    "duration": 157,
    "start_time": "2025-05-12T16:30:59.597Z"
   },
   {
    "duration": 17,
    "start_time": "2025-05-12T16:30:59.756Z"
   },
   {
    "duration": 10,
    "start_time": "2025-05-12T16:34:57.942Z"
   },
   {
    "duration": 1345,
    "start_time": "2025-05-12T16:35:18.093Z"
   },
   {
    "duration": 91,
    "start_time": "2025-05-12T16:35:19.440Z"
   },
   {
    "duration": 39,
    "start_time": "2025-05-12T16:35:19.533Z"
   },
   {
    "duration": 3,
    "start_time": "2025-05-12T16:35:19.574Z"
   },
   {
    "duration": 28,
    "start_time": "2025-05-12T16:35:19.581Z"
   },
   {
    "duration": 23,
    "start_time": "2025-05-12T16:35:19.612Z"
   },
   {
    "duration": 63,
    "start_time": "2025-05-12T16:35:19.637Z"
   },
   {
    "duration": 45,
    "start_time": "2025-05-12T16:35:19.702Z"
   },
   {
    "duration": 5,
    "start_time": "2025-05-12T16:35:19.749Z"
   },
   {
    "duration": 12,
    "start_time": "2025-05-12T16:35:19.756Z"
   },
   {
    "duration": 5,
    "start_time": "2025-05-12T16:35:19.770Z"
   },
   {
    "duration": 7,
    "start_time": "2025-05-12T16:35:19.777Z"
   },
   {
    "duration": 48,
    "start_time": "2025-05-12T16:35:19.786Z"
   },
   {
    "duration": 6,
    "start_time": "2025-05-12T16:35:19.838Z"
   },
   {
    "duration": 20,
    "start_time": "2025-05-12T16:35:19.846Z"
   },
   {
    "duration": 8,
    "start_time": "2025-05-12T16:35:19.868Z"
   },
   {
    "duration": 45,
    "start_time": "2025-05-12T16:35:19.878Z"
   },
   {
    "duration": 10,
    "start_time": "2025-05-12T16:35:19.924Z"
   },
   {
    "duration": 27,
    "start_time": "2025-05-12T16:35:19.937Z"
   },
   {
    "duration": 24,
    "start_time": "2025-05-12T16:35:19.966Z"
   },
   {
    "duration": 21,
    "start_time": "2025-05-12T16:35:19.992Z"
   },
   {
    "duration": 111,
    "start_time": "2025-05-12T16:35:20.015Z"
   },
   {
    "duration": 223,
    "start_time": "2025-05-12T16:35:20.128Z"
   },
   {
    "duration": 181,
    "start_time": "2025-05-12T16:35:20.352Z"
   },
   {
    "duration": 9,
    "start_time": "2025-05-12T16:35:20.536Z"
   },
   {
    "duration": 25,
    "start_time": "2025-05-12T16:35:20.547Z"
   },
   {
    "duration": 348,
    "start_time": "2025-05-12T16:35:20.574Z"
   },
   {
    "duration": 248,
    "start_time": "2025-05-12T16:35:20.924Z"
   },
   {
    "duration": 368,
    "start_time": "2025-05-12T16:35:21.173Z"
   },
   {
    "duration": 242,
    "start_time": "2025-05-12T16:35:21.543Z"
   },
   {
    "duration": 357,
    "start_time": "2025-05-12T16:35:21.787Z"
   },
   {
    "duration": 177,
    "start_time": "2025-05-12T16:35:22.146Z"
   },
   {
    "duration": 203,
    "start_time": "2025-05-12T16:35:22.330Z"
   },
   {
    "duration": 6,
    "start_time": "2025-05-12T16:35:22.535Z"
   },
   {
    "duration": 203,
    "start_time": "2025-05-12T16:35:22.542Z"
   },
   {
    "duration": 13,
    "start_time": "2025-05-12T16:35:22.746Z"
   },
   {
    "duration": 231,
    "start_time": "2025-05-12T16:35:22.761Z"
   },
   {
    "duration": 11,
    "start_time": "2025-05-12T16:35:22.994Z"
   },
   {
    "duration": 360,
    "start_time": "2025-05-12T16:35:23.011Z"
   },
   {
    "duration": 169,
    "start_time": "2025-05-12T16:35:23.373Z"
   },
   {
    "duration": 17,
    "start_time": "2025-05-12T16:35:23.546Z"
   },
   {
    "duration": 29,
    "start_time": "2025-05-12T16:35:23.565Z"
   },
   {
    "duration": 20,
    "start_time": "2025-05-12T16:35:23.596Z"
   },
   {
    "duration": 17,
    "start_time": "2025-05-12T16:35:23.620Z"
   },
   {
    "duration": 105,
    "start_time": "2025-05-12T16:35:23.640Z"
   },
   {
    "duration": 27,
    "start_time": "2025-05-12T16:35:23.748Z"
   },
   {
    "duration": 16,
    "start_time": "2025-05-12T16:35:23.777Z"
   },
   {
    "duration": 9,
    "start_time": "2025-05-12T16:39:30.054Z"
   },
   {
    "duration": 9,
    "start_time": "2025-05-12T16:39:33.223Z"
   },
   {
    "duration": 28,
    "start_time": "2025-05-12T16:39:34.130Z"
   },
   {
    "duration": 14,
    "start_time": "2025-05-12T16:40:00.834Z"
   },
   {
    "duration": 1293,
    "start_time": "2025-05-12T16:41:47.734Z"
   },
   {
    "duration": 72,
    "start_time": "2025-05-12T16:41:49.029Z"
   },
   {
    "duration": 28,
    "start_time": "2025-05-12T16:41:49.102Z"
   },
   {
    "duration": 4,
    "start_time": "2025-05-12T16:41:49.132Z"
   },
   {
    "duration": 44,
    "start_time": "2025-05-12T16:41:49.138Z"
   },
   {
    "duration": 41,
    "start_time": "2025-05-12T16:41:49.184Z"
   },
   {
    "duration": 10,
    "start_time": "2025-05-12T16:41:49.227Z"
   },
   {
    "duration": 7,
    "start_time": "2025-05-12T16:41:49.239Z"
   },
   {
    "duration": 11,
    "start_time": "2025-05-12T16:41:49.248Z"
   },
   {
    "duration": 10,
    "start_time": "2025-05-12T16:41:49.260Z"
   },
   {
    "duration": 47,
    "start_time": "2025-05-12T16:41:49.272Z"
   },
   {
    "duration": 8,
    "start_time": "2025-05-12T16:41:49.321Z"
   },
   {
    "duration": 32,
    "start_time": "2025-05-12T16:41:49.331Z"
   },
   {
    "duration": 8,
    "start_time": "2025-05-12T16:41:49.366Z"
   },
   {
    "duration": 43,
    "start_time": "2025-05-12T16:41:49.376Z"
   },
   {
    "duration": 6,
    "start_time": "2025-05-12T16:41:49.422Z"
   },
   {
    "duration": 14,
    "start_time": "2025-05-12T16:41:49.430Z"
   },
   {
    "duration": 17,
    "start_time": "2025-05-12T16:41:49.446Z"
   },
   {
    "duration": 92,
    "start_time": "2025-05-12T16:41:49.465Z"
   },
   {
    "duration": 26,
    "start_time": "2025-05-12T16:41:49.559Z"
   },
   {
    "duration": 25,
    "start_time": "2025-05-12T16:41:49.587Z"
   },
   {
    "duration": 17,
    "start_time": "2025-05-12T16:41:49.615Z"
   },
   {
    "duration": 222,
    "start_time": "2025-05-12T16:41:49.634Z"
   },
   {
    "duration": 163,
    "start_time": "2025-05-12T16:41:49.858Z"
   },
   {
    "duration": 8,
    "start_time": "2025-05-12T16:41:50.023Z"
   },
   {
    "duration": 101,
    "start_time": "2025-05-12T16:41:50.033Z"
   },
   {
    "duration": 310,
    "start_time": "2025-05-12T16:41:50.136Z"
   },
   {
    "duration": 234,
    "start_time": "2025-05-12T16:41:50.449Z"
   },
   {
    "duration": 343,
    "start_time": "2025-05-12T16:41:50.684Z"
   },
   {
    "duration": 249,
    "start_time": "2025-05-12T16:41:51.029Z"
   },
   {
    "duration": 344,
    "start_time": "2025-05-12T16:41:51.280Z"
   },
   {
    "duration": 160,
    "start_time": "2025-05-12T16:41:51.626Z"
   },
   {
    "duration": 193,
    "start_time": "2025-05-12T16:41:51.788Z"
   },
   {
    "duration": 5,
    "start_time": "2025-05-12T16:41:51.983Z"
   },
   {
    "duration": 295,
    "start_time": "2025-05-12T16:41:51.990Z"
   },
   {
    "duration": 24,
    "start_time": "2025-05-12T16:41:52.287Z"
   },
   {
    "duration": 218,
    "start_time": "2025-05-12T16:41:52.312Z"
   },
   {
    "duration": 6,
    "start_time": "2025-05-12T16:41:52.532Z"
   },
   {
    "duration": 394,
    "start_time": "2025-05-12T16:41:52.540Z"
   },
   {
    "duration": 146,
    "start_time": "2025-05-12T16:41:52.937Z"
   },
   {
    "duration": 27,
    "start_time": "2025-05-12T16:41:53.087Z"
   },
   {
    "duration": 34,
    "start_time": "2025-05-12T16:41:53.116Z"
   },
   {
    "duration": 19,
    "start_time": "2025-05-12T16:41:53.152Z"
   },
   {
    "duration": 44,
    "start_time": "2025-05-12T16:41:53.172Z"
   },
   {
    "duration": 22,
    "start_time": "2025-05-12T16:41:53.221Z"
   },
   {
    "duration": 45,
    "start_time": "2025-05-12T16:41:53.245Z"
   },
   {
    "duration": 22,
    "start_time": "2025-05-12T16:41:53.292Z"
   },
   {
    "duration": 223,
    "start_time": "2025-05-12T16:42:21.570Z"
   },
   {
    "duration": 2080,
    "start_time": "2025-05-13T05:46:20.075Z"
   },
   {
    "duration": 79,
    "start_time": "2025-05-13T05:46:22.158Z"
   },
   {
    "duration": 21,
    "start_time": "2025-05-13T05:46:22.239Z"
   },
   {
    "duration": 3,
    "start_time": "2025-05-13T05:46:22.262Z"
   },
   {
    "duration": 27,
    "start_time": "2025-05-13T05:46:22.267Z"
   },
   {
    "duration": 27,
    "start_time": "2025-05-13T05:46:22.295Z"
   },
   {
    "duration": 17,
    "start_time": "2025-05-13T05:46:22.324Z"
   },
   {
    "duration": 7,
    "start_time": "2025-05-13T05:46:22.343Z"
   },
   {
    "duration": 5,
    "start_time": "2025-05-13T05:46:22.352Z"
   },
   {
    "duration": 9,
    "start_time": "2025-05-13T05:46:22.359Z"
   },
   {
    "duration": 7,
    "start_time": "2025-05-13T05:46:22.370Z"
   },
   {
    "duration": 5,
    "start_time": "2025-05-13T05:46:22.378Z"
   },
   {
    "duration": 40,
    "start_time": "2025-05-13T05:46:22.384Z"
   },
   {
    "duration": 6,
    "start_time": "2025-05-13T05:46:22.427Z"
   },
   {
    "duration": 16,
    "start_time": "2025-05-13T05:46:22.434Z"
   },
   {
    "duration": 5,
    "start_time": "2025-05-13T05:46:22.452Z"
   },
   {
    "duration": 12,
    "start_time": "2025-05-13T05:46:22.458Z"
   },
   {
    "duration": 31,
    "start_time": "2025-05-13T05:46:22.472Z"
   },
   {
    "duration": 17,
    "start_time": "2025-05-13T05:46:22.505Z"
   },
   {
    "duration": 30,
    "start_time": "2025-05-13T05:46:22.524Z"
   },
   {
    "duration": 37,
    "start_time": "2025-05-13T05:46:22.556Z"
   },
   {
    "duration": 15,
    "start_time": "2025-05-13T05:46:22.594Z"
   },
   {
    "duration": 184,
    "start_time": "2025-05-13T05:46:22.611Z"
   },
   {
    "duration": 140,
    "start_time": "2025-05-13T05:46:22.797Z"
   },
   {
    "duration": 6,
    "start_time": "2025-05-13T05:46:22.939Z"
   },
   {
    "duration": 17,
    "start_time": "2025-05-13T05:46:22.947Z"
   },
   {
    "duration": 292,
    "start_time": "2025-05-13T05:46:22.966Z"
   },
   {
    "duration": 210,
    "start_time": "2025-05-13T05:46:23.260Z"
   },
   {
    "duration": 382,
    "start_time": "2025-05-13T05:46:23.472Z"
   },
   {
    "duration": 246,
    "start_time": "2025-05-13T05:46:23.856Z"
   },
   {
    "duration": 305,
    "start_time": "2025-05-13T05:46:24.105Z"
   },
   {
    "duration": 146,
    "start_time": "2025-05-13T05:46:24.412Z"
   },
   {
    "duration": 184,
    "start_time": "2025-05-13T05:46:24.560Z"
   },
   {
    "duration": 4,
    "start_time": "2025-05-13T05:46:24.746Z"
   },
   {
    "duration": 184,
    "start_time": "2025-05-13T05:46:24.752Z"
   },
   {
    "duration": 14,
    "start_time": "2025-05-13T05:46:24.938Z"
   },
   {
    "duration": 186,
    "start_time": "2025-05-13T05:46:24.954Z"
   },
   {
    "duration": 5,
    "start_time": "2025-05-13T05:46:25.141Z"
   },
   {
    "duration": 342,
    "start_time": "2025-05-13T05:46:25.148Z"
   },
   {
    "duration": 142,
    "start_time": "2025-05-13T05:46:25.492Z"
   },
   {
    "duration": 6,
    "start_time": "2025-05-13T05:46:25.638Z"
   },
   {
    "duration": 143,
    "start_time": "2025-05-13T05:46:25.646Z"
   },
   {
    "duration": 15,
    "start_time": "2025-05-13T05:46:25.791Z"
   },
   {
    "duration": 28,
    "start_time": "2025-05-13T05:46:25.807Z"
   },
   {
    "duration": 9,
    "start_time": "2025-05-13T05:46:25.837Z"
   },
   {
    "duration": 36,
    "start_time": "2025-05-13T05:46:25.847Z"
   },
   {
    "duration": 14,
    "start_time": "2025-05-13T05:46:25.885Z"
   },
   {
    "duration": 1158,
    "start_time": "2025-07-12T12:20:19.205Z"
   },
   {
    "duration": 197,
    "start_time": "2025-07-12T12:20:20.365Z"
   },
   {
    "duration": 20,
    "start_time": "2025-07-12T12:20:20.564Z"
   },
   {
    "duration": 4,
    "start_time": "2025-07-12T12:20:20.586Z"
   },
   {
    "duration": 20,
    "start_time": "2025-07-12T12:20:20.592Z"
   },
   {
    "duration": 13,
    "start_time": "2025-07-12T12:20:20.613Z"
   },
   {
    "duration": 11,
    "start_time": "2025-07-12T12:20:20.627Z"
   },
   {
    "duration": 35,
    "start_time": "2025-07-12T12:20:20.640Z"
   },
   {
    "duration": 32,
    "start_time": "2025-07-12T12:20:20.676Z"
   },
   {
    "duration": 5,
    "start_time": "2025-07-12T12:20:20.710Z"
   },
   {
    "duration": 5,
    "start_time": "2025-07-12T12:20:20.716Z"
   },
   {
    "duration": 22,
    "start_time": "2025-07-12T12:20:20.723Z"
   },
   {
    "duration": 33,
    "start_time": "2025-07-12T12:20:20.747Z"
   },
   {
    "duration": 10,
    "start_time": "2025-07-12T12:20:20.782Z"
   },
   {
    "duration": 13,
    "start_time": "2025-07-12T12:20:20.794Z"
   },
   {
    "duration": 5,
    "start_time": "2025-07-12T12:20:20.809Z"
   },
   {
    "duration": 9,
    "start_time": "2025-07-12T12:20:20.816Z"
   },
   {
    "duration": 7,
    "start_time": "2025-07-12T12:20:20.827Z"
   },
   {
    "duration": 26,
    "start_time": "2025-07-12T12:20:20.835Z"
   },
   {
    "duration": 10,
    "start_time": "2025-07-12T12:20:20.872Z"
   },
   {
    "duration": 12,
    "start_time": "2025-07-12T12:20:20.884Z"
   },
   {
    "duration": 9,
    "start_time": "2025-07-12T12:20:20.897Z"
   },
   {
    "duration": 188,
    "start_time": "2025-07-12T12:20:20.908Z"
   },
   {
    "duration": 124,
    "start_time": "2025-07-12T12:20:21.098Z"
   },
   {
    "duration": 28,
    "start_time": "2025-07-12T12:20:21.223Z"
   },
   {
    "duration": 14,
    "start_time": "2025-07-12T12:20:21.253Z"
   },
   {
    "duration": 265,
    "start_time": "2025-07-12T12:20:21.268Z"
   },
   {
    "duration": 204,
    "start_time": "2025-07-12T12:20:21.537Z"
   },
   {
    "duration": 330,
    "start_time": "2025-07-12T12:20:21.743Z"
   },
   {
    "duration": 221,
    "start_time": "2025-07-12T12:20:22.075Z"
   },
   {
    "duration": 475,
    "start_time": "2025-07-12T12:20:22.298Z"
   },
   {
    "duration": 218,
    "start_time": "2025-07-12T12:20:22.775Z"
   },
   {
    "duration": 376,
    "start_time": "2025-07-12T12:20:22.995Z"
   },
   {
    "duration": 4,
    "start_time": "2025-07-12T12:20:23.373Z"
   },
   {
    "duration": 308,
    "start_time": "2025-07-12T12:20:23.379Z"
   },
   {
    "duration": 12,
    "start_time": "2025-07-12T12:20:23.688Z"
   },
   {
    "duration": 281,
    "start_time": "2025-07-12T12:20:23.702Z"
   },
   {
    "duration": 3,
    "start_time": "2025-07-12T12:20:23.985Z"
   },
   {
    "duration": 322,
    "start_time": "2025-07-12T12:20:23.990Z"
   },
   {
    "duration": 124,
    "start_time": "2025-07-12T12:20:24.313Z"
   },
   {
    "duration": 7,
    "start_time": "2025-07-12T12:20:24.439Z"
   },
   {
    "duration": 37,
    "start_time": "2025-07-12T12:20:24.447Z"
   },
   {
    "duration": 10,
    "start_time": "2025-07-12T12:20:24.486Z"
   },
   {
    "duration": 8,
    "start_time": "2025-07-12T12:20:24.497Z"
   },
   {
    "duration": 9,
    "start_time": "2025-07-12T12:20:24.507Z"
   },
   {
    "duration": 88,
    "start_time": "2025-07-12T12:20:24.517Z"
   },
   {
    "duration": 12,
    "start_time": "2025-07-12T12:20:24.607Z"
   },
   {
    "duration": 133,
    "start_time": "2025-07-12T12:21:00.522Z"
   },
   {
    "duration": 98,
    "start_time": "2025-07-12T12:21:20.313Z"
   },
   {
    "duration": 10,
    "start_time": "2025-07-12T12:21:24.729Z"
   }
  ],
  "kernelspec": {
   "display_name": "Python 3 (ipykernel)",
   "language": "python",
   "name": "python3"
  },
  "language_info": {
   "codemirror_mode": {
    "name": "ipython",
    "version": 3
   },
   "file_extension": ".py",
   "mimetype": "text/x-python",
   "name": "python",
   "nbconvert_exporter": "python",
   "pygments_lexer": "ipython3",
   "version": "3.9.5"
  },
  "toc": {
   "base_numbering": 1,
   "nav_menu": {},
   "number_sections": true,
   "sideBar": true,
   "skip_h1_title": true,
   "title_cell": "Table of Contents",
   "title_sidebar": "Contents",
   "toc_cell": false,
   "toc_position": {
    "height": "calc(100% - 180px)",
    "left": "10px",
    "top": "150px",
    "width": "409.600006px"
   },
   "toc_section_display": true,
   "toc_window_display": true
  }
 },
 "nbformat": 4,
 "nbformat_minor": 2
}
