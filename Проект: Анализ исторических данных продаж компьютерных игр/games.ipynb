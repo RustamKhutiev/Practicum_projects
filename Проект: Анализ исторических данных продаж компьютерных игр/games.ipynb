{
 "cells": [
  {
   "cell_type": "markdown",
   "metadata": {},
   "source": [
    "## Описание проекта\n",
    "Вы работаете в интернет-магазине «Стримчик», который продаёт по всему миру компьютерные игры. Из открытых источников доступны исторические данные о продажах игр, оценки пользователей и экспертов, жанры и платформы (например, Xbox или PlayStation). Вам нужно выявить определяющие успешность игры закономерности. Это позволит сделать ставку на потенциально популярный продукт и спланировать рекламные кампании.\n",
    "\n",
    "\n",
    "Перед вами данные до 2016 года. Представим, что сейчас декабрь 2016 г., и вы планируете кампанию на 2017-й. Нужно отработать принцип работы с данными. Неважно, прогнозируете ли вы продажи на 2017 год по данным 2016-го или же 2027-й — по данным 2026 года.\n",
    "\n",
    "\n",
    "В наборе данных попадается аббревиатура ESRB (Entertainment Software Rating Board) — это ассоциация, определяющая возрастной рейтинг компьютерных игр. ESRB оценивает игровой контент и присваивает ему подходящую возрастную категорию, например, «Для взрослых», «Для детей младшего возраста» или «Для подростков»."
   ]
  },
  {
   "cell_type": "markdown",
   "metadata": {},
   "source": [
    "# Импортируем необходимое\n"
   ]
  },
  {
   "cell_type": "code",
   "execution_count": 1,
   "metadata": {},
   "outputs": [],
   "source": [
    "import pandas as pd\n",
    "from scipy import stats as st\n",
    "import matplotlib.pyplot as plt\n",
    "import numpy as np\n",
    "import math\n",
    "import seaborn as sns"
   ]
  },
  {
   "cell_type": "markdown",
   "metadata": {},
   "source": [
    "# Загружаем данные"
   ]
  },
  {
   "cell_type": "code",
   "execution_count": 2,
   "metadata": {},
   "outputs": [],
   "source": [
    "df = pd.read_csv('/datasets/games.csv')"
   ]
  },
  {
   "cell_type": "code",
   "execution_count": 3,
   "metadata": {
    "scrolled": false
   },
   "outputs": [
    {
     "data": {
      "text/html": [
       "<div>\n",
       "<style scoped>\n",
       "    .dataframe tbody tr th:only-of-type {\n",
       "        vertical-align: middle;\n",
       "    }\n",
       "\n",
       "    .dataframe tbody tr th {\n",
       "        vertical-align: top;\n",
       "    }\n",
       "\n",
       "    .dataframe thead th {\n",
       "        text-align: right;\n",
       "    }\n",
       "</style>\n",
       "<table border=\"1\" class=\"dataframe\">\n",
       "  <thead>\n",
       "    <tr style=\"text-align: right;\">\n",
       "      <th></th>\n",
       "      <th>Name</th>\n",
       "      <th>Platform</th>\n",
       "      <th>Year_of_Release</th>\n",
       "      <th>Genre</th>\n",
       "      <th>NA_sales</th>\n",
       "      <th>EU_sales</th>\n",
       "      <th>JP_sales</th>\n",
       "      <th>Other_sales</th>\n",
       "      <th>Critic_Score</th>\n",
       "      <th>User_Score</th>\n",
       "      <th>Rating</th>\n",
       "    </tr>\n",
       "  </thead>\n",
       "  <tbody>\n",
       "    <tr>\n",
       "      <th>0</th>\n",
       "      <td>Wii Sports</td>\n",
       "      <td>Wii</td>\n",
       "      <td>2006.0</td>\n",
       "      <td>Sports</td>\n",
       "      <td>41.36</td>\n",
       "      <td>28.96</td>\n",
       "      <td>3.77</td>\n",
       "      <td>8.45</td>\n",
       "      <td>76.0</td>\n",
       "      <td>8</td>\n",
       "      <td>E</td>\n",
       "    </tr>\n",
       "    <tr>\n",
       "      <th>1</th>\n",
       "      <td>Super Mario Bros.</td>\n",
       "      <td>NES</td>\n",
       "      <td>1985.0</td>\n",
       "      <td>Platform</td>\n",
       "      <td>29.08</td>\n",
       "      <td>3.58</td>\n",
       "      <td>6.81</td>\n",
       "      <td>0.77</td>\n",
       "      <td>NaN</td>\n",
       "      <td>NaN</td>\n",
       "      <td>NaN</td>\n",
       "    </tr>\n",
       "    <tr>\n",
       "      <th>2</th>\n",
       "      <td>Mario Kart Wii</td>\n",
       "      <td>Wii</td>\n",
       "      <td>2008.0</td>\n",
       "      <td>Racing</td>\n",
       "      <td>15.68</td>\n",
       "      <td>12.76</td>\n",
       "      <td>3.79</td>\n",
       "      <td>3.29</td>\n",
       "      <td>82.0</td>\n",
       "      <td>8.3</td>\n",
       "      <td>E</td>\n",
       "    </tr>\n",
       "    <tr>\n",
       "      <th>3</th>\n",
       "      <td>Wii Sports Resort</td>\n",
       "      <td>Wii</td>\n",
       "      <td>2009.0</td>\n",
       "      <td>Sports</td>\n",
       "      <td>15.61</td>\n",
       "      <td>10.93</td>\n",
       "      <td>3.28</td>\n",
       "      <td>2.95</td>\n",
       "      <td>80.0</td>\n",
       "      <td>8</td>\n",
       "      <td>E</td>\n",
       "    </tr>\n",
       "    <tr>\n",
       "      <th>4</th>\n",
       "      <td>Pokemon Red/Pokemon Blue</td>\n",
       "      <td>GB</td>\n",
       "      <td>1996.0</td>\n",
       "      <td>Role-Playing</td>\n",
       "      <td>11.27</td>\n",
       "      <td>8.89</td>\n",
       "      <td>10.22</td>\n",
       "      <td>1.00</td>\n",
       "      <td>NaN</td>\n",
       "      <td>NaN</td>\n",
       "      <td>NaN</td>\n",
       "    </tr>\n",
       "  </tbody>\n",
       "</table>\n",
       "</div>"
      ],
      "text/plain": [
       "                       Name Platform  Year_of_Release         Genre  NA_sales  \\\n",
       "0                Wii Sports      Wii           2006.0        Sports     41.36   \n",
       "1         Super Mario Bros.      NES           1985.0      Platform     29.08   \n",
       "2            Mario Kart Wii      Wii           2008.0        Racing     15.68   \n",
       "3         Wii Sports Resort      Wii           2009.0        Sports     15.61   \n",
       "4  Pokemon Red/Pokemon Blue       GB           1996.0  Role-Playing     11.27   \n",
       "\n",
       "   EU_sales  JP_sales  Other_sales  Critic_Score User_Score Rating  \n",
       "0     28.96      3.77         8.45          76.0          8      E  \n",
       "1      3.58      6.81         0.77           NaN        NaN    NaN  \n",
       "2     12.76      3.79         3.29          82.0        8.3      E  \n",
       "3     10.93      3.28         2.95          80.0          8      E  \n",
       "4      8.89     10.22         1.00           NaN        NaN    NaN  "
      ]
     },
     "execution_count": 3,
     "metadata": {},
     "output_type": "execute_result"
    }
   ],
   "source": [
    "df.head()"
   ]
  },
  {
   "cell_type": "code",
   "execution_count": 4,
   "metadata": {
    "scrolled": true
   },
   "outputs": [
    {
     "name": "stdout",
     "output_type": "stream",
     "text": [
      "<class 'pandas.core.frame.DataFrame'>\n",
      "RangeIndex: 16715 entries, 0 to 16714\n",
      "Data columns (total 11 columns):\n",
      " #   Column           Non-Null Count  Dtype  \n",
      "---  ------           --------------  -----  \n",
      " 0   Name             16713 non-null  object \n",
      " 1   Platform         16715 non-null  object \n",
      " 2   Year_of_Release  16446 non-null  float64\n",
      " 3   Genre            16713 non-null  object \n",
      " 4   NA_sales         16715 non-null  float64\n",
      " 5   EU_sales         16715 non-null  float64\n",
      " 6   JP_sales         16715 non-null  float64\n",
      " 7   Other_sales      16715 non-null  float64\n",
      " 8   Critic_Score     8137 non-null   float64\n",
      " 9   User_Score       10014 non-null  object \n",
      " 10  Rating           9949 non-null   object \n",
      "dtypes: float64(6), object(5)\n",
      "memory usage: 1.4+ MB\n"
     ]
    }
   ],
   "source": [
    "df.info()"
   ]
  },
  {
   "cell_type": "code",
   "execution_count": null,
   "metadata": {},
   "outputs": [],
   "source": []
  },
  {
   "cell_type": "markdown",
   "metadata": {},
   "source": [
    "# Предобработка данных"
   ]
  },
  {
   "cell_type": "markdown",
   "metadata": {},
   "source": [
    "## Смотрим кол-во пропущенных значений"
   ]
  },
  {
   "cell_type": "code",
   "execution_count": 5,
   "metadata": {},
   "outputs": [
    {
     "data": {
      "text/plain": [
       "Name                  2\n",
       "Platform              0\n",
       "Year_of_Release     269\n",
       "Genre                 2\n",
       "NA_sales              0\n",
       "EU_sales              0\n",
       "JP_sales              0\n",
       "Other_sales           0\n",
       "Critic_Score       8578\n",
       "User_Score         6701\n",
       "Rating             6766\n",
       "dtype: int64"
      ]
     },
     "execution_count": 5,
     "metadata": {},
     "output_type": "execute_result"
    }
   ],
   "source": [
    "df.isna().sum()"
   ]
  },
  {
   "cell_type": "markdown",
   "metadata": {},
   "source": [
    "## Приводим столбцы к нижнему регистру"
   ]
  },
  {
   "cell_type": "code",
   "execution_count": 6,
   "metadata": {},
   "outputs": [],
   "source": [
    "df.columns = df.columns.str.lower()"
   ]
  },
  {
   "cell_type": "markdown",
   "metadata": {},
   "source": [
    "## Рассмотрим пропущенные значения подробнее"
   ]
  },
  {
   "cell_type": "markdown",
   "metadata": {},
   "source": [
    "### Столбец name"
   ]
  },
  {
   "cell_type": "code",
   "execution_count": 7,
   "metadata": {
    "scrolled": true
   },
   "outputs": [
    {
     "data": {
      "text/html": [
       "<div>\n",
       "<style scoped>\n",
       "    .dataframe tbody tr th:only-of-type {\n",
       "        vertical-align: middle;\n",
       "    }\n",
       "\n",
       "    .dataframe tbody tr th {\n",
       "        vertical-align: top;\n",
       "    }\n",
       "\n",
       "    .dataframe thead th {\n",
       "        text-align: right;\n",
       "    }\n",
       "</style>\n",
       "<table border=\"1\" class=\"dataframe\">\n",
       "  <thead>\n",
       "    <tr style=\"text-align: right;\">\n",
       "      <th></th>\n",
       "      <th>name</th>\n",
       "      <th>platform</th>\n",
       "      <th>year_of_release</th>\n",
       "      <th>genre</th>\n",
       "      <th>na_sales</th>\n",
       "      <th>eu_sales</th>\n",
       "      <th>jp_sales</th>\n",
       "      <th>other_sales</th>\n",
       "      <th>critic_score</th>\n",
       "      <th>user_score</th>\n",
       "      <th>rating</th>\n",
       "    </tr>\n",
       "  </thead>\n",
       "  <tbody>\n",
       "    <tr>\n",
       "      <th>659</th>\n",
       "      <td>NaN</td>\n",
       "      <td>GEN</td>\n",
       "      <td>1993.0</td>\n",
       "      <td>NaN</td>\n",
       "      <td>1.78</td>\n",
       "      <td>0.53</td>\n",
       "      <td>0.00</td>\n",
       "      <td>0.08</td>\n",
       "      <td>NaN</td>\n",
       "      <td>NaN</td>\n",
       "      <td>NaN</td>\n",
       "    </tr>\n",
       "    <tr>\n",
       "      <th>14244</th>\n",
       "      <td>NaN</td>\n",
       "      <td>GEN</td>\n",
       "      <td>1993.0</td>\n",
       "      <td>NaN</td>\n",
       "      <td>0.00</td>\n",
       "      <td>0.00</td>\n",
       "      <td>0.03</td>\n",
       "      <td>0.00</td>\n",
       "      <td>NaN</td>\n",
       "      <td>NaN</td>\n",
       "      <td>NaN</td>\n",
       "    </tr>\n",
       "  </tbody>\n",
       "</table>\n",
       "</div>"
      ],
      "text/plain": [
       "      name platform  year_of_release genre  na_sales  eu_sales  jp_sales  \\\n",
       "659    NaN      GEN           1993.0   NaN      1.78      0.53      0.00   \n",
       "14244  NaN      GEN           1993.0   NaN      0.00      0.00      0.03   \n",
       "\n",
       "       other_sales  critic_score user_score rating  \n",
       "659           0.08           NaN        NaN    NaN  \n",
       "14244         0.00           NaN        NaN    NaN  "
      ]
     },
     "execution_count": 7,
     "metadata": {},
     "output_type": "execute_result"
    }
   ],
   "source": [
    "df[df['name'].isna()]"
   ]
  },
  {
   "cell_type": "markdown",
   "metadata": {},
   "source": [
    "### столбец genre"
   ]
  },
  {
   "cell_type": "code",
   "execution_count": 8,
   "metadata": {},
   "outputs": [
    {
     "data": {
      "text/plain": [
       "array(['Sports', 'Platform', 'Racing', 'Role-Playing', 'Puzzle', 'Misc',\n",
       "       'Shooter', 'Simulation', 'Action', 'Fighting', 'Adventure',\n",
       "       'Strategy', nan], dtype=object)"
      ]
     },
     "execution_count": 8,
     "metadata": {},
     "output_type": "execute_result"
    }
   ],
   "source": [
    "df['genre'].unique()"
   ]
  },
  {
   "cell_type": "code",
   "execution_count": 9,
   "metadata": {
    "scrolled": true
   },
   "outputs": [
    {
     "data": {
      "text/html": [
       "<div>\n",
       "<style scoped>\n",
       "    .dataframe tbody tr th:only-of-type {\n",
       "        vertical-align: middle;\n",
       "    }\n",
       "\n",
       "    .dataframe tbody tr th {\n",
       "        vertical-align: top;\n",
       "    }\n",
       "\n",
       "    .dataframe thead th {\n",
       "        text-align: right;\n",
       "    }\n",
       "</style>\n",
       "<table border=\"1\" class=\"dataframe\">\n",
       "  <thead>\n",
       "    <tr style=\"text-align: right;\">\n",
       "      <th></th>\n",
       "      <th>name</th>\n",
       "      <th>platform</th>\n",
       "      <th>year_of_release</th>\n",
       "      <th>genre</th>\n",
       "      <th>na_sales</th>\n",
       "      <th>eu_sales</th>\n",
       "      <th>jp_sales</th>\n",
       "      <th>other_sales</th>\n",
       "      <th>critic_score</th>\n",
       "      <th>user_score</th>\n",
       "      <th>rating</th>\n",
       "    </tr>\n",
       "  </thead>\n",
       "  <tbody>\n",
       "    <tr>\n",
       "      <th>659</th>\n",
       "      <td>NaN</td>\n",
       "      <td>GEN</td>\n",
       "      <td>1993.0</td>\n",
       "      <td>NaN</td>\n",
       "      <td>1.78</td>\n",
       "      <td>0.53</td>\n",
       "      <td>0.00</td>\n",
       "      <td>0.08</td>\n",
       "      <td>NaN</td>\n",
       "      <td>NaN</td>\n",
       "      <td>NaN</td>\n",
       "    </tr>\n",
       "    <tr>\n",
       "      <th>14244</th>\n",
       "      <td>NaN</td>\n",
       "      <td>GEN</td>\n",
       "      <td>1993.0</td>\n",
       "      <td>NaN</td>\n",
       "      <td>0.00</td>\n",
       "      <td>0.00</td>\n",
       "      <td>0.03</td>\n",
       "      <td>0.00</td>\n",
       "      <td>NaN</td>\n",
       "      <td>NaN</td>\n",
       "      <td>NaN</td>\n",
       "    </tr>\n",
       "  </tbody>\n",
       "</table>\n",
       "</div>"
      ],
      "text/plain": [
       "      name platform  year_of_release genre  na_sales  eu_sales  jp_sales  \\\n",
       "659    NaN      GEN           1993.0   NaN      1.78      0.53      0.00   \n",
       "14244  NaN      GEN           1993.0   NaN      0.00      0.00      0.03   \n",
       "\n",
       "       other_sales  critic_score user_score rating  \n",
       "659           0.08           NaN        NaN    NaN  \n",
       "14244         0.00           NaN        NaN    NaN  "
      ]
     },
     "execution_count": 9,
     "metadata": {},
     "output_type": "execute_result"
    }
   ],
   "source": [
    "df[df['genre'].isna()]"
   ]
  },
  {
   "cell_type": "markdown",
   "metadata": {},
   "source": [
    "Данные строки являются взаимосвязанными и их удаление никак не повлияет на наш анализ"
   ]
  },
  {
   "cell_type": "code",
   "execution_count": 10,
   "metadata": {},
   "outputs": [],
   "source": [
    "df.dropna(subset=['genre', 'name'], inplace=True)"
   ]
  },
  {
   "cell_type": "markdown",
   "metadata": {},
   "source": [
    "### столбец year_of_release"
   ]
  },
  {
   "cell_type": "code",
   "execution_count": 11,
   "metadata": {},
   "outputs": [
    {
     "data": {
      "text/plain": [
       "array([2006., 1985., 2008., 2009., 1996., 1989., 1984., 2005., 1999.,\n",
       "       2007., 2010., 2013., 2004., 1990., 1988., 2002., 2001., 2011.,\n",
       "       1998., 2015., 2012., 2014., 1992., 1997., 1993., 1994., 1982.,\n",
       "       2016., 2003., 1986., 2000.,   nan, 1995., 1991., 1981., 1987.,\n",
       "       1980., 1983.])"
      ]
     },
     "execution_count": 11,
     "metadata": {},
     "output_type": "execute_result"
    }
   ],
   "source": [
    "df['year_of_release'].unique()"
   ]
  },
  {
   "cell_type": "code",
   "execution_count": 12,
   "metadata": {
    "scrolled": true
   },
   "outputs": [
    {
     "data": {
      "text/html": [
       "<div>\n",
       "<style scoped>\n",
       "    .dataframe tbody tr th:only-of-type {\n",
       "        vertical-align: middle;\n",
       "    }\n",
       "\n",
       "    .dataframe tbody tr th {\n",
       "        vertical-align: top;\n",
       "    }\n",
       "\n",
       "    .dataframe thead th {\n",
       "        text-align: right;\n",
       "    }\n",
       "</style>\n",
       "<table border=\"1\" class=\"dataframe\">\n",
       "  <thead>\n",
       "    <tr style=\"text-align: right;\">\n",
       "      <th></th>\n",
       "      <th>name</th>\n",
       "      <th>platform</th>\n",
       "      <th>year_of_release</th>\n",
       "      <th>genre</th>\n",
       "      <th>na_sales</th>\n",
       "      <th>eu_sales</th>\n",
       "      <th>jp_sales</th>\n",
       "      <th>other_sales</th>\n",
       "      <th>critic_score</th>\n",
       "      <th>user_score</th>\n",
       "      <th>rating</th>\n",
       "    </tr>\n",
       "  </thead>\n",
       "  <tbody>\n",
       "    <tr>\n",
       "      <th>183</th>\n",
       "      <td>Madden NFL 2004</td>\n",
       "      <td>PS2</td>\n",
       "      <td>NaN</td>\n",
       "      <td>Sports</td>\n",
       "      <td>4.26</td>\n",
       "      <td>0.26</td>\n",
       "      <td>0.01</td>\n",
       "      <td>0.71</td>\n",
       "      <td>94.0</td>\n",
       "      <td>8.5</td>\n",
       "      <td>E</td>\n",
       "    </tr>\n",
       "    <tr>\n",
       "      <th>377</th>\n",
       "      <td>FIFA Soccer 2004</td>\n",
       "      <td>PS2</td>\n",
       "      <td>NaN</td>\n",
       "      <td>Sports</td>\n",
       "      <td>0.59</td>\n",
       "      <td>2.36</td>\n",
       "      <td>0.04</td>\n",
       "      <td>0.51</td>\n",
       "      <td>84.0</td>\n",
       "      <td>6.4</td>\n",
       "      <td>E</td>\n",
       "    </tr>\n",
       "    <tr>\n",
       "      <th>456</th>\n",
       "      <td>LEGO Batman: The Videogame</td>\n",
       "      <td>Wii</td>\n",
       "      <td>NaN</td>\n",
       "      <td>Action</td>\n",
       "      <td>1.80</td>\n",
       "      <td>0.97</td>\n",
       "      <td>0.00</td>\n",
       "      <td>0.29</td>\n",
       "      <td>74.0</td>\n",
       "      <td>7.9</td>\n",
       "      <td>E10+</td>\n",
       "    </tr>\n",
       "    <tr>\n",
       "      <th>475</th>\n",
       "      <td>wwe Smackdown vs. Raw 2006</td>\n",
       "      <td>PS2</td>\n",
       "      <td>NaN</td>\n",
       "      <td>Fighting</td>\n",
       "      <td>1.57</td>\n",
       "      <td>1.02</td>\n",
       "      <td>0.00</td>\n",
       "      <td>0.41</td>\n",
       "      <td>NaN</td>\n",
       "      <td>NaN</td>\n",
       "      <td>NaN</td>\n",
       "    </tr>\n",
       "    <tr>\n",
       "      <th>609</th>\n",
       "      <td>Space Invaders</td>\n",
       "      <td>2600</td>\n",
       "      <td>NaN</td>\n",
       "      <td>Shooter</td>\n",
       "      <td>2.36</td>\n",
       "      <td>0.14</td>\n",
       "      <td>0.00</td>\n",
       "      <td>0.03</td>\n",
       "      <td>NaN</td>\n",
       "      <td>NaN</td>\n",
       "      <td>NaN</td>\n",
       "    </tr>\n",
       "    <tr>\n",
       "      <th>...</th>\n",
       "      <td>...</td>\n",
       "      <td>...</td>\n",
       "      <td>...</td>\n",
       "      <td>...</td>\n",
       "      <td>...</td>\n",
       "      <td>...</td>\n",
       "      <td>...</td>\n",
       "      <td>...</td>\n",
       "      <td>...</td>\n",
       "      <td>...</td>\n",
       "      <td>...</td>\n",
       "    </tr>\n",
       "    <tr>\n",
       "      <th>16373</th>\n",
       "      <td>PDC World Championship Darts 2008</td>\n",
       "      <td>PSP</td>\n",
       "      <td>NaN</td>\n",
       "      <td>Sports</td>\n",
       "      <td>0.01</td>\n",
       "      <td>0.00</td>\n",
       "      <td>0.00</td>\n",
       "      <td>0.00</td>\n",
       "      <td>43.0</td>\n",
       "      <td>tbd</td>\n",
       "      <td>E10+</td>\n",
       "    </tr>\n",
       "    <tr>\n",
       "      <th>16405</th>\n",
       "      <td>Freaky Flyers</td>\n",
       "      <td>GC</td>\n",
       "      <td>NaN</td>\n",
       "      <td>Racing</td>\n",
       "      <td>0.01</td>\n",
       "      <td>0.00</td>\n",
       "      <td>0.00</td>\n",
       "      <td>0.00</td>\n",
       "      <td>69.0</td>\n",
       "      <td>6.5</td>\n",
       "      <td>T</td>\n",
       "    </tr>\n",
       "    <tr>\n",
       "      <th>16448</th>\n",
       "      <td>Inversion</td>\n",
       "      <td>PC</td>\n",
       "      <td>NaN</td>\n",
       "      <td>Shooter</td>\n",
       "      <td>0.01</td>\n",
       "      <td>0.00</td>\n",
       "      <td>0.00</td>\n",
       "      <td>0.00</td>\n",
       "      <td>59.0</td>\n",
       "      <td>6.7</td>\n",
       "      <td>M</td>\n",
       "    </tr>\n",
       "    <tr>\n",
       "      <th>16458</th>\n",
       "      <td>Hakuouki: Shinsengumi Kitan</td>\n",
       "      <td>PS3</td>\n",
       "      <td>NaN</td>\n",
       "      <td>Adventure</td>\n",
       "      <td>0.01</td>\n",
       "      <td>0.00</td>\n",
       "      <td>0.00</td>\n",
       "      <td>0.00</td>\n",
       "      <td>NaN</td>\n",
       "      <td>NaN</td>\n",
       "      <td>NaN</td>\n",
       "    </tr>\n",
       "    <tr>\n",
       "      <th>16522</th>\n",
       "      <td>Virtua Quest</td>\n",
       "      <td>GC</td>\n",
       "      <td>NaN</td>\n",
       "      <td>Role-Playing</td>\n",
       "      <td>0.01</td>\n",
       "      <td>0.00</td>\n",
       "      <td>0.00</td>\n",
       "      <td>0.00</td>\n",
       "      <td>55.0</td>\n",
       "      <td>5.5</td>\n",
       "      <td>T</td>\n",
       "    </tr>\n",
       "  </tbody>\n",
       "</table>\n",
       "<p>269 rows × 11 columns</p>\n",
       "</div>"
      ],
      "text/plain": [
       "                                    name platform  year_of_release  \\\n",
       "183                      Madden NFL 2004      PS2              NaN   \n",
       "377                     FIFA Soccer 2004      PS2              NaN   \n",
       "456           LEGO Batman: The Videogame      Wii              NaN   \n",
       "475           wwe Smackdown vs. Raw 2006      PS2              NaN   \n",
       "609                       Space Invaders     2600              NaN   \n",
       "...                                  ...      ...              ...   \n",
       "16373  PDC World Championship Darts 2008      PSP              NaN   \n",
       "16405                      Freaky Flyers       GC              NaN   \n",
       "16448                          Inversion       PC              NaN   \n",
       "16458        Hakuouki: Shinsengumi Kitan      PS3              NaN   \n",
       "16522                       Virtua Quest       GC              NaN   \n",
       "\n",
       "              genre  na_sales  eu_sales  jp_sales  other_sales  critic_score  \\\n",
       "183          Sports      4.26      0.26      0.01         0.71          94.0   \n",
       "377          Sports      0.59      2.36      0.04         0.51          84.0   \n",
       "456          Action      1.80      0.97      0.00         0.29          74.0   \n",
       "475        Fighting      1.57      1.02      0.00         0.41           NaN   \n",
       "609         Shooter      2.36      0.14      0.00         0.03           NaN   \n",
       "...             ...       ...       ...       ...          ...           ...   \n",
       "16373        Sports      0.01      0.00      0.00         0.00          43.0   \n",
       "16405        Racing      0.01      0.00      0.00         0.00          69.0   \n",
       "16448       Shooter      0.01      0.00      0.00         0.00          59.0   \n",
       "16458     Adventure      0.01      0.00      0.00         0.00           NaN   \n",
       "16522  Role-Playing      0.01      0.00      0.00         0.00          55.0   \n",
       "\n",
       "      user_score rating  \n",
       "183          8.5      E  \n",
       "377          6.4      E  \n",
       "456          7.9   E10+  \n",
       "475          NaN    NaN  \n",
       "609          NaN    NaN  \n",
       "...          ...    ...  \n",
       "16373        tbd   E10+  \n",
       "16405        6.5      T  \n",
       "16448        6.7      M  \n",
       "16458        NaN    NaN  \n",
       "16522        5.5      T  \n",
       "\n",
       "[269 rows x 11 columns]"
      ]
     },
     "execution_count": 12,
     "metadata": {},
     "output_type": "execute_result"
    }
   ],
   "source": [
    "df[df['year_of_release'].isna()]"
   ]
  },
  {
   "cell_type": "code",
   "execution_count": 13,
   "metadata": {},
   "outputs": [
    {
     "name": "stdout",
     "output_type": "stream",
     "text": [
      "Количество пропущенных значений в столбце year_of_release\n",
      "1.61 %\n"
     ]
    }
   ],
   "source": [
    "print('Количество пропущенных значений в столбце year_of_release')\n",
    "print((df['year_of_release'].isnull().sum() / len(df['name'])*100).round(3), ('%'))\n",
    "df = df.dropna(subset=['year_of_release'])"
   ]
  },
  {
   "cell_type": "markdown",
   "metadata": {},
   "source": [
    "Так как значение не велико, можно данные строки удалить"
   ]
  },
  {
   "cell_type": "markdown",
   "metadata": {},
   "source": [
    "### столбец user_score"
   ]
  },
  {
   "cell_type": "code",
   "execution_count": 14,
   "metadata": {},
   "outputs": [
    {
     "data": {
      "text/plain": [
       "array(['8', nan, '8.3', '8.5', '6.6', '8.4', '8.6', '7.7', '6.3', '7.4',\n",
       "       '8.2', '9', '7.9', '8.1', '8.7', '7.1', '3.4', '5.3', '4.8', '3.2',\n",
       "       '8.9', '6.4', '7.8', '7.5', '2.6', '7.2', '9.2', '7', '7.3', '4.3',\n",
       "       '7.6', '5.7', '5', '9.1', '6.5', 'tbd', '8.8', '6.9', '9.4', '6.8',\n",
       "       '6.1', '6.7', '5.4', '4', '4.9', '4.5', '9.3', '6.2', '4.2', '6',\n",
       "       '3.7', '4.1', '5.8', '5.6', '5.5', '4.4', '4.6', '5.9', '3.9',\n",
       "       '3.1', '2.9', '5.2', '3.3', '4.7', '5.1', '3.5', '2.5', '1.9', '3',\n",
       "       '2.7', '2.2', '2', '9.5', '2.1', '3.6', '2.8', '1.8', '3.8', '0',\n",
       "       '1.6', '9.6', '2.4', '1.7', '1.1', '0.3', '1.5', '0.7', '1.2',\n",
       "       '2.3', '0.5', '1.3', '0.2', '0.6', '1.4', '0.9', '1', '9.7'],\n",
       "      dtype=object)"
      ]
     },
     "execution_count": 14,
     "metadata": {},
     "output_type": "execute_result"
    }
   ],
   "source": [
    "df['user_score'].unique()"
   ]
  },
  {
   "cell_type": "markdown",
   "metadata": {},
   "source": [
    "tbd - Будет определено"
   ]
  },
  {
   "cell_type": "code",
   "execution_count": 15,
   "metadata": {
    "scrolled": false
   },
   "outputs": [],
   "source": [
    "# Заменим пропущенные значения и tbd на 0\n",
    "df.loc[df['user_score'] == 'tbd', 'user_score'] = 0\n",
    "df['user_score'].fillna('0' , inplace = True)"
   ]
  },
  {
   "cell_type": "markdown",
   "metadata": {},
   "source": [
    "### столбцы critic_score и rating"
   ]
  },
  {
   "cell_type": "code",
   "execution_count": 16,
   "metadata": {
    "scrolled": true
   },
   "outputs": [
    {
     "data": {
      "text/plain": [
       "array([76., nan, 82., 80., 89., 58., 87., 91., 61., 97., 95., 77., 88.,\n",
       "       83., 94., 93., 85., 86., 98., 96., 90., 84., 73., 74., 78., 92.,\n",
       "       71., 72., 68., 62., 49., 67., 81., 66., 56., 79., 70., 59., 64.,\n",
       "       75., 60., 63., 69., 50., 25., 42., 44., 55., 48., 57., 29., 47.,\n",
       "       65., 54., 20., 53., 37., 38., 33., 52., 30., 32., 43., 45., 51.,\n",
       "       40., 46., 39., 34., 41., 36., 31., 27., 35., 26., 19., 28., 23.,\n",
       "       24., 21., 17., 13.])"
      ]
     },
     "execution_count": 16,
     "metadata": {},
     "output_type": "execute_result"
    }
   ],
   "source": [
    "df['critic_score'].unique()"
   ]
  },
  {
   "cell_type": "code",
   "execution_count": 17,
   "metadata": {},
   "outputs": [
    {
     "data": {
      "text/plain": [
       "array(['E', nan, 'M', 'T', 'E10+', 'K-A', 'AO', 'EC', 'RP'], dtype=object)"
      ]
     },
     "execution_count": 17,
     "metadata": {},
     "output_type": "execute_result"
    }
   ],
   "source": [
    "df['rating'].unique()"
   ]
  },
  {
   "cell_type": "markdown",
   "metadata": {},
   "source": [
    "Так как столбец рейтинг ESRB категориальный, то лучшей заменой будет простановка константы - tbd\n",
    "\n",
    "Столбец critic_store содержит оценку критиков в стобалльной шкале оценок, если пропуск то заменить лучше на 0, что будет означать, что критики нет для данной игры."
   ]
  },
  {
   "cell_type": "code",
   "execution_count": 18,
   "metadata": {},
   "outputs": [],
   "source": [
    "df['rating'].fillna('tbd', inplace=True)\n",
    "df['critic_score'].fillna(0, inplace=True)"
   ]
  },
  {
   "cell_type": "code",
   "execution_count": 19,
   "metadata": {
    "scrolled": false
   },
   "outputs": [
    {
     "data": {
      "text/plain": [
       "name               0\n",
       "platform           0\n",
       "year_of_release    0\n",
       "genre              0\n",
       "na_sales           0\n",
       "eu_sales           0\n",
       "jp_sales           0\n",
       "other_sales        0\n",
       "critic_score       0\n",
       "user_score         0\n",
       "rating             0\n",
       "dtype: int64"
      ]
     },
     "execution_count": 19,
     "metadata": {},
     "output_type": "execute_result"
    }
   ],
   "source": [
    "df.isna().sum()"
   ]
  },
  {
   "cell_type": "markdown",
   "metadata": {},
   "source": [
    "Пропущенные значения были успешно обработаны :)"
   ]
  },
  {
   "cell_type": "markdown",
   "metadata": {},
   "source": [
    "# Проверка на дубликаты"
   ]
  },
  {
   "cell_type": "code",
   "execution_count": 20,
   "metadata": {},
   "outputs": [
    {
     "data": {
      "text/plain": [
       "0"
      ]
     },
     "execution_count": 20,
     "metadata": {},
     "output_type": "execute_result"
    }
   ],
   "source": [
    "df.duplicated().sum()"
   ]
  },
  {
   "cell_type": "code",
   "execution_count": 21,
   "metadata": {},
   "outputs": [
    {
     "data": {
      "text/html": [
       "<div>\n",
       "<style scoped>\n",
       "    .dataframe tbody tr th:only-of-type {\n",
       "        vertical-align: middle;\n",
       "    }\n",
       "\n",
       "    .dataframe tbody tr th {\n",
       "        vertical-align: top;\n",
       "    }\n",
       "\n",
       "    .dataframe thead th {\n",
       "        text-align: right;\n",
       "    }\n",
       "</style>\n",
       "<table border=\"1\" class=\"dataframe\">\n",
       "  <thead>\n",
       "    <tr style=\"text-align: right;\">\n",
       "      <th></th>\n",
       "      <th>name</th>\n",
       "      <th>platform</th>\n",
       "      <th>year_of_release</th>\n",
       "      <th>genre</th>\n",
       "      <th>na_sales</th>\n",
       "      <th>eu_sales</th>\n",
       "      <th>jp_sales</th>\n",
       "      <th>other_sales</th>\n",
       "      <th>critic_score</th>\n",
       "      <th>user_score</th>\n",
       "      <th>rating</th>\n",
       "    </tr>\n",
       "  </thead>\n",
       "  <tbody>\n",
       "    <tr>\n",
       "      <th>604</th>\n",
       "      <td>Madden NFL 13</td>\n",
       "      <td>PS3</td>\n",
       "      <td>2012.0</td>\n",
       "      <td>Sports</td>\n",
       "      <td>2.11</td>\n",
       "      <td>0.22</td>\n",
       "      <td>0.0</td>\n",
       "      <td>0.23</td>\n",
       "      <td>83.0</td>\n",
       "      <td>5.5</td>\n",
       "      <td>E</td>\n",
       "    </tr>\n",
       "    <tr>\n",
       "      <th>16230</th>\n",
       "      <td>Madden NFL 13</td>\n",
       "      <td>PS3</td>\n",
       "      <td>2012.0</td>\n",
       "      <td>Sports</td>\n",
       "      <td>0.00</td>\n",
       "      <td>0.01</td>\n",
       "      <td>0.0</td>\n",
       "      <td>0.00</td>\n",
       "      <td>83.0</td>\n",
       "      <td>5.5</td>\n",
       "      <td>E</td>\n",
       "    </tr>\n",
       "  </tbody>\n",
       "</table>\n",
       "</div>"
      ],
      "text/plain": [
       "                name platform  year_of_release   genre  na_sales  eu_sales  \\\n",
       "604    Madden NFL 13      PS3           2012.0  Sports      2.11      0.22   \n",
       "16230  Madden NFL 13      PS3           2012.0  Sports      0.00      0.01   \n",
       "\n",
       "       jp_sales  other_sales  critic_score user_score rating  \n",
       "604         0.0         0.23          83.0        5.5      E  \n",
       "16230       0.0         0.00          83.0        5.5      E  "
      ]
     },
     "execution_count": 21,
     "metadata": {},
     "output_type": "execute_result"
    }
   ],
   "source": [
    "duplicates = df[df.duplicated(subset=['name', 'platform', 'year_of_release'], keep=False)]\n",
    "duplicates\n"
   ]
  },
  {
   "cell_type": "code",
   "execution_count": 22,
   "metadata": {},
   "outputs": [],
   "source": [
    "df.drop_duplicates(subset=['name', 'platform', 'year_of_release'], keep='first', inplace=True)\n"
   ]
  },
  {
   "cell_type": "markdown",
   "metadata": {},
   "source": [
    "# Суммарные продажи во всех регионах"
   ]
  },
  {
   "cell_type": "code",
   "execution_count": 23,
   "metadata": {},
   "outputs": [
    {
     "data": {
      "text/html": [
       "<div>\n",
       "<style scoped>\n",
       "    .dataframe tbody tr th:only-of-type {\n",
       "        vertical-align: middle;\n",
       "    }\n",
       "\n",
       "    .dataframe tbody tr th {\n",
       "        vertical-align: top;\n",
       "    }\n",
       "\n",
       "    .dataframe thead th {\n",
       "        text-align: right;\n",
       "    }\n",
       "</style>\n",
       "<table border=\"1\" class=\"dataframe\">\n",
       "  <thead>\n",
       "    <tr style=\"text-align: right;\">\n",
       "      <th></th>\n",
       "      <th>name</th>\n",
       "      <th>platform</th>\n",
       "      <th>year_of_release</th>\n",
       "      <th>genre</th>\n",
       "      <th>na_sales</th>\n",
       "      <th>eu_sales</th>\n",
       "      <th>jp_sales</th>\n",
       "      <th>other_sales</th>\n",
       "      <th>critic_score</th>\n",
       "      <th>user_score</th>\n",
       "      <th>rating</th>\n",
       "      <th>sum_sales</th>\n",
       "    </tr>\n",
       "  </thead>\n",
       "  <tbody>\n",
       "    <tr>\n",
       "      <th>0</th>\n",
       "      <td>Wii Sports</td>\n",
       "      <td>Wii</td>\n",
       "      <td>2006.0</td>\n",
       "      <td>Sports</td>\n",
       "      <td>41.36</td>\n",
       "      <td>28.96</td>\n",
       "      <td>3.77</td>\n",
       "      <td>8.45</td>\n",
       "      <td>76.0</td>\n",
       "      <td>8</td>\n",
       "      <td>E</td>\n",
       "      <td>82.54</td>\n",
       "    </tr>\n",
       "    <tr>\n",
       "      <th>1</th>\n",
       "      <td>Super Mario Bros.</td>\n",
       "      <td>NES</td>\n",
       "      <td>1985.0</td>\n",
       "      <td>Platform</td>\n",
       "      <td>29.08</td>\n",
       "      <td>3.58</td>\n",
       "      <td>6.81</td>\n",
       "      <td>0.77</td>\n",
       "      <td>0.0</td>\n",
       "      <td>0</td>\n",
       "      <td>tbd</td>\n",
       "      <td>40.24</td>\n",
       "    </tr>\n",
       "    <tr>\n",
       "      <th>2</th>\n",
       "      <td>Mario Kart Wii</td>\n",
       "      <td>Wii</td>\n",
       "      <td>2008.0</td>\n",
       "      <td>Racing</td>\n",
       "      <td>15.68</td>\n",
       "      <td>12.76</td>\n",
       "      <td>3.79</td>\n",
       "      <td>3.29</td>\n",
       "      <td>82.0</td>\n",
       "      <td>8.3</td>\n",
       "      <td>E</td>\n",
       "      <td>35.52</td>\n",
       "    </tr>\n",
       "    <tr>\n",
       "      <th>3</th>\n",
       "      <td>Wii Sports Resort</td>\n",
       "      <td>Wii</td>\n",
       "      <td>2009.0</td>\n",
       "      <td>Sports</td>\n",
       "      <td>15.61</td>\n",
       "      <td>10.93</td>\n",
       "      <td>3.28</td>\n",
       "      <td>2.95</td>\n",
       "      <td>80.0</td>\n",
       "      <td>8</td>\n",
       "      <td>E</td>\n",
       "      <td>32.77</td>\n",
       "    </tr>\n",
       "    <tr>\n",
       "      <th>4</th>\n",
       "      <td>Pokemon Red/Pokemon Blue</td>\n",
       "      <td>GB</td>\n",
       "      <td>1996.0</td>\n",
       "      <td>Role-Playing</td>\n",
       "      <td>11.27</td>\n",
       "      <td>8.89</td>\n",
       "      <td>10.22</td>\n",
       "      <td>1.00</td>\n",
       "      <td>0.0</td>\n",
       "      <td>0</td>\n",
       "      <td>tbd</td>\n",
       "      <td>31.38</td>\n",
       "    </tr>\n",
       "  </tbody>\n",
       "</table>\n",
       "</div>"
      ],
      "text/plain": [
       "                       name platform  year_of_release         genre  na_sales  \\\n",
       "0                Wii Sports      Wii           2006.0        Sports     41.36   \n",
       "1         Super Mario Bros.      NES           1985.0      Platform     29.08   \n",
       "2            Mario Kart Wii      Wii           2008.0        Racing     15.68   \n",
       "3         Wii Sports Resort      Wii           2009.0        Sports     15.61   \n",
       "4  Pokemon Red/Pokemon Blue       GB           1996.0  Role-Playing     11.27   \n",
       "\n",
       "   eu_sales  jp_sales  other_sales  critic_score user_score rating  sum_sales  \n",
       "0     28.96      3.77         8.45          76.0          8      E      82.54  \n",
       "1      3.58      6.81         0.77           0.0          0    tbd      40.24  \n",
       "2     12.76      3.79         3.29          82.0        8.3      E      35.52  \n",
       "3     10.93      3.28         2.95          80.0          8      E      32.77  \n",
       "4      8.89     10.22         1.00           0.0          0    tbd      31.38  "
      ]
     },
     "execution_count": 23,
     "metadata": {},
     "output_type": "execute_result"
    }
   ],
   "source": [
    "df['sum_sales'] = df[[\"na_sales\" ,\"eu_sales\", \"jp_sales\", \"other_sales\"]].sum(axis = 1)\n",
    "df.head()"
   ]
  },
  {
   "cell_type": "markdown",
   "metadata": {},
   "source": [
    "# Приведем столбцы к правильному типу"
   ]
  },
  {
   "cell_type": "code",
   "execution_count": 24,
   "metadata": {},
   "outputs": [],
   "source": [
    "df['year_of_release'] = (df['year_of_release']).astype('int')\n",
    "df['critic_score'] = (df['critic_score']).astype('int')\n",
    "df['user_score'] = (df['user_score']).astype('float')"
   ]
  },
  {
   "cell_type": "code",
   "execution_count": 25,
   "metadata": {
    "scrolled": true
   },
   "outputs": [
    {
     "name": "stdout",
     "output_type": "stream",
     "text": [
      "<class 'pandas.core.frame.DataFrame'>\n",
      "Int64Index: 16443 entries, 0 to 16714\n",
      "Data columns (total 12 columns):\n",
      " #   Column           Non-Null Count  Dtype  \n",
      "---  ------           --------------  -----  \n",
      " 0   name             16443 non-null  object \n",
      " 1   platform         16443 non-null  object \n",
      " 2   year_of_release  16443 non-null  int64  \n",
      " 3   genre            16443 non-null  object \n",
      " 4   na_sales         16443 non-null  float64\n",
      " 5   eu_sales         16443 non-null  float64\n",
      " 6   jp_sales         16443 non-null  float64\n",
      " 7   other_sales      16443 non-null  float64\n",
      " 8   critic_score     16443 non-null  int64  \n",
      " 9   user_score       16443 non-null  float64\n",
      " 10  rating           16443 non-null  object \n",
      " 11  sum_sales        16443 non-null  float64\n",
      "dtypes: float64(6), int64(2), object(4)\n",
      "memory usage: 1.6+ MB\n"
     ]
    }
   ],
   "source": [
    "df.info()"
   ]
  },
  {
   "cell_type": "code",
   "execution_count": 26,
   "metadata": {},
   "outputs": [
    {
     "data": {
      "text/html": [
       "<div>\n",
       "<style scoped>\n",
       "    .dataframe tbody tr th:only-of-type {\n",
       "        vertical-align: middle;\n",
       "    }\n",
       "\n",
       "    .dataframe tbody tr th {\n",
       "        vertical-align: top;\n",
       "    }\n",
       "\n",
       "    .dataframe thead th {\n",
       "        text-align: right;\n",
       "    }\n",
       "</style>\n",
       "<table border=\"1\" class=\"dataframe\">\n",
       "  <thead>\n",
       "    <tr style=\"text-align: right;\">\n",
       "      <th></th>\n",
       "      <th>name</th>\n",
       "      <th>platform</th>\n",
       "      <th>year_of_release</th>\n",
       "      <th>genre</th>\n",
       "      <th>na_sales</th>\n",
       "      <th>eu_sales</th>\n",
       "      <th>jp_sales</th>\n",
       "      <th>other_sales</th>\n",
       "      <th>critic_score</th>\n",
       "      <th>user_score</th>\n",
       "      <th>rating</th>\n",
       "      <th>sum_sales</th>\n",
       "    </tr>\n",
       "  </thead>\n",
       "  <tbody>\n",
       "    <tr>\n",
       "      <th>0</th>\n",
       "      <td>Wii Sports</td>\n",
       "      <td>Wii</td>\n",
       "      <td>2006</td>\n",
       "      <td>Sports</td>\n",
       "      <td>41.36</td>\n",
       "      <td>28.96</td>\n",
       "      <td>3.77</td>\n",
       "      <td>8.45</td>\n",
       "      <td>76</td>\n",
       "      <td>8.0</td>\n",
       "      <td>E</td>\n",
       "      <td>82.54</td>\n",
       "    </tr>\n",
       "    <tr>\n",
       "      <th>1</th>\n",
       "      <td>Super Mario Bros.</td>\n",
       "      <td>NES</td>\n",
       "      <td>1985</td>\n",
       "      <td>Platform</td>\n",
       "      <td>29.08</td>\n",
       "      <td>3.58</td>\n",
       "      <td>6.81</td>\n",
       "      <td>0.77</td>\n",
       "      <td>0</td>\n",
       "      <td>0.0</td>\n",
       "      <td>tbd</td>\n",
       "      <td>40.24</td>\n",
       "    </tr>\n",
       "    <tr>\n",
       "      <th>2</th>\n",
       "      <td>Mario Kart Wii</td>\n",
       "      <td>Wii</td>\n",
       "      <td>2008</td>\n",
       "      <td>Racing</td>\n",
       "      <td>15.68</td>\n",
       "      <td>12.76</td>\n",
       "      <td>3.79</td>\n",
       "      <td>3.29</td>\n",
       "      <td>82</td>\n",
       "      <td>8.3</td>\n",
       "      <td>E</td>\n",
       "      <td>35.52</td>\n",
       "    </tr>\n",
       "    <tr>\n",
       "      <th>3</th>\n",
       "      <td>Wii Sports Resort</td>\n",
       "      <td>Wii</td>\n",
       "      <td>2009</td>\n",
       "      <td>Sports</td>\n",
       "      <td>15.61</td>\n",
       "      <td>10.93</td>\n",
       "      <td>3.28</td>\n",
       "      <td>2.95</td>\n",
       "      <td>80</td>\n",
       "      <td>8.0</td>\n",
       "      <td>E</td>\n",
       "      <td>32.77</td>\n",
       "    </tr>\n",
       "    <tr>\n",
       "      <th>4</th>\n",
       "      <td>Pokemon Red/Pokemon Blue</td>\n",
       "      <td>GB</td>\n",
       "      <td>1996</td>\n",
       "      <td>Role-Playing</td>\n",
       "      <td>11.27</td>\n",
       "      <td>8.89</td>\n",
       "      <td>10.22</td>\n",
       "      <td>1.00</td>\n",
       "      <td>0</td>\n",
       "      <td>0.0</td>\n",
       "      <td>tbd</td>\n",
       "      <td>31.38</td>\n",
       "    </tr>\n",
       "  </tbody>\n",
       "</table>\n",
       "</div>"
      ],
      "text/plain": [
       "                       name platform  year_of_release         genre  na_sales  \\\n",
       "0                Wii Sports      Wii             2006        Sports     41.36   \n",
       "1         Super Mario Bros.      NES             1985      Platform     29.08   \n",
       "2            Mario Kart Wii      Wii             2008        Racing     15.68   \n",
       "3         Wii Sports Resort      Wii             2009        Sports     15.61   \n",
       "4  Pokemon Red/Pokemon Blue       GB             1996  Role-Playing     11.27   \n",
       "\n",
       "   eu_sales  jp_sales  other_sales  critic_score  user_score rating  sum_sales  \n",
       "0     28.96      3.77         8.45            76         8.0      E      82.54  \n",
       "1      3.58      6.81         0.77             0         0.0    tbd      40.24  \n",
       "2     12.76      3.79         3.29            82         8.3      E      35.52  \n",
       "3     10.93      3.28         2.95            80         8.0      E      32.77  \n",
       "4      8.89     10.22         1.00             0         0.0    tbd      31.38  "
      ]
     },
     "execution_count": 26,
     "metadata": {},
     "output_type": "execute_result"
    }
   ],
   "source": [
    "df.head()"
   ]
  },
  {
   "cell_type": "markdown",
   "metadata": {},
   "source": [
    "# Шаг 3.1 Посмотрите, сколько игр выпускалось в разные годы. Важны ли данные за все периоды?"
   ]
  },
  {
   "cell_type": "code",
   "execution_count": 27,
   "metadata": {},
   "outputs": [
    {
     "data": {
      "text/plain": [
       "1980       9\n",
       "1981      46\n",
       "1982      36\n",
       "1983      17\n",
       "1984      14\n",
       "1985      14\n",
       "1986      21\n",
       "1987      16\n",
       "1988      15\n",
       "1989      17\n",
       "1990      16\n",
       "1991      41\n",
       "1992      43\n",
       "1993      60\n",
       "1994     121\n",
       "1995     219\n",
       "1996     263\n",
       "1997     289\n",
       "1998     379\n",
       "1999     338\n",
       "2000     350\n",
       "2001     482\n",
       "2002     829\n",
       "2003     775\n",
       "2004     762\n",
       "2005     939\n",
       "2006    1006\n",
       "2007    1197\n",
       "2008    1427\n",
       "2009    1426\n",
       "2010    1255\n",
       "2011    1136\n",
       "2012     652\n",
       "2013     544\n",
       "2014     581\n",
       "2015     606\n",
       "2016     502\n",
       "Name: year_of_release, dtype: int64"
      ]
     },
     "execution_count": 27,
     "metadata": {},
     "output_type": "execute_result"
    }
   ],
   "source": [
    "\n",
    "games_per_year = df['year_of_release'].value_counts().sort_index()\n",
    "games_per_year\n"
   ]
  },
  {
   "cell_type": "markdown",
   "metadata": {},
   "source": [
    "С 1980 года количество выпускаемых игр постепенно росло, начиная с десятков игр и достигнув пика в 2008–2009 годах (свыше 1400 игр ежегодно).\n",
    "После 2010 года количество игр снижается, что может быть связано с изменениями в игровой индустрии, включая переход к цифровой дистрибуции и рост популярности мобильных игр.\n",
    "\n",
    "Данные за более ранние периоды могут быть менее полезными из-за небольшого объёма и изменений в индустрии. Для более значимых выводов целесообразно сосредоточиться на данных с 2000-х годов"
   ]
  },
  {
   "cell_type": "markdown",
   "metadata": {},
   "source": [
    "# Шаг 3.2 Посмотрите, как менялись продажи по платформам. Выберите платформы с наибольшими суммарными продажами и постройте распределение по годам. За какой характерный срок появляются новые и исчезают старые платформы?"
   ]
  },
  {
   "cell_type": "code",
   "execution_count": 28,
   "metadata": {},
   "outputs": [
    {
     "data": {
      "text/plain": [
       "['PS2', 'X360', 'PS3', 'Wii', 'DS']"
      ]
     },
     "execution_count": 28,
     "metadata": {},
     "output_type": "execute_result"
    }
   ],
   "source": [
    "\n",
    "sales_by_platform = df.groupby('platform')['sum_sales'].sum().sort_values(ascending=False)\n",
    "\n",
    "top_platforms = sales_by_platform.head(5).index.tolist()\n",
    "top_platforms\n"
   ]
  },
  {
   "cell_type": "markdown",
   "metadata": {},
   "source": [
    "Нашли топ-5 платформ по суммарным продажам"
   ]
  },
  {
   "cell_type": "code",
   "execution_count": 29,
   "metadata": {
    "scrolled": true
   },
   "outputs": [
    {
     "data": {
      "image/png": "[encoded data removed]",
      "text/plain": [
       "<Figure size 864x360 with 1 Axes>"
      ]
     },
     "metadata": {
      "needs_background": "light"
     },
     "output_type": "display_data"
    }
   ],
   "source": [
    "df_top = df[df['platform'].isin(top_platforms)]\n",
    "pivot = df_top.pivot_table(index='year_of_release', \n",
    "                           columns='platform', \n",
    "                           values='sum_sales', \n",
    "                           aggfunc='sum')\n",
    "plt.figure(figsize=(12, 5))\n",
    "for platform in pivot.columns:\n",
    "    plt.plot(pivot.index, pivot[platform], marker='o', label=platform)\n",
    "plt.xlabel('Год выпуска')\n",
    "plt.ylabel('Глобальные продажи')\n",
    "plt.title('Динамика продаж по годам для топ-5 платформ')\n",
    "plt.legend(title='Платформа')\n",
    "plt.grid(True)\n",
    "plt.show()"
   ]
  },
  {
   "cell_type": "markdown",
   "metadata": {},
   "source": [
    "Нашли динамику продаж по годам для топ 5 платформ"
   ]
  },
  {
   "cell_type": "code",
   "execution_count": 30,
   "metadata": {},
   "outputs": [
    {
     "data": {
      "text/html": [
       "<div>\n",
       "<style scoped>\n",
       "    .dataframe tbody tr th:only-of-type {\n",
       "        vertical-align: middle;\n",
       "    }\n",
       "\n",
       "    .dataframe tbody tr th {\n",
       "        vertical-align: top;\n",
       "    }\n",
       "\n",
       "    .dataframe thead tr th {\n",
       "        text-align: left;\n",
       "    }\n",
       "</style>\n",
       "<table border=\"1\" class=\"dataframe\">\n",
       "  <thead>\n",
       "    <tr>\n",
       "      <th></th>\n",
       "      <th>platform</th>\n",
       "      <th>min</th>\n",
       "      <th>max</th>\n",
       "      <th>lifelongness</th>\n",
       "    </tr>\n",
       "    <tr>\n",
       "      <th></th>\n",
       "      <th></th>\n",
       "      <th>year_of_release</th>\n",
       "      <th>year_of_release</th>\n",
       "      <th></th>\n",
       "    </tr>\n",
       "  </thead>\n",
       "  <tbody>\n",
       "    <tr>\n",
       "      <th>0</th>\n",
       "      <td>2600</td>\n",
       "      <td>1980</td>\n",
       "      <td>1989</td>\n",
       "      <td>10</td>\n",
       "    </tr>\n",
       "    <tr>\n",
       "      <th>1</th>\n",
       "      <td>3DO</td>\n",
       "      <td>1994</td>\n",
       "      <td>1995</td>\n",
       "      <td>2</td>\n",
       "    </tr>\n",
       "    <tr>\n",
       "      <th>2</th>\n",
       "      <td>3DS</td>\n",
       "      <td>2011</td>\n",
       "      <td>2016</td>\n",
       "      <td>6</td>\n",
       "    </tr>\n",
       "    <tr>\n",
       "      <th>3</th>\n",
       "      <td>DC</td>\n",
       "      <td>1998</td>\n",
       "      <td>2008</td>\n",
       "      <td>11</td>\n",
       "    </tr>\n",
       "    <tr>\n",
       "      <th>4</th>\n",
       "      <td>DS</td>\n",
       "      <td>1985</td>\n",
       "      <td>2013</td>\n",
       "      <td>29</td>\n",
       "    </tr>\n",
       "  </tbody>\n",
       "</table>\n",
       "</div>"
      ],
      "text/plain": [
       "  platform             min             max lifelongness\n",
       "           year_of_release year_of_release             \n",
       "0     2600            1980            1989           10\n",
       "1      3DO            1994            1995            2\n",
       "2      3DS            2011            2016            6\n",
       "3       DC            1998            2008           11\n",
       "4       DS            1985            2013           29"
      ]
     },
     "execution_count": 30,
     "metadata": {},
     "output_type": "execute_result"
    }
   ],
   "source": [
    "time_life = df.pivot_table(index='platform', values='year_of_release', aggfunc=['min', 'max']).reset_index()\n",
    "time_life['lifelongness'] = time_life['max'] - time_life['min']+1\n",
    "time_life.head()\n"
   ]
  },
  {
   "cell_type": "code",
   "execution_count": 31,
   "metadata": {},
   "outputs": [
    {
     "data": {
      "text/plain": [
       "7.0"
      ]
     },
     "execution_count": 31,
     "metadata": {},
     "output_type": "execute_result"
    }
   ],
   "source": [
    "time_life['lifelongness'].median()"
   ]
  },
  {
   "cell_type": "markdown",
   "metadata": {},
   "source": [
    "С помощью сводной таблицы мы рассчитали медианное значение продолжительности жизни платформы - 7\n"
   ]
  },
  {
   "cell_type": "markdown",
   "metadata": {},
   "source": [
    "Здесь стоит сослаться на жизненный цикл, что половина от него уходит на развитие платформы, а половина на спад. Поэтому стоит брать срок, за который платформы  от появления достигают пика. К тому же в 2013 появляются самые актуальные поколения платформ, поэтому брать период гораздо раньший не стоит"
   ]
  },
  {
   "cell_type": "markdown",
   "metadata": {},
   "source": [
    "# Шаг 3.3 Возьмите данные за соответствующий актуальный период. Актуальный период определите самостоятельно в результате исследования предыдущих вопросов. Основной фактор — эти данные помогут построить прогноз на 2017 год. Не учитывайте в работе данные за предыдущие годы.\n",
    "\n"
   ]
  },
  {
   "cell_type": "code",
   "execution_count": 32,
   "metadata": {},
   "outputs": [],
   "source": [
    "df_actual = df[df['year_of_release'] > 2011]"
   ]
  },
  {
   "cell_type": "code",
   "execution_count": 33,
   "metadata": {},
   "outputs": [
    {
     "data": {
      "image/png": "[encoded data removed]",
      "text/plain": [
       "<Figure size 864x432 with 1 Axes>"
      ]
     },
     "metadata": {
      "needs_background": "light"
     },
     "output_type": "display_data"
    }
   ],
   "source": [
    "pivot2 = (\n",
    "    df_actual.pivot_table(index = 'year_of_release',\n",
    "                          columns = 'platform',\n",
    "                          values = 'sum_sales',\n",
    "                          aggfunc='sum')\n",
    ")\n",
    "plt.figure(figsize=(12, 6))\n",
    "for platform in pivot2.columns:\n",
    "    plt.plot(pivot2.index, pivot2[platform], marker='o', label=platform)\n",
    "plt.xlabel('Год выпуска')\n",
    "plt.ylabel('Глобальные продажи')\n",
    "plt.title('Динамика продаж по годам для топ-5 платформ')\n",
    "plt.xticks(pivot2.index)\n",
    "plt.legend(title='Платформа')\n",
    "plt.grid(True)\n",
    "plt.show()"
   ]
  },
  {
   "cell_type": "markdown",
   "metadata": {},
   "source": [
    "Согласно графику, к 2016 году продажи консолей не растут – наблюдается спад на всех моделях. Наиболее перспективными остаются PS4 и XOne, хотя и у них также прослеживается снижение продаж"
   ]
  },
  {
   "cell_type": "markdown",
   "metadata": {},
   "source": [
    "# Шаг 3.4 Какие платформы лидируют по продажам, растут или падают? Выберите несколько потенциально прибыльных платформ."
   ]
  },
  {
   "cell_type": "code",
   "execution_count": 34,
   "metadata": {},
   "outputs": [
    {
     "data": {
      "image/png": "[encoded data removed]",
      "text/plain": [
       "<Figure size 1296x720 with 1 Axes>"
      ]
     },
     "metadata": {
      "needs_background": "light"
     },
     "output_type": "display_data"
    },
    {
     "name": "stdout",
     "output_type": "stream",
     "text": [
      "Медиана суммарных продаж по платформам: 0.18\n"
     ]
    }
   ],
   "source": [
    "\n",
    "plt.rcParams[\"figure.figsize\"] = (18, 10)\n",
    "df_actual.boxplot(column='sum_sales', by='platform', grid=True, vert=False)\n",
    "plt.xlabel('Платформа')\n",
    "plt.ylabel('Глобальные продажи')\n",
    "plt.title('Распределение глобальных продаж по платформам')\n",
    "plt.xlim(0, 2)\n",
    "plt.suptitle('') \n",
    "plt.show()\n",
    "platform_total_sales = df_actual.groupby('platform')['sum_sales'].median()\n",
    "\n",
    "overall_median = platform_total_sales.median()\n",
    "\n",
    "print(\"Медиана суммарных продаж по платформам:\", overall_median)\n",
    "\n"
   ]
  },
  {
   "cell_type": "markdown",
   "metadata": {},
   "source": [
    "Медианное значение по всей выборке составляет 0,18 но у большинства консолей данный показатель не совпадает с основным.\n"
   ]
  },
  {
   "cell_type": "markdown",
   "metadata": {},
   "source": [
    "# Шаг 3.5 Посмотрите, как влияют на продажи внутри одной популярной платформы отзывы пользователей и критиков. Постройте диаграмму рассеяния и посчитайте корреляцию между отзывами и продажами. Сформулируйте выводы. Соотнесите выводы с продажами игр на других платформах."
   ]
  },
  {
   "cell_type": "markdown",
   "metadata": {},
   "source": [
    "### PS4"
   ]
  },
  {
   "cell_type": "code",
   "execution_count": 52,
   "metadata": {
    "scrolled": false
   },
   "outputs": [
    {
     "data": {
      "image/png": "[encoded data removed]",
      "text/plain": [
       "<Figure size 1440x504 with 2 Axes>"
      ]
     },
     "metadata": {
      "needs_background": "light"
     },
     "output_type": "display_data"
    },
    {
     "name": "stdout",
     "output_type": "stream",
     "text": [
      "Корреляция между суммарными продажами и оценками критиков для PS4: 0.40589480145836687\n",
      "Корреляция между суммарными продажами и оценками пользователей для PS4: -0.03362497596528878\n"
     ]
    }
   ],
   "source": [
    "df_ps4 = df_actual.query('platform == \"PS4\" and user_score > 0 and critic_score > 0').dropna()\n",
    "\n",
    "fig_scatter, (scatter_ax, scatter_ax2) = plt.subplots(2, 1, figsize=(20, 7))\n",
    "\n",
    "scatter_ax.scatter(df_ps4['sum_sales'], df_ps4['critic_score'], color='red', alpha=0.7)\n",
    "scatter_ax.set_xlabel('Суммарные продажи (sum_sales)')\n",
    "scatter_ax.set_ylabel('Оценка критиков (critic_score)')\n",
    "scatter_ax.set_title('PS4: Оценки критиков vs Продажи')\n",
    "\n",
    "scatter_ax2.scatter(df_ps4['sum_sales'], df_ps4['user_score'], color='blue', alpha=0.7)\n",
    "scatter_ax2.set_xlabel('Суммарные продажи (sum_sales)')\n",
    "scatter_ax2.set_ylabel('Оценка пользователей (user_score)')\n",
    "scatter_ax2.set_title('PS4: Оценки пользователей vs Продажи')\n",
    "\n",
    "plt.tight_layout()\n",
    "plt.show()\n",
    "\n",
    "corr_critic = df_ps4['sum_sales'].corr(df_ps4['critic_score'])\n",
    "corr_user = df_ps4['sum_sales'].corr(df_ps4['user_score'])\n",
    "\n",
    "print(\"Корреляция между суммарными продажами и оценками критиков для PS4:\", corr_critic)\n",
    "print(\"Корреляция между суммарными продажами и оценками пользователей для PS4:\", corr_user)\n"
   ]
  },
  {
   "cell_type": "code",
   "execution_count": null,
   "metadata": {},
   "outputs": [],
   "source": []
  },
  {
   "cell_type": "code",
   "execution_count": 36,
   "metadata": {
    "scrolled": true
   },
   "outputs": [
    {
     "data": {
      "image/png": "[encoded data removed]",
      "text/plain": [
       "<Figure size 1440x504 with 2 Axes>"
      ]
     },
     "metadata": {
      "needs_background": "light"
     },
     "output_type": "display_data"
    },
    {
     "name": "stdout",
     "output_type": "stream",
     "text": [
      "Корреляция между суммарными продажами и оценками критиков для X360: 0.36057348885073365\n",
      "Корреляция между суммарными продажами и оценками пользователей для X360: -0.0020140394826897853\n"
     ]
    }
   ],
   "source": [
    "df_X360 = df_actual.query('platform == \"X360\" and user_score > 0 and critic_score > 0').dropna()\n",
    "\n",
    "fig_scatter, (scatter_ax, scatter_ax2) = plt.subplots(2, 1, figsize=(20, 7))\n",
    "\n",
    "scatter_ax.scatter(df_X360['sum_sales'], df_X360['critic_score'], color='red', alpha=0.7)\n",
    "scatter_ax.set_xlabel('Суммарные продажи (sum_sales)')\n",
    "scatter_ax.set_ylabel('Оценка критиков (critic_score)')\n",
    "scatter_ax.set_title('X360: Оценки критиков vs Продажи')\n",
    "\n",
    "scatter_ax2.scatter(df_X360['sum_sales'], df_X360['user_score'], color='blue', alpha=0.7)\n",
    "scatter_ax2.set_xlabel('Суммарные продажи (sum_sales)')\n",
    "scatter_ax2.set_ylabel('Оценка пользователей (user_score)')\n",
    "scatter_ax2.set_title('X360: Оценки пользователей vs Продажи')\n",
    "\n",
    "plt.tight_layout()\n",
    "plt.show()\n",
    "\n",
    "corr_critic = df_X360['sum_sales'].corr(df_X360['critic_score'])\n",
    "corr_user = df_X360['sum_sales'].corr(df_X360['user_score'])\n",
    "\n",
    "print(\"Корреляция между суммарными продажами и оценками критиков для X360:\", corr_critic)\n",
    "print(\"Корреляция между суммарными продажами и оценками пользователей для X360:\", corr_user)"
   ]
  },
  {
   "cell_type": "markdown",
   "metadata": {},
   "source": [
    "### XOne"
   ]
  },
  {
   "cell_type": "code",
   "execution_count": 37,
   "metadata": {},
   "outputs": [
    {
     "data": {
      "image/png": "[encoded data removed]",
      "text/plain": [
       "<Figure size 1440x504 with 2 Axes>"
      ]
     },
     "metadata": {
      "needs_background": "light"
     },
     "output_type": "display_data"
    },
    {
     "name": "stdout",
     "output_type": "stream",
     "text": [
      "Корреляция между суммарными продажами и оценками критиков для XOne: 0.4104220356129637\n",
      "Корреляция между суммарными продажами и оценками пользователей для XOne: -0.09400318326920852\n"
     ]
    }
   ],
   "source": [
    "df_XOne = df_actual.query('platform == \"XOne\" and user_score > 0 and critic_score > 0').dropna()\n",
    "\n",
    "fig_scatter, (scatter_ax, scatter_ax2) = plt.subplots(2, 1, figsize=(20, 7))\n",
    "\n",
    "scatter_ax.scatter(df_XOne['sum_sales'], df_XOne['critic_score'], color='red', alpha=0.7)\n",
    "scatter_ax.set_xlabel('Суммарные продажи (sum_sales)')\n",
    "scatter_ax.set_ylabel('Оценка критиков (critic_score)')\n",
    "scatter_ax.set_title('XOne: Оценки критиков vs Продажи')\n",
    "\n",
    "scatter_ax2.scatter(df_XOne['sum_sales'], df_XOne['user_score'], color='blue', alpha=0.7)\n",
    "scatter_ax2.set_xlabel('Суммарные продажи (sum_sales)')\n",
    "scatter_ax2.set_ylabel('Оценка пользователей (user_score)')\n",
    "scatter_ax2.set_title('XOne: Оценки пользователей vs Продажи')\n",
    "\n",
    "plt.tight_layout()\n",
    "plt.show()\n",
    "\n",
    "corr_critic = df_XOne['sum_sales'].corr(df_XOne['critic_score'])\n",
    "corr_user = df_XOne['sum_sales'].corr(df_XOne['user_score'])\n",
    "\n",
    "print(\"Корреляция между суммарными продажами и оценками критиков для XOne:\", corr_critic)\n",
    "print(\"Корреляция между суммарными продажами и оценками пользователей для XOne:\", corr_user)"
   ]
  },
  {
   "cell_type": "markdown",
   "metadata": {},
   "source": [
    "## *Вывод*\n",
    "\n",
    "Зависимость между продажами и отзывами пользователей близка к нулю. \n",
    "\n",
    "Зависимость между продажами и оценкой критиков слабая, корреляция меньше 0.5."
   ]
  },
  {
   "cell_type": "markdown",
   "metadata": {},
   "source": [
    "# Шаг 3.6 Посмотрите на общее распределение игр по жанрам. Что можно сказать о самых прибыльных жанрах? Выделяются ли жанры с высокими и низкими продажами?\n",
    "\n"
   ]
  },
  {
   "cell_type": "code",
   "execution_count": 38,
   "metadata": {},
   "outputs": [
    {
     "data": {
      "text/html": [
       "<div>\n",
       "<style scoped>\n",
       "    .dataframe tbody tr th:only-of-type {\n",
       "        vertical-align: middle;\n",
       "    }\n",
       "\n",
       "    .dataframe tbody tr th {\n",
       "        vertical-align: top;\n",
       "    }\n",
       "\n",
       "    .dataframe thead tr th {\n",
       "        text-align: left;\n",
       "    }\n",
       "\n",
       "    .dataframe thead tr:last-of-type th {\n",
       "        text-align: right;\n",
       "    }\n",
       "</style>\n",
       "<table border=\"1\" class=\"dataframe\">\n",
       "  <thead>\n",
       "    <tr>\n",
       "      <th></th>\n",
       "      <th>count</th>\n",
       "      <th>sum</th>\n",
       "      <th>median</th>\n",
       "    </tr>\n",
       "    <tr>\n",
       "      <th></th>\n",
       "      <th>sum_sales</th>\n",
       "      <th>sum_sales</th>\n",
       "      <th>sum_sales</th>\n",
       "    </tr>\n",
       "    <tr>\n",
       "      <th>genre</th>\n",
       "      <th></th>\n",
       "      <th></th>\n",
       "      <th></th>\n",
       "    </tr>\n",
       "  </thead>\n",
       "  <tbody>\n",
       "    <tr>\n",
       "      <th>Action</th>\n",
       "      <td>1031</td>\n",
       "      <td>441.12</td>\n",
       "      <td>0.120</td>\n",
       "    </tr>\n",
       "    <tr>\n",
       "      <th>Adventure</th>\n",
       "      <td>302</td>\n",
       "      <td>29.43</td>\n",
       "      <td>0.030</td>\n",
       "    </tr>\n",
       "    <tr>\n",
       "      <th>Fighting</th>\n",
       "      <td>109</td>\n",
       "      <td>44.49</td>\n",
       "      <td>0.130</td>\n",
       "    </tr>\n",
       "    <tr>\n",
       "      <th>Misc</th>\n",
       "      <td>192</td>\n",
       "      <td>85.04</td>\n",
       "      <td>0.120</td>\n",
       "    </tr>\n",
       "    <tr>\n",
       "      <th>Platform</th>\n",
       "      <td>85</td>\n",
       "      <td>61.00</td>\n",
       "      <td>0.210</td>\n",
       "    </tr>\n",
       "    <tr>\n",
       "      <th>Puzzle</th>\n",
       "      <td>28</td>\n",
       "      <td>4.89</td>\n",
       "      <td>0.045</td>\n",
       "    </tr>\n",
       "    <tr>\n",
       "      <th>Racing</th>\n",
       "      <td>115</td>\n",
       "      <td>53.50</td>\n",
       "      <td>0.140</td>\n",
       "    </tr>\n",
       "    <tr>\n",
       "      <th>Role-Playing</th>\n",
       "      <td>370</td>\n",
       "      <td>192.80</td>\n",
       "      <td>0.140</td>\n",
       "    </tr>\n",
       "    <tr>\n",
       "      <th>Shooter</th>\n",
       "      <td>235</td>\n",
       "      <td>304.73</td>\n",
       "      <td>0.440</td>\n",
       "    </tr>\n",
       "    <tr>\n",
       "      <th>Simulation</th>\n",
       "      <td>80</td>\n",
       "      <td>35.12</td>\n",
       "      <td>0.120</td>\n",
       "    </tr>\n",
       "    <tr>\n",
       "      <th>Sports</th>\n",
       "      <td>267</td>\n",
       "      <td>181.06</td>\n",
       "      <td>0.240</td>\n",
       "    </tr>\n",
       "    <tr>\n",
       "      <th>Strategy</th>\n",
       "      <td>71</td>\n",
       "      <td>13.34</td>\n",
       "      <td>0.080</td>\n",
       "    </tr>\n",
       "  </tbody>\n",
       "</table>\n",
       "</div>"
      ],
      "text/plain": [
       "                 count       sum    median\n",
       "             sum_sales sum_sales sum_sales\n",
       "genre                                     \n",
       "Action            1031    441.12     0.120\n",
       "Adventure          302     29.43     0.030\n",
       "Fighting           109     44.49     0.130\n",
       "Misc               192     85.04     0.120\n",
       "Platform            85     61.00     0.210\n",
       "Puzzle              28      4.89     0.045\n",
       "Racing             115     53.50     0.140\n",
       "Role-Playing       370    192.80     0.140\n",
       "Shooter            235    304.73     0.440\n",
       "Simulation          80     35.12     0.120\n",
       "Sports             267    181.06     0.240\n",
       "Strategy            71     13.34     0.080"
      ]
     },
     "execution_count": 38,
     "metadata": {},
     "output_type": "execute_result"
    }
   ],
   "source": [
    "df_actual.pivot_table(index = 'genre' , values='sum_sales', aggfunc=['count','sum', 'median'])\n"
   ]
  },
  {
   "cell_type": "code",
   "execution_count": 39,
   "metadata": {},
   "outputs": [
    {
     "data": {
      "image/png": "[encoded data removed]",
      "text/plain": [
       "<Figure size 720x360 with 1 Axes>"
      ]
     },
     "metadata": {
      "needs_background": "light"
     },
     "output_type": "display_data"
    }
   ],
   "source": [
    "(df_actual\n",
    " .pivot_table(index='genre', values='sum_sales', aggfunc='sum')\n",
    " .sort_values(by='sum_sales',ascending=False)\n",
    " .plot(kind='bar', y='sum_sales', figsize=(10, 5),title = 'profitability of each genre')\n",
    " .set(xlabel='genre', ylabel='total sales'))\n",
    "plt.show()"
   ]
  },
  {
   "cell_type": "code",
   "execution_count": 40,
   "metadata": {},
   "outputs": [
    {
     "data": {
      "image/png": "[encoded data removed]",
      "text/plain": [
       "<Figure size 720x360 with 1 Axes>"
      ]
     },
     "metadata": {
      "needs_background": "light"
     },
     "output_type": "display_data"
    }
   ],
   "source": [
    "(df_actual\n",
    " .pivot_table(index='genre', values='sum_sales', aggfunc='median')\n",
    " .sort_values(by='sum_sales',ascending=False)\n",
    " .plot(kind='bar', y='sum_sales', figsize=(10, 5),title = 'median profitability of each genre')\n",
    " .set(xlabel='genre', ylabel='total sales'))\n",
    "plt.show()"
   ]
  },
  {
   "cell_type": "markdown",
   "metadata": {},
   "source": [
    "Можно заметить, что большое количество игр в жанре не всегда сопровождается высокими продажами. Например, в жанре adventure выпущено много игр, но их медианные продажи довольно низкие. С другой стороны, есть случаи, когда медианные продажи почти достигают максимума среди всех жанров, несмотря на небольшое число игр — жанр simulation служит таким примером. Если рассматривать только самые прибыльные жанры, то можно увидеть, что в них сочетается два параметра: высокий объём выпуска и значительные медианные продажи."
   ]
  },
  {
   "cell_type": "markdown",
   "metadata": {},
   "source": [
    "###### Вывод по исследовательскому анализу:\n",
    "\n",
    "1. С 1980 года количество выпускаемых игр постепенно росло, начиная с десятков игр и достигнув пика в 2008–2009 годах (свыше 1400 игр ежегодно).\n",
    "После 2010 года количество игр снижается, что может быть связано с изменениями в игровой индустрии, включая переход к цифровой дистрибуции и рост популярности мобильных игр.\n",
    "Данные за более ранние периоды могут быть менее полезными из-за небольшого объёма и изменений в индустрии. Для более значимых выводов целесообразно сосредоточиться на данных с 2000-х годов\n",
    "\n",
    "\n",
    "2. С помощью сводной таблицы мы рассчитали медианное значение продолжительности жизни платформы - 7\n",
    "\n",
    "\n",
    "3. Согласно графику, к 2016 году продажи консолей не растут – наблюдается спад на всех моделях. Наиболее перспективными остаются PS4 и XOne, хотя и у них также прослеживается снижение продаж\n",
    "\n",
    "\n",
    "4. Медианное значение по всей выборке составляет 0,18 но у большинства консолей данный показатель не совпадает с основным.\n",
    "\n",
    "\n",
    "    Также можно увидеть, что у каждой консоли наблюдается значительные выбросы\n",
    "\n",
    "\n",
    "5. 1. между оценками пользователей и продажами слабая связь и нелинейная\n",
    "\n",
    "   2. между оценками критиков и продажами связь умеренная и  нелинейная\n",
    "\n",
    "\n",
    "6. Можно заметить, что большое количество игр в жанре не всегда сопровождается высокими продажами. Например, в жанре adventure выпущено много игр, но их медианные продажи довольно низкие. С другой стороны, есть случаи, когда медианные продажи почти достигают максимума среди всех жанров, несмотря на небольшое число игр — жанр simulation служит таким примером. Если рассматривать только самые прибыльные жанры, то можно увидеть, что в них сочетается два параметра: высокий объём выпуска и значительные медианные продажи."
   ]
  },
  {
   "cell_type": "markdown",
   "metadata": {},
   "source": [
    "# Шаг 4.1 Портрет пользователя каждого региона¶\n"
   ]
  },
  {
   "cell_type": "markdown",
   "metadata": {},
   "source": [
    "### Самые популярные платформы (топ-5). Опишите различия в долях продаж.\n"
   ]
  },
  {
   "cell_type": "code",
   "execution_count": 41,
   "metadata": {},
   "outputs": [
    {
     "data": {
      "text/plain": [
       "array(['Action', 'Shooter', 'Role-Playing', 'Platform', 'Misc',\n",
       "       'Simulation', 'Sports', 'Fighting', 'Racing', 'Strategy',\n",
       "       'Adventure', 'Puzzle'], dtype=object)"
      ]
     },
     "execution_count": 41,
     "metadata": {},
     "output_type": "execute_result"
    }
   ],
   "source": [
    "df_actual['genre'].unique()"
   ]
  },
  {
   "cell_type": "code",
   "execution_count": 42,
   "metadata": {},
   "outputs": [
    {
     "data": {
      "text/html": [
       "<div>\n",
       "<style scoped>\n",
       "    .dataframe tbody tr th:only-of-type {\n",
       "        vertical-align: middle;\n",
       "    }\n",
       "\n",
       "    .dataframe tbody tr th {\n",
       "        vertical-align: top;\n",
       "    }\n",
       "\n",
       "    .dataframe thead th {\n",
       "        text-align: right;\n",
       "    }\n",
       "</style>\n",
       "<table border=\"1\" class=\"dataframe\">\n",
       "  <thead>\n",
       "    <tr style=\"text-align: right;\">\n",
       "      <th></th>\n",
       "      <th>eu_sales</th>\n",
       "      <th>jp_sales</th>\n",
       "      <th>na_sales</th>\n",
       "      <th>sum_sales</th>\n",
       "    </tr>\n",
       "    <tr>\n",
       "      <th>platform</th>\n",
       "      <th></th>\n",
       "      <th></th>\n",
       "      <th></th>\n",
       "      <th></th>\n",
       "    </tr>\n",
       "  </thead>\n",
       "  <tbody>\n",
       "    <tr>\n",
       "      <th>3DS</th>\n",
       "      <td>42.64</td>\n",
       "      <td>87.79</td>\n",
       "      <td>55.31</td>\n",
       "      <td>194.61</td>\n",
       "    </tr>\n",
       "    <tr>\n",
       "      <th>DS</th>\n",
       "      <td>3.53</td>\n",
       "      <td>3.72</td>\n",
       "      <td>4.59</td>\n",
       "      <td>12.55</td>\n",
       "    </tr>\n",
       "    <tr>\n",
       "      <th>PC</th>\n",
       "      <td>37.76</td>\n",
       "      <td>0.00</td>\n",
       "      <td>19.12</td>\n",
       "      <td>62.65</td>\n",
       "    </tr>\n",
       "    <tr>\n",
       "      <th>PS3</th>\n",
       "      <td>106.85</td>\n",
       "      <td>35.29</td>\n",
       "      <td>103.38</td>\n",
       "      <td>288.78</td>\n",
       "    </tr>\n",
       "    <tr>\n",
       "      <th>PS4</th>\n",
       "      <td>141.09</td>\n",
       "      <td>15.96</td>\n",
       "      <td>108.74</td>\n",
       "      <td>314.14</td>\n",
       "    </tr>\n",
       "    <tr>\n",
       "      <th>PSP</th>\n",
       "      <td>0.42</td>\n",
       "      <td>10.47</td>\n",
       "      <td>0.13</td>\n",
       "      <td>11.19</td>\n",
       "    </tr>\n",
       "    <tr>\n",
       "      <th>PSV</th>\n",
       "      <td>11.36</td>\n",
       "      <td>21.04</td>\n",
       "      <td>10.98</td>\n",
       "      <td>49.18</td>\n",
       "    </tr>\n",
       "    <tr>\n",
       "      <th>Wii</th>\n",
       "      <td>11.92</td>\n",
       "      <td>3.39</td>\n",
       "      <td>17.45</td>\n",
       "      <td>35.37</td>\n",
       "    </tr>\n",
       "    <tr>\n",
       "      <th>WiiU</th>\n",
       "      <td>25.13</td>\n",
       "      <td>13.01</td>\n",
       "      <td>38.10</td>\n",
       "      <td>82.19</td>\n",
       "    </tr>\n",
       "    <tr>\n",
       "      <th>X360</th>\n",
       "      <td>74.52</td>\n",
       "      <td>1.57</td>\n",
       "      <td>140.05</td>\n",
       "      <td>236.54</td>\n",
       "    </tr>\n",
       "    <tr>\n",
       "      <th>XOne</th>\n",
       "      <td>51.59</td>\n",
       "      <td>0.34</td>\n",
       "      <td>93.12</td>\n",
       "      <td>159.32</td>\n",
       "    </tr>\n",
       "  </tbody>\n",
       "</table>\n",
       "</div>"
      ],
      "text/plain": [
       "          eu_sales  jp_sales  na_sales  sum_sales\n",
       "platform                                         \n",
       "3DS          42.64     87.79     55.31     194.61\n",
       "DS            3.53      3.72      4.59      12.55\n",
       "PC           37.76      0.00     19.12      62.65\n",
       "PS3         106.85     35.29    103.38     288.78\n",
       "PS4         141.09     15.96    108.74     314.14\n",
       "PSP           0.42     10.47      0.13      11.19\n",
       "PSV          11.36     21.04     10.98      49.18\n",
       "Wii          11.92      3.39     17.45      35.37\n",
       "WiiU         25.13     13.01     38.10      82.19\n",
       "X360         74.52      1.57    140.05     236.54\n",
       "XOne         51.59      0.34     93.12     159.32"
      ]
     },
     "execution_count": 42,
     "metadata": {},
     "output_type": "execute_result"
    }
   ],
   "source": [
    "platform_portret = df_actual.pivot_table(index='platform', values=['na_sales','eu_sales', 'jp_sales', 'sum_sales'], aggfunc='sum')\n",
    "platform_portret"
   ]
  },
  {
   "cell_type": "code",
   "execution_count": 43,
   "metadata": {},
   "outputs": [
    {
     "data": {
      "image/png": "[encoded data removed]",
      "text/plain": [
       "<Figure size 1296x504 with 4 Axes>"
      ]
     },
     "metadata": {
      "needs_background": "light"
     },
     "output_type": "display_data"
    }
   ],
   "source": [
    "fig, axis = plt.subplots(2,2, figsize=(18,7))\n",
    "\n",
    "platform_portret['eu_sales'].sort_values(ascending=False).plot.bar(ax=axis[0,0], color = 'b').set(ylabel='eu_sales');\n",
    "platform_portret['na_sales'].sort_values(ascending=False).plot.bar(ax=axis[0,1], color = 'm').set(ylabel='na_sales');\n",
    "platform_portret['jp_sales'].sort_values(ascending=False).plot.bar(ax=axis[1,0], color = 'k').set(ylabel='jp_sales');\n",
    "platform_portret['sum_sales'].sort_values(ascending=False).plot.bar(ax=axis[1,1], color = 'y').set(ylabel='sum_sales');\n"
   ]
  },
  {
   "cell_type": "code",
   "execution_count": 44,
   "metadata": {
    "scrolled": false
   },
   "outputs": [
    {
     "data": {
      "text/html": [
       "<div>\n",
       "<style scoped>\n",
       "    .dataframe tbody tr th:only-of-type {\n",
       "        vertical-align: middle;\n",
       "    }\n",
       "\n",
       "    .dataframe tbody tr th {\n",
       "        vertical-align: top;\n",
       "    }\n",
       "\n",
       "    .dataframe thead th {\n",
       "        text-align: right;\n",
       "    }\n",
       "</style>\n",
       "<table border=\"1\" class=\"dataframe\">\n",
       "  <thead>\n",
       "    <tr style=\"text-align: right;\">\n",
       "      <th></th>\n",
       "      <th>eu_sales</th>\n",
       "      <th>jp_sales</th>\n",
       "      <th>na_sales</th>\n",
       "      <th>sum_sales</th>\n",
       "      <th>na_sales%</th>\n",
       "      <th>eu_sales%</th>\n",
       "      <th>jp_sales%</th>\n",
       "    </tr>\n",
       "    <tr>\n",
       "      <th>platform</th>\n",
       "      <th></th>\n",
       "      <th></th>\n",
       "      <th></th>\n",
       "      <th></th>\n",
       "      <th></th>\n",
       "      <th></th>\n",
       "      <th></th>\n",
       "    </tr>\n",
       "  </thead>\n",
       "  <tbody>\n",
       "    <tr>\n",
       "      <th>X360</th>\n",
       "      <td>74.52</td>\n",
       "      <td>1.57</td>\n",
       "      <td>140.05</td>\n",
       "      <td>236.54</td>\n",
       "      <td>59.207745</td>\n",
       "      <td>31.504185</td>\n",
       "      <td>0.663736</td>\n",
       "    </tr>\n",
       "    <tr>\n",
       "      <th>PS4</th>\n",
       "      <td>141.09</td>\n",
       "      <td>15.96</td>\n",
       "      <td>108.74</td>\n",
       "      <td>314.14</td>\n",
       "      <td>34.615140</td>\n",
       "      <td>44.913096</td>\n",
       "      <td>5.080537</td>\n",
       "    </tr>\n",
       "    <tr>\n",
       "      <th>PS3</th>\n",
       "      <td>106.85</td>\n",
       "      <td>35.29</td>\n",
       "      <td>103.38</td>\n",
       "      <td>288.78</td>\n",
       "      <td>35.798878</td>\n",
       "      <td>37.000485</td>\n",
       "      <td>12.220375</td>\n",
       "    </tr>\n",
       "    <tr>\n",
       "      <th>XOne</th>\n",
       "      <td>51.59</td>\n",
       "      <td>0.34</td>\n",
       "      <td>93.12</td>\n",
       "      <td>159.32</td>\n",
       "      <td>58.448406</td>\n",
       "      <td>32.381371</td>\n",
       "      <td>0.213407</td>\n",
       "    </tr>\n",
       "    <tr>\n",
       "      <th>3DS</th>\n",
       "      <td>42.64</td>\n",
       "      <td>87.79</td>\n",
       "      <td>55.31</td>\n",
       "      <td>194.61</td>\n",
       "      <td>28.420944</td>\n",
       "      <td>21.910488</td>\n",
       "      <td>45.110734</td>\n",
       "    </tr>\n",
       "  </tbody>\n",
       "</table>\n",
       "</div>"
      ],
      "text/plain": [
       "          eu_sales  jp_sales  na_sales  sum_sales  na_sales%  eu_sales%  \\\n",
       "platform                                                                  \n",
       "X360         74.52      1.57    140.05     236.54  59.207745  31.504185   \n",
       "PS4         141.09     15.96    108.74     314.14  34.615140  44.913096   \n",
       "PS3         106.85     35.29    103.38     288.78  35.798878  37.000485   \n",
       "XOne         51.59      0.34     93.12     159.32  58.448406  32.381371   \n",
       "3DS          42.64     87.79     55.31     194.61  28.420944  21.910488   \n",
       "\n",
       "          jp_sales%  \n",
       "platform             \n",
       "X360       0.663736  \n",
       "PS4        5.080537  \n",
       "PS3       12.220375  \n",
       "XOne       0.213407  \n",
       "3DS       45.110734  "
      ]
     },
     "execution_count": 44,
     "metadata": {},
     "output_type": "execute_result"
    }
   ],
   "source": [
    "top5_platforms = platform_portret.sort_values(by='na_sales', ascending=False).head(5)\n",
    "\n",
    "\n",
    "top5_platforms['na_sales%'] = top5_platforms['na_sales'] / top5_platforms['sum_sales'] * 100\n",
    "top5_platforms['eu_sales%'] = top5_platforms['eu_sales'] / top5_platforms['sum_sales'] * 100\n",
    "top5_platforms['jp_sales%'] = top5_platforms['jp_sales'] / top5_platforms['sum_sales'] * 100\n",
    "\n",
    "top5_platforms"
   ]
  },
  {
   "cell_type": "markdown",
   "metadata": {},
   "source": [
    "Самые популярные платформы (топ-5)\n",
    "1. EU: PS4, XOne, ps3, 3DS, X360 - Европа\n",
    "2. NA: PS4, XOne, 3DS, X360, PS3 - CША\n",
    "3.JP: 3DS, PS4, PSV, PS3, WiiU - Япония\n"
   ]
  },
  {
   "cell_type": "markdown",
   "metadata": {},
   "source": [
    "В топ в регионах NA и EU входят одинаковые платформы с перестановкой их предпочтения.\n",
    "\n",
    "Нa рынке JP присутствуют региональные платформы. Платформа 3DS занимает 45% рынка\n",
    "\n"
   ]
  },
  {
   "cell_type": "markdown",
   "metadata": {},
   "source": [
    "# Шаг 4.2  Самые популярные жанры (топ-5). Поясните разницу.\n"
   ]
  },
  {
   "cell_type": "code",
   "execution_count": 45,
   "metadata": {},
   "outputs": [
    {
     "data": {
      "text/html": [
       "<div>\n",
       "<style scoped>\n",
       "    .dataframe tbody tr th:only-of-type {\n",
       "        vertical-align: middle;\n",
       "    }\n",
       "\n",
       "    .dataframe tbody tr th {\n",
       "        vertical-align: top;\n",
       "    }\n",
       "\n",
       "    .dataframe thead th {\n",
       "        text-align: right;\n",
       "    }\n",
       "</style>\n",
       "<table border=\"1\" class=\"dataframe\">\n",
       "  <thead>\n",
       "    <tr style=\"text-align: right;\">\n",
       "      <th></th>\n",
       "      <th>eu_sales</th>\n",
       "      <th>jp_sales</th>\n",
       "      <th>na_sales</th>\n",
       "      <th>sum_sales</th>\n",
       "    </tr>\n",
       "    <tr>\n",
       "      <th>genre</th>\n",
       "      <th></th>\n",
       "      <th></th>\n",
       "      <th></th>\n",
       "      <th></th>\n",
       "    </tr>\n",
       "  </thead>\n",
       "  <tbody>\n",
       "    <tr>\n",
       "      <th>Action</th>\n",
       "      <td>159.34</td>\n",
       "      <td>52.80</td>\n",
       "      <td>177.84</td>\n",
       "      <td>441.12</td>\n",
       "    </tr>\n",
       "    <tr>\n",
       "      <th>Adventure</th>\n",
       "      <td>9.46</td>\n",
       "      <td>8.24</td>\n",
       "      <td>8.92</td>\n",
       "      <td>29.43</td>\n",
       "    </tr>\n",
       "    <tr>\n",
       "      <th>Fighting</th>\n",
       "      <td>10.79</td>\n",
       "      <td>9.44</td>\n",
       "      <td>19.79</td>\n",
       "      <td>44.49</td>\n",
       "    </tr>\n",
       "    <tr>\n",
       "      <th>Misc</th>\n",
       "      <td>26.32</td>\n",
       "      <td>12.86</td>\n",
       "      <td>38.19</td>\n",
       "      <td>85.04</td>\n",
       "    </tr>\n",
       "    <tr>\n",
       "      <th>Platform</th>\n",
       "      <td>21.41</td>\n",
       "      <td>8.63</td>\n",
       "      <td>25.38</td>\n",
       "      <td>61.00</td>\n",
       "    </tr>\n",
       "    <tr>\n",
       "      <th>Puzzle</th>\n",
       "      <td>1.40</td>\n",
       "      <td>2.14</td>\n",
       "      <td>1.13</td>\n",
       "      <td>4.89</td>\n",
       "    </tr>\n",
       "    <tr>\n",
       "      <th>Racing</th>\n",
       "      <td>27.29</td>\n",
       "      <td>2.50</td>\n",
       "      <td>17.22</td>\n",
       "      <td>53.50</td>\n",
       "    </tr>\n",
       "    <tr>\n",
       "      <th>Role-Playing</th>\n",
       "      <td>48.53</td>\n",
       "      <td>65.44</td>\n",
       "      <td>64.00</td>\n",
       "      <td>192.80</td>\n",
       "    </tr>\n",
       "    <tr>\n",
       "      <th>Shooter</th>\n",
       "      <td>113.47</td>\n",
       "      <td>9.23</td>\n",
       "      <td>144.77</td>\n",
       "      <td>304.73</td>\n",
       "    </tr>\n",
       "    <tr>\n",
       "      <th>Simulation</th>\n",
       "      <td>14.55</td>\n",
       "      <td>10.41</td>\n",
       "      <td>7.97</td>\n",
       "      <td>35.12</td>\n",
       "    </tr>\n",
       "    <tr>\n",
       "      <th>Sports</th>\n",
       "      <td>69.08</td>\n",
       "      <td>8.01</td>\n",
       "      <td>81.53</td>\n",
       "      <td>181.06</td>\n",
       "    </tr>\n",
       "    <tr>\n",
       "      <th>Strategy</th>\n",
       "      <td>5.17</td>\n",
       "      <td>2.88</td>\n",
       "      <td>4.23</td>\n",
       "      <td>13.34</td>\n",
       "    </tr>\n",
       "  </tbody>\n",
       "</table>\n",
       "</div>"
      ],
      "text/plain": [
       "              eu_sales  jp_sales  na_sales  sum_sales\n",
       "genre                                                \n",
       "Action          159.34     52.80    177.84     441.12\n",
       "Adventure         9.46      8.24      8.92      29.43\n",
       "Fighting         10.79      9.44     19.79      44.49\n",
       "Misc             26.32     12.86     38.19      85.04\n",
       "Platform         21.41      8.63     25.38      61.00\n",
       "Puzzle            1.40      2.14      1.13       4.89\n",
       "Racing           27.29      2.50     17.22      53.50\n",
       "Role-Playing     48.53     65.44     64.00     192.80\n",
       "Shooter         113.47      9.23    144.77     304.73\n",
       "Simulation       14.55     10.41      7.97      35.12\n",
       "Sports           69.08      8.01     81.53     181.06\n",
       "Strategy          5.17      2.88      4.23      13.34"
      ]
     },
     "execution_count": 45,
     "metadata": {},
     "output_type": "execute_result"
    }
   ],
   "source": [
    "genre_portret = df_actual.pivot_table(index='genre', values=['na_sales','eu_sales', 'jp_sales', 'sum_sales'], aggfunc='sum')\n",
    "genre_portret"
   ]
  },
  {
   "cell_type": "code",
   "execution_count": 46,
   "metadata": {},
   "outputs": [
    {
     "data": {
      "image/png": "[encoded data removed]",
      "text/plain": [
       "<Figure size 1296x648 with 4 Axes>"
      ]
     },
     "metadata": {
      "needs_background": "light"
     },
     "output_type": "display_data"
    }
   ],
   "source": [
    "fig, axis = plt.subplots(2,2, figsize=(18,9))\n",
    "\n",
    "genre_portret['eu_sales'].sort_values(ascending=False).plot.bar(ax=axis[0,0], color = 'b').set(ylabel='eu_sales');\n",
    "genre_portret['na_sales'].sort_values(ascending=False).plot.bar(ax=axis[0,1], color = 'm').set(ylabel='na_sales');\n",
    "genre_portret['jp_sales'].sort_values(ascending=False).plot.bar(ax=axis[1,0], color = 'k').set(ylabel='jp_sales');\n",
    "genre_portret['sum_sales'].sort_values(ascending=False).plot.bar(ax=axis[1,1], color = 'y').set(ylabel='sum_sales');\n"
   ]
  },
  {
   "cell_type": "code",
   "execution_count": 47,
   "metadata": {},
   "outputs": [
    {
     "data": {
      "text/html": [
       "<div>\n",
       "<style scoped>\n",
       "    .dataframe tbody tr th:only-of-type {\n",
       "        vertical-align: middle;\n",
       "    }\n",
       "\n",
       "    .dataframe tbody tr th {\n",
       "        vertical-align: top;\n",
       "    }\n",
       "\n",
       "    .dataframe thead th {\n",
       "        text-align: right;\n",
       "    }\n",
       "</style>\n",
       "<table border=\"1\" class=\"dataframe\">\n",
       "  <thead>\n",
       "    <tr style=\"text-align: right;\">\n",
       "      <th></th>\n",
       "      <th>eu_sales</th>\n",
       "      <th>jp_sales</th>\n",
       "      <th>na_sales</th>\n",
       "      <th>sum_sales</th>\n",
       "      <th>na_sales%</th>\n",
       "      <th>eu_sales%</th>\n",
       "      <th>jp_sales%</th>\n",
       "    </tr>\n",
       "    <tr>\n",
       "      <th>genre</th>\n",
       "      <th></th>\n",
       "      <th></th>\n",
       "      <th></th>\n",
       "      <th></th>\n",
       "      <th></th>\n",
       "      <th></th>\n",
       "      <th></th>\n",
       "    </tr>\n",
       "  </thead>\n",
       "  <tbody>\n",
       "    <tr>\n",
       "      <th>Action</th>\n",
       "      <td>159.34</td>\n",
       "      <td>52.80</td>\n",
       "      <td>177.84</td>\n",
       "      <td>441.12</td>\n",
       "      <td>40.315560</td>\n",
       "      <td>36.121690</td>\n",
       "      <td>11.969532</td>\n",
       "    </tr>\n",
       "    <tr>\n",
       "      <th>Shooter</th>\n",
       "      <td>113.47</td>\n",
       "      <td>9.23</td>\n",
       "      <td>144.77</td>\n",
       "      <td>304.73</td>\n",
       "      <td>47.507630</td>\n",
       "      <td>37.236242</td>\n",
       "      <td>3.028911</td>\n",
       "    </tr>\n",
       "    <tr>\n",
       "      <th>Sports</th>\n",
       "      <td>69.08</td>\n",
       "      <td>8.01</td>\n",
       "      <td>81.53</td>\n",
       "      <td>181.06</td>\n",
       "      <td>45.029272</td>\n",
       "      <td>38.153098</td>\n",
       "      <td>4.423948</td>\n",
       "    </tr>\n",
       "    <tr>\n",
       "      <th>Role-Playing</th>\n",
       "      <td>48.53</td>\n",
       "      <td>65.44</td>\n",
       "      <td>64.00</td>\n",
       "      <td>192.80</td>\n",
       "      <td>33.195021</td>\n",
       "      <td>25.171162</td>\n",
       "      <td>33.941909</td>\n",
       "    </tr>\n",
       "    <tr>\n",
       "      <th>Misc</th>\n",
       "      <td>26.32</td>\n",
       "      <td>12.86</td>\n",
       "      <td>38.19</td>\n",
       "      <td>85.04</td>\n",
       "      <td>44.908278</td>\n",
       "      <td>30.950141</td>\n",
       "      <td>15.122295</td>\n",
       "    </tr>\n",
       "  </tbody>\n",
       "</table>\n",
       "</div>"
      ],
      "text/plain": [
       "              eu_sales  jp_sales  na_sales  sum_sales  na_sales%  eu_sales%  \\\n",
       "genre                                                                         \n",
       "Action          159.34     52.80    177.84     441.12  40.315560  36.121690   \n",
       "Shooter         113.47      9.23    144.77     304.73  47.507630  37.236242   \n",
       "Sports           69.08      8.01     81.53     181.06  45.029272  38.153098   \n",
       "Role-Playing     48.53     65.44     64.00     192.80  33.195021  25.171162   \n",
       "Misc             26.32     12.86     38.19      85.04  44.908278  30.950141   \n",
       "\n",
       "              jp_sales%  \n",
       "genre                    \n",
       "Action        11.969532  \n",
       "Shooter        3.028911  \n",
       "Sports         4.423948  \n",
       "Role-Playing  33.941909  \n",
       "Misc          15.122295  "
      ]
     },
     "execution_count": 47,
     "metadata": {},
     "output_type": "execute_result"
    }
   ],
   "source": [
    "top5_genre = genre_portret.sort_values(by='na_sales', ascending=False).head(5)\n",
    "\n",
    "\n",
    "# Расчёт процентных долей продаж для каждого региона относительно суммарных продаж платформы\n",
    "top5_genre['na_sales%'] = top5_genre['na_sales'] / top5_genre['sum_sales'] * 100\n",
    "top5_genre['eu_sales%'] = top5_genre['eu_sales'] / top5_genre['sum_sales'] * 100\n",
    "top5_genre['jp_sales%'] = top5_genre['jp_sales'] / top5_genre['sum_sales'] * 100\n",
    "\n",
    "top5_genre"
   ]
  },
  {
   "cell_type": "markdown",
   "metadata": {},
   "source": [
    "Самые популярные жанры (топ-5)\n",
    "\n",
    "EU: Shooter, Sports, Action, Role-Playing, Racing - Европа\n",
    "\n",
    "NA: Shooter, Action, Sports, Role-Playing, Misc - CША\n",
    "\n",
    "JP: Action, Role-Playing, Fighting, Simulation, Misc - Япония\n"
   ]
  },
  {
   "cell_type": "markdown",
   "metadata": {},
   "source": [
    "в регионах NA и EU  почти одинаковые жанры. На рынке JP предпочитают Role-Playing, Misc которые суммарно занимают почти 50% рынка."
   ]
  },
  {
   "cell_type": "markdown",
   "metadata": {},
   "source": [
    "# Шаг 4.3 Влияет ли рейтинг ESRB на продажи в отдельном регионе?\n"
   ]
  },
  {
   "cell_type": "code",
   "execution_count": 48,
   "metadata": {},
   "outputs": [
    {
     "data": {
      "text/html": [
       "<div>\n",
       "<style scoped>\n",
       "    .dataframe tbody tr th:only-of-type {\n",
       "        vertical-align: middle;\n",
       "    }\n",
       "\n",
       "    .dataframe tbody tr th {\n",
       "        vertical-align: top;\n",
       "    }\n",
       "\n",
       "    .dataframe thead th {\n",
       "        text-align: right;\n",
       "    }\n",
       "</style>\n",
       "<table border=\"1\" class=\"dataframe\">\n",
       "  <thead>\n",
       "    <tr style=\"text-align: right;\">\n",
       "      <th></th>\n",
       "      <th>eu_sales</th>\n",
       "      <th>jp_sales</th>\n",
       "      <th>na_sales</th>\n",
       "    </tr>\n",
       "    <tr>\n",
       "      <th>rating</th>\n",
       "      <th></th>\n",
       "      <th></th>\n",
       "      <th></th>\n",
       "    </tr>\n",
       "  </thead>\n",
       "  <tbody>\n",
       "    <tr>\n",
       "      <th>E</th>\n",
       "      <td>113.02</td>\n",
       "      <td>28.33</td>\n",
       "      <td>114.37</td>\n",
       "    </tr>\n",
       "    <tr>\n",
       "      <th>E10+</th>\n",
       "      <td>55.37</td>\n",
       "      <td>8.19</td>\n",
       "      <td>75.70</td>\n",
       "    </tr>\n",
       "    <tr>\n",
       "      <th>M</th>\n",
       "      <td>193.96</td>\n",
       "      <td>21.20</td>\n",
       "      <td>231.57</td>\n",
       "    </tr>\n",
       "    <tr>\n",
       "      <th>T</th>\n",
       "      <td>52.96</td>\n",
       "      <td>26.02</td>\n",
       "      <td>66.02</td>\n",
       "    </tr>\n",
       "    <tr>\n",
       "      <th>tbd</th>\n",
       "      <td>91.50</td>\n",
       "      <td>108.84</td>\n",
       "      <td>103.31</td>\n",
       "    </tr>\n",
       "  </tbody>\n",
       "</table>\n",
       "</div>"
      ],
      "text/plain": [
       "        eu_sales  jp_sales  na_sales\n",
       "rating                              \n",
       "E         113.02     28.33    114.37\n",
       "E10+       55.37      8.19     75.70\n",
       "M         193.96     21.20    231.57\n",
       "T          52.96     26.02     66.02\n",
       "tbd        91.50    108.84    103.31"
      ]
     },
     "execution_count": 48,
     "metadata": {},
     "output_type": "execute_result"
    }
   ],
   "source": [
    "ESRB_portret = df_actual.pivot_table(index='rating', values=['na_sales','eu_sales', 'jp_sales'], aggfunc='sum')\n",
    "ESRB_portret"
   ]
  },
  {
   "cell_type": "code",
   "execution_count": 49,
   "metadata": {},
   "outputs": [
    {
     "data": {
      "image/png": "[encoded data removed]",
      "text/plain": [
       "<Figure size 504x504 with 1 Axes>"
      ]
     },
     "metadata": {},
     "output_type": "display_data"
    },
    {
     "data": {
      "image/png": "[encoded data removed]",
      "text/plain": [
       "<Figure size 504x504 with 1 Axes>"
      ]
     },
     "metadata": {},
     "output_type": "display_data"
    },
    {
     "data": {
      "image/png": "[encoded data removed]",
      "text/plain": [
       "<Figure size 504x504 with 1 Axes>"
      ]
     },
     "metadata": {},
     "output_type": "display_data"
    }
   ],
   "source": [
    "regions = {\n",
    "    'na_sales': 'NA',\n",
    "    'eu_sales': 'EU',\n",
    "    'jp_sales': 'JP'\n",
    "}\n",
    "\n",
    "for i, region in regions.items():\n",
    "    plt.figure(figsize=(7, 7))\n",
    "    ESRB_portret[i].plot.pie(autopct='%1.0f%%')\n",
    "    plt.title(f'Распределение продаж в регионе {region} по рейтингу ESRB')\n",
    "    plt.show()"
   ]
  },
  {
   "cell_type": "markdown",
   "metadata": {},
   "source": [
    "В регионах NA и EU большая часть продаж приходится на рейтинг \"M\" (для взрослых) - 38-39% на втором месте с рейтингом для всех \"Е\" 19-22%, на рынке JP первое место занимают игры с неуказанным рейтингом \"tbd\" - 57%, затем игры для всех \"Е\" - 15%.\n",
    "\n",
    "Количество игр с неопределнным рейтингом (tbd) в Японии велико, так как рейтинг ESRB в этой стране не используется "
   ]
  },
  {
   "cell_type": "markdown",
   "metadata": {},
   "source": [
    "###### Вывод по портрету пользователя по каждому региону:\n",
    "\n",
    "1. В NA и EU приблизительно одинаковые предпочтения по платформам и жанрам. Наиболее популярными платформами в данных регионах стали PS4 и X360, а жанрами- Action и Shooter. В Японии ситуация немного иная платофрма 3DS занимает почти половину рынка страны, а самыми поплярными жанрами стали Role-playing и Action\n",
    "\n",
    "2. В регионах NA и EU большая часть продаж приходится на рейтинг \"M\" (для взрослых) - 38-39% на втором месте с рейтингом для всех \"Е\" 19-22%, на рынке JP первое место занимают игры с неуказанным рейтингом \"tbd\" - 57%, затем игры для всех \"Е\" - 15%. Количество игр с неопределнным рейтингом (tbd) в Японии велико, так как рейтинг ESRB в этой стране не используется"
   ]
  },
  {
   "cell_type": "markdown",
   "metadata": {},
   "source": [
    "# Шаг 5 Проверка гипотез"
   ]
  },
  {
   "cell_type": "markdown",
   "metadata": {},
   "source": [
    "Н0: Средние пользовательские рейтинги платформ XOne и PC равны\n",
    "\n",
    "Н1: Средние пользовательские рейтинги платформ XOne и PC не равны\n"
   ]
  },
  {
   "cell_type": "code",
   "execution_count": 50,
   "metadata": {},
   "outputs": [
    {
     "name": "stdout",
     "output_type": "stream",
     "text": [
      "0.5489537965134912\n",
      "Не получилось отвергнуть нулевую гипотезу,рейтинги платформ Xbox One и PC одинаковые\n"
     ]
    }
   ],
   "source": [
    "xone = df_actual.query('platform == \"XOne\" and user_score != 0')\n",
    "pc = df_actual.query(\"platform == 'PC' and user_score != 0\")\n",
    "\n",
    "alpha = 0.05\n",
    "\n",
    "results = st.ttest_ind(xone['user_score'], pc['user_score'],equal_var=False)\n",
    "\n",
    "print(results.pvalue)\n",
    "\n",
    "if results.pvalue < alpha:\n",
    "    print('Отвергаем нулевую гипотезу,рейтинги платформ Xbox One и PC разные')\n",
    "else:\n",
    "    print('Не получилось отвергнуть нулевую гипотезу,рейтинги платформ Xbox One и PC одинаковые')"
   ]
  },
  {
   "cell_type": "markdown",
   "metadata": {},
   "source": [
    "# Шаг 5.1"
   ]
  },
  {
   "cell_type": "markdown",
   "metadata": {},
   "source": [
    "Н0: Средние пользовательские рейтинги жанров Action и Sports не равны\n",
    "\n",
    "Н1: Средние пользовательские рейтинги жанров Action и Sports равны"
   ]
  },
  {
   "cell_type": "code",
   "execution_count": 55,
   "metadata": {},
   "outputs": [
    {
     "name": "stdout",
     "output_type": "stream",
     "text": [
      "5.989458066467418e-20\n",
      "Не получилось отвергнуть нулевую гипотезу, рейтинги жанров Action и Sports не равны\n"
     ]
    }
   ],
   "source": [
    "action = df_actual.query('genre == \"Action\" and user_score > 0')\n",
    "sports = df_actual.query(\"genre == 'Sports' and user_score > 0\")\n",
    "\n",
    "alpha = 0.05\n",
    "\n",
    "results = st.ttest_ind(action['user_score'], sports['user_score'],equal_var=False)\n",
    "\n",
    "print(results.pvalue)\n",
    "\n",
    "if results.pvalue < alpha:\n",
    "    print('Не получилось отвергнуть нулевую гипотезу, рейтинги жанров Action и Sports не равны')\n",
    "else:\n",
    "    print('Отвергаем нулевую гипотезу, рейтинги жанров Action и Sports равны')"
   ]
  },
  {
   "cell_type": "markdown",
   "metadata": {},
   "source": [
    "# Итоговый вывод"
   ]
  },
  {
   "cell_type": "markdown",
   "metadata": {},
   "source": [
    "###### А.  Предобработка данных\n",
    "\n",
    "1. Явные дубликаты не обнаружены\n",
    "\n",
    "\n",
    "2. Удалены строки с неявными дубликатами поиск одновременно по 'name', 'platform', 'year_of_release'\n",
    "\n",
    "\n",
    "3. По столбцу name удалены 2 строки с пропусками\n",
    "\n",
    "\n",
    "4. По столбцу year_of_release принято решение удалить строки с пропусками\n",
    "\n",
    "\n",
    "5. В столбце critic_score пропуски были заменены 0\n",
    "\n",
    "\n",
    "6. В столбце user_score пропуски были заменены на 0 \n",
    "\n",
    "\n",
    "7. В столбце rating пропуски обозначены как tbd\n",
    "\n",
    "\n",
    "8. Столбецы year_of_release, critic_score приведены к int типу, user_score к float в соответствии с данными содержащимися в них.\n",
    "\n",
    "\n",
    "9. Посчитали суммарные продажи во всех регионах записали в sum_sales\n",
    "\n",
    "###### B. Исследовательский анализ данных\n",
    "\n",
    "1. Определили, что актуальный период составляет 5 последних года.\n",
    "\n",
    "\n",
    "2. Согласно графику, к 2016 году продажи консолей не растут – наблюдается спад на всех моделях. Наиболее перспективными остаются PS4 и XOne, хотя и у них также прослеживается снижение продаж.\n",
    "\n",
    "\n",
    "3. между оценками пользователей и продажами слабая связь и нелинейная\n",
    "\n",
    "\n",
    "4. между оценками критиков и продажами связь умеренная и нелинейная\n",
    "\n",
    "\n",
    "5. Предпочтение в жанрах стоит отдать Shooter, Sports потому что их медианное значение прибыли намного выше остальных\n",
    "\n",
    "\n",
    "###### С. Портрет пользователя каждого региона\n",
    "1. В NA и EU приблизительно одинаковые предпочтения по платформам и жанрам. Наиболее популярными платформами в данных регионах стали PS4 и X360, а жанрами- Action и Shooter. В Японии ситуация немного иная платофрма 3DS занимает почти половину рынка страны, а самыми поплярными жанрами стали Role-playing и Action\n",
    "\n",
    "\n",
    "2. В регионах NA и EU большая часть продаж приходится на рейтинг \"M\" (для взрослых) - 38-39% на втором месте с рейтингом для всех \"Е\" 19-22%, на рынке JP первое место занимают игры с неуказанным рейтингом \"tbd\" - 57%, затем игры для всех \"Е\" - 15%. Количество игр с неопределнным рейтингом (tbd) в Японии велико, так как рейтинг ESRB в этой стране не используется\n",
    "\n",
    "###### D. Проверка гипотез\n",
    "\n",
    "1. Н0: Средние пользовательские рейтинги платформ XOne и PC равны\n",
    "\n",
    "   Н1: Средние пользовательские рейтинги платформ XOne и PC не равны\n",
    "   \n",
    "   p-value=0.5489537965134912\n",
    "   \n",
    "   \n",
    "   Не получилось отвергнуть нулевую гипотезу,рейтинги платформ Xbox One и PC одинаковые\n",
    "   \n",
    "2. Н0: Средние пользовательские рейтинги жанров Action и Sports не равны\n",
    "\n",
    "   Н1: Средние пользовательские рейтинги жанров Action и Sports равны\n",
    "   \n",
    "   p-value=5.989458066467418e-20\n",
    "\n",
    "   Не получилось отвергнуть нулевую гипотезу, рейтинги жанров Action и Sports не равны\n",
    "\n",
    "\n"
   ]
  },
  {
   "cell_type": "code",
   "execution_count": null,
   "metadata": {},
   "outputs": [],
   "source": []
  }
 ],
 "metadata": {
  "ExecuteTimeLog": [
   {
    "duration": 1278,
    "start_time": "2024-11-09T19:15:12.435Z"
   },
   {
    "duration": 206,
    "start_time": "2024-11-09T19:15:28.591Z"
   },
   {
    "duration": 15,
    "start_time": "2024-11-09T19:15:38.283Z"
   },
   {
    "duration": 4,
    "start_time": "2024-11-09T19:15:49.469Z"
   },
   {
    "duration": 5,
    "start_time": "2024-11-09T20:08:06.393Z"
   },
   {
    "duration": 166,
    "start_time": "2024-11-09T20:10:45.332Z"
   },
   {
    "duration": 1146,
    "start_time": "2024-11-09T20:16:08.644Z"
   },
   {
    "duration": 55,
    "start_time": "2024-11-09T20:16:09.792Z"
   },
   {
    "duration": 14,
    "start_time": "2024-11-09T20:16:09.848Z"
   },
   {
    "duration": 2,
    "start_time": "2024-11-09T20:16:09.863Z"
   },
   {
    "duration": 4,
    "start_time": "2024-11-09T20:16:09.867Z"
   },
   {
    "duration": 322,
    "start_time": "2024-11-09T20:16:09.872Z"
   },
   {
    "duration": 299,
    "start_time": "2024-11-09T20:16:18.228Z"
   },
   {
    "duration": 308,
    "start_time": "2024-11-09T20:17:17.005Z"
   },
   {
    "duration": 302,
    "start_time": "2024-11-09T20:17:22.287Z"
   },
   {
    "duration": 5,
    "start_time": "2024-11-09T20:18:44.693Z"
   },
   {
    "duration": 863,
    "start_time": "2024-11-09T20:21:58.800Z"
   },
   {
    "duration": 8,
    "start_time": "2024-11-09T20:22:09.874Z"
   },
   {
    "duration": 8,
    "start_time": "2024-11-09T20:22:22.910Z"
   },
   {
    "duration": 7,
    "start_time": "2024-11-09T20:22:42.879Z"
   },
   {
    "duration": 8,
    "start_time": "2024-11-09T20:23:44.426Z"
   },
   {
    "duration": 8,
    "start_time": "2024-11-09T20:23:56.909Z"
   },
   {
    "duration": 8,
    "start_time": "2024-11-09T20:24:11.642Z"
   },
   {
    "duration": 7,
    "start_time": "2024-11-09T20:24:17.058Z"
   },
   {
    "duration": 8,
    "start_time": "2024-11-09T20:24:31.065Z"
   },
   {
    "duration": 316,
    "start_time": "2024-11-09T20:25:09.945Z"
   },
   {
    "duration": 11,
    "start_time": "2024-11-09T20:26:28.000Z"
   },
   {
    "duration": 15,
    "start_time": "2024-11-09T20:26:57.135Z"
   },
   {
    "duration": 9,
    "start_time": "2024-11-09T20:27:12.413Z"
   },
   {
    "duration": 10,
    "start_time": "2024-11-09T20:27:43.160Z"
   },
   {
    "duration": 13,
    "start_time": "2024-11-09T20:28:48.818Z"
   },
   {
    "duration": 310,
    "start_time": "2024-11-09T20:28:53.959Z"
   },
   {
    "duration": 10,
    "start_time": "2024-11-09T20:30:14.540Z"
   },
   {
    "duration": 5,
    "start_time": "2024-11-09T20:30:19.743Z"
   },
   {
    "duration": 1448,
    "start_time": "2024-11-10T16:52:35.342Z"
   },
   {
    "duration": 184,
    "start_time": "2024-11-10T16:52:36.792Z"
   },
   {
    "duration": 17,
    "start_time": "2024-11-10T16:52:36.978Z"
   },
   {
    "duration": 22,
    "start_time": "2024-11-10T16:52:36.997Z"
   },
   {
    "duration": 3,
    "start_time": "2024-11-10T16:52:37.022Z"
   },
   {
    "duration": 388,
    "start_time": "2024-11-10T16:52:37.026Z"
   },
   {
    "duration": 6,
    "start_time": "2024-11-10T16:52:37.416Z"
   },
   {
    "duration": 397,
    "start_time": "2024-11-10T16:52:37.424Z"
   },
   {
    "duration": 25,
    "start_time": "2024-11-10T16:52:37.823Z"
   },
   {
    "duration": 10,
    "start_time": "2024-11-10T16:52:37.850Z"
   },
   {
    "duration": 4,
    "start_time": "2024-11-10T16:52:37.862Z"
   },
   {
    "duration": 9,
    "start_time": "2024-11-10T16:53:03.778Z"
   },
   {
    "duration": 14,
    "start_time": "2024-11-10T16:53:21.887Z"
   },
   {
    "duration": 9,
    "start_time": "2024-11-10T16:53:42.333Z"
   },
   {
    "duration": 1218,
    "start_time": "2024-11-10T16:53:48.968Z"
   },
   {
    "duration": 63,
    "start_time": "2024-11-10T16:53:50.188Z"
   },
   {
    "duration": 16,
    "start_time": "2024-11-10T16:53:50.252Z"
   },
   {
    "duration": 16,
    "start_time": "2024-11-10T16:53:50.270Z"
   },
   {
    "duration": 8,
    "start_time": "2024-11-10T16:53:50.289Z"
   },
   {
    "duration": 393,
    "start_time": "2024-11-10T16:53:50.299Z"
   },
   {
    "duration": 28,
    "start_time": "2024-11-10T16:53:50.694Z"
   },
   {
    "duration": 360,
    "start_time": "2024-11-10T16:53:50.723Z"
   },
   {
    "duration": 29,
    "start_time": "2024-11-10T16:53:51.085Z"
   },
   {
    "duration": 28,
    "start_time": "2024-11-10T16:53:51.116Z"
   },
   {
    "duration": 9,
    "start_time": "2024-11-10T16:53:51.146Z"
   },
   {
    "duration": 48,
    "start_time": "2024-11-10T16:53:51.156Z"
   },
   {
    "duration": 27,
    "start_time": "2024-11-10T16:53:51.206Z"
   },
   {
    "duration": 13,
    "start_time": "2024-11-10T16:54:49.770Z"
   },
   {
    "duration": 18,
    "start_time": "2024-11-10T16:54:59.868Z"
   },
   {
    "duration": 15,
    "start_time": "2024-11-10T16:55:17.640Z"
   },
   {
    "duration": 13,
    "start_time": "2024-11-10T16:55:21.087Z"
   },
   {
    "duration": 9,
    "start_time": "2024-11-10T16:55:24.574Z"
   },
   {
    "duration": 7,
    "start_time": "2024-11-10T16:55:39.246Z"
   },
   {
    "duration": 6,
    "start_time": "2024-11-10T17:08:46.795Z"
   },
   {
    "duration": 1392,
    "start_time": "2024-11-12T12:19:52.778Z"
   },
   {
    "duration": 228,
    "start_time": "2024-11-12T12:19:54.172Z"
   },
   {
    "duration": 16,
    "start_time": "2024-11-12T12:19:54.402Z"
   },
   {
    "duration": 15,
    "start_time": "2024-11-12T12:19:54.420Z"
   },
   {
    "duration": 3,
    "start_time": "2024-11-12T12:19:54.437Z"
   },
   {
    "duration": 358,
    "start_time": "2024-11-12T12:19:54.442Z"
   },
   {
    "duration": 5,
    "start_time": "2024-11-12T12:19:54.801Z"
   },
   {
    "duration": 351,
    "start_time": "2024-11-12T12:19:54.808Z"
   },
   {
    "duration": 19,
    "start_time": "2024-11-12T12:19:55.161Z"
   },
   {
    "duration": 23,
    "start_time": "2024-11-12T12:19:55.181Z"
   },
   {
    "duration": 6,
    "start_time": "2024-11-12T12:19:55.205Z"
   },
   {
    "duration": 16,
    "start_time": "2024-11-12T12:19:55.212Z"
   },
   {
    "duration": 15,
    "start_time": "2024-11-12T12:19:55.229Z"
   },
   {
    "duration": 28,
    "start_time": "2024-11-12T12:19:55.246Z"
   },
   {
    "duration": 34,
    "start_time": "2024-11-12T12:19:55.276Z"
   },
   {
    "duration": 9,
    "start_time": "2024-11-12T12:19:55.312Z"
   },
   {
    "duration": 4,
    "start_time": "2024-11-12T12:19:55.323Z"
   },
   {
    "duration": 7,
    "start_time": "2024-11-12T12:19:55.329Z"
   },
   {
    "duration": 11,
    "start_time": "2024-11-12T12:19:55.338Z"
   },
   {
    "duration": 60,
    "start_time": "2024-12-30T12:04:28.386Z"
   },
   {
    "duration": 1418,
    "start_time": "2024-12-30T12:04:32.281Z"
   },
   {
    "duration": 120,
    "start_time": "2024-12-30T12:04:33.701Z"
   },
   {
    "duration": 24,
    "start_time": "2024-12-30T12:04:33.823Z"
   },
   {
    "duration": 79,
    "start_time": "2024-12-30T12:04:33.848Z"
   },
   {
    "duration": 14,
    "start_time": "2024-12-30T12:04:33.930Z"
   },
   {
    "duration": 354,
    "start_time": "2024-12-30T12:04:33.947Z"
   },
   {
    "duration": 6,
    "start_time": "2024-12-30T12:04:34.302Z"
   },
   {
    "duration": 354,
    "start_time": "2024-12-30T12:04:34.309Z"
   },
   {
    "duration": 19,
    "start_time": "2024-12-30T12:04:34.665Z"
   },
   {
    "duration": 10,
    "start_time": "2024-12-30T12:04:34.687Z"
   },
   {
    "duration": 24,
    "start_time": "2024-12-30T12:04:34.698Z"
   },
   {
    "duration": 150,
    "start_time": "2024-12-30T12:04:34.724Z"
   },
   {
    "duration": 27,
    "start_time": "2024-12-30T12:04:34.876Z"
   },
   {
    "duration": 21,
    "start_time": "2024-12-30T12:04:34.905Z"
   },
   {
    "duration": 84,
    "start_time": "2024-12-30T12:04:34.927Z"
   },
   {
    "duration": 27,
    "start_time": "2024-12-30T12:04:35.012Z"
   },
   {
    "duration": 5,
    "start_time": "2024-12-30T12:04:35.043Z"
   },
   {
    "duration": 8,
    "start_time": "2024-12-30T12:04:35.050Z"
   },
   {
    "duration": 4,
    "start_time": "2024-12-30T12:04:35.059Z"
   },
   {
    "duration": 1286,
    "start_time": "2025-01-03T14:56:01.689Z"
   },
   {
    "duration": 192,
    "start_time": "2025-01-03T14:56:02.978Z"
   },
   {
    "duration": 14,
    "start_time": "2025-01-03T14:56:03.171Z"
   },
   {
    "duration": 25,
    "start_time": "2025-01-03T14:56:03.187Z"
   },
   {
    "duration": 10,
    "start_time": "2025-01-03T14:56:03.214Z"
   },
   {
    "duration": 299,
    "start_time": "2025-01-03T14:56:03.225Z"
   },
   {
    "duration": 5,
    "start_time": "2025-01-03T14:56:03.526Z"
   },
   {
    "duration": 313,
    "start_time": "2025-01-03T14:56:03.532Z"
   },
   {
    "duration": 15,
    "start_time": "2025-01-03T14:56:03.846Z"
   },
   {
    "duration": 7,
    "start_time": "2025-01-03T14:56:03.862Z"
   },
   {
    "duration": 18,
    "start_time": "2025-01-03T14:56:03.870Z"
   },
   {
    "duration": 6,
    "start_time": "2025-01-03T14:56:03.890Z"
   },
   {
    "duration": 52,
    "start_time": "2025-01-03T14:56:03.898Z"
   },
   {
    "duration": 12,
    "start_time": "2025-01-03T14:56:03.952Z"
   },
   {
    "duration": 14,
    "start_time": "2025-01-03T14:56:03.966Z"
   },
   {
    "duration": 11,
    "start_time": "2025-01-03T14:56:03.982Z"
   },
   {
    "duration": 4,
    "start_time": "2025-01-03T14:56:03.994Z"
   },
   {
    "duration": 24,
    "start_time": "2025-01-03T14:56:03.999Z"
   },
   {
    "duration": 20,
    "start_time": "2025-01-03T14:56:04.024Z"
   },
   {
    "duration": 13,
    "start_time": "2025-01-03T14:59:29.005Z"
   },
   {
    "duration": 17,
    "start_time": "2025-01-03T14:59:45.206Z"
   },
   {
    "duration": 1480,
    "start_time": "2025-02-02T21:37:25.893Z"
   },
   {
    "duration": 187,
    "start_time": "2025-02-02T21:37:27.375Z"
   },
   {
    "duration": 18,
    "start_time": "2025-02-02T21:37:27.564Z"
   },
   {
    "duration": 11,
    "start_time": "2025-02-02T21:37:27.584Z"
   },
   {
    "duration": 3,
    "start_time": "2025-02-02T21:37:27.597Z"
   },
   {
    "duration": 361,
    "start_time": "2025-02-02T21:37:27.602Z"
   },
   {
    "duration": 6,
    "start_time": "2025-02-02T21:37:27.965Z"
   },
   {
    "duration": 361,
    "start_time": "2025-02-02T21:37:27.972Z"
   },
   {
    "duration": 18,
    "start_time": "2025-02-02T21:37:28.335Z"
   },
   {
    "duration": 9,
    "start_time": "2025-02-02T21:37:28.355Z"
   },
   {
    "duration": 21,
    "start_time": "2025-02-02T21:37:28.366Z"
   },
   {
    "duration": 31,
    "start_time": "2025-02-02T21:37:28.389Z"
   },
   {
    "duration": 16,
    "start_time": "2025-02-02T21:37:28.422Z"
   },
   {
    "duration": 15,
    "start_time": "2025-02-02T21:37:28.441Z"
   },
   {
    "duration": 19,
    "start_time": "2025-02-02T21:37:28.457Z"
   },
   {
    "duration": 11,
    "start_time": "2025-02-02T21:37:28.500Z"
   },
   {
    "duration": 20,
    "start_time": "2025-02-02T21:37:28.513Z"
   },
   {
    "duration": 8,
    "start_time": "2025-02-02T21:37:28.535Z"
   },
   {
    "duration": 3,
    "start_time": "2025-02-02T21:37:28.545Z"
   },
   {
    "duration": 1275,
    "start_time": "2025-02-02T21:50:43.515Z"
   },
   {
    "duration": 5,
    "start_time": "2025-02-02T21:53:55.333Z"
   },
   {
    "duration": 1306,
    "start_time": "2025-02-02T21:53:58.011Z"
   },
   {
    "duration": 1356,
    "start_time": "2025-02-02T21:54:42.232Z"
   },
   {
    "duration": 535,
    "start_time": "2025-02-02T21:54:51.589Z"
   },
   {
    "duration": 16,
    "start_time": "2025-02-02T21:56:13.445Z"
   },
   {
    "duration": 1231,
    "start_time": "2025-02-02T21:56:21.953Z"
   },
   {
    "duration": 1365,
    "start_time": "2025-02-02T21:56:32.984Z"
   },
   {
    "duration": 1256,
    "start_time": "2025-02-02T22:00:01.950Z"
   },
   {
    "duration": 11,
    "start_time": "2025-02-02T22:10:10.169Z"
   },
   {
    "duration": 8,
    "start_time": "2025-02-02T22:11:57.391Z"
   },
   {
    "duration": 15,
    "start_time": "2025-02-02T22:14:59.195Z"
   },
   {
    "duration": 18,
    "start_time": "2025-02-02T22:16:49.048Z"
   },
   {
    "duration": 51,
    "start_time": "2025-03-11T23:39:16.460Z"
   },
   {
    "duration": 1347,
    "start_time": "2025-03-11T23:39:21.484Z"
   },
   {
    "duration": 58,
    "start_time": "2025-03-11T23:39:22.834Z"
   },
   {
    "duration": 18,
    "start_time": "2025-03-11T23:39:22.894Z"
   },
   {
    "duration": 14,
    "start_time": "2025-03-11T23:39:22.914Z"
   },
   {
    "duration": 9,
    "start_time": "2025-03-11T23:39:22.930Z"
   },
   {
    "duration": 12,
    "start_time": "2025-03-11T23:39:22.940Z"
   },
   {
    "duration": 348,
    "start_time": "2025-03-11T23:39:22.954Z"
   },
   {
    "duration": 5,
    "start_time": "2025-03-11T23:39:23.304Z"
   },
   {
    "duration": 1231,
    "start_time": "2025-03-11T23:39:23.310Z"
   },
   {
    "duration": 1253,
    "start_time": "2025-03-11T23:39:24.543Z"
   },
   {
    "duration": 14,
    "start_time": "2025-03-11T23:39:25.797Z"
   },
   {
    "duration": 17,
    "start_time": "2025-03-11T23:39:25.812Z"
   },
   {
    "duration": 4,
    "start_time": "2025-03-11T23:39:25.830Z"
   },
   {
    "duration": 9,
    "start_time": "2025-03-11T23:39:25.837Z"
   },
   {
    "duration": 32,
    "start_time": "2025-03-11T23:39:25.847Z"
   },
   {
    "duration": 17,
    "start_time": "2025-03-11T23:39:25.881Z"
   },
   {
    "duration": 8,
    "start_time": "2025-03-11T23:39:25.899Z"
   },
   {
    "duration": 17,
    "start_time": "2025-03-11T23:39:25.908Z"
   },
   {
    "duration": 5,
    "start_time": "2025-03-11T23:39:25.926Z"
   },
   {
    "duration": 3,
    "start_time": "2025-03-11T23:39:25.932Z"
   },
   {
    "duration": 3,
    "start_time": "2025-03-11T23:39:35.786Z"
   },
   {
    "duration": 2,
    "start_time": "2025-03-11T23:41:52.714Z"
   },
   {
    "duration": 3,
    "start_time": "2025-03-11T23:43:35.010Z"
   },
   {
    "duration": 3,
    "start_time": "2025-03-11T23:44:50.539Z"
   },
   {
    "duration": 107,
    "start_time": "2025-03-11T23:45:10.701Z"
   },
   {
    "duration": 10,
    "start_time": "2025-03-12T00:01:04.262Z"
   },
   {
    "duration": 1143,
    "start_time": "2025-03-12T00:02:52.006Z"
   },
   {
    "duration": 47,
    "start_time": "2025-03-12T00:02:53.151Z"
   },
   {
    "duration": 18,
    "start_time": "2025-03-12T00:02:53.200Z"
   },
   {
    "duration": 25,
    "start_time": "2025-03-12T00:02:53.220Z"
   },
   {
    "duration": 26,
    "start_time": "2025-03-12T00:02:53.247Z"
   },
   {
    "duration": 12,
    "start_time": "2025-03-12T00:02:53.275Z"
   },
   {
    "duration": 43,
    "start_time": "2025-03-12T00:02:53.289Z"
   },
   {
    "duration": 347,
    "start_time": "2025-03-12T00:02:53.334Z"
   },
   {
    "duration": 6,
    "start_time": "2025-03-12T00:02:53.683Z"
   },
   {
    "duration": 1241,
    "start_time": "2025-03-12T00:02:53.691Z"
   },
   {
    "duration": 1233,
    "start_time": "2025-03-12T00:02:54.934Z"
   },
   {
    "duration": 16,
    "start_time": "2025-03-12T00:02:56.168Z"
   },
   {
    "duration": 10,
    "start_time": "2025-03-12T00:02:56.186Z"
   },
   {
    "duration": 5,
    "start_time": "2025-03-12T00:02:56.199Z"
   },
   {
    "duration": 9,
    "start_time": "2025-03-12T00:02:56.206Z"
   },
   {
    "duration": 15,
    "start_time": "2025-03-12T00:02:56.217Z"
   },
   {
    "duration": 55,
    "start_time": "2025-03-12T00:02:56.234Z"
   },
   {
    "duration": 11,
    "start_time": "2025-03-12T00:02:56.290Z"
   },
   {
    "duration": 23,
    "start_time": "2025-03-12T00:02:56.302Z"
   },
   {
    "duration": 6,
    "start_time": "2025-03-12T00:02:56.327Z"
   },
   {
    "duration": 11,
    "start_time": "2025-03-12T00:02:56.334Z"
   },
   {
    "duration": 9,
    "start_time": "2025-03-12T00:26:32.239Z"
   },
   {
    "duration": 1162,
    "start_time": "2025-03-12T00:26:36.687Z"
   },
   {
    "duration": 57,
    "start_time": "2025-03-12T00:26:37.851Z"
   },
   {
    "duration": 19,
    "start_time": "2025-03-12T00:26:37.910Z"
   },
   {
    "duration": 15,
    "start_time": "2025-03-12T00:26:37.930Z"
   },
   {
    "duration": 8,
    "start_time": "2025-03-12T00:26:37.947Z"
   },
   {
    "duration": 18,
    "start_time": "2025-03-12T00:26:37.957Z"
   },
   {
    "duration": 24,
    "start_time": "2025-03-12T00:26:37.977Z"
   },
   {
    "duration": 13,
    "start_time": "2025-03-12T00:26:38.002Z"
   },
   {
    "duration": 353,
    "start_time": "2025-03-12T00:26:38.016Z"
   },
   {
    "duration": 5,
    "start_time": "2025-03-12T00:26:38.373Z"
   },
   {
    "duration": 1235,
    "start_time": "2025-03-12T00:26:38.379Z"
   },
   {
    "duration": 1250,
    "start_time": "2025-03-12T00:26:39.615Z"
   },
   {
    "duration": 19,
    "start_time": "2025-03-12T00:26:40.867Z"
   },
   {
    "duration": 19,
    "start_time": "2025-03-12T00:26:40.889Z"
   },
   {
    "duration": 5,
    "start_time": "2025-03-12T00:26:40.910Z"
   },
   {
    "duration": 13,
    "start_time": "2025-03-12T00:26:40.916Z"
   },
   {
    "duration": 15,
    "start_time": "2025-03-12T00:26:40.931Z"
   },
   {
    "duration": 33,
    "start_time": "2025-03-12T00:26:40.948Z"
   },
   {
    "duration": 9,
    "start_time": "2025-03-12T00:26:40.982Z"
   },
   {
    "duration": 17,
    "start_time": "2025-03-12T00:26:40.993Z"
   },
   {
    "duration": 5,
    "start_time": "2025-03-12T00:26:41.012Z"
   },
   {
    "duration": 12,
    "start_time": "2025-03-12T00:26:41.019Z"
   },
   {
    "duration": 74,
    "start_time": "2025-03-12T00:28:01.462Z"
   },
   {
    "duration": 108,
    "start_time": "2025-03-12T00:28:11.418Z"
   },
   {
    "duration": 8,
    "start_time": "2025-03-12T00:28:34.952Z"
   },
   {
    "duration": 164,
    "start_time": "2025-03-12T00:29:50.026Z"
   },
   {
    "duration": 12,
    "start_time": "2025-03-12T00:29:52.722Z"
   },
   {
    "duration": 1168,
    "start_time": "2025-03-12T00:29:57.080Z"
   },
   {
    "duration": 45,
    "start_time": "2025-03-12T00:29:58.249Z"
   },
   {
    "duration": 17,
    "start_time": "2025-03-12T00:29:58.295Z"
   },
   {
    "duration": 15,
    "start_time": "2025-03-12T00:29:58.314Z"
   },
   {
    "duration": 13,
    "start_time": "2025-03-12T00:29:58.330Z"
   },
   {
    "duration": 12,
    "start_time": "2025-03-12T00:29:58.345Z"
   },
   {
    "duration": 26,
    "start_time": "2025-03-12T00:29:58.359Z"
   },
   {
    "duration": 12,
    "start_time": "2025-03-12T00:29:58.387Z"
   },
   {
    "duration": 10,
    "start_time": "2025-03-12T00:29:58.401Z"
   },
   {
    "duration": 21,
    "start_time": "2025-03-12T00:29:58.413Z"
   },
   {
    "duration": 356,
    "start_time": "2025-03-12T00:29:58.435Z"
   },
   {
    "duration": 5,
    "start_time": "2025-03-12T00:29:58.792Z"
   },
   {
    "duration": 1222,
    "start_time": "2025-03-12T00:29:58.798Z"
   },
   {
    "duration": 1237,
    "start_time": "2025-03-12T00:30:00.022Z"
   },
   {
    "duration": 15,
    "start_time": "2025-03-12T00:30:01.261Z"
   },
   {
    "duration": 19,
    "start_time": "2025-03-12T00:30:01.278Z"
   },
   {
    "duration": 12,
    "start_time": "2025-03-12T00:30:01.299Z"
   },
   {
    "duration": 14,
    "start_time": "2025-03-12T00:30:01.313Z"
   },
   {
    "duration": 29,
    "start_time": "2025-03-12T00:30:01.329Z"
   },
   {
    "duration": 35,
    "start_time": "2025-03-12T00:30:01.360Z"
   },
   {
    "duration": 19,
    "start_time": "2025-03-12T00:30:01.397Z"
   },
   {
    "duration": 17,
    "start_time": "2025-03-12T00:30:01.418Z"
   },
   {
    "duration": 39,
    "start_time": "2025-03-12T00:30:01.436Z"
   },
   {
    "duration": 4,
    "start_time": "2025-03-12T00:30:01.476Z"
   },
   {
    "duration": 103,
    "start_time": "2025-03-12T00:34:26.046Z"
   },
   {
    "duration": 114,
    "start_time": "2025-03-12T00:34:29.584Z"
   },
   {
    "duration": 10,
    "start_time": "2025-03-12T00:34:36.928Z"
   },
   {
    "duration": 102,
    "start_time": "2025-03-12T00:34:45.972Z"
   },
   {
    "duration": 5,
    "start_time": "2025-03-12T00:35:00.738Z"
   },
   {
    "duration": 5,
    "start_time": "2025-03-12T00:35:11.218Z"
   },
   {
    "duration": 1230,
    "start_time": "2025-03-12T00:35:15.546Z"
   },
   {
    "duration": 64,
    "start_time": "2025-03-12T00:35:16.778Z"
   },
   {
    "duration": 18,
    "start_time": "2025-03-12T00:35:16.843Z"
   },
   {
    "duration": 19,
    "start_time": "2025-03-12T00:35:16.864Z"
   },
   {
    "duration": 11,
    "start_time": "2025-03-12T00:35:16.885Z"
   },
   {
    "duration": 7,
    "start_time": "2025-03-12T00:35:16.897Z"
   },
   {
    "duration": 14,
    "start_time": "2025-03-12T00:35:16.906Z"
   },
   {
    "duration": 13,
    "start_time": "2025-03-12T00:35:16.921Z"
   },
   {
    "duration": 10,
    "start_time": "2025-03-12T00:35:16.935Z"
   },
   {
    "duration": 29,
    "start_time": "2025-03-12T00:35:16.948Z"
   },
   {
    "duration": 22,
    "start_time": "2025-03-12T00:35:16.979Z"
   },
   {
    "duration": 374,
    "start_time": "2025-03-12T00:35:17.002Z"
   },
   {
    "duration": 5,
    "start_time": "2025-03-12T00:35:17.378Z"
   },
   {
    "duration": 1306,
    "start_time": "2025-03-12T00:35:17.385Z"
   },
   {
    "duration": 1320,
    "start_time": "2025-03-12T00:35:18.693Z"
   },
   {
    "duration": 10,
    "start_time": "2025-03-12T00:35:20.016Z"
   },
   {
    "duration": 11,
    "start_time": "2025-03-12T00:35:20.028Z"
   },
   {
    "duration": 4,
    "start_time": "2025-03-12T00:35:20.041Z"
   },
   {
    "duration": 35,
    "start_time": "2025-03-12T00:35:20.046Z"
   },
   {
    "duration": 16,
    "start_time": "2025-03-12T00:35:20.083Z"
   },
   {
    "duration": 19,
    "start_time": "2025-03-12T00:35:20.101Z"
   },
   {
    "duration": 9,
    "start_time": "2025-03-12T00:35:20.121Z"
   },
   {
    "duration": 42,
    "start_time": "2025-03-12T00:35:20.131Z"
   },
   {
    "duration": 8,
    "start_time": "2025-03-12T00:35:20.176Z"
   },
   {
    "duration": 3,
    "start_time": "2025-03-12T00:35:20.186Z"
   },
   {
    "duration": 45,
    "start_time": "2025-03-12T22:54:40.699Z"
   },
   {
    "duration": 1338,
    "start_time": "2025-03-12T22:54:46.042Z"
   },
   {
    "duration": 54,
    "start_time": "2025-03-12T22:54:47.382Z"
   },
   {
    "duration": 17,
    "start_time": "2025-03-12T22:54:47.437Z"
   },
   {
    "duration": 15,
    "start_time": "2025-03-12T22:54:47.455Z"
   },
   {
    "duration": 10,
    "start_time": "2025-03-12T22:54:47.472Z"
   },
   {
    "duration": 10,
    "start_time": "2025-03-12T22:54:47.483Z"
   },
   {
    "duration": 13,
    "start_time": "2025-03-12T22:54:47.494Z"
   },
   {
    "duration": 13,
    "start_time": "2025-03-12T22:54:47.509Z"
   },
   {
    "duration": 9,
    "start_time": "2025-03-12T22:54:47.523Z"
   },
   {
    "duration": 5,
    "start_time": "2025-03-12T22:54:47.533Z"
   },
   {
    "duration": 21,
    "start_time": "2025-03-12T22:54:47.568Z"
   },
   {
    "duration": 327,
    "start_time": "2025-03-12T22:54:47.590Z"
   },
   {
    "duration": 5,
    "start_time": "2025-03-12T22:54:47.919Z"
   },
   {
    "duration": 1150,
    "start_time": "2025-03-12T22:54:47.926Z"
   },
   {
    "duration": 5,
    "start_time": "2025-03-12T22:54:49.078Z"
   },
   {
    "duration": 5,
    "start_time": "2025-03-12T22:54:49.084Z"
   },
   {
    "duration": 10,
    "start_time": "2025-03-12T22:54:49.090Z"
   },
   {
    "duration": 13,
    "start_time": "2025-03-12T22:54:49.101Z"
   },
   {
    "duration": 16,
    "start_time": "2025-03-12T22:54:49.116Z"
   },
   {
    "duration": 42,
    "start_time": "2025-03-12T22:54:49.133Z"
   },
   {
    "duration": 16,
    "start_time": "2025-03-12T22:54:49.177Z"
   },
   {
    "duration": 5,
    "start_time": "2025-03-12T22:54:49.194Z"
   },
   {
    "duration": 2,
    "start_time": "2025-03-12T22:54:49.201Z"
   },
   {
    "duration": 6,
    "start_time": "2025-03-12T22:55:43.682Z"
   },
   {
    "duration": 1081,
    "start_time": "2025-03-12T22:57:11.912Z"
   },
   {
    "duration": 44,
    "start_time": "2025-03-12T22:57:12.995Z"
   },
   {
    "duration": 17,
    "start_time": "2025-03-12T22:57:13.041Z"
   },
   {
    "duration": 17,
    "start_time": "2025-03-12T22:57:13.059Z"
   },
   {
    "duration": 9,
    "start_time": "2025-03-12T22:57:13.078Z"
   },
   {
    "duration": 17,
    "start_time": "2025-03-12T22:57:13.089Z"
   },
   {
    "duration": 16,
    "start_time": "2025-03-12T22:57:13.107Z"
   },
   {
    "duration": 16,
    "start_time": "2025-03-12T22:57:13.124Z"
   },
   {
    "duration": 8,
    "start_time": "2025-03-12T22:57:13.142Z"
   },
   {
    "duration": 16,
    "start_time": "2025-03-12T22:57:13.152Z"
   },
   {
    "duration": 21,
    "start_time": "2025-03-12T22:57:13.170Z"
   },
   {
    "duration": 339,
    "start_time": "2025-03-12T22:57:13.193Z"
   },
   {
    "duration": 5,
    "start_time": "2025-03-12T22:57:13.534Z"
   },
   {
    "duration": 1166,
    "start_time": "2025-03-12T22:57:13.542Z"
   },
   {
    "duration": 4,
    "start_time": "2025-03-12T22:57:14.710Z"
   },
   {
    "duration": 7,
    "start_time": "2025-03-12T22:57:14.716Z"
   },
   {
    "duration": 5,
    "start_time": "2025-03-12T22:57:14.724Z"
   },
   {
    "duration": 10,
    "start_time": "2025-03-12T22:57:14.730Z"
   },
   {
    "duration": 35,
    "start_time": "2025-03-12T22:57:14.741Z"
   },
   {
    "duration": 16,
    "start_time": "2025-03-12T22:57:14.777Z"
   },
   {
    "duration": 11,
    "start_time": "2025-03-12T22:57:14.795Z"
   },
   {
    "duration": 15,
    "start_time": "2025-03-12T22:57:14.808Z"
   },
   {
    "duration": 11,
    "start_time": "2025-03-12T22:57:14.824Z"
   },
   {
    "duration": 8,
    "start_time": "2025-03-12T22:57:14.836Z"
   },
   {
    "duration": 1601,
    "start_time": "2025-03-12T23:03:53.734Z"
   },
   {
    "duration": 299,
    "start_time": "2025-03-12T23:04:08.086Z"
   },
   {
    "duration": 296,
    "start_time": "2025-03-12T23:04:21.197Z"
   },
   {
    "duration": 310,
    "start_time": "2025-03-12T23:05:48.866Z"
   },
   {
    "duration": 5,
    "start_time": "2025-03-12T23:06:07.943Z"
   },
   {
    "duration": 14,
    "start_time": "2025-03-12T23:35:13.196Z"
   },
   {
    "duration": 1218,
    "start_time": "2025-03-12T23:53:08.649Z"
   },
   {
    "duration": 43,
    "start_time": "2025-03-12T23:53:09.869Z"
   },
   {
    "duration": 18,
    "start_time": "2025-03-12T23:53:09.914Z"
   },
   {
    "duration": 14,
    "start_time": "2025-03-12T23:53:09.933Z"
   },
   {
    "duration": 21,
    "start_time": "2025-03-12T23:53:09.949Z"
   },
   {
    "duration": 2,
    "start_time": "2025-03-12T23:53:09.972Z"
   },
   {
    "duration": 15,
    "start_time": "2025-03-12T23:53:09.976Z"
   },
   {
    "duration": 12,
    "start_time": "2025-03-12T23:53:09.992Z"
   },
   {
    "duration": 9,
    "start_time": "2025-03-12T23:53:10.006Z"
   },
   {
    "duration": 5,
    "start_time": "2025-03-12T23:53:10.017Z"
   },
   {
    "duration": 49,
    "start_time": "2025-03-12T23:53:10.023Z"
   },
   {
    "duration": 351,
    "start_time": "2025-03-12T23:53:10.074Z"
   },
   {
    "duration": 5,
    "start_time": "2025-03-12T23:53:10.426Z"
   },
   {
    "duration": 13,
    "start_time": "2025-03-12T23:53:10.432Z"
   },
   {
    "duration": 21,
    "start_time": "2025-03-12T23:53:10.448Z"
   },
   {
    "duration": 15,
    "start_time": "2025-03-12T23:53:10.470Z"
   },
   {
    "duration": 4,
    "start_time": "2025-03-12T23:53:10.487Z"
   },
   {
    "duration": 9,
    "start_time": "2025-03-12T23:53:10.493Z"
   },
   {
    "duration": 14,
    "start_time": "2025-03-12T23:53:10.503Z"
   },
   {
    "duration": 17,
    "start_time": "2025-03-12T23:53:10.518Z"
   },
   {
    "duration": 38,
    "start_time": "2025-03-12T23:53:10.536Z"
   },
   {
    "duration": 18,
    "start_time": "2025-03-12T23:53:10.577Z"
   },
   {
    "duration": 14,
    "start_time": "2025-03-12T23:53:10.597Z"
   },
   {
    "duration": 60,
    "start_time": "2025-03-12T23:53:10.613Z"
   },
   {
    "duration": 2,
    "start_time": "2025-03-12T23:53:10.676Z"
   },
   {
    "duration": 344,
    "start_time": "2025-03-12T23:55:01.520Z"
   },
   {
    "duration": 28,
    "start_time": "2025-03-12T23:56:42.135Z"
   },
   {
    "duration": 1174,
    "start_time": "2025-03-12T23:56:49.985Z"
   },
   {
    "duration": 49,
    "start_time": "2025-03-12T23:56:51.161Z"
   },
   {
    "duration": 16,
    "start_time": "2025-03-12T23:56:51.212Z"
   },
   {
    "duration": 13,
    "start_time": "2025-03-12T23:56:51.230Z"
   },
   {
    "duration": 8,
    "start_time": "2025-03-12T23:56:51.245Z"
   },
   {
    "duration": 17,
    "start_time": "2025-03-12T23:56:51.254Z"
   },
   {
    "duration": 20,
    "start_time": "2025-03-12T23:56:51.274Z"
   },
   {
    "duration": 13,
    "start_time": "2025-03-12T23:56:51.295Z"
   },
   {
    "duration": 14,
    "start_time": "2025-03-12T23:56:51.309Z"
   },
   {
    "duration": 4,
    "start_time": "2025-03-12T23:56:51.324Z"
   },
   {
    "duration": 41,
    "start_time": "2025-03-12T23:56:51.330Z"
   },
   {
    "duration": 347,
    "start_time": "2025-03-12T23:56:51.374Z"
   },
   {
    "duration": 5,
    "start_time": "2025-03-12T23:56:51.722Z"
   },
   {
    "duration": 15,
    "start_time": "2025-03-12T23:56:51.729Z"
   },
   {
    "duration": 4,
    "start_time": "2025-03-12T23:56:51.745Z"
   },
   {
    "duration": 23,
    "start_time": "2025-03-12T23:56:51.751Z"
   },
   {
    "duration": 12,
    "start_time": "2025-03-12T23:56:51.777Z"
   },
   {
    "duration": 8,
    "start_time": "2025-03-12T23:56:51.791Z"
   },
   {
    "duration": 15,
    "start_time": "2025-03-12T23:56:51.800Z"
   },
   {
    "duration": 16,
    "start_time": "2025-03-12T23:56:51.817Z"
   },
   {
    "duration": 37,
    "start_time": "2025-03-12T23:56:51.835Z"
   },
   {
    "duration": 17,
    "start_time": "2025-03-12T23:56:51.874Z"
   },
   {
    "duration": 14,
    "start_time": "2025-03-12T23:56:51.892Z"
   },
   {
    "duration": 25,
    "start_time": "2025-03-12T23:56:51.907Z"
   },
   {
    "duration": 5,
    "start_time": "2025-03-12T23:56:51.934Z"
   },
   {
    "duration": 2,
    "start_time": "2025-03-12T23:56:51.968Z"
   },
   {
    "duration": 107,
    "start_time": "2025-03-13T00:07:33.986Z"
   },
   {
    "duration": 111,
    "start_time": "2025-03-13T00:07:39.602Z"
   },
   {
    "duration": 22,
    "start_time": "2025-03-13T00:07:45.452Z"
   },
   {
    "duration": 5,
    "start_time": "2025-03-13T00:08:22.349Z"
   },
   {
    "duration": 313,
    "start_time": "2025-03-13T00:10:01.123Z"
   },
   {
    "duration": 1170,
    "start_time": "2025-03-13T00:10:11.997Z"
   },
   {
    "duration": 44,
    "start_time": "2025-03-13T00:10:13.169Z"
   },
   {
    "duration": 17,
    "start_time": "2025-03-13T00:10:13.215Z"
   },
   {
    "duration": 20,
    "start_time": "2025-03-13T00:10:13.234Z"
   },
   {
    "duration": 31,
    "start_time": "2025-03-13T00:10:13.256Z"
   },
   {
    "duration": 4,
    "start_time": "2025-03-13T00:10:13.288Z"
   },
   {
    "duration": 17,
    "start_time": "2025-03-13T00:10:13.293Z"
   },
   {
    "duration": 9,
    "start_time": "2025-03-13T00:10:13.312Z"
   },
   {
    "duration": 19,
    "start_time": "2025-03-13T00:10:13.322Z"
   },
   {
    "duration": 11,
    "start_time": "2025-03-13T00:10:13.344Z"
   },
   {
    "duration": 16,
    "start_time": "2025-03-13T00:10:13.357Z"
   },
   {
    "duration": 34,
    "start_time": "2025-03-13T00:10:13.379Z"
   },
   {
    "duration": 348,
    "start_time": "2025-03-13T00:10:13.414Z"
   },
   {
    "duration": 7,
    "start_time": "2025-03-13T00:10:13.768Z"
   },
   {
    "duration": 24,
    "start_time": "2025-03-13T00:10:13.776Z"
   },
   {
    "duration": 4,
    "start_time": "2025-03-13T00:10:13.802Z"
   },
   {
    "duration": 5,
    "start_time": "2025-03-13T00:10:13.808Z"
   },
   {
    "duration": 23,
    "start_time": "2025-03-13T00:10:13.814Z"
   },
   {
    "duration": 10,
    "start_time": "2025-03-13T00:10:13.839Z"
   },
   {
    "duration": 28,
    "start_time": "2025-03-13T00:10:13.850Z"
   },
   {
    "duration": 21,
    "start_time": "2025-03-13T00:10:13.880Z"
   },
   {
    "duration": 9,
    "start_time": "2025-03-13T00:10:13.902Z"
   },
   {
    "duration": 16,
    "start_time": "2025-03-13T00:10:13.912Z"
   },
   {
    "duration": 51,
    "start_time": "2025-03-13T00:10:13.929Z"
   },
   {
    "duration": 7,
    "start_time": "2025-03-13T00:10:13.982Z"
   },
   {
    "duration": 7,
    "start_time": "2025-03-13T00:10:13.990Z"
   },
   {
    "duration": 4,
    "start_time": "2025-03-13T00:10:28.242Z"
   },
   {
    "duration": 1123,
    "start_time": "2025-03-13T00:10:32.202Z"
   },
   {
    "duration": 48,
    "start_time": "2025-03-13T00:10:33.327Z"
   },
   {
    "duration": 17,
    "start_time": "2025-03-13T00:10:33.379Z"
   },
   {
    "duration": 15,
    "start_time": "2025-03-13T00:10:33.397Z"
   },
   {
    "duration": 8,
    "start_time": "2025-03-13T00:10:33.414Z"
   },
   {
    "duration": 3,
    "start_time": "2025-03-13T00:10:33.423Z"
   },
   {
    "duration": 16,
    "start_time": "2025-03-13T00:10:33.427Z"
   },
   {
    "duration": 12,
    "start_time": "2025-03-13T00:10:33.444Z"
   },
   {
    "duration": 29,
    "start_time": "2025-03-13T00:10:33.458Z"
   },
   {
    "duration": 17,
    "start_time": "2025-03-13T00:10:33.490Z"
   },
   {
    "duration": 5,
    "start_time": "2025-03-13T00:10:33.508Z"
   },
   {
    "duration": 19,
    "start_time": "2025-03-13T00:10:33.515Z"
   },
   {
    "duration": 4,
    "start_time": "2025-03-13T00:10:33.535Z"
   },
   {
    "duration": 355,
    "start_time": "2025-03-13T00:10:33.541Z"
   },
   {
    "duration": 6,
    "start_time": "2025-03-13T00:10:33.897Z"
   },
   {
    "duration": 13,
    "start_time": "2025-03-13T00:10:33.904Z"
   },
   {
    "duration": 4,
    "start_time": "2025-03-13T00:10:33.919Z"
   },
   {
    "duration": 12,
    "start_time": "2025-03-13T00:10:33.925Z"
   },
   {
    "duration": 22,
    "start_time": "2025-03-13T00:10:33.938Z"
   },
   {
    "duration": 21,
    "start_time": "2025-03-13T00:10:33.962Z"
   },
   {
    "duration": 16,
    "start_time": "2025-03-13T00:10:33.985Z"
   },
   {
    "duration": 17,
    "start_time": "2025-03-13T00:10:34.002Z"
   },
   {
    "duration": 8,
    "start_time": "2025-03-13T00:10:34.020Z"
   },
   {
    "duration": 18,
    "start_time": "2025-03-13T00:10:34.030Z"
   },
   {
    "duration": 20,
    "start_time": "2025-03-13T00:10:34.069Z"
   },
   {
    "duration": 5,
    "start_time": "2025-03-13T00:10:34.091Z"
   },
   {
    "duration": 13,
    "start_time": "2025-03-13T00:10:34.097Z"
   },
   {
    "duration": 322,
    "start_time": "2025-03-13T00:13:09.697Z"
   },
   {
    "duration": 394,
    "start_time": "2025-03-13T00:13:15.244Z"
   },
   {
    "duration": 6,
    "start_time": "2025-03-13T00:15:42.195Z"
   },
   {
    "duration": 1181,
    "start_time": "2025-03-13T00:15:47.547Z"
   },
   {
    "duration": 49,
    "start_time": "2025-03-13T00:15:48.730Z"
   },
   {
    "duration": 17,
    "start_time": "2025-03-13T00:15:48.783Z"
   },
   {
    "duration": 14,
    "start_time": "2025-03-13T00:15:48.802Z"
   },
   {
    "duration": 9,
    "start_time": "2025-03-13T00:15:48.818Z"
   },
   {
    "duration": 10,
    "start_time": "2025-03-13T00:15:48.828Z"
   },
   {
    "duration": 33,
    "start_time": "2025-03-13T00:15:48.839Z"
   },
   {
    "duration": 10,
    "start_time": "2025-03-13T00:15:48.874Z"
   },
   {
    "duration": 13,
    "start_time": "2025-03-13T00:15:48.886Z"
   },
   {
    "duration": 8,
    "start_time": "2025-03-13T00:15:48.901Z"
   },
   {
    "duration": 8,
    "start_time": "2025-03-13T00:15:48.911Z"
   },
   {
    "duration": 24,
    "start_time": "2025-03-13T00:15:48.920Z"
   },
   {
    "duration": 32,
    "start_time": "2025-03-13T00:15:48.945Z"
   },
   {
    "duration": 364,
    "start_time": "2025-03-13T00:15:48.981Z"
   },
   {
    "duration": 5,
    "start_time": "2025-03-13T00:15:49.347Z"
   },
   {
    "duration": 36,
    "start_time": "2025-03-13T00:15:49.354Z"
   },
   {
    "duration": 5,
    "start_time": "2025-03-13T00:15:49.392Z"
   },
   {
    "duration": 6,
    "start_time": "2025-03-13T00:15:49.398Z"
   },
   {
    "duration": 6,
    "start_time": "2025-03-13T00:15:49.406Z"
   },
   {
    "duration": 13,
    "start_time": "2025-03-13T00:15:49.414Z"
   },
   {
    "duration": 19,
    "start_time": "2025-03-13T00:15:49.428Z"
   },
   {
    "duration": 34,
    "start_time": "2025-03-13T00:15:49.448Z"
   },
   {
    "duration": 8,
    "start_time": "2025-03-13T00:15:49.484Z"
   },
   {
    "duration": 20,
    "start_time": "2025-03-13T00:15:49.494Z"
   },
   {
    "duration": 13,
    "start_time": "2025-03-13T00:15:49.515Z"
   },
   {
    "duration": 17,
    "start_time": "2025-03-13T00:15:49.529Z"
   },
   {
    "duration": 3,
    "start_time": "2025-03-13T00:15:49.548Z"
   },
   {
    "duration": 6,
    "start_time": "2025-03-13T00:16:28.205Z"
   },
   {
    "duration": 5,
    "start_time": "2025-03-13T00:16:37.791Z"
   },
   {
    "duration": 1205,
    "start_time": "2025-03-13T00:16:41.049Z"
   },
   {
    "duration": 49,
    "start_time": "2025-03-13T00:16:42.257Z"
   },
   {
    "duration": 16,
    "start_time": "2025-03-13T00:16:42.308Z"
   },
   {
    "duration": 14,
    "start_time": "2025-03-13T00:16:42.326Z"
   },
   {
    "duration": 16,
    "start_time": "2025-03-13T00:16:42.341Z"
   },
   {
    "duration": 11,
    "start_time": "2025-03-13T00:16:42.358Z"
   },
   {
    "duration": 21,
    "start_time": "2025-03-13T00:16:42.370Z"
   },
   {
    "duration": 6,
    "start_time": "2025-03-13T00:16:42.393Z"
   },
   {
    "duration": 13,
    "start_time": "2025-03-13T00:16:42.401Z"
   },
   {
    "duration": 9,
    "start_time": "2025-03-13T00:16:42.417Z"
   },
   {
    "duration": 5,
    "start_time": "2025-03-13T00:16:42.428Z"
   },
   {
    "duration": 58,
    "start_time": "2025-03-13T00:16:42.434Z"
   },
   {
    "duration": 6,
    "start_time": "2025-03-13T00:16:42.494Z"
   },
   {
    "duration": 4,
    "start_time": "2025-03-13T00:16:42.502Z"
   },
   {
    "duration": 12,
    "start_time": "2025-03-13T00:16:42.508Z"
   },
   {
    "duration": 5,
    "start_time": "2025-03-13T00:16:42.521Z"
   },
   {
    "duration": 13,
    "start_time": "2025-03-13T00:16:42.527Z"
   },
   {
    "duration": 30,
    "start_time": "2025-03-13T00:16:42.542Z"
   },
   {
    "duration": 14,
    "start_time": "2025-03-13T00:16:42.575Z"
   },
   {
    "duration": 23,
    "start_time": "2025-03-13T00:16:42.590Z"
   },
   {
    "duration": 18,
    "start_time": "2025-03-13T00:16:42.615Z"
   },
   {
    "duration": 8,
    "start_time": "2025-03-13T00:16:42.635Z"
   },
   {
    "duration": 42,
    "start_time": "2025-03-13T00:16:42.645Z"
   },
   {
    "duration": 14,
    "start_time": "2025-03-13T00:16:42.689Z"
   },
   {
    "duration": 27,
    "start_time": "2025-03-13T00:16:42.704Z"
   },
   {
    "duration": 2,
    "start_time": "2025-03-13T00:16:42.733Z"
   },
   {
    "duration": 90,
    "start_time": "2025-03-13T00:17:11.284Z"
   },
   {
    "duration": 108,
    "start_time": "2025-03-13T00:17:15.461Z"
   },
   {
    "duration": 4,
    "start_time": "2025-03-13T00:17:28.586Z"
   },
   {
    "duration": 11,
    "start_time": "2025-03-13T00:17:47.368Z"
   },
   {
    "duration": 101,
    "start_time": "2025-03-13T00:18:10.047Z"
   },
   {
    "duration": 26,
    "start_time": "2025-03-13T00:18:23.121Z"
   },
   {
    "duration": 39,
    "start_time": "2025-03-13T00:18:49.260Z"
   },
   {
    "duration": 1159,
    "start_time": "2025-03-13T00:20:54.767Z"
   },
   {
    "duration": 46,
    "start_time": "2025-03-13T00:20:55.928Z"
   },
   {
    "duration": 20,
    "start_time": "2025-03-13T00:20:55.978Z"
   },
   {
    "duration": 14,
    "start_time": "2025-03-13T00:20:55.999Z"
   },
   {
    "duration": 11,
    "start_time": "2025-03-13T00:20:56.014Z"
   },
   {
    "duration": 9,
    "start_time": "2025-03-13T00:20:56.027Z"
   },
   {
    "duration": 44,
    "start_time": "2025-03-13T00:20:56.037Z"
   },
   {
    "duration": 6,
    "start_time": "2025-03-13T00:20:56.083Z"
   },
   {
    "duration": 13,
    "start_time": "2025-03-13T00:20:56.091Z"
   },
   {
    "duration": 17,
    "start_time": "2025-03-13T00:20:56.107Z"
   },
   {
    "duration": 4,
    "start_time": "2025-03-13T00:20:56.125Z"
   },
   {
    "duration": 19,
    "start_time": "2025-03-13T00:20:56.131Z"
   },
   {
    "duration": 32,
    "start_time": "2025-03-13T00:20:56.168Z"
   },
   {
    "duration": 4,
    "start_time": "2025-03-13T00:20:56.202Z"
   },
   {
    "duration": 29,
    "start_time": "2025-03-13T00:20:56.208Z"
   },
   {
    "duration": 4,
    "start_time": "2025-03-13T00:20:56.238Z"
   },
   {
    "duration": 4,
    "start_time": "2025-03-13T00:20:56.244Z"
   },
   {
    "duration": 59,
    "start_time": "2025-03-13T00:20:56.250Z"
   },
   {
    "duration": 12,
    "start_time": "2025-03-13T00:20:56.310Z"
   },
   {
    "duration": 15,
    "start_time": "2025-03-13T00:20:56.323Z"
   },
   {
    "duration": 17,
    "start_time": "2025-03-13T00:20:56.339Z"
   },
   {
    "duration": 9,
    "start_time": "2025-03-13T00:20:56.358Z"
   },
   {
    "duration": 26,
    "start_time": "2025-03-13T00:20:56.369Z"
   },
   {
    "duration": 11,
    "start_time": "2025-03-13T00:20:56.397Z"
   },
   {
    "duration": 6,
    "start_time": "2025-03-13T00:20:56.410Z"
   },
   {
    "duration": 3,
    "start_time": "2025-03-13T00:20:56.417Z"
   },
   {
    "duration": 11,
    "start_time": "2025-03-13T00:22:37.378Z"
   },
   {
    "duration": 102,
    "start_time": "2025-03-13T00:23:23.815Z"
   },
   {
    "duration": 4,
    "start_time": "2025-03-13T00:23:29.234Z"
   },
   {
    "duration": 3,
    "start_time": "2025-03-13T00:23:45.019Z"
   },
   {
    "duration": 4,
    "start_time": "2025-03-13T00:23:58.691Z"
   },
   {
    "duration": 6,
    "start_time": "2025-03-13T00:23:59.532Z"
   },
   {
    "duration": 13,
    "start_time": "2025-03-13T00:24:06.132Z"
   },
   {
    "duration": 4,
    "start_time": "2025-03-13T00:24:13.198Z"
   },
   {
    "duration": 5,
    "start_time": "2025-03-13T00:24:54.882Z"
   },
   {
    "duration": 12,
    "start_time": "2025-03-13T00:25:04.215Z"
   },
   {
    "duration": 13,
    "start_time": "2025-03-13T00:25:23.701Z"
   },
   {
    "duration": 8,
    "start_time": "2025-03-13T00:25:54.297Z"
   },
   {
    "duration": 14,
    "start_time": "2025-03-13T00:28:44.718Z"
   },
   {
    "duration": 23,
    "start_time": "2025-03-13T00:29:09.863Z"
   },
   {
    "duration": 16,
    "start_time": "2025-03-13T00:29:33.652Z"
   },
   {
    "duration": 82,
    "start_time": "2025-03-13T00:29:54.607Z"
   },
   {
    "duration": 95,
    "start_time": "2025-03-13T00:30:04.917Z"
   },
   {
    "duration": 15,
    "start_time": "2025-03-13T00:30:10.003Z"
   },
   {
    "duration": 89,
    "start_time": "2025-03-13T00:30:42.325Z"
   },
   {
    "duration": 301,
    "start_time": "2025-03-13T00:30:51.724Z"
   },
   {
    "duration": 529,
    "start_time": "2025-03-13T01:27:10.648Z"
   },
   {
    "duration": 338,
    "start_time": "2025-03-13T01:27:21.555Z"
   },
   {
    "duration": 429,
    "start_time": "2025-03-13T01:27:25.072Z"
   },
   {
    "duration": 14,
    "start_time": "2025-03-13T01:27:48.935Z"
   },
   {
    "duration": 6,
    "start_time": "2025-03-13T01:27:57.919Z"
   },
   {
    "duration": 7,
    "start_time": "2025-03-13T01:28:08.628Z"
   },
   {
    "duration": 5,
    "start_time": "2025-03-13T01:30:17.052Z"
   },
   {
    "duration": 17,
    "start_time": "2025-03-13T01:30:44.616Z"
   },
   {
    "duration": 27,
    "start_time": "2025-03-13T01:30:56.192Z"
   },
   {
    "duration": 246,
    "start_time": "2025-03-13T01:31:51.475Z"
   },
   {
    "duration": 229,
    "start_time": "2025-03-13T01:34:02.533Z"
   },
   {
    "duration": 18,
    "start_time": "2025-03-13T01:40:31.570Z"
   },
   {
    "duration": 24,
    "start_time": "2025-03-13T01:40:35.785Z"
   },
   {
    "duration": 27,
    "start_time": "2025-03-13T01:42:37.667Z"
   },
   {
    "duration": 29,
    "start_time": "2025-03-13T01:43:14.947Z"
   },
   {
    "duration": 23,
    "start_time": "2025-03-13T01:43:22.492Z"
   },
   {
    "duration": 103,
    "start_time": "2025-03-13T01:44:59.862Z"
   },
   {
    "duration": 84,
    "start_time": "2025-03-13T01:46:52.545Z"
   },
   {
    "duration": 2,
    "start_time": "2025-03-13T01:47:10.203Z"
   },
   {
    "duration": 5,
    "start_time": "2025-03-13T02:33:57.182Z"
   },
   {
    "duration": 14,
    "start_time": "2025-03-13T02:34:22.890Z"
   },
   {
    "duration": 80,
    "start_time": "2025-03-13T02:37:33.390Z"
   },
   {
    "duration": 1112,
    "start_time": "2025-03-13T02:37:38.423Z"
   },
   {
    "duration": 344,
    "start_time": "2025-03-13T02:37:53.040Z"
   },
   {
    "duration": 1164,
    "start_time": "2025-03-13T02:40:22.985Z"
   },
   {
    "duration": 57,
    "start_time": "2025-03-13T02:40:24.152Z"
   },
   {
    "duration": 20,
    "start_time": "2025-03-13T02:40:24.211Z"
   },
   {
    "duration": 16,
    "start_time": "2025-03-13T02:40:24.232Z"
   },
   {
    "duration": 19,
    "start_time": "2025-03-13T02:40:24.251Z"
   },
   {
    "duration": 4,
    "start_time": "2025-03-13T02:40:24.271Z"
   },
   {
    "duration": 15,
    "start_time": "2025-03-13T02:40:24.276Z"
   },
   {
    "duration": 7,
    "start_time": "2025-03-13T02:40:24.293Z"
   },
   {
    "duration": 15,
    "start_time": "2025-03-13T02:40:24.302Z"
   },
   {
    "duration": 10,
    "start_time": "2025-03-13T02:40:24.319Z"
   },
   {
    "duration": 38,
    "start_time": "2025-03-13T02:40:24.331Z"
   },
   {
    "duration": 24,
    "start_time": "2025-03-13T02:40:24.371Z"
   },
   {
    "duration": 10,
    "start_time": "2025-03-13T02:40:24.397Z"
   },
   {
    "duration": 6,
    "start_time": "2025-03-13T02:40:24.410Z"
   },
   {
    "duration": 7,
    "start_time": "2025-03-13T02:40:24.417Z"
   },
   {
    "duration": 5,
    "start_time": "2025-03-13T02:40:24.426Z"
   },
   {
    "duration": 37,
    "start_time": "2025-03-13T02:40:24.432Z"
   },
   {
    "duration": 5,
    "start_time": "2025-03-13T02:40:24.471Z"
   },
   {
    "duration": 14,
    "start_time": "2025-03-13T02:40:24.478Z"
   },
   {
    "duration": 15,
    "start_time": "2025-03-13T02:40:24.494Z"
   },
   {
    "duration": 18,
    "start_time": "2025-03-13T02:40:24.510Z"
   },
   {
    "duration": 38,
    "start_time": "2025-03-13T02:40:24.530Z"
   },
   {
    "duration": 19,
    "start_time": "2025-03-13T02:40:24.569Z"
   },
   {
    "duration": 8,
    "start_time": "2025-03-13T02:40:24.590Z"
   },
   {
    "duration": 16,
    "start_time": "2025-03-13T02:40:24.599Z"
   },
   {
    "duration": 15,
    "start_time": "2025-03-13T02:40:24.617Z"
   },
   {
    "duration": 38,
    "start_time": "2025-03-13T02:40:24.634Z"
   },
   {
    "duration": 7,
    "start_time": "2025-03-13T02:40:24.674Z"
   },
   {
    "duration": 249,
    "start_time": "2025-03-13T02:40:24.683Z"
   },
   {
    "duration": 33,
    "start_time": "2025-03-13T02:40:24.934Z"
   },
   {
    "duration": 13,
    "start_time": "2025-03-13T02:40:24.969Z"
   },
   {
    "duration": 345,
    "start_time": "2025-03-13T02:40:24.983Z"
   },
   {
    "duration": 324,
    "start_time": "2025-03-13T02:41:01.126Z"
   },
   {
    "duration": 118,
    "start_time": "2025-03-13T02:41:07.091Z"
   },
   {
    "duration": 23,
    "start_time": "2025-03-13T02:41:12.773Z"
   },
   {
    "duration": 23,
    "start_time": "2025-03-13T02:41:16.748Z"
   },
   {
    "duration": 34,
    "start_time": "2025-03-13T02:41:18.965Z"
   },
   {
    "duration": 22,
    "start_time": "2025-03-13T02:41:21.001Z"
   },
   {
    "duration": 319,
    "start_time": "2025-03-13T02:41:25.765Z"
   },
   {
    "duration": 363,
    "start_time": "2025-03-13T02:43:04.439Z"
   },
   {
    "duration": 5,
    "start_time": "2025-03-13T02:43:33.531Z"
   },
   {
    "duration": 288,
    "start_time": "2025-03-13T02:45:35.855Z"
   },
   {
    "duration": 255,
    "start_time": "2025-03-13T02:49:12.712Z"
   },
   {
    "duration": 240,
    "start_time": "2025-03-13T02:49:19.859Z"
   },
   {
    "duration": 330,
    "start_time": "2025-03-13T02:49:27.277Z"
   },
   {
    "duration": 242,
    "start_time": "2025-03-13T02:49:40.461Z"
   },
   {
    "duration": 242,
    "start_time": "2025-03-13T02:50:17.002Z"
   },
   {
    "duration": 237,
    "start_time": "2025-03-13T02:50:23.744Z"
   },
   {
    "duration": 241,
    "start_time": "2025-03-13T02:50:30.919Z"
   },
   {
    "duration": 284,
    "start_time": "2025-03-13T02:51:38.363Z"
   },
   {
    "duration": 395,
    "start_time": "2025-03-13T02:52:29.302Z"
   },
   {
    "duration": 274,
    "start_time": "2025-03-13T02:52:40.774Z"
   },
   {
    "duration": 297,
    "start_time": "2025-03-13T02:52:48.770Z"
   },
   {
    "duration": 282,
    "start_time": "2025-03-13T02:54:04.502Z"
   },
   {
    "duration": 435,
    "start_time": "2025-03-13T02:55:14.035Z"
   },
   {
    "duration": 554,
    "start_time": "2025-03-13T02:55:21.427Z"
   },
   {
    "duration": 291,
    "start_time": "2025-03-13T02:55:32.243Z"
   },
   {
    "duration": 287,
    "start_time": "2025-03-13T02:55:40.718Z"
   },
   {
    "duration": 304,
    "start_time": "2025-03-13T02:55:47.020Z"
   },
   {
    "duration": 308,
    "start_time": "2025-03-13T02:55:51.883Z"
   },
   {
    "duration": 413,
    "start_time": "2025-03-13T03:01:39.085Z"
   },
   {
    "duration": 298,
    "start_time": "2025-03-13T03:01:44.192Z"
   },
   {
    "duration": 310,
    "start_time": "2025-03-13T03:03:23.893Z"
   },
   {
    "duration": 327,
    "start_time": "2025-03-13T03:04:38.371Z"
   },
   {
    "duration": 317,
    "start_time": "2025-03-13T03:04:46.531Z"
   },
   {
    "duration": 405,
    "start_time": "2025-03-13T03:05:09.431Z"
   },
   {
    "duration": 76,
    "start_time": "2025-03-13T03:06:01.946Z"
   },
   {
    "duration": 288,
    "start_time": "2025-03-13T03:06:15.821Z"
   },
   {
    "duration": 12,
    "start_time": "2025-03-13T03:07:37.590Z"
   },
   {
    "duration": 1244,
    "start_time": "2025-03-13T03:09:22.644Z"
   },
   {
    "duration": 48,
    "start_time": "2025-03-13T03:09:23.890Z"
   },
   {
    "duration": 26,
    "start_time": "2025-03-13T03:09:23.941Z"
   },
   {
    "duration": 18,
    "start_time": "2025-03-13T03:09:23.970Z"
   },
   {
    "duration": 11,
    "start_time": "2025-03-13T03:09:23.991Z"
   },
   {
    "duration": 4,
    "start_time": "2025-03-13T03:09:24.004Z"
   },
   {
    "duration": 17,
    "start_time": "2025-03-13T03:09:24.009Z"
   },
   {
    "duration": 41,
    "start_time": "2025-03-13T03:09:24.028Z"
   },
   {
    "duration": 15,
    "start_time": "2025-03-13T03:09:24.071Z"
   },
   {
    "duration": 12,
    "start_time": "2025-03-13T03:09:24.089Z"
   },
   {
    "duration": 5,
    "start_time": "2025-03-13T03:09:24.103Z"
   },
   {
    "duration": 27,
    "start_time": "2025-03-13T03:09:24.110Z"
   },
   {
    "duration": 34,
    "start_time": "2025-03-13T03:09:24.139Z"
   },
   {
    "duration": 6,
    "start_time": "2025-03-13T03:09:24.174Z"
   },
   {
    "duration": 19,
    "start_time": "2025-03-13T03:09:24.182Z"
   },
   {
    "duration": 8,
    "start_time": "2025-03-13T03:09:24.203Z"
   },
   {
    "duration": 6,
    "start_time": "2025-03-13T03:09:24.213Z"
   },
   {
    "duration": 12,
    "start_time": "2025-03-13T03:09:24.221Z"
   },
   {
    "duration": 11,
    "start_time": "2025-03-13T03:09:24.235Z"
   },
   {
    "duration": 18,
    "start_time": "2025-03-13T03:09:24.268Z"
   },
   {
    "duration": 20,
    "start_time": "2025-03-13T03:09:24.288Z"
   },
   {
    "duration": 11,
    "start_time": "2025-03-13T03:09:24.310Z"
   },
   {
    "duration": 52,
    "start_time": "2025-03-13T03:09:24.322Z"
   },
   {
    "duration": 9,
    "start_time": "2025-03-13T03:09:24.376Z"
   },
   {
    "duration": 23,
    "start_time": "2025-03-13T03:09:24.387Z"
   },
   {
    "duration": 22,
    "start_time": "2025-03-13T03:09:24.412Z"
   },
   {
    "duration": 7,
    "start_time": "2025-03-13T03:09:24.436Z"
   },
   {
    "duration": 28,
    "start_time": "2025-03-13T03:09:24.446Z"
   },
   {
    "duration": 252,
    "start_time": "2025-03-13T03:09:24.475Z"
   },
   {
    "duration": 26,
    "start_time": "2025-03-13T03:09:24.728Z"
   },
   {
    "duration": 4,
    "start_time": "2025-03-13T03:09:24.768Z"
   },
   {
    "duration": 330,
    "start_time": "2025-03-13T03:09:24.774Z"
   },
   {
    "duration": 3,
    "start_time": "2025-03-13T03:09:25.106Z"
   },
   {
    "duration": 334,
    "start_time": "2025-03-13T03:09:25.110Z"
   },
   {
    "duration": 880,
    "start_time": "2025-03-14T00:34:08.927Z"
   },
   {
    "duration": 1138,
    "start_time": "2025-03-14T00:34:13.922Z"
   },
   {
    "duration": 49,
    "start_time": "2025-03-14T00:34:15.063Z"
   },
   {
    "duration": 21,
    "start_time": "2025-03-14T00:34:15.114Z"
   },
   {
    "duration": 17,
    "start_time": "2025-03-14T00:34:15.137Z"
   },
   {
    "duration": 11,
    "start_time": "2025-03-14T00:34:15.173Z"
   },
   {
    "duration": 37,
    "start_time": "2025-03-14T00:34:15.186Z"
   },
   {
    "duration": 40,
    "start_time": "2025-03-14T00:34:15.225Z"
   },
   {
    "duration": 20,
    "start_time": "2025-03-14T00:34:15.268Z"
   },
   {
    "duration": 30,
    "start_time": "2025-03-14T00:34:15.290Z"
   },
   {
    "duration": 22,
    "start_time": "2025-03-14T00:34:15.322Z"
   },
   {
    "duration": 18,
    "start_time": "2025-03-14T00:34:15.346Z"
   },
   {
    "duration": 25,
    "start_time": "2025-03-14T00:34:15.366Z"
   },
   {
    "duration": 10,
    "start_time": "2025-03-14T00:34:15.393Z"
   },
   {
    "duration": 6,
    "start_time": "2025-03-14T00:34:15.407Z"
   },
   {
    "duration": 13,
    "start_time": "2025-03-14T00:34:15.415Z"
   },
   {
    "duration": 11,
    "start_time": "2025-03-14T00:34:15.430Z"
   },
   {
    "duration": 31,
    "start_time": "2025-03-14T00:34:15.443Z"
   },
   {
    "duration": 6,
    "start_time": "2025-03-14T00:34:15.476Z"
   },
   {
    "duration": 11,
    "start_time": "2025-03-14T00:34:15.483Z"
   },
   {
    "duration": 18,
    "start_time": "2025-03-14T00:34:15.496Z"
   },
   {
    "duration": 20,
    "start_time": "2025-03-14T00:34:15.516Z"
   },
   {
    "duration": 42,
    "start_time": "2025-03-14T00:34:15.538Z"
   },
   {
    "duration": 43,
    "start_time": "2025-03-14T00:34:15.582Z"
   },
   {
    "duration": 8,
    "start_time": "2025-03-14T00:34:15.627Z"
   },
   {
    "duration": 24,
    "start_time": "2025-03-14T00:34:15.637Z"
   },
   {
    "duration": 15,
    "start_time": "2025-03-14T00:34:15.663Z"
   },
   {
    "duration": 6,
    "start_time": "2025-03-14T00:34:15.680Z"
   },
   {
    "duration": 7,
    "start_time": "2025-03-14T00:34:15.688Z"
   },
   {
    "duration": 245,
    "start_time": "2025-03-14T00:34:15.696Z"
   },
   {
    "duration": 33,
    "start_time": "2025-03-14T00:34:15.942Z"
   },
   {
    "duration": 4,
    "start_time": "2025-03-14T00:34:15.976Z"
   },
   {
    "duration": 329,
    "start_time": "2025-03-14T00:34:15.981Z"
   },
   {
    "duration": 326,
    "start_time": "2025-03-14T00:34:16.311Z"
   },
   {
    "duration": 459,
    "start_time": "2025-03-14T00:34:16.639Z"
   },
   {
    "duration": 416,
    "start_time": "2025-03-14T00:35:15.869Z"
   },
   {
    "duration": 448,
    "start_time": "2025-03-14T00:36:18.238Z"
   },
   {
    "duration": 212,
    "start_time": "2025-03-14T00:42:49.129Z"
   },
   {
    "duration": 456,
    "start_time": "2025-03-14T00:42:57.800Z"
   },
   {
    "duration": 10,
    "start_time": "2025-03-14T00:45:47.127Z"
   },
   {
    "duration": 1335,
    "start_time": "2025-03-14T00:45:53.201Z"
   },
   {
    "duration": 174,
    "start_time": "2025-03-14T00:46:13.035Z"
   },
   {
    "duration": 182,
    "start_time": "2025-03-14T00:46:55.642Z"
   },
   {
    "duration": 175,
    "start_time": "2025-03-14T00:49:44.095Z"
   },
   {
    "duration": 11,
    "start_time": "2025-03-14T00:50:26.572Z"
   },
   {
    "duration": 179,
    "start_time": "2025-03-14T00:50:38.700Z"
   },
   {
    "duration": 180,
    "start_time": "2025-03-14T00:51:27.750Z"
   },
   {
    "duration": 586,
    "start_time": "2025-03-14T00:53:40.280Z"
   },
   {
    "duration": 592,
    "start_time": "2025-03-14T00:54:00.134Z"
   },
   {
    "duration": 197,
    "start_time": "2025-03-14T00:57:32.806Z"
   },
   {
    "duration": 188,
    "start_time": "2025-03-14T00:57:39.767Z"
   },
   {
    "duration": 266,
    "start_time": "2025-03-14T00:58:38.387Z"
   },
   {
    "duration": 468,
    "start_time": "2025-03-14T00:59:26.848Z"
   },
   {
    "duration": 459,
    "start_time": "2025-03-14T01:01:44.865Z"
   },
   {
    "duration": 500,
    "start_time": "2025-03-14T01:01:53.583Z"
   },
   {
    "duration": 458,
    "start_time": "2025-03-14T01:02:31.356Z"
   },
   {
    "duration": 491,
    "start_time": "2025-03-14T01:05:03.032Z"
   },
   {
    "duration": 472,
    "start_time": "2025-03-14T01:06:45.404Z"
   },
   {
    "duration": 1427,
    "start_time": "2025-03-30T18:20:36.277Z"
   },
   {
    "duration": 104,
    "start_time": "2025-03-30T18:20:37.706Z"
   },
   {
    "duration": 18,
    "start_time": "2025-03-30T18:20:37.812Z"
   },
   {
    "duration": 21,
    "start_time": "2025-03-30T18:20:37.832Z"
   },
   {
    "duration": 10,
    "start_time": "2025-03-30T18:20:37.855Z"
   },
   {
    "duration": 28,
    "start_time": "2025-03-30T18:20:37.866Z"
   },
   {
    "duration": 37,
    "start_time": "2025-03-30T18:20:37.896Z"
   },
   {
    "duration": 5,
    "start_time": "2025-03-30T18:20:37.935Z"
   },
   {
    "duration": 12,
    "start_time": "2025-03-30T18:20:37.942Z"
   },
   {
    "duration": 35,
    "start_time": "2025-03-30T18:20:37.956Z"
   },
   {
    "duration": 16,
    "start_time": "2025-03-30T18:20:37.992Z"
   },
   {
    "duration": 27,
    "start_time": "2025-03-30T18:20:38.010Z"
   },
   {
    "duration": 8,
    "start_time": "2025-03-30T18:20:38.039Z"
   },
   {
    "duration": 45,
    "start_time": "2025-03-30T18:20:38.049Z"
   },
   {
    "duration": 16,
    "start_time": "2025-03-30T18:20:38.095Z"
   },
   {
    "duration": 18,
    "start_time": "2025-03-30T18:20:38.112Z"
   },
   {
    "duration": 6,
    "start_time": "2025-03-30T18:20:38.132Z"
   },
   {
    "duration": 20,
    "start_time": "2025-03-30T18:20:38.139Z"
   },
   {
    "duration": 18,
    "start_time": "2025-03-30T18:20:38.160Z"
   },
   {
    "duration": 21,
    "start_time": "2025-03-30T18:20:38.179Z"
   },
   {
    "duration": 17,
    "start_time": "2025-03-30T18:20:38.202Z"
   },
   {
    "duration": 9,
    "start_time": "2025-03-30T18:20:38.220Z"
   },
   {
    "duration": 17,
    "start_time": "2025-03-30T18:20:38.231Z"
   },
   {
    "duration": 7,
    "start_time": "2025-03-30T18:20:38.249Z"
   },
   {
    "duration": 51,
    "start_time": "2025-03-30T18:20:38.257Z"
   },
   {
    "duration": 23,
    "start_time": "2025-03-30T18:20:38.309Z"
   },
   {
    "duration": 37,
    "start_time": "2025-03-30T18:20:38.333Z"
   },
   {
    "duration": 20,
    "start_time": "2025-03-30T18:20:38.372Z"
   },
   {
    "duration": 222,
    "start_time": "2025-03-30T18:20:38.394Z"
   },
   {
    "duration": 24,
    "start_time": "2025-03-30T18:20:38.618Z"
   },
   {
    "duration": 16,
    "start_time": "2025-03-30T18:20:38.644Z"
   },
   {
    "duration": 390,
    "start_time": "2025-03-30T18:20:38.662Z"
   },
   {
    "duration": 299,
    "start_time": "2025-03-30T18:20:39.053Z"
   },
   {
    "duration": 537,
    "start_time": "2025-03-30T18:20:39.354Z"
   },
   {
    "duration": 456,
    "start_time": "2025-03-30T18:20:39.892Z"
   },
   {
    "duration": 474,
    "start_time": "2025-03-30T18:20:40.350Z"
   },
   {
    "duration": 132,
    "start_time": "2025-03-30T18:46:27.736Z"
   },
   {
    "duration": 15,
    "start_time": "2025-03-30T18:46:45.743Z"
   },
   {
    "duration": 32,
    "start_time": "2025-03-30T20:30:29.921Z"
   },
   {
    "duration": 122,
    "start_time": "2025-03-30T20:30:55.133Z"
   },
   {
    "duration": 5,
    "start_time": "2025-03-30T20:31:12.551Z"
   },
   {
    "duration": 1333,
    "start_time": "2025-03-30T20:31:16.618Z"
   },
   {
    "duration": 217,
    "start_time": "2025-03-30T20:31:25.976Z"
   },
   {
    "duration": 391,
    "start_time": "2025-03-30T20:31:40.335Z"
   },
   {
    "duration": 126,
    "start_time": "2025-03-30T20:58:50.236Z"
   },
   {
    "duration": 209,
    "start_time": "2025-03-30T20:58:58.607Z"
   },
   {
    "duration": 183,
    "start_time": "2025-03-30T20:59:29.547Z"
   },
   {
    "duration": 36,
    "start_time": "2025-03-30T21:00:00.342Z"
   },
   {
    "duration": 189,
    "start_time": "2025-03-30T21:00:06.017Z"
   },
   {
    "duration": 157,
    "start_time": "2025-03-30T21:00:13.009Z"
   },
   {
    "duration": 183,
    "start_time": "2025-03-30T21:00:18.575Z"
   },
   {
    "duration": 203,
    "start_time": "2025-03-30T21:00:42.856Z"
   },
   {
    "duration": 204,
    "start_time": "2025-03-30T21:01:05.320Z"
   },
   {
    "duration": 187,
    "start_time": "2025-03-30T21:01:22.075Z"
   },
   {
    "duration": 202,
    "start_time": "2025-03-30T21:01:40.973Z"
   },
   {
    "duration": 37,
    "start_time": "2025-03-30T21:03:17.119Z"
   },
   {
    "duration": 26,
    "start_time": "2025-03-30T21:03:40.543Z"
   },
   {
    "duration": 218,
    "start_time": "2025-03-30T21:04:17.698Z"
   },
   {
    "duration": 387,
    "start_time": "2025-03-30T21:17:31.184Z"
   },
   {
    "duration": 178,
    "start_time": "2025-03-30T21:17:36.665Z"
   },
   {
    "duration": 210,
    "start_time": "2025-03-30T21:17:49.115Z"
   },
   {
    "duration": 42,
    "start_time": "2025-03-30T21:29:28.188Z"
   },
   {
    "duration": 41,
    "start_time": "2025-03-30T21:31:01.924Z"
   },
   {
    "duration": 52,
    "start_time": "2025-03-30T21:31:51.424Z"
   },
   {
    "duration": 36,
    "start_time": "2025-03-30T21:31:57.437Z"
   },
   {
    "duration": 1308,
    "start_time": "2025-04-01T13:38:46.382Z"
   },
   {
    "duration": 56,
    "start_time": "2025-04-01T13:38:47.692Z"
   },
   {
    "duration": 18,
    "start_time": "2025-04-01T13:38:47.750Z"
   },
   {
    "duration": 15,
    "start_time": "2025-04-01T13:38:47.769Z"
   },
   {
    "duration": 30,
    "start_time": "2025-04-01T13:38:47.787Z"
   },
   {
    "duration": 3,
    "start_time": "2025-04-01T13:38:47.819Z"
   },
   {
    "duration": 22,
    "start_time": "2025-04-01T13:38:47.824Z"
   },
   {
    "duration": 88,
    "start_time": "2025-04-01T13:38:47.848Z"
   },
   {
    "duration": 14,
    "start_time": "2025-04-01T13:38:47.938Z"
   },
   {
    "duration": 9,
    "start_time": "2025-04-01T13:38:47.953Z"
   },
   {
    "duration": 5,
    "start_time": "2025-04-01T13:38:47.964Z"
   },
   {
    "duration": 21,
    "start_time": "2025-04-01T13:38:47.970Z"
   },
   {
    "duration": 9,
    "start_time": "2025-04-01T13:38:47.992Z"
   },
   {
    "duration": 5,
    "start_time": "2025-04-01T13:38:48.037Z"
   },
   {
    "duration": 69,
    "start_time": "2025-04-01T13:38:48.043Z"
   },
   {
    "duration": 5,
    "start_time": "2025-04-01T13:38:48.114Z"
   },
   {
    "duration": 5,
    "start_time": "2025-04-01T13:38:48.121Z"
   },
   {
    "duration": 4,
    "start_time": "2025-04-01T13:38:48.128Z"
   },
   {
    "duration": 12,
    "start_time": "2025-04-01T13:38:48.134Z"
   },
   {
    "duration": 13,
    "start_time": "2025-04-01T13:38:48.148Z"
   },
   {
    "duration": 17,
    "start_time": "2025-04-01T13:38:48.163Z"
   },
   {
    "duration": 9,
    "start_time": "2025-04-01T13:38:48.181Z"
   },
   {
    "duration": 45,
    "start_time": "2025-04-01T13:38:48.192Z"
   },
   {
    "duration": 9,
    "start_time": "2025-04-01T13:38:48.238Z"
   },
   {
    "duration": 14,
    "start_time": "2025-04-01T13:38:48.248Z"
   },
   {
    "duration": 13,
    "start_time": "2025-04-01T13:38:48.264Z"
   },
   {
    "duration": 7,
    "start_time": "2025-04-01T13:38:48.279Z"
   },
   {
    "duration": 6,
    "start_time": "2025-04-01T13:38:48.288Z"
   },
   {
    "duration": 263,
    "start_time": "2025-04-01T13:38:48.296Z"
   },
   {
    "duration": 22,
    "start_time": "2025-04-01T13:38:48.561Z"
   },
   {
    "duration": 4,
    "start_time": "2025-04-01T13:38:48.585Z"
   },
   {
    "duration": 330,
    "start_time": "2025-04-01T13:38:48.590Z"
   },
   {
    "duration": 305,
    "start_time": "2025-04-01T13:38:48.922Z"
   },
   {
    "duration": 543,
    "start_time": "2025-04-01T13:38:49.229Z"
   },
   {
    "duration": 495,
    "start_time": "2025-04-01T13:38:49.774Z"
   },
   {
    "duration": 481,
    "start_time": "2025-04-01T13:38:50.271Z"
   },
   {
    "duration": 26,
    "start_time": "2025-04-01T13:38:50.753Z"
   },
   {
    "duration": 216,
    "start_time": "2025-04-01T13:38:50.781Z"
   },
   {
    "duration": 300,
    "start_time": "2025-04-01T13:38:50.999Z"
   },
   {
    "duration": 1173,
    "start_time": "2025-04-01T13:46:59.923Z"
   },
   {
    "duration": 43,
    "start_time": "2025-04-01T13:47:01.098Z"
   },
   {
    "duration": 17,
    "start_time": "2025-04-01T13:47:01.145Z"
   },
   {
    "duration": 15,
    "start_time": "2025-04-01T13:47:01.163Z"
   },
   {
    "duration": 18,
    "start_time": "2025-04-01T13:47:01.179Z"
   },
   {
    "duration": 14,
    "start_time": "2025-04-01T13:47:01.199Z"
   },
   {
    "duration": 26,
    "start_time": "2025-04-01T13:47:01.215Z"
   },
   {
    "duration": 4,
    "start_time": "2025-04-01T13:47:01.243Z"
   },
   {
    "duration": 13,
    "start_time": "2025-04-01T13:47:01.250Z"
   },
   {
    "duration": 19,
    "start_time": "2025-04-01T13:47:01.264Z"
   },
   {
    "duration": 21,
    "start_time": "2025-04-01T13:47:01.284Z"
   },
   {
    "duration": 44,
    "start_time": "2025-04-01T13:47:01.307Z"
   },
   {
    "duration": 47,
    "start_time": "2025-04-01T13:47:01.353Z"
   },
   {
    "duration": 5,
    "start_time": "2025-04-01T13:47:01.402Z"
   },
   {
    "duration": 9,
    "start_time": "2025-04-01T13:47:01.409Z"
   },
   {
    "duration": 23,
    "start_time": "2025-04-01T13:47:01.420Z"
   },
   {
    "duration": 14,
    "start_time": "2025-04-01T13:47:01.444Z"
   },
   {
    "duration": 13,
    "start_time": "2025-04-01T13:47:01.460Z"
   },
   {
    "duration": 28,
    "start_time": "2025-04-01T13:47:01.474Z"
   },
   {
    "duration": 17,
    "start_time": "2025-04-01T13:47:01.503Z"
   },
   {
    "duration": 15,
    "start_time": "2025-04-01T13:47:01.521Z"
   },
   {
    "duration": 8,
    "start_time": "2025-04-01T13:47:01.537Z"
   },
   {
    "duration": 15,
    "start_time": "2025-04-01T13:47:01.547Z"
   },
   {
    "duration": 7,
    "start_time": "2025-04-01T13:47:01.563Z"
   },
   {
    "duration": 30,
    "start_time": "2025-04-01T13:47:01.572Z"
   },
   {
    "duration": 20,
    "start_time": "2025-04-01T13:47:01.604Z"
   },
   {
    "duration": 19,
    "start_time": "2025-04-01T13:47:01.634Z"
   },
   {
    "duration": 20,
    "start_time": "2025-04-01T13:47:01.655Z"
   },
   {
    "duration": 255,
    "start_time": "2025-04-01T13:47:01.677Z"
   },
   {
    "duration": 22,
    "start_time": "2025-04-01T13:47:01.933Z"
   },
   {
    "duration": 30,
    "start_time": "2025-04-01T13:47:01.956Z"
   },
   {
    "duration": 308,
    "start_time": "2025-04-01T13:47:01.988Z"
   },
   {
    "duration": 292,
    "start_time": "2025-04-01T13:47:02.297Z"
   },
   {
    "duration": 467,
    "start_time": "2025-04-01T13:47:02.591Z"
   },
   {
    "duration": 498,
    "start_time": "2025-04-01T13:47:03.060Z"
   },
   {
    "duration": 480,
    "start_time": "2025-04-01T13:47:03.560Z"
   },
   {
    "duration": 24,
    "start_time": "2025-04-01T13:47:04.042Z"
   },
   {
    "duration": 246,
    "start_time": "2025-04-01T13:47:04.068Z"
   },
   {
    "duration": 262,
    "start_time": "2025-04-01T13:47:04.315Z"
   },
   {
    "duration": 1442,
    "start_time": "2025-04-01T19:54:38.152Z"
   },
   {
    "duration": 58,
    "start_time": "2025-04-01T19:54:39.596Z"
   },
   {
    "duration": 22,
    "start_time": "2025-04-01T19:54:39.656Z"
   },
   {
    "duration": 16,
    "start_time": "2025-04-01T19:54:39.681Z"
   },
   {
    "duration": 16,
    "start_time": "2025-04-01T19:54:39.705Z"
   },
   {
    "duration": 4,
    "start_time": "2025-04-01T19:54:39.723Z"
   },
   {
    "duration": 14,
    "start_time": "2025-04-01T19:54:39.729Z"
   },
   {
    "duration": 12,
    "start_time": "2025-04-01T19:54:39.745Z"
   },
   {
    "duration": 53,
    "start_time": "2025-04-01T19:54:39.759Z"
   },
   {
    "duration": 19,
    "start_time": "2025-04-01T19:54:39.817Z"
   },
   {
    "duration": 6,
    "start_time": "2025-04-01T19:54:39.838Z"
   },
   {
    "duration": 29,
    "start_time": "2025-04-01T19:54:39.846Z"
   },
   {
    "duration": 35,
    "start_time": "2025-04-01T19:54:39.877Z"
   },
   {
    "duration": 9,
    "start_time": "2025-04-01T19:54:39.915Z"
   },
   {
    "duration": 7,
    "start_time": "2025-04-01T19:54:39.926Z"
   },
   {
    "duration": 6,
    "start_time": "2025-04-01T19:54:39.935Z"
   },
   {
    "duration": 6,
    "start_time": "2025-04-01T19:54:39.942Z"
   },
   {
    "duration": 5,
    "start_time": "2025-04-01T19:54:39.949Z"
   },
   {
    "duration": 11,
    "start_time": "2025-04-01T19:54:39.956Z"
   },
   {
    "duration": 15,
    "start_time": "2025-04-01T19:54:40.006Z"
   },
   {
    "duration": 63,
    "start_time": "2025-04-01T19:54:40.023Z"
   },
   {
    "duration": 9,
    "start_time": "2025-04-01T19:54:40.088Z"
   },
   {
    "duration": 17,
    "start_time": "2025-04-01T19:54:40.099Z"
   },
   {
    "duration": 76,
    "start_time": "2025-04-01T19:54:40.117Z"
   },
   {
    "duration": 14,
    "start_time": "2025-04-01T19:54:40.195Z"
   },
   {
    "duration": 14,
    "start_time": "2025-04-01T19:54:40.211Z"
   },
   {
    "duration": 12,
    "start_time": "2025-04-01T19:54:40.227Z"
   },
   {
    "duration": 8,
    "start_time": "2025-04-01T19:54:40.243Z"
   },
   {
    "duration": 263,
    "start_time": "2025-04-01T19:54:40.252Z"
   },
   {
    "duration": 26,
    "start_time": "2025-04-01T19:54:40.516Z"
   },
   {
    "duration": 5,
    "start_time": "2025-04-01T19:54:40.544Z"
   },
   {
    "duration": 371,
    "start_time": "2025-04-01T19:54:40.551Z"
   },
   {
    "duration": 318,
    "start_time": "2025-04-01T19:54:40.924Z"
   },
   {
    "duration": 549,
    "start_time": "2025-04-01T19:54:41.243Z"
   },
   {
    "duration": 597,
    "start_time": "2025-04-01T19:54:41.794Z"
   },
   {
    "duration": 490,
    "start_time": "2025-04-01T19:54:42.404Z"
   },
   {
    "duration": 36,
    "start_time": "2025-04-01T19:54:42.896Z"
   },
   {
    "duration": 295,
    "start_time": "2025-04-01T19:54:42.934Z"
   },
   {
    "duration": 287,
    "start_time": "2025-04-01T19:54:43.231Z"
   },
   {
    "duration": 11,
    "start_time": "2025-04-01T19:56:28.312Z"
   },
   {
    "duration": 24,
    "start_time": "2025-04-01T19:56:44.960Z"
   },
   {
    "duration": 18,
    "start_time": "2025-04-01T19:56:53.269Z"
   },
   {
    "duration": 130,
    "start_time": "2025-04-01T19:57:14.892Z"
   },
   {
    "duration": 12,
    "start_time": "2025-04-01T19:57:39.635Z"
   },
   {
    "duration": 12,
    "start_time": "2025-04-01T19:57:45.750Z"
   },
   {
    "duration": 1701,
    "start_time": "2025-04-01T19:58:02.471Z"
   },
   {
    "duration": 620,
    "start_time": "2025-04-01T19:58:20.358Z"
   },
   {
    "duration": 529,
    "start_time": "2025-04-01T19:58:27.737Z"
   },
   {
    "duration": 464,
    "start_time": "2025-04-01T19:58:38.688Z"
   },
   {
    "duration": 531,
    "start_time": "2025-04-01T19:58:41.644Z"
   },
   {
    "duration": 689,
    "start_time": "2025-04-01T19:58:46.942Z"
   },
   {
    "duration": 516,
    "start_time": "2025-04-01T19:58:50.526Z"
   },
   {
    "duration": 525,
    "start_time": "2025-04-01T19:59:11.248Z"
   },
   {
    "duration": 589,
    "start_time": "2025-04-01T20:50:27.064Z"
   },
   {
    "duration": 638,
    "start_time": "2025-04-01T20:52:11.037Z"
   },
   {
    "duration": 434,
    "start_time": "2025-04-01T21:39:37.658Z"
   },
   {
    "duration": 475,
    "start_time": "2025-04-01T21:39:50.613Z"
   },
   {
    "duration": 14,
    "start_time": "2025-04-01T21:41:05.164Z"
   },
   {
    "duration": 11,
    "start_time": "2025-04-01T21:42:48.510Z"
   },
   {
    "duration": 16,
    "start_time": "2025-04-01T21:44:10.058Z"
   },
   {
    "duration": 12,
    "start_time": "2025-04-01T21:44:32.618Z"
   },
   {
    "duration": 7,
    "start_time": "2025-04-01T21:45:00.693Z"
   },
   {
    "duration": 18,
    "start_time": "2025-04-01T21:45:09.748Z"
   },
   {
    "duration": 1126,
    "start_time": "2025-04-01T21:45:21.139Z"
   },
   {
    "duration": 47,
    "start_time": "2025-04-01T21:45:22.267Z"
   },
   {
    "duration": 17,
    "start_time": "2025-04-01T21:45:22.316Z"
   },
   {
    "duration": 14,
    "start_time": "2025-04-01T21:45:22.334Z"
   },
   {
    "duration": 9,
    "start_time": "2025-04-01T21:45:22.350Z"
   },
   {
    "duration": 26,
    "start_time": "2025-04-01T21:45:22.361Z"
   },
   {
    "duration": 17,
    "start_time": "2025-04-01T21:45:22.389Z"
   },
   {
    "duration": 9,
    "start_time": "2025-04-01T21:45:22.408Z"
   },
   {
    "duration": 18,
    "start_time": "2025-04-01T21:45:22.419Z"
   },
   {
    "duration": 12,
    "start_time": "2025-04-01T21:45:22.439Z"
   },
   {
    "duration": 5,
    "start_time": "2025-04-01T21:45:22.453Z"
   },
   {
    "duration": 136,
    "start_time": "2025-04-01T21:45:22.460Z"
   },
   {
    "duration": 9,
    "start_time": "2025-04-01T21:45:22.598Z"
   },
   {
    "duration": 5,
    "start_time": "2025-04-01T21:45:22.610Z"
   },
   {
    "duration": 6,
    "start_time": "2025-04-01T21:45:22.616Z"
   },
   {
    "duration": 5,
    "start_time": "2025-04-01T21:45:22.624Z"
   },
   {
    "duration": 5,
    "start_time": "2025-04-01T21:45:22.630Z"
   },
   {
    "duration": 5,
    "start_time": "2025-04-01T21:45:22.636Z"
   },
   {
    "duration": 8,
    "start_time": "2025-04-01T21:45:22.643Z"
   },
   {
    "duration": 14,
    "start_time": "2025-04-01T21:45:22.653Z"
   },
   {
    "duration": 52,
    "start_time": "2025-04-01T21:45:22.668Z"
   },
   {
    "duration": 53,
    "start_time": "2025-04-01T21:45:22.721Z"
   },
   {
    "duration": 37,
    "start_time": "2025-04-01T21:45:22.776Z"
   },
   {
    "duration": 7,
    "start_time": "2025-04-01T21:45:22.815Z"
   },
   {
    "duration": 17,
    "start_time": "2025-04-01T21:45:22.824Z"
   },
   {
    "duration": 13,
    "start_time": "2025-04-01T21:45:22.843Z"
   },
   {
    "duration": 6,
    "start_time": "2025-04-01T21:45:22.857Z"
   },
   {
    "duration": 7,
    "start_time": "2025-04-01T21:45:22.864Z"
   },
   {
    "duration": 258,
    "start_time": "2025-04-01T21:45:22.872Z"
   },
   {
    "duration": 22,
    "start_time": "2025-04-01T21:45:23.132Z"
   },
   {
    "duration": 4,
    "start_time": "2025-04-01T21:45:23.155Z"
   },
   {
    "duration": 330,
    "start_time": "2025-04-01T21:45:23.160Z"
   },
   {
    "duration": 308,
    "start_time": "2025-04-01T21:45:23.492Z"
   },
   {
    "duration": 460,
    "start_time": "2025-04-01T21:45:23.805Z"
   },
   {
    "duration": 497,
    "start_time": "2025-04-01T21:45:24.266Z"
   },
   {
    "duration": 481,
    "start_time": "2025-04-01T21:45:24.764Z"
   },
   {
    "duration": 25,
    "start_time": "2025-04-01T21:45:25.247Z"
   },
   {
    "duration": 205,
    "start_time": "2025-04-01T21:45:25.273Z"
   },
   {
    "duration": 270,
    "start_time": "2025-04-01T21:45:25.480Z"
   },
   {
    "duration": 17,
    "start_time": "2025-04-01T21:45:25.752Z"
   },
   {
    "duration": 552,
    "start_time": "2025-04-01T21:45:25.772Z"
   },
   {
    "duration": 16,
    "start_time": "2025-04-01T21:45:26.326Z"
   },
   {
    "duration": 71,
    "start_time": "2025-04-01T21:48:18.476Z"
   },
   {
    "duration": 16,
    "start_time": "2025-04-01T21:50:31.888Z"
   },
   {
    "duration": 10,
    "start_time": "2025-04-01T22:04:19.915Z"
   },
   {
    "duration": 108,
    "start_time": "2025-04-01T22:04:25.136Z"
   },
   {
    "duration": 19,
    "start_time": "2025-04-01T22:04:28.478Z"
   },
   {
    "duration": 813,
    "start_time": "2025-04-01T22:05:05.420Z"
   },
   {
    "duration": 740,
    "start_time": "2025-04-01T22:05:24.040Z"
   },
   {
    "duration": 710,
    "start_time": "2025-04-01T22:05:29.572Z"
   },
   {
    "duration": 763,
    "start_time": "2025-04-01T22:05:37.009Z"
   },
   {
    "duration": 5,
    "start_time": "2025-04-01T22:06:10.467Z"
   },
   {
    "duration": 16,
    "start_time": "2025-04-01T22:07:16.784Z"
   },
   {
    "duration": 16,
    "start_time": "2025-04-01T22:07:32.025Z"
   },
   {
    "duration": 17,
    "start_time": "2025-04-01T22:07:42.394Z"
   },
   {
    "duration": 16,
    "start_time": "2025-04-01T22:29:33.450Z"
   },
   {
    "duration": 10,
    "start_time": "2025-04-01T22:31:32.077Z"
   },
   {
    "duration": 17,
    "start_time": "2025-04-01T22:31:39.668Z"
   },
   {
    "duration": 414,
    "start_time": "2025-04-01T22:32:39.501Z"
   },
   {
    "duration": 10,
    "start_time": "2025-04-01T22:33:30.891Z"
   },
   {
    "duration": 16,
    "start_time": "2025-04-01T22:33:41.836Z"
   },
   {
    "duration": 16,
    "start_time": "2025-04-01T22:33:58.525Z"
   },
   {
    "duration": 611,
    "start_time": "2025-04-01T22:38:44.207Z"
   },
   {
    "duration": 11,
    "start_time": "2025-04-01T22:41:26.923Z"
   },
   {
    "duration": 362,
    "start_time": "2025-04-01T22:41:39.639Z"
   },
   {
    "duration": 79,
    "start_time": "2025-04-01T22:50:41.137Z"
   },
   {
    "duration": 128,
    "start_time": "2025-04-01T22:51:01.260Z"
   },
   {
    "duration": 10,
    "start_time": "2025-04-01T22:52:09.629Z"
   },
   {
    "duration": 154,
    "start_time": "2025-04-01T22:52:24.831Z"
   },
   {
    "duration": 126,
    "start_time": "2025-04-01T22:53:21.818Z"
   },
   {
    "duration": 19,
    "start_time": "2025-04-01T22:53:45.030Z"
   },
   {
    "duration": 15,
    "start_time": "2025-04-01T22:55:57.228Z"
   },
   {
    "duration": 410,
    "start_time": "2025-04-01T22:58:37.044Z"
   },
   {
    "duration": 31,
    "start_time": "2025-04-01T22:59:59.334Z"
   },
   {
    "duration": 33,
    "start_time": "2025-04-01T23:00:05.899Z"
   },
   {
    "duration": 22,
    "start_time": "2025-04-01T23:00:39.562Z"
   },
   {
    "duration": 347,
    "start_time": "2025-04-01T23:02:29.930Z"
   },
   {
    "duration": 577,
    "start_time": "2025-04-01T23:03:18.366Z"
   },
   {
    "duration": 572,
    "start_time": "2025-04-01T23:03:38.611Z"
   },
   {
    "duration": 18,
    "start_time": "2025-04-01T23:03:40.648Z"
   },
   {
    "duration": 402,
    "start_time": "2025-04-01T23:03:56.992Z"
   },
   {
    "duration": 423,
    "start_time": "2025-04-01T23:04:48.699Z"
   },
   {
    "duration": 589,
    "start_time": "2025-04-01T23:04:56.083Z"
   },
   {
    "duration": 321,
    "start_time": "2025-04-01T23:06:03.478Z"
   },
   {
    "duration": 16,
    "start_time": "2025-04-01T23:06:20.256Z"
   },
   {
    "duration": 319,
    "start_time": "2025-04-01T23:06:49.632Z"
   },
   {
    "duration": 358,
    "start_time": "2025-04-01T23:07:42.247Z"
   },
   {
    "duration": 326,
    "start_time": "2025-04-01T23:07:48.643Z"
   },
   {
    "duration": 317,
    "start_time": "2025-04-01T23:07:56.942Z"
   },
   {
    "duration": 328,
    "start_time": "2025-04-01T23:09:19.913Z"
   },
   {
    "duration": 478,
    "start_time": "2025-04-01T23:10:51.250Z"
   },
   {
    "duration": 338,
    "start_time": "2025-04-01T23:11:03.046Z"
   },
   {
    "duration": 13,
    "start_time": "2025-04-01T23:47:51.614Z"
   },
   {
    "duration": 9,
    "start_time": "2025-04-01T23:48:32.221Z"
   },
   {
    "duration": 9,
    "start_time": "2025-04-01T23:48:41.655Z"
   },
   {
    "duration": 9,
    "start_time": "2025-04-01T23:48:51.675Z"
   },
   {
    "duration": 9,
    "start_time": "2025-04-01T23:49:38.569Z"
   },
   {
    "duration": 9,
    "start_time": "2025-04-01T23:50:56.133Z"
   },
   {
    "duration": 1238,
    "start_time": "2025-04-01T23:51:49.656Z"
   },
   {
    "duration": 10,
    "start_time": "2025-04-01T23:53:16.554Z"
   },
   {
    "duration": 11,
    "start_time": "2025-04-01T23:53:31.943Z"
   },
   {
    "duration": 11,
    "start_time": "2025-04-01T23:55:11.205Z"
   },
   {
    "duration": 11,
    "start_time": "2025-04-01T23:55:22.989Z"
   },
   {
    "duration": 11,
    "start_time": "2025-04-01T23:55:52.614Z"
   },
   {
    "duration": 11,
    "start_time": "2025-04-01T23:57:10.029Z"
   },
   {
    "duration": 14,
    "start_time": "2025-04-01T23:57:22.805Z"
   },
   {
    "duration": 8,
    "start_time": "2025-04-02T00:01:26.325Z"
   },
   {
    "duration": 8,
    "start_time": "2025-04-02T00:01:41.820Z"
   },
   {
    "duration": 23,
    "start_time": "2025-04-02T00:03:41.348Z"
   },
   {
    "duration": 11,
    "start_time": "2025-04-02T00:04:15.381Z"
   },
   {
    "duration": 10,
    "start_time": "2025-04-02T00:04:41.345Z"
   },
   {
    "duration": 13,
    "start_time": "2025-04-02T00:05:31.370Z"
   },
   {
    "duration": 12,
    "start_time": "2025-04-02T00:05:51.409Z"
   },
   {
    "duration": 3,
    "start_time": "2025-04-02T00:13:01.998Z"
   },
   {
    "duration": 79,
    "start_time": "2025-04-02T00:28:27.649Z"
   },
   {
    "duration": 1160,
    "start_time": "2025-04-02T01:15:16.192Z"
   },
   {
    "duration": 57,
    "start_time": "2025-04-02T01:15:17.354Z"
   },
   {
    "duration": 17,
    "start_time": "2025-04-02T01:15:17.413Z"
   },
   {
    "duration": 14,
    "start_time": "2025-04-02T01:15:17.432Z"
   },
   {
    "duration": 9,
    "start_time": "2025-04-02T01:15:17.448Z"
   },
   {
    "duration": 3,
    "start_time": "2025-04-02T01:15:17.458Z"
   },
   {
    "duration": 24,
    "start_time": "2025-04-02T01:15:17.462Z"
   },
   {
    "duration": 20,
    "start_time": "2025-04-02T01:15:17.488Z"
   },
   {
    "duration": 14,
    "start_time": "2025-04-02T01:15:17.509Z"
   },
   {
    "duration": 18,
    "start_time": "2025-04-02T01:15:17.525Z"
   },
   {
    "duration": 16,
    "start_time": "2025-04-02T01:15:17.544Z"
   },
   {
    "duration": 23,
    "start_time": "2025-04-02T01:15:17.562Z"
   },
   {
    "duration": 18,
    "start_time": "2025-04-02T01:15:17.587Z"
   },
   {
    "duration": 5,
    "start_time": "2025-04-02T01:15:17.609Z"
   },
   {
    "duration": 9,
    "start_time": "2025-04-02T01:15:17.616Z"
   },
   {
    "duration": 18,
    "start_time": "2025-04-02T01:15:17.627Z"
   },
   {
    "duration": 5,
    "start_time": "2025-04-02T01:15:17.647Z"
   },
   {
    "duration": 8,
    "start_time": "2025-04-02T01:15:17.654Z"
   },
   {
    "duration": 92,
    "start_time": "2025-04-02T01:15:17.664Z"
   },
   {
    "duration": 16,
    "start_time": "2025-04-02T01:15:17.758Z"
   },
   {
    "duration": 19,
    "start_time": "2025-04-02T01:15:17.777Z"
   },
   {
    "duration": 10,
    "start_time": "2025-04-02T01:15:17.797Z"
   },
   {
    "duration": 17,
    "start_time": "2025-04-02T01:15:17.809Z"
   },
   {
    "duration": 88,
    "start_time": "2025-04-02T01:15:17.828Z"
   },
   {
    "duration": 16,
    "start_time": "2025-04-02T01:15:17.917Z"
   },
   {
    "duration": 13,
    "start_time": "2025-04-02T01:15:17.935Z"
   },
   {
    "duration": 7,
    "start_time": "2025-04-02T01:15:17.949Z"
   },
   {
    "duration": 7,
    "start_time": "2025-04-02T01:15:17.957Z"
   },
   {
    "duration": 241,
    "start_time": "2025-04-02T01:15:17.965Z"
   },
   {
    "duration": 23,
    "start_time": "2025-04-02T01:15:18.207Z"
   },
   {
    "duration": 6,
    "start_time": "2025-04-02T01:15:18.232Z"
   },
   {
    "duration": 315,
    "start_time": "2025-04-02T01:15:18.239Z"
   },
   {
    "duration": 304,
    "start_time": "2025-04-02T01:15:18.555Z"
   },
   {
    "duration": 468,
    "start_time": "2025-04-02T01:15:18.860Z"
   },
   {
    "duration": 512,
    "start_time": "2025-04-02T01:15:19.330Z"
   },
   {
    "duration": 481,
    "start_time": "2025-04-02T01:15:19.844Z"
   },
   {
    "duration": 25,
    "start_time": "2025-04-02T01:15:20.327Z"
   },
   {
    "duration": 208,
    "start_time": "2025-04-02T01:15:20.353Z"
   },
   {
    "duration": 271,
    "start_time": "2025-04-02T01:15:20.562Z"
   },
   {
    "duration": 4,
    "start_time": "2025-04-02T01:15:20.835Z"
   },
   {
    "duration": 44,
    "start_time": "2025-04-02T01:15:20.842Z"
   },
   {
    "duration": 505,
    "start_time": "2025-04-02T01:15:20.888Z"
   },
   {
    "duration": 23,
    "start_time": "2025-04-02T01:15:21.394Z"
   },
   {
    "duration": 27,
    "start_time": "2025-04-02T01:15:21.419Z"
   },
   {
    "duration": 703,
    "start_time": "2025-04-02T01:15:21.448Z"
   },
   {
    "duration": 16,
    "start_time": "2025-04-02T01:15:22.153Z"
   },
   {
    "duration": 20,
    "start_time": "2025-04-02T01:15:22.170Z"
   },
   {
    "duration": 363,
    "start_time": "2025-04-02T01:15:22.204Z"
   },
   {
    "duration": 11,
    "start_time": "2025-04-02T01:15:22.569Z"
   },
   {
    "duration": 68,
    "start_time": "2025-04-02T01:15:22.582Z"
   },
   {
    "duration": 6,
    "start_time": "2025-04-02T01:26:29.608Z"
   },
   {
    "duration": 23,
    "start_time": "2025-04-02T01:27:59.005Z"
   },
   {
    "duration": 24,
    "start_time": "2025-04-02T01:28:06.628Z"
   },
   {
    "duration": 29,
    "start_time": "2025-04-02T01:28:09.288Z"
   },
   {
    "duration": 26,
    "start_time": "2025-04-02T01:28:19.112Z"
   },
   {
    "duration": 7,
    "start_time": "2025-04-02T01:28:24.483Z"
   },
   {
    "duration": 15,
    "start_time": "2025-04-02T01:33:49.803Z"
   },
   {
    "duration": 1353,
    "start_time": "2025-04-02T04:31:47.507Z"
   },
   {
    "duration": 58,
    "start_time": "2025-04-02T04:31:48.862Z"
   },
   {
    "duration": 19,
    "start_time": "2025-04-02T04:31:48.921Z"
   },
   {
    "duration": 15,
    "start_time": "2025-04-02T04:31:48.942Z"
   },
   {
    "duration": 9,
    "start_time": "2025-04-02T04:31:48.959Z"
   },
   {
    "duration": 4,
    "start_time": "2025-04-02T04:31:48.970Z"
   },
   {
    "duration": 35,
    "start_time": "2025-04-02T04:31:48.976Z"
   },
   {
    "duration": 9,
    "start_time": "2025-04-02T04:31:49.013Z"
   },
   {
    "duration": 15,
    "start_time": "2025-04-02T04:31:49.024Z"
   },
   {
    "duration": 13,
    "start_time": "2025-04-02T04:31:49.043Z"
   },
   {
    "duration": 6,
    "start_time": "2025-04-02T04:31:49.058Z"
   },
   {
    "duration": 55,
    "start_time": "2025-04-02T04:31:49.066Z"
   },
   {
    "duration": 9,
    "start_time": "2025-04-02T04:31:49.123Z"
   },
   {
    "duration": 5,
    "start_time": "2025-04-02T04:31:49.134Z"
   },
   {
    "duration": 6,
    "start_time": "2025-04-02T04:31:49.140Z"
   },
   {
    "duration": 7,
    "start_time": "2025-04-02T04:31:49.148Z"
   },
   {
    "duration": 11,
    "start_time": "2025-04-02T04:31:49.156Z"
   },
   {
    "duration": 9,
    "start_time": "2025-04-02T04:31:49.169Z"
   },
   {
    "duration": 36,
    "start_time": "2025-04-02T04:31:49.180Z"
   },
   {
    "duration": 17,
    "start_time": "2025-04-02T04:31:49.218Z"
   },
   {
    "duration": 24,
    "start_time": "2025-04-02T04:31:49.237Z"
   },
   {
    "duration": 9,
    "start_time": "2025-04-02T04:31:49.263Z"
   },
   {
    "duration": 42,
    "start_time": "2025-04-02T04:31:49.273Z"
   },
   {
    "duration": 8,
    "start_time": "2025-04-02T04:31:49.317Z"
   },
   {
    "duration": 15,
    "start_time": "2025-04-02T04:31:49.327Z"
   },
   {
    "duration": 15,
    "start_time": "2025-04-02T04:31:49.343Z"
   },
   {
    "duration": 10,
    "start_time": "2025-04-02T04:31:49.360Z"
   },
   {
    "duration": 7,
    "start_time": "2025-04-02T04:31:49.407Z"
   },
   {
    "duration": 246,
    "start_time": "2025-04-02T04:31:49.416Z"
   },
   {
    "duration": 26,
    "start_time": "2025-04-02T04:31:49.664Z"
   },
   {
    "duration": 19,
    "start_time": "2025-04-02T04:31:49.692Z"
   },
   {
    "duration": 7,
    "start_time": "2025-04-02T04:31:49.713Z"
   },
   {
    "duration": 317,
    "start_time": "2025-04-02T04:31:49.721Z"
   },
   {
    "duration": 316,
    "start_time": "2025-04-02T04:31:50.039Z"
   },
   {
    "duration": 529,
    "start_time": "2025-04-02T04:31:50.356Z"
   },
   {
    "duration": 491,
    "start_time": "2025-04-02T04:31:50.887Z"
   },
   {
    "duration": 475,
    "start_time": "2025-04-02T04:31:51.380Z"
   },
   {
    "duration": 25,
    "start_time": "2025-04-02T04:31:51.857Z"
   },
   {
    "duration": 292,
    "start_time": "2025-04-02T04:31:51.884Z"
   },
   {
    "duration": 298,
    "start_time": "2025-04-02T04:31:52.178Z"
   },
   {
    "duration": 5,
    "start_time": "2025-04-02T04:31:52.478Z"
   },
   {
    "duration": 53,
    "start_time": "2025-04-02T04:31:52.484Z"
   },
   {
    "duration": 552,
    "start_time": "2025-04-02T04:31:52.538Z"
   },
   {
    "duration": 23,
    "start_time": "2025-04-02T04:31:53.092Z"
   },
   {
    "duration": 46,
    "start_time": "2025-04-02T04:31:53.117Z"
   },
   {
    "duration": 733,
    "start_time": "2025-04-02T04:31:53.165Z"
   },
   {
    "duration": 17,
    "start_time": "2025-04-02T04:31:53.899Z"
   },
   {
    "duration": 168,
    "start_time": "2025-04-02T04:31:53.918Z"
   },
   {
    "duration": 372,
    "start_time": "2025-04-02T04:31:54.088Z"
   },
   {
    "duration": 11,
    "start_time": "2025-04-02T04:31:54.461Z"
   },
   {
    "duration": 49,
    "start_time": "2025-04-02T04:31:54.473Z"
   },
   {
    "duration": 57,
    "start_time": "2025-07-12T11:30:43.926Z"
   },
   {
    "duration": 1242,
    "start_time": "2025-07-12T11:33:22.062Z"
   },
   {
    "duration": 46,
    "start_time": "2025-07-12T11:33:23.306Z"
   },
   {
    "duration": 19,
    "start_time": "2025-07-12T11:33:23.354Z"
   },
   {
    "duration": 23,
    "start_time": "2025-07-12T11:33:23.375Z"
   },
   {
    "duration": 11,
    "start_time": "2025-07-12T11:33:23.400Z"
   },
   {
    "duration": 6,
    "start_time": "2025-07-12T11:33:23.412Z"
   },
   {
    "duration": 20,
    "start_time": "2025-07-12T11:33:23.420Z"
   },
   {
    "duration": 6,
    "start_time": "2025-07-12T11:33:23.441Z"
   },
   {
    "duration": 33,
    "start_time": "2025-07-12T11:33:23.448Z"
   },
   {
    "duration": 9,
    "start_time": "2025-07-12T11:33:23.485Z"
   },
   {
    "duration": 15,
    "start_time": "2025-07-12T11:33:23.496Z"
   },
   {
    "duration": 23,
    "start_time": "2025-07-12T11:33:23.513Z"
   },
   {
    "duration": 65,
    "start_time": "2025-07-12T11:33:23.538Z"
   },
   {
    "duration": 6,
    "start_time": "2025-07-12T11:33:23.605Z"
   },
   {
    "duration": 8,
    "start_time": "2025-07-12T11:33:23.614Z"
   },
   {
    "duration": 8,
    "start_time": "2025-07-12T11:33:23.624Z"
   },
   {
    "duration": 9,
    "start_time": "2025-07-12T11:33:23.634Z"
   },
   {
    "duration": 8,
    "start_time": "2025-07-12T11:33:23.646Z"
   },
   {
    "duration": 20,
    "start_time": "2025-07-12T11:33:23.655Z"
   },
   {
    "duration": 19,
    "start_time": "2025-07-12T11:33:23.678Z"
   },
   {
    "duration": 20,
    "start_time": "2025-07-12T11:33:23.699Z"
   },
   {
    "duration": 9,
    "start_time": "2025-07-12T11:33:23.721Z"
   },
   {
    "duration": 83,
    "start_time": "2025-07-12T11:33:23.732Z"
   },
   {
    "duration": 8,
    "start_time": "2025-07-12T11:33:23.817Z"
   },
   {
    "duration": 24,
    "start_time": "2025-07-12T11:33:23.827Z"
   },
   {
    "duration": 15,
    "start_time": "2025-07-12T11:33:23.853Z"
   },
   {
    "duration": 21,
    "start_time": "2025-07-12T11:33:23.869Z"
   },
   {
    "duration": 14,
    "start_time": "2025-07-12T11:33:23.893Z"
   },
   {
    "duration": 229,
    "start_time": "2025-07-12T11:33:23.908Z"
   },
   {
    "duration": 41,
    "start_time": "2025-07-12T11:33:24.138Z"
   },
   {
    "duration": 8,
    "start_time": "2025-07-12T11:33:24.180Z"
   },
   {
    "duration": 33,
    "start_time": "2025-07-12T11:33:24.189Z"
   },
   {
    "duration": 309,
    "start_time": "2025-07-12T11:33:24.223Z"
   },
   {
    "duration": 319,
    "start_time": "2025-07-12T11:33:24.534Z"
   },
   {
    "duration": 467,
    "start_time": "2025-07-12T11:33:24.855Z"
   },
   {
    "duration": 514,
    "start_time": "2025-07-12T11:33:25.324Z"
   },
   {
    "duration": 493,
    "start_time": "2025-07-12T11:33:25.840Z"
   },
   {
    "duration": 44,
    "start_time": "2025-07-12T11:33:26.335Z"
   },
   {
    "duration": 199,
    "start_time": "2025-07-12T11:33:26.380Z"
   },
   {
    "duration": 293,
    "start_time": "2025-07-12T11:33:26.580Z"
   },
   {
    "duration": 5,
    "start_time": "2025-07-12T11:33:26.875Z"
   },
   {
    "duration": 42,
    "start_time": "2025-07-12T11:33:26.882Z"
   },
   {
    "duration": 531,
    "start_time": "2025-07-12T11:33:26.926Z"
   },
   {
    "duration": 26,
    "start_time": "2025-07-12T11:33:27.458Z"
   },
   {
    "duration": 30,
    "start_time": "2025-07-12T11:33:27.486Z"
   },
   {
    "duration": 782,
    "start_time": "2025-07-12T11:33:27.518Z"
   },
   {
    "duration": 16,
    "start_time": "2025-07-12T11:33:28.302Z"
   },
   {
    "duration": 39,
    "start_time": "2025-07-12T11:33:28.319Z"
   },
   {
    "duration": 342,
    "start_time": "2025-07-12T11:33:28.359Z"
   },
   {
    "duration": 12,
    "start_time": "2025-07-12T11:33:28.703Z"
   },
   {
    "duration": 24,
    "start_time": "2025-07-12T11:33:28.717Z"
   },
   {
    "duration": 453,
    "start_time": "2025-07-12T11:42:33.654Z"
   },
   {
    "duration": 11,
    "start_time": "2025-07-12T11:47:18.399Z"
   },
   {
    "duration": 11,
    "start_time": "2025-07-12T11:47:21.823Z"
   },
   {
    "duration": 11,
    "start_time": "2025-07-12T11:48:11.007Z"
   }
  ],
  "kernelspec": {
   "display_name": "Python 3 (ipykernel)",
   "language": "python",
   "name": "python3"
  },
  "language_info": {
   "codemirror_mode": {
    "name": "ipython",
    "version": 3
   },
   "file_extension": ".py",
   "mimetype": "text/x-python",
   "name": "python",
   "nbconvert_exporter": "python",
   "pygments_lexer": "ipython3",
   "version": "3.9.5"
  },
  "toc": {
   "base_numbering": 1,
   "nav_menu": {},
   "number_sections": true,
   "sideBar": true,
   "skip_h1_title": true,
   "title_cell": "Table of Contents",
   "title_sidebar": "Contents",
   "toc_cell": false,
   "toc_position": {},
   "toc_section_display": true,
   "toc_window_display": false
  }
 },
 "nbformat": 4,
 "nbformat_minor": 2
}
