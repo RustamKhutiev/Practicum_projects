{
 "cells": [
  {
   "cell_type": "markdown",
   "id": "f03a5e53",
   "metadata": {},
   "source": [
    "----------------------"
   ]
  },
  {
   "cell_type": "markdown",
   "id": "61a70bfa",
   "metadata": {},
   "source": [
    "## Оценка поведения пользователей и анализ поездок сервиса аренды\n"
   ]
  },
  {
   "cell_type": "markdown",
   "id": "a1d1459b",
   "metadata": {},
   "source": [
    "### Введение\n",
    "\n",
    "В данном проекте мы проводим анализ данных сервиса аренды самокатов, чтобы понять поведение пользователей и выявить ключевые факторы, влияющие на использование сервиса\n",
    "\n",
    "\n",
    "Основная цель — выявить различия в поведении пользователей с подпиской и без неё, оценить типичные расстояния поездок, а также проверить влияние технических изменений на работу приложения\n",
    "\n",
    "\n",
    "Задачи:\n",
    "\n",
    "- Провести исследовательский анализ данных\n",
    "\n",
    "- Выявить выбросы и аномалии в данных\n",
    "\n",
    "- Проверить гипотезы, касающиеся поведения пользователей\n",
    "\n",
    "- Подготовить отчёт с основными выводами\n"
   ]
  },
  {
   "cell_type": "markdown",
   "id": "5f659804",
   "metadata": {},
   "source": [
    "# Шаг 1. Загрузка данных\n"
   ]
  },
  {
   "cell_type": "code",
   "execution_count": 1,
   "id": "1d9938f8",
   "metadata": {},
   "outputs": [],
   "source": [
    "import pandas as pd\n",
    "from scipy import stats as st\n",
    "import matplotlib.pyplot as plt\n",
    "import numpy as np\n",
    "import math\n",
    "import seaborn as sns\n"
   ]
  },
  {
   "cell_type": "code",
   "execution_count": 2,
   "id": "99dd3ae2",
   "metadata": {
    "scrolled": true
   },
   "outputs": [],
   "source": [
    "users_df =  pd.read_csv('/datasets/users_go.csv')\n",
    "rides_df = pd.read_csv('/datasets/rides_go.csv')\n",
    "subs_df  =  pd.read_csv('/datasets/subscriptions_go.csv')"
   ]
  },
  {
   "cell_type": "code",
   "execution_count": 3,
   "id": "020efdde",
   "metadata": {},
   "outputs": [
    {
     "name": "stdout",
     "output_type": "stream",
     "text": [
      "<class 'pandas.core.frame.DataFrame'>\n",
      "RangeIndex: 1565 entries, 0 to 1564\n",
      "Data columns (total 5 columns):\n",
      " #   Column             Non-Null Count  Dtype \n",
      "---  ------             --------------  ----- \n",
      " 0   user_id            1565 non-null   int64 \n",
      " 1   name               1565 non-null   object\n",
      " 2   age                1565 non-null   int64 \n",
      " 3   city               1565 non-null   object\n",
      " 4   subscription_type  1565 non-null   object\n",
      "dtypes: int64(2), object(3)\n",
      "memory usage: 61.3+ KB\n"
     ]
    },
    {
     "data": {
      "text/html": [
       "<div>\n",
       "<style scoped>\n",
       "    .dataframe tbody tr th:only-of-type {\n",
       "        vertical-align: middle;\n",
       "    }\n",
       "\n",
       "    .dataframe tbody tr th {\n",
       "        vertical-align: top;\n",
       "    }\n",
       "\n",
       "    .dataframe thead th {\n",
       "        text-align: right;\n",
       "    }\n",
       "</style>\n",
       "<table border=\"1\" class=\"dataframe\">\n",
       "  <thead>\n",
       "    <tr style=\"text-align: right;\">\n",
       "      <th></th>\n",
       "      <th>user_id</th>\n",
       "      <th>name</th>\n",
       "      <th>age</th>\n",
       "      <th>city</th>\n",
       "      <th>subscription_type</th>\n",
       "    </tr>\n",
       "  </thead>\n",
       "  <tbody>\n",
       "    <tr>\n",
       "      <th>0</th>\n",
       "      <td>1</td>\n",
       "      <td>Кира</td>\n",
       "      <td>22</td>\n",
       "      <td>Тюмень</td>\n",
       "      <td>ultra</td>\n",
       "    </tr>\n",
       "    <tr>\n",
       "      <th>1</th>\n",
       "      <td>2</td>\n",
       "      <td>Станислав</td>\n",
       "      <td>31</td>\n",
       "      <td>Омск</td>\n",
       "      <td>ultra</td>\n",
       "    </tr>\n",
       "    <tr>\n",
       "      <th>2</th>\n",
       "      <td>3</td>\n",
       "      <td>Алексей</td>\n",
       "      <td>20</td>\n",
       "      <td>Москва</td>\n",
       "      <td>ultra</td>\n",
       "    </tr>\n",
       "    <tr>\n",
       "      <th>3</th>\n",
       "      <td>4</td>\n",
       "      <td>Константин</td>\n",
       "      <td>26</td>\n",
       "      <td>Ростов-на-Дону</td>\n",
       "      <td>ultra</td>\n",
       "    </tr>\n",
       "    <tr>\n",
       "      <th>4</th>\n",
       "      <td>5</td>\n",
       "      <td>Адель</td>\n",
       "      <td>28</td>\n",
       "      <td>Омск</td>\n",
       "      <td>ultra</td>\n",
       "    </tr>\n",
       "  </tbody>\n",
       "</table>\n",
       "</div>"
      ],
      "text/plain": [
       "   user_id        name  age            city subscription_type\n",
       "0        1        Кира   22          Тюмень             ultra\n",
       "1        2   Станислав   31            Омск             ultra\n",
       "2        3     Алексей   20          Москва             ultra\n",
       "3        4  Константин   26  Ростов-на-Дону             ultra\n",
       "4        5       Адель   28            Омск             ultra"
      ]
     },
     "execution_count": 3,
     "metadata": {},
     "output_type": "execute_result"
    }
   ],
   "source": [
    "users_df.info()\n",
    "users_df.head()"
   ]
  },
  {
   "cell_type": "code",
   "execution_count": 4,
   "id": "c213f398",
   "metadata": {},
   "outputs": [
    {
     "name": "stdout",
     "output_type": "stream",
     "text": [
      "<class 'pandas.core.frame.DataFrame'>\n",
      "RangeIndex: 18068 entries, 0 to 18067\n",
      "Data columns (total 4 columns):\n",
      " #   Column    Non-Null Count  Dtype  \n",
      "---  ------    --------------  -----  \n",
      " 0   user_id   18068 non-null  int64  \n",
      " 1   distance  18068 non-null  float64\n",
      " 2   duration  18068 non-null  float64\n",
      " 3   date      18068 non-null  object \n",
      "dtypes: float64(2), int64(1), object(1)\n",
      "memory usage: 564.8+ KB\n"
     ]
    },
    {
     "data": {
      "text/html": [
       "<div>\n",
       "<style scoped>\n",
       "    .dataframe tbody tr th:only-of-type {\n",
       "        vertical-align: middle;\n",
       "    }\n",
       "\n",
       "    .dataframe tbody tr th {\n",
       "        vertical-align: top;\n",
       "    }\n",
       "\n",
       "    .dataframe thead th {\n",
       "        text-align: right;\n",
       "    }\n",
       "</style>\n",
       "<table border=\"1\" class=\"dataframe\">\n",
       "  <thead>\n",
       "    <tr style=\"text-align: right;\">\n",
       "      <th></th>\n",
       "      <th>user_id</th>\n",
       "      <th>distance</th>\n",
       "      <th>duration</th>\n",
       "      <th>date</th>\n",
       "    </tr>\n",
       "  </thead>\n",
       "  <tbody>\n",
       "    <tr>\n",
       "      <th>0</th>\n",
       "      <td>1</td>\n",
       "      <td>4409.919140</td>\n",
       "      <td>25.599769</td>\n",
       "      <td>2021-01-01</td>\n",
       "    </tr>\n",
       "    <tr>\n",
       "      <th>1</th>\n",
       "      <td>1</td>\n",
       "      <td>2617.592153</td>\n",
       "      <td>15.816871</td>\n",
       "      <td>2021-01-18</td>\n",
       "    </tr>\n",
       "    <tr>\n",
       "      <th>2</th>\n",
       "      <td>1</td>\n",
       "      <td>754.159807</td>\n",
       "      <td>6.232113</td>\n",
       "      <td>2021-04-20</td>\n",
       "    </tr>\n",
       "    <tr>\n",
       "      <th>3</th>\n",
       "      <td>1</td>\n",
       "      <td>2694.783254</td>\n",
       "      <td>18.511000</td>\n",
       "      <td>2021-08-11</td>\n",
       "    </tr>\n",
       "    <tr>\n",
       "      <th>4</th>\n",
       "      <td>1</td>\n",
       "      <td>4028.687306</td>\n",
       "      <td>26.265803</td>\n",
       "      <td>2021-08-28</td>\n",
       "    </tr>\n",
       "  </tbody>\n",
       "</table>\n",
       "</div>"
      ],
      "text/plain": [
       "   user_id     distance   duration        date\n",
       "0        1  4409.919140  25.599769  2021-01-01\n",
       "1        1  2617.592153  15.816871  2021-01-18\n",
       "2        1   754.159807   6.232113  2021-04-20\n",
       "3        1  2694.783254  18.511000  2021-08-11\n",
       "4        1  4028.687306  26.265803  2021-08-28"
      ]
     },
     "execution_count": 4,
     "metadata": {},
     "output_type": "execute_result"
    }
   ],
   "source": [
    "rides_df.info()\n",
    "rides_df.head()"
   ]
  },
  {
   "cell_type": "code",
   "execution_count": 5,
   "id": "4688b0da",
   "metadata": {},
   "outputs": [
    {
     "name": "stdout",
     "output_type": "stream",
     "text": [
      "<class 'pandas.core.frame.DataFrame'>\n",
      "RangeIndex: 2 entries, 0 to 1\n",
      "Data columns (total 4 columns):\n",
      " #   Column             Non-Null Count  Dtype \n",
      "---  ------             --------------  ----- \n",
      " 0   subscription_type  2 non-null      object\n",
      " 1   minute_price       2 non-null      int64 \n",
      " 2   start_ride_price   2 non-null      int64 \n",
      " 3   subscription_fee   2 non-null      int64 \n",
      "dtypes: int64(3), object(1)\n",
      "memory usage: 192.0+ bytes\n"
     ]
    },
    {
     "data": {
      "text/html": [
       "<div>\n",
       "<style scoped>\n",
       "    .dataframe tbody tr th:only-of-type {\n",
       "        vertical-align: middle;\n",
       "    }\n",
       "\n",
       "    .dataframe tbody tr th {\n",
       "        vertical-align: top;\n",
       "    }\n",
       "\n",
       "    .dataframe thead th {\n",
       "        text-align: right;\n",
       "    }\n",
       "</style>\n",
       "<table border=\"1\" class=\"dataframe\">\n",
       "  <thead>\n",
       "    <tr style=\"text-align: right;\">\n",
       "      <th></th>\n",
       "      <th>subscription_type</th>\n",
       "      <th>minute_price</th>\n",
       "      <th>start_ride_price</th>\n",
       "      <th>subscription_fee</th>\n",
       "    </tr>\n",
       "  </thead>\n",
       "  <tbody>\n",
       "    <tr>\n",
       "      <th>0</th>\n",
       "      <td>free</td>\n",
       "      <td>8</td>\n",
       "      <td>50</td>\n",
       "      <td>0</td>\n",
       "    </tr>\n",
       "    <tr>\n",
       "      <th>1</th>\n",
       "      <td>ultra</td>\n",
       "      <td>6</td>\n",
       "      <td>0</td>\n",
       "      <td>199</td>\n",
       "    </tr>\n",
       "  </tbody>\n",
       "</table>\n",
       "</div>"
      ],
      "text/plain": [
       "  subscription_type  minute_price  start_ride_price  subscription_fee\n",
       "0              free             8                50                 0\n",
       "1             ultra             6                 0               199"
      ]
     },
     "execution_count": 5,
     "metadata": {},
     "output_type": "execute_result"
    }
   ],
   "source": [
    "subs_df.info()\n",
    "subs_df.head()"
   ]
  },
  {
   "cell_type": "markdown",
   "id": "e67cd9c0",
   "metadata": {},
   "source": [
    "Данные выглядит корректнo, без пропусков"
   ]
  },
  {
   "cell_type": "markdown",
   "id": "b934d1e0",
   "metadata": {},
   "source": [
    "## Шаг 2. Предобработка данных\n",
    "\n"
   ]
  },
  {
   "cell_type": "markdown",
   "id": "60473e36",
   "metadata": {},
   "source": [
    "### Приведем столбцы к нужному виду"
   ]
  },
  {
   "cell_type": "code",
   "execution_count": 6,
   "id": "51519d99",
   "metadata": {},
   "outputs": [
    {
     "name": "stdout",
     "output_type": "stream",
     "text": [
      "<class 'pandas.core.frame.DataFrame'>\n",
      "RangeIndex: 18068 entries, 0 to 18067\n",
      "Data columns (total 4 columns):\n",
      " #   Column    Non-Null Count  Dtype         \n",
      "---  ------    --------------  -----         \n",
      " 0   user_id   18068 non-null  int64         \n",
      " 1   distance  18068 non-null  float64       \n",
      " 2   duration  18068 non-null  float64       \n",
      " 3   date      18068 non-null  datetime64[ns]\n",
      "dtypes: datetime64[ns](1), float64(2), int64(1)\n",
      "memory usage: 564.8 KB\n"
     ]
    }
   ],
   "source": [
    "rides_df['date'] = pd.to_datetime(rides_df['date'])\n",
    "rides_df.info()"
   ]
  },
  {
   "cell_type": "markdown",
   "id": "c9768f5c",
   "metadata": {},
   "source": [
    "### 2.2"
   ]
  },
  {
   "cell_type": "code",
   "execution_count": 7,
   "id": "97b0ce43",
   "metadata": {},
   "outputs": [
    {
     "data": {
      "text/html": [
       "<div>\n",
       "<style scoped>\n",
       "    .dataframe tbody tr th:only-of-type {\n",
       "        vertical-align: middle;\n",
       "    }\n",
       "\n",
       "    .dataframe tbody tr th {\n",
       "        vertical-align: top;\n",
       "    }\n",
       "\n",
       "    .dataframe thead th {\n",
       "        text-align: right;\n",
       "    }\n",
       "</style>\n",
       "<table border=\"1\" class=\"dataframe\">\n",
       "  <thead>\n",
       "    <tr style=\"text-align: right;\">\n",
       "      <th></th>\n",
       "      <th>user_id</th>\n",
       "      <th>distance</th>\n",
       "      <th>duration</th>\n",
       "      <th>date</th>\n",
       "      <th>month</th>\n",
       "    </tr>\n",
       "  </thead>\n",
       "  <tbody>\n",
       "    <tr>\n",
       "      <th>0</th>\n",
       "      <td>1</td>\n",
       "      <td>4409.919140</td>\n",
       "      <td>25.599769</td>\n",
       "      <td>2021-01-01</td>\n",
       "      <td>1</td>\n",
       "    </tr>\n",
       "    <tr>\n",
       "      <th>1</th>\n",
       "      <td>1</td>\n",
       "      <td>2617.592153</td>\n",
       "      <td>15.816871</td>\n",
       "      <td>2021-01-18</td>\n",
       "      <td>1</td>\n",
       "    </tr>\n",
       "    <tr>\n",
       "      <th>2</th>\n",
       "      <td>1</td>\n",
       "      <td>754.159807</td>\n",
       "      <td>6.232113</td>\n",
       "      <td>2021-04-20</td>\n",
       "      <td>4</td>\n",
       "    </tr>\n",
       "    <tr>\n",
       "      <th>3</th>\n",
       "      <td>1</td>\n",
       "      <td>2694.783254</td>\n",
       "      <td>18.511000</td>\n",
       "      <td>2021-08-11</td>\n",
       "      <td>8</td>\n",
       "    </tr>\n",
       "    <tr>\n",
       "      <th>4</th>\n",
       "      <td>1</td>\n",
       "      <td>4028.687306</td>\n",
       "      <td>26.265803</td>\n",
       "      <td>2021-08-28</td>\n",
       "      <td>8</td>\n",
       "    </tr>\n",
       "  </tbody>\n",
       "</table>\n",
       "</div>"
      ],
      "text/plain": [
       "   user_id     distance   duration       date  month\n",
       "0        1  4409.919140  25.599769 2021-01-01      1\n",
       "1        1  2617.592153  15.816871 2021-01-18      1\n",
       "2        1   754.159807   6.232113 2021-04-20      4\n",
       "3        1  2694.783254  18.511000 2021-08-11      8\n",
       "4        1  4028.687306  26.265803 2021-08-28      8"
      ]
     },
     "execution_count": 7,
     "metadata": {},
     "output_type": "execute_result"
    }
   ],
   "source": [
    "rides_df['month'] = rides_df['date'].dt.month\n",
    "rides_df.head()"
   ]
  },
  {
   "cell_type": "markdown",
   "id": "2812c8f5",
   "metadata": {},
   "source": [
    "### Проверим данные на пропуски"
   ]
  },
  {
   "cell_type": "code",
   "execution_count": 8,
   "id": "af686a45",
   "metadata": {},
   "outputs": [
    {
     "name": "stdout",
     "output_type": "stream",
     "text": [
      "user_id              0\n",
      "name                 0\n",
      "age                  0\n",
      "city                 0\n",
      "subscription_type    0\n",
      "dtype: int64\n",
      "\n",
      "user_id     0\n",
      "distance    0\n",
      "duration    0\n",
      "date        0\n",
      "month       0\n",
      "dtype: int64\n",
      "\n",
      "subscription_type    0\n",
      "minute_price         0\n",
      "start_ride_price     0\n",
      "subscription_fee     0\n",
      "dtype: int64\n"
     ]
    }
   ],
   "source": [
    "missing_values_users = users_df.isnull().sum()\n",
    "missing_values_rides = rides_df.isnull().sum()\n",
    "missing_values_subscriptions = subs_df.isnull().sum()\n",
    "\n",
    "print(missing_values_users)\n",
    "print()\n",
    "print(missing_values_rides)\n",
    "print()\n",
    "print(missing_values_subscriptions)"
   ]
  },
  {
   "cell_type": "markdown",
   "id": "e1f827b7",
   "metadata": {},
   "source": [
    "**Пропущенных значений не обнаружено**"
   ]
  },
  {
   "cell_type": "markdown",
   "id": "4260711c",
   "metadata": {},
   "source": [
    "### Проверяем данные на дубликаты"
   ]
  },
  {
   "cell_type": "code",
   "execution_count": 9,
   "id": "510007cb",
   "metadata": {},
   "outputs": [
    {
     "name": "stdout",
     "output_type": "stream",
     "text": [
      "31\n",
      "0\n",
      "0\n"
     ]
    }
   ],
   "source": [
    "duplicates_users = users_df.duplicated().sum()\n",
    "duplicates_rides = rides_df.duplicated().sum()\n",
    "duplicates_subscriptions = subs_df.duplicated().sum()\n",
    "\n",
    "print(duplicates_users)\n",
    "print(duplicates_rides)\n",
    "print(duplicates_subscriptions)"
   ]
  },
  {
   "cell_type": "code",
   "execution_count": 10,
   "id": "62fe20c4",
   "metadata": {},
   "outputs": [],
   "source": [
    "users_df = users_df.drop_duplicates()\n"
   ]
  },
  {
   "cell_type": "code",
   "execution_count": 11,
   "id": "860e8c57",
   "metadata": {},
   "outputs": [
    {
     "name": "stdout",
     "output_type": "stream",
     "text": [
      "0\n"
     ]
    }
   ],
   "source": [
    "duplicates_users_updated = users_df.duplicated().sum()\n",
    "\n",
    "print(duplicates_users_updated)\n"
   ]
  },
  {
   "cell_type": "code",
   "execution_count": 12,
   "id": "ce67f1c9",
   "metadata": {},
   "outputs": [
    {
     "name": "stdout",
     "output_type": "stream",
     "text": [
      "<class 'pandas.core.frame.DataFrame'>\n",
      "Int64Index: 1534 entries, 0 to 1533\n",
      "Data columns (total 5 columns):\n",
      " #   Column             Non-Null Count  Dtype \n",
      "---  ------             --------------  ----- \n",
      " 0   user_id            1534 non-null   int64 \n",
      " 1   name               1534 non-null   object\n",
      " 2   age                1534 non-null   int64 \n",
      " 3   city               1534 non-null   object\n",
      " 4   subscription_type  1534 non-null   object\n",
      "dtypes: int64(2), object(3)\n",
      "memory usage: 71.9+ KB\n",
      "\n",
      "<class 'pandas.core.frame.DataFrame'>\n",
      "RangeIndex: 18068 entries, 0 to 18067\n",
      "Data columns (total 5 columns):\n",
      " #   Column    Non-Null Count  Dtype         \n",
      "---  ------    --------------  -----         \n",
      " 0   user_id   18068 non-null  int64         \n",
      " 1   distance  18068 non-null  float64       \n",
      " 2   duration  18068 non-null  float64       \n",
      " 3   date      18068 non-null  datetime64[ns]\n",
      " 4   month     18068 non-null  int64         \n",
      "dtypes: datetime64[ns](1), float64(2), int64(2)\n",
      "memory usage: 705.9 KB\n",
      "\n",
      "<class 'pandas.core.frame.DataFrame'>\n",
      "RangeIndex: 2 entries, 0 to 1\n",
      "Data columns (total 4 columns):\n",
      " #   Column             Non-Null Count  Dtype \n",
      "---  ------             --------------  ----- \n",
      " 0   subscription_type  2 non-null      object\n",
      " 1   minute_price       2 non-null      int64 \n",
      " 2   start_ride_price   2 non-null      int64 \n",
      " 3   subscription_fee   2 non-null      int64 \n",
      "dtypes: int64(3), object(1)\n",
      "memory usage: 192.0+ bytes\n"
     ]
    }
   ],
   "source": [
    "users_df.info()\n",
    "print()\n",
    "rides_df.info()\n",
    "print()\n",
    "subs_df.info()"
   ]
  },
  {
   "cell_type": "markdown",
   "id": "10b4664f",
   "metadata": {},
   "source": [
    "**Было удалено 31 дубликатов из датасета users_df**"
   ]
  },
  {
   "cell_type": "markdown",
   "id": "8b615b93",
   "metadata": {},
   "source": [
    "В предобработке данных \n",
    " - добавили новый столбец, который показывает месяц в котором была совершена поездка\n",
    " - удалили все дубликаты\n",
    " - проверили на пропущенные значения\n",
    " "
   ]
  },
  {
   "cell_type": "markdown",
   "id": "df77823f",
   "metadata": {},
   "source": [
    "## Шаг 3. Исследовательский анализ данных"
   ]
  },
  {
   "cell_type": "markdown",
   "id": "40e4282f",
   "metadata": {},
   "source": [
    "### Частота встречаемости городов"
   ]
  },
  {
   "cell_type": "code",
   "execution_count": 13,
   "id": "16e621ae",
   "metadata": {},
   "outputs": [
    {
     "data": {
      "image/png": "[encoded data removed]",
      "text/plain": [
       "<Figure size 720x432 with 1 Axes>"
      ]
     },
     "metadata": {
      "needs_background": "light"
     },
     "output_type": "display_data"
    }
   ],
   "source": [
    "city_frequency = users_df['city'].value_counts(ascending=True)\n",
    "\n",
    "plt.figure(figsize=(10, 6))\n",
    "city_frequency.plot(kind='bar')\n",
    "plt.title('Частота встречаемости городов')\n",
    "plt.xlabel('Город')\n",
    "plt.ylabel('Количество пользователей')\n",
    "plt.show()\n"
   ]
  },
  {
   "cell_type": "markdown",
   "id": "620e979a",
   "metadata": {},
   "source": [
    "Из графика видно, что большое количество из Пятигорска и Екатеринбурга, Москва располагается на 8 месте, а Санкт-Петербург даже не в топе"
   ]
  },
  {
   "cell_type": "markdown",
   "id": "19025e00",
   "metadata": {},
   "source": [
    "### Соотношение пользователей с подпиской и без подписки"
   ]
  },
  {
   "cell_type": "code",
   "execution_count": 14,
   "id": "4b416be6",
   "metadata": {},
   "outputs": [
    {
     "data": {
      "image/png": "[encoded data removed]",
      "text/plain": [
       "<Figure size 432x432 with 1 Axes>"
      ]
     },
     "metadata": {},
     "output_type": "display_data"
    }
   ],
   "source": [
    "subscription_proportion = users_df['subscription_type'].value_counts()\n",
    "\n",
    "plt.figure(figsize=(6, 6))\n",
    "subscription_proportion.plot(kind='pie', autopct='%.2f')\n",
    "plt.title('Соотношение пользователей с подпиской и без подписки')\n",
    "plt.ylabel('')\n",
    "plt.show()\n",
    "\n"
   ]
  },
  {
   "cell_type": "markdown",
   "id": "c4d843b1",
   "metadata": {},
   "source": [
    "больше половины пользователей используют подписку free, но также стоит отметить,что подпиской ultra пользуется более 40% пользователей"
   ]
  },
  {
   "cell_type": "markdown",
   "id": "65f3c867",
   "metadata": {},
   "source": [
    "### Распределение возраста пользователей"
   ]
  },
  {
   "cell_type": "code",
   "execution_count": 15,
   "id": "c0223d9a",
   "metadata": {},
   "outputs": [
    {
     "data": {
      "image/png": "[encoded data removed]",
      "text/plain": [
       "<Figure size 720x432 with 1 Axes>"
      ]
     },
     "metadata": {
      "needs_background": "light"
     },
     "output_type": "display_data"
    }
   ],
   "source": [
    "age_distribution = users_df['age']\n",
    "\n",
    "plt.figure(figsize=(10, 6))\n",
    "age_distribution.plot(kind='hist', bins=15, rwidth=0.8)\n",
    "plt.title('Распределение возраста пользователей')\n",
    "plt.xlabel('Возраст')\n",
    "plt.ylabel('Количество пользователей')\n",
    "plt.show()"
   ]
  },
  {
   "cell_type": "markdown",
   "id": "78331fd6",
   "metadata": {},
   "source": [
    "Основная часть пользователей находится в диапозоне от 20 до 35 лет. Это соответствует тому,что молодые люди чаще пользуются кикшерингом нежели старое поколение\n"
   ]
  },
  {
   "cell_type": "markdown",
   "id": "2907e91c",
   "metadata": {},
   "source": [
    "### Распределение расстояния за поездку"
   ]
  },
  {
   "cell_type": "code",
   "execution_count": 16,
   "id": "74bbdd65",
   "metadata": {},
   "outputs": [
    {
     "data": {
      "image/png": "[encoded data removed]",
      "text/plain": [
       "<Figure size 720x432 with 1 Axes>"
      ]
     },
     "metadata": {
      "needs_background": "light"
     },
     "output_type": "display_data"
    }
   ],
   "source": [
    "distance_distribution = rides_df['distance']\n",
    "\n",
    "plt.figure(figsize=(10, 6))\n",
    "distance_distribution.plot(kind='hist', bins=20, rwidth=0.8)\n",
    "plt.title('Распределение расстояния за поездку')\n",
    "plt.xlabel('Расстояние (м)')\n",
    "plt.ylabel('Количество поездок')\n",
    "plt.show()"
   ]
  },
  {
   "cell_type": "markdown",
   "id": "a80adaae",
   "metadata": {},
   "source": [
    "Большинство поездок покрывает расстояние от 500-4000м, что типично для городких поездок"
   ]
  },
  {
   "cell_type": "markdown",
   "id": "4fff57e4",
   "metadata": {},
   "source": [
    "###  Распределение продолжительности поездок"
   ]
  },
  {
   "cell_type": "code",
   "execution_count": 17,
   "id": "f577aa61",
   "metadata": {},
   "outputs": [
    {
     "data": {
      "image/png": "[encoded data removed]",
      "text/plain": [
       "<Figure size 720x432 with 1 Axes>"
      ]
     },
     "metadata": {
      "needs_background": "light"
     },
     "output_type": "display_data"
    }
   ],
   "source": [
    "duration_distribution = rides_df['duration']\n",
    "\n",
    "plt.figure(figsize=(10, 6))\n",
    "duration_distribution.plot(kind='hist', bins=100, rwidth=0.8)\n",
    "plt.title('Распределение продолжительности поездок')\n",
    "plt.xlabel('Продолжительность (минуты)')\n",
    "plt.ylabel('Количество поездок')\n",
    "plt.show()"
   ]
  },
  {
   "cell_type": "markdown",
   "id": "001a242e",
   "metadata": {},
   "source": [
    "Большинство поездок длятся от 10 до 30 минут. Странный пик около 0 (1-2 минуты) может свидетельствовать о каких-нибудь акциях на бесплатные минуты, так что не стоит его удалять"
   ]
  },
  {
   "cell_type": "markdown",
   "id": "a2a5fa0a",
   "metadata": {},
   "source": [
    "## Шаг 4. Объединение данных\n"
   ]
  },
  {
   "cell_type": "markdown",
   "id": "2e350198",
   "metadata": {},
   "source": [
    "### Объединим таблицы в df_full"
   ]
  },
  {
   "cell_type": "code",
   "execution_count": 18,
   "id": "7e7793fd",
   "metadata": {},
   "outputs": [],
   "source": [
    "df_users_rides = rides_df.merge(users_df, on='user_id', how='left')\n",
    "df_full = df_users_rides.merge(subs_df, on='subscription_type', how='left')\n"
   ]
  },
  {
   "cell_type": "markdown",
   "id": "1913e049",
   "metadata": {},
   "source": [
    "### 4.2 Создадим отдельные 2 таблицы по типу подписки"
   ]
  },
  {
   "cell_type": "code",
   "execution_count": 19,
   "id": "8755980c",
   "metadata": {},
   "outputs": [
    {
     "data": {
      "text/html": [
       "<div>\n",
       "<style scoped>\n",
       "    .dataframe tbody tr th:only-of-type {\n",
       "        vertical-align: middle;\n",
       "    }\n",
       "\n",
       "    .dataframe tbody tr th {\n",
       "        vertical-align: top;\n",
       "    }\n",
       "\n",
       "    .dataframe thead th {\n",
       "        text-align: right;\n",
       "    }\n",
       "</style>\n",
       "<table border=\"1\" class=\"dataframe\">\n",
       "  <thead>\n",
       "    <tr style=\"text-align: right;\">\n",
       "      <th></th>\n",
       "      <th>user_id</th>\n",
       "      <th>distance</th>\n",
       "      <th>duration</th>\n",
       "      <th>date</th>\n",
       "      <th>month</th>\n",
       "      <th>name</th>\n",
       "      <th>age</th>\n",
       "      <th>city</th>\n",
       "      <th>subscription_type</th>\n",
       "      <th>minute_price</th>\n",
       "      <th>start_ride_price</th>\n",
       "      <th>subscription_fee</th>\n",
       "    </tr>\n",
       "  </thead>\n",
       "  <tbody>\n",
       "    <tr>\n",
       "      <th>6500</th>\n",
       "      <td>700</td>\n",
       "      <td>2515.690719</td>\n",
       "      <td>14.944286</td>\n",
       "      <td>2021-01-02</td>\n",
       "      <td>1</td>\n",
       "      <td>Айдар</td>\n",
       "      <td>22</td>\n",
       "      <td>Омск</td>\n",
       "      <td>free</td>\n",
       "      <td>8</td>\n",
       "      <td>50</td>\n",
       "      <td>0</td>\n",
       "    </tr>\n",
       "    <tr>\n",
       "      <th>6501</th>\n",
       "      <td>700</td>\n",
       "      <td>846.932642</td>\n",
       "      <td>16.234663</td>\n",
       "      <td>2021-02-01</td>\n",
       "      <td>2</td>\n",
       "      <td>Айдар</td>\n",
       "      <td>22</td>\n",
       "      <td>Омск</td>\n",
       "      <td>free</td>\n",
       "      <td>8</td>\n",
       "      <td>50</td>\n",
       "      <td>0</td>\n",
       "    </tr>\n",
       "    <tr>\n",
       "      <th>6502</th>\n",
       "      <td>700</td>\n",
       "      <td>4004.434142</td>\n",
       "      <td>20.016628</td>\n",
       "      <td>2021-02-04</td>\n",
       "      <td>2</td>\n",
       "      <td>Айдар</td>\n",
       "      <td>22</td>\n",
       "      <td>Омск</td>\n",
       "      <td>free</td>\n",
       "      <td>8</td>\n",
       "      <td>50</td>\n",
       "      <td>0</td>\n",
       "    </tr>\n",
       "    <tr>\n",
       "      <th>6503</th>\n",
       "      <td>700</td>\n",
       "      <td>1205.911290</td>\n",
       "      <td>9.782872</td>\n",
       "      <td>2021-02-10</td>\n",
       "      <td>2</td>\n",
       "      <td>Айдар</td>\n",
       "      <td>22</td>\n",
       "      <td>Омск</td>\n",
       "      <td>free</td>\n",
       "      <td>8</td>\n",
       "      <td>50</td>\n",
       "      <td>0</td>\n",
       "    </tr>\n",
       "    <tr>\n",
       "      <th>6504</th>\n",
       "      <td>700</td>\n",
       "      <td>3047.379435</td>\n",
       "      <td>17.427673</td>\n",
       "      <td>2021-02-14</td>\n",
       "      <td>2</td>\n",
       "      <td>Айдар</td>\n",
       "      <td>22</td>\n",
       "      <td>Омск</td>\n",
       "      <td>free</td>\n",
       "      <td>8</td>\n",
       "      <td>50</td>\n",
       "      <td>0</td>\n",
       "    </tr>\n",
       "  </tbody>\n",
       "</table>\n",
       "</div>"
      ],
      "text/plain": [
       "      user_id     distance   duration       date  month   name  age  city  \\\n",
       "6500      700  2515.690719  14.944286 2021-01-02      1  Айдар   22  Омск   \n",
       "6501      700   846.932642  16.234663 2021-02-01      2  Айдар   22  Омск   \n",
       "6502      700  4004.434142  20.016628 2021-02-04      2  Айдар   22  Омск   \n",
       "6503      700  1205.911290   9.782872 2021-02-10      2  Айдар   22  Омск   \n",
       "6504      700  3047.379435  17.427673 2021-02-14      2  Айдар   22  Омск   \n",
       "\n",
       "     subscription_type  minute_price  start_ride_price  subscription_fee  \n",
       "6500              free             8                50                 0  \n",
       "6501              free             8                50                 0  \n",
       "6502              free             8                50                 0  \n",
       "6503              free             8                50                 0  \n",
       "6504              free             8                50                 0  "
      ]
     },
     "execution_count": 19,
     "metadata": {},
     "output_type": "execute_result"
    }
   ],
   "source": [
    "df_full_free = df_full.query('subscription_type == \"free\"')\n",
    "\n",
    "df_full_ultra = df_full.query('subscription_type == \"ultra\"')\n",
    "\n",
    "df_full_free.head()"
   ]
  },
  {
   "cell_type": "code",
   "execution_count": 20,
   "id": "66c853f1",
   "metadata": {
    "scrolled": true
   },
   "outputs": [
    {
     "data": {
      "text/html": [
       "<div>\n",
       "<style scoped>\n",
       "    .dataframe tbody tr th:only-of-type {\n",
       "        vertical-align: middle;\n",
       "    }\n",
       "\n",
       "    .dataframe tbody tr th {\n",
       "        vertical-align: top;\n",
       "    }\n",
       "\n",
       "    .dataframe thead th {\n",
       "        text-align: right;\n",
       "    }\n",
       "</style>\n",
       "<table border=\"1\" class=\"dataframe\">\n",
       "  <thead>\n",
       "    <tr style=\"text-align: right;\">\n",
       "      <th></th>\n",
       "      <th>user_id</th>\n",
       "      <th>distance</th>\n",
       "      <th>duration</th>\n",
       "      <th>date</th>\n",
       "      <th>month</th>\n",
       "      <th>name</th>\n",
       "      <th>age</th>\n",
       "      <th>city</th>\n",
       "      <th>subscription_type</th>\n",
       "      <th>minute_price</th>\n",
       "      <th>start_ride_price</th>\n",
       "      <th>subscription_fee</th>\n",
       "    </tr>\n",
       "  </thead>\n",
       "  <tbody>\n",
       "    <tr>\n",
       "      <th>0</th>\n",
       "      <td>1</td>\n",
       "      <td>4409.919140</td>\n",
       "      <td>25.599769</td>\n",
       "      <td>2021-01-01</td>\n",
       "      <td>1</td>\n",
       "      <td>Кира</td>\n",
       "      <td>22</td>\n",
       "      <td>Тюмень</td>\n",
       "      <td>ultra</td>\n",
       "      <td>6</td>\n",
       "      <td>0</td>\n",
       "      <td>199</td>\n",
       "    </tr>\n",
       "    <tr>\n",
       "      <th>1</th>\n",
       "      <td>1</td>\n",
       "      <td>2617.592153</td>\n",
       "      <td>15.816871</td>\n",
       "      <td>2021-01-18</td>\n",
       "      <td>1</td>\n",
       "      <td>Кира</td>\n",
       "      <td>22</td>\n",
       "      <td>Тюмень</td>\n",
       "      <td>ultra</td>\n",
       "      <td>6</td>\n",
       "      <td>0</td>\n",
       "      <td>199</td>\n",
       "    </tr>\n",
       "    <tr>\n",
       "      <th>2</th>\n",
       "      <td>1</td>\n",
       "      <td>754.159807</td>\n",
       "      <td>6.232113</td>\n",
       "      <td>2021-04-20</td>\n",
       "      <td>4</td>\n",
       "      <td>Кира</td>\n",
       "      <td>22</td>\n",
       "      <td>Тюмень</td>\n",
       "      <td>ultra</td>\n",
       "      <td>6</td>\n",
       "      <td>0</td>\n",
       "      <td>199</td>\n",
       "    </tr>\n",
       "    <tr>\n",
       "      <th>3</th>\n",
       "      <td>1</td>\n",
       "      <td>2694.783254</td>\n",
       "      <td>18.511000</td>\n",
       "      <td>2021-08-11</td>\n",
       "      <td>8</td>\n",
       "      <td>Кира</td>\n",
       "      <td>22</td>\n",
       "      <td>Тюмень</td>\n",
       "      <td>ultra</td>\n",
       "      <td>6</td>\n",
       "      <td>0</td>\n",
       "      <td>199</td>\n",
       "    </tr>\n",
       "    <tr>\n",
       "      <th>4</th>\n",
       "      <td>1</td>\n",
       "      <td>4028.687306</td>\n",
       "      <td>26.265803</td>\n",
       "      <td>2021-08-28</td>\n",
       "      <td>8</td>\n",
       "      <td>Кира</td>\n",
       "      <td>22</td>\n",
       "      <td>Тюмень</td>\n",
       "      <td>ultra</td>\n",
       "      <td>6</td>\n",
       "      <td>0</td>\n",
       "      <td>199</td>\n",
       "    </tr>\n",
       "  </tbody>\n",
       "</table>\n",
       "</div>"
      ],
      "text/plain": [
       "   user_id     distance   duration       date  month  name  age    city  \\\n",
       "0        1  4409.919140  25.599769 2021-01-01      1  Кира   22  Тюмень   \n",
       "1        1  2617.592153  15.816871 2021-01-18      1  Кира   22  Тюмень   \n",
       "2        1   754.159807   6.232113 2021-04-20      4  Кира   22  Тюмень   \n",
       "3        1  2694.783254  18.511000 2021-08-11      8  Кира   22  Тюмень   \n",
       "4        1  4028.687306  26.265803 2021-08-28      8  Кира   22  Тюмень   \n",
       "\n",
       "  subscription_type  minute_price  start_ride_price  subscription_fee  \n",
       "0             ultra             6                 0               199  \n",
       "1             ultra             6                 0               199  \n",
       "2             ultra             6                 0               199  \n",
       "3             ultra             6                 0               199  \n",
       "4             ultra             6                 0               199  "
      ]
     },
     "execution_count": 20,
     "metadata": {},
     "output_type": "execute_result"
    }
   ],
   "source": [
    "df_full_ultra.head()"
   ]
  },
  {
   "cell_type": "markdown",
   "id": "39e80ff0",
   "metadata": {},
   "source": [
    "### Рассмотрим распределение расстояния и времени поездок для пользователей по типу подписки "
   ]
  },
  {
   "cell_type": "code",
   "execution_count": 21,
   "id": "dd6d0003",
   "metadata": {},
   "outputs": [
    {
     "data": {
      "image/png": "[encoded data removed]",
      "text/plain": [
       "<Figure size 1008x432 with 2 Axes>"
      ]
     },
     "metadata": {
      "needs_background": "light"
     },
     "output_type": "display_data"
    }
   ],
   "source": [
    "\n",
    "plt.figure(figsize=(14, 6))\n",
    "\n",
    "plt.subplot(1, 2, 1)\n",
    "sns.histplot(df_full[df_full['subscription_type'] == 'ultra']['distance'], \n",
    "             color='blue', label='ultra', kde=True, bins=30, alpha=0.5)\n",
    "sns.histplot(df_full[df_full['subscription_type'] == 'free']['distance'], \n",
    "             color='orange', label='free', kde=True, bins=30, alpha=0.5)\n",
    "plt.title('Распределение расстояний поездок')\n",
    "plt.xlabel('Расстояние (метры)')\n",
    "plt.ylabel('Частота')\n",
    "plt.legend()\n",
    "\n",
    "plt.subplot(1, 2, 2)\n",
    "sns.histplot(df_full[df_full['subscription_type'] == 'ultra']['duration'], \n",
    "             color='blue', label='ultra', kde=True, bins=30, alpha=0.5)\n",
    "sns.histplot(df_full[df_full['subscription_type'] == 'free']['duration'], \n",
    "             color='orange', label='free', kde=True, bins=30, alpha=0.5)\n",
    "plt.title('Распределение времени поездок')\n",
    "plt.xlabel('Время (минуты)')\n",
    "plt.ylabel('Частота')\n",
    "plt.legend()\n",
    "\n",
    "plt.tight_layout()\n",
    "plt.show()\n"
   ]
  },
  {
   "cell_type": "markdown",
   "id": "5f4f6bd4",
   "metadata": {},
   "source": [
    "Пользователи с подпиской, в целом, проезжают более стабильные расстояния, тогда как пользователи без подписки имеют больше разнообразия в длине поездок,это указывает на то, что они совершают как короткие, так и очень длинные поездки\n",
    "\n",
    " Пользователи с подпиской тратят на поездки в среднем больше времени, чем пользователи без подписки. У подписчиков наблюдается меньше длинных поездок, что может свидетельствовать о более регулярном и предсказуемом использовании сервиса."
   ]
  },
  {
   "cell_type": "markdown",
   "id": "d7f00f3b",
   "metadata": {},
   "source": [
    "## Шаг 5. Подсчёт выручки\n"
   ]
  },
  {
   "cell_type": "markdown",
   "id": "d5fd1134",
   "metadata": {},
   "source": [
    "### Добавим столбец, который подсчитывает количество поездок и назовем его rides_count"
   ]
  },
  {
   "cell_type": "code",
   "execution_count": 22,
   "id": "80e5f5f5",
   "metadata": {},
   "outputs": [
    {
     "data": {
      "text/html": [
       "<div>\n",
       "<style scoped>\n",
       "    .dataframe tbody tr th:only-of-type {\n",
       "        vertical-align: middle;\n",
       "    }\n",
       "\n",
       "    .dataframe tbody tr th {\n",
       "        vertical-align: top;\n",
       "    }\n",
       "\n",
       "    .dataframe thead th {\n",
       "        text-align: right;\n",
       "    }\n",
       "</style>\n",
       "<table border=\"1\" class=\"dataframe\">\n",
       "  <thead>\n",
       "    <tr style=\"text-align: right;\">\n",
       "      <th></th>\n",
       "      <th>user_id</th>\n",
       "      <th>city</th>\n",
       "      <th>subscription_type</th>\n",
       "      <th>name</th>\n",
       "      <th>age</th>\n",
       "      <th>month</th>\n",
       "      <th>minute_price</th>\n",
       "      <th>start_ride_price</th>\n",
       "      <th>subscription_fee</th>\n",
       "      <th>distance</th>\n",
       "      <th>duration</th>\n",
       "      <th>rides_count</th>\n",
       "    </tr>\n",
       "  </thead>\n",
       "  <tbody>\n",
       "    <tr>\n",
       "      <th>0</th>\n",
       "      <td>1</td>\n",
       "      <td>Тюмень</td>\n",
       "      <td>ultra</td>\n",
       "      <td>Кира</td>\n",
       "      <td>22</td>\n",
       "      <td>1</td>\n",
       "      <td>6</td>\n",
       "      <td>0</td>\n",
       "      <td>199</td>\n",
       "      <td>7027.511294</td>\n",
       "      <td>42</td>\n",
       "      <td>2</td>\n",
       "    </tr>\n",
       "    <tr>\n",
       "      <th>1</th>\n",
       "      <td>1</td>\n",
       "      <td>Тюмень</td>\n",
       "      <td>ultra</td>\n",
       "      <td>Кира</td>\n",
       "      <td>22</td>\n",
       "      <td>4</td>\n",
       "      <td>6</td>\n",
       "      <td>0</td>\n",
       "      <td>199</td>\n",
       "      <td>754.159807</td>\n",
       "      <td>7</td>\n",
       "      <td>1</td>\n",
       "    </tr>\n",
       "    <tr>\n",
       "      <th>2</th>\n",
       "      <td>1</td>\n",
       "      <td>Тюмень</td>\n",
       "      <td>ultra</td>\n",
       "      <td>Кира</td>\n",
       "      <td>22</td>\n",
       "      <td>8</td>\n",
       "      <td>6</td>\n",
       "      <td>0</td>\n",
       "      <td>199</td>\n",
       "      <td>6723.470560</td>\n",
       "      <td>46</td>\n",
       "      <td>2</td>\n",
       "    </tr>\n",
       "    <tr>\n",
       "      <th>3</th>\n",
       "      <td>1</td>\n",
       "      <td>Тюмень</td>\n",
       "      <td>ultra</td>\n",
       "      <td>Кира</td>\n",
       "      <td>22</td>\n",
       "      <td>10</td>\n",
       "      <td>6</td>\n",
       "      <td>0</td>\n",
       "      <td>199</td>\n",
       "      <td>5809.911100</td>\n",
       "      <td>32</td>\n",
       "      <td>2</td>\n",
       "    </tr>\n",
       "    <tr>\n",
       "      <th>4</th>\n",
       "      <td>1</td>\n",
       "      <td>Тюмень</td>\n",
       "      <td>ultra</td>\n",
       "      <td>Кира</td>\n",
       "      <td>22</td>\n",
       "      <td>11</td>\n",
       "      <td>6</td>\n",
       "      <td>0</td>\n",
       "      <td>199</td>\n",
       "      <td>7003.499363</td>\n",
       "      <td>56</td>\n",
       "      <td>3</td>\n",
       "    </tr>\n",
       "    <tr>\n",
       "      <th>...</th>\n",
       "      <td>...</td>\n",
       "      <td>...</td>\n",
       "      <td>...</td>\n",
       "      <td>...</td>\n",
       "      <td>...</td>\n",
       "      <td>...</td>\n",
       "      <td>...</td>\n",
       "      <td>...</td>\n",
       "      <td>...</td>\n",
       "      <td>...</td>\n",
       "      <td>...</td>\n",
       "      <td>...</td>\n",
       "    </tr>\n",
       "    <tr>\n",
       "      <th>11326</th>\n",
       "      <td>1534</td>\n",
       "      <td>Краснодар</td>\n",
       "      <td>free</td>\n",
       "      <td>Альберт</td>\n",
       "      <td>25</td>\n",
       "      <td>6</td>\n",
       "      <td>8</td>\n",
       "      <td>50</td>\n",
       "      <td>0</td>\n",
       "      <td>3409.468534</td>\n",
       "      <td>26</td>\n",
       "      <td>2</td>\n",
       "    </tr>\n",
       "    <tr>\n",
       "      <th>11327</th>\n",
       "      <td>1534</td>\n",
       "      <td>Краснодар</td>\n",
       "      <td>free</td>\n",
       "      <td>Альберт</td>\n",
       "      <td>25</td>\n",
       "      <td>8</td>\n",
       "      <td>8</td>\n",
       "      <td>50</td>\n",
       "      <td>0</td>\n",
       "      <td>7622.453034</td>\n",
       "      <td>48</td>\n",
       "      <td>2</td>\n",
       "    </tr>\n",
       "    <tr>\n",
       "      <th>11328</th>\n",
       "      <td>1534</td>\n",
       "      <td>Краснодар</td>\n",
       "      <td>free</td>\n",
       "      <td>Альберт</td>\n",
       "      <td>25</td>\n",
       "      <td>9</td>\n",
       "      <td>8</td>\n",
       "      <td>50</td>\n",
       "      <td>0</td>\n",
       "      <td>4928.173852</td>\n",
       "      <td>23</td>\n",
       "      <td>1</td>\n",
       "    </tr>\n",
       "    <tr>\n",
       "      <th>11329</th>\n",
       "      <td>1534</td>\n",
       "      <td>Краснодар</td>\n",
       "      <td>free</td>\n",
       "      <td>Альберт</td>\n",
       "      <td>25</td>\n",
       "      <td>11</td>\n",
       "      <td>8</td>\n",
       "      <td>50</td>\n",
       "      <td>0</td>\n",
       "      <td>13350.015305</td>\n",
       "      <td>78</td>\n",
       "      <td>4</td>\n",
       "    </tr>\n",
       "    <tr>\n",
       "      <th>11330</th>\n",
       "      <td>1534</td>\n",
       "      <td>Краснодар</td>\n",
       "      <td>free</td>\n",
       "      <td>Альберт</td>\n",
       "      <td>25</td>\n",
       "      <td>12</td>\n",
       "      <td>8</td>\n",
       "      <td>50</td>\n",
       "      <td>0</td>\n",
       "      <td>2371.711192</td>\n",
       "      <td>16</td>\n",
       "      <td>1</td>\n",
       "    </tr>\n",
       "  </tbody>\n",
       "</table>\n",
       "<p>11331 rows × 12 columns</p>\n",
       "</div>"
      ],
      "text/plain": [
       "       user_id       city subscription_type     name  age  month  \\\n",
       "0            1     Тюмень             ultra     Кира   22      1   \n",
       "1            1     Тюмень             ultra     Кира   22      4   \n",
       "2            1     Тюмень             ultra     Кира   22      8   \n",
       "3            1     Тюмень             ultra     Кира   22     10   \n",
       "4            1     Тюмень             ultra     Кира   22     11   \n",
       "...        ...        ...               ...      ...  ...    ...   \n",
       "11326     1534  Краснодар              free  Альберт   25      6   \n",
       "11327     1534  Краснодар              free  Альберт   25      8   \n",
       "11328     1534  Краснодар              free  Альберт   25      9   \n",
       "11329     1534  Краснодар              free  Альберт   25     11   \n",
       "11330     1534  Краснодар              free  Альберт   25     12   \n",
       "\n",
       "       minute_price  start_ride_price  subscription_fee      distance  \\\n",
       "0                 6                 0               199   7027.511294   \n",
       "1                 6                 0               199    754.159807   \n",
       "2                 6                 0               199   6723.470560   \n",
       "3                 6                 0               199   5809.911100   \n",
       "4                 6                 0               199   7003.499363   \n",
       "...             ...               ...               ...           ...   \n",
       "11326             8                50                 0   3409.468534   \n",
       "11327             8                50                 0   7622.453034   \n",
       "11328             8                50                 0   4928.173852   \n",
       "11329             8                50                 0  13350.015305   \n",
       "11330             8                50                 0   2371.711192   \n",
       "\n",
       "       duration  rides_count  \n",
       "0            42            2  \n",
       "1             7            1  \n",
       "2            46            2  \n",
       "3            32            2  \n",
       "4            56            3  \n",
       "...         ...          ...  \n",
       "11326        26            2  \n",
       "11327        48            2  \n",
       "11328        23            1  \n",
       "11329        78            4  \n",
       "11330        16            1  \n",
       "\n",
       "[11331 rows x 12 columns]"
      ]
     },
     "execution_count": 22,
     "metadata": {},
     "output_type": "execute_result"
    }
   ],
   "source": [
    "\n",
    "\n",
    "df_full['duration'] = np.ceil(df_full['duration']).astype(int)\n",
    "df_full['rides_count'] = 1\n",
    "df_gr = df_full.pivot_table(\n",
    "    index=['user_id', 'city', 'subscription_type', 'name', 'age', 'month', 'minute_price', 'start_ride_price', 'subscription_fee'],\n",
    "    aggfunc={'distance': 'sum', 'duration': 'sum', 'rides_count': 'sum'}\n",
    ")\n",
    "df_gr = df_gr.reset_index()\n",
    "\n",
    "df_gr"
   ]
  },
  {
   "cell_type": "markdown",
   "id": "dac39ed9",
   "metadata": {},
   "source": [
    "### Добавим новый столбец, который подсчитывает общую выручку и назовем его revenue"
   ]
  },
  {
   "cell_type": "code",
   "execution_count": 23,
   "id": "c3833c73",
   "metadata": {},
   "outputs": [
    {
     "data": {
      "text/html": [
       "<div>\n",
       "<style scoped>\n",
       "    .dataframe tbody tr th:only-of-type {\n",
       "        vertical-align: middle;\n",
       "    }\n",
       "\n",
       "    .dataframe tbody tr th {\n",
       "        vertical-align: top;\n",
       "    }\n",
       "\n",
       "    .dataframe thead th {\n",
       "        text-align: right;\n",
       "    }\n",
       "</style>\n",
       "<table border=\"1\" class=\"dataframe\">\n",
       "  <thead>\n",
       "    <tr style=\"text-align: right;\">\n",
       "      <th></th>\n",
       "      <th>user_id</th>\n",
       "      <th>city</th>\n",
       "      <th>subscription_type</th>\n",
       "      <th>name</th>\n",
       "      <th>age</th>\n",
       "      <th>month</th>\n",
       "      <th>minute_price</th>\n",
       "      <th>start_ride_price</th>\n",
       "      <th>subscription_fee</th>\n",
       "      <th>distance</th>\n",
       "      <th>duration</th>\n",
       "      <th>rides_count</th>\n",
       "      <th>revenue</th>\n",
       "    </tr>\n",
       "  </thead>\n",
       "  <tbody>\n",
       "    <tr>\n",
       "      <th>0</th>\n",
       "      <td>1</td>\n",
       "      <td>Тюмень</td>\n",
       "      <td>ultra</td>\n",
       "      <td>Кира</td>\n",
       "      <td>22</td>\n",
       "      <td>1</td>\n",
       "      <td>6</td>\n",
       "      <td>0</td>\n",
       "      <td>199</td>\n",
       "      <td>7027.511294</td>\n",
       "      <td>42</td>\n",
       "      <td>2</td>\n",
       "      <td>451</td>\n",
       "    </tr>\n",
       "    <tr>\n",
       "      <th>1</th>\n",
       "      <td>1</td>\n",
       "      <td>Тюмень</td>\n",
       "      <td>ultra</td>\n",
       "      <td>Кира</td>\n",
       "      <td>22</td>\n",
       "      <td>4</td>\n",
       "      <td>6</td>\n",
       "      <td>0</td>\n",
       "      <td>199</td>\n",
       "      <td>754.159807</td>\n",
       "      <td>7</td>\n",
       "      <td>1</td>\n",
       "      <td>241</td>\n",
       "    </tr>\n",
       "    <tr>\n",
       "      <th>2</th>\n",
       "      <td>1</td>\n",
       "      <td>Тюмень</td>\n",
       "      <td>ultra</td>\n",
       "      <td>Кира</td>\n",
       "      <td>22</td>\n",
       "      <td>8</td>\n",
       "      <td>6</td>\n",
       "      <td>0</td>\n",
       "      <td>199</td>\n",
       "      <td>6723.470560</td>\n",
       "      <td>46</td>\n",
       "      <td>2</td>\n",
       "      <td>475</td>\n",
       "    </tr>\n",
       "    <tr>\n",
       "      <th>3</th>\n",
       "      <td>1</td>\n",
       "      <td>Тюмень</td>\n",
       "      <td>ultra</td>\n",
       "      <td>Кира</td>\n",
       "      <td>22</td>\n",
       "      <td>10</td>\n",
       "      <td>6</td>\n",
       "      <td>0</td>\n",
       "      <td>199</td>\n",
       "      <td>5809.911100</td>\n",
       "      <td>32</td>\n",
       "      <td>2</td>\n",
       "      <td>391</td>\n",
       "    </tr>\n",
       "    <tr>\n",
       "      <th>4</th>\n",
       "      <td>1</td>\n",
       "      <td>Тюмень</td>\n",
       "      <td>ultra</td>\n",
       "      <td>Кира</td>\n",
       "      <td>22</td>\n",
       "      <td>11</td>\n",
       "      <td>6</td>\n",
       "      <td>0</td>\n",
       "      <td>199</td>\n",
       "      <td>7003.499363</td>\n",
       "      <td>56</td>\n",
       "      <td>3</td>\n",
       "      <td>535</td>\n",
       "    </tr>\n",
       "    <tr>\n",
       "      <th>5</th>\n",
       "      <td>1</td>\n",
       "      <td>Тюмень</td>\n",
       "      <td>ultra</td>\n",
       "      <td>Кира</td>\n",
       "      <td>22</td>\n",
       "      <td>12</td>\n",
       "      <td>6</td>\n",
       "      <td>0</td>\n",
       "      <td>199</td>\n",
       "      <td>6751.629942</td>\n",
       "      <td>28</td>\n",
       "      <td>2</td>\n",
       "      <td>367</td>\n",
       "    </tr>\n",
       "    <tr>\n",
       "      <th>6</th>\n",
       "      <td>2</td>\n",
       "      <td>Омск</td>\n",
       "      <td>ultra</td>\n",
       "      <td>Станислав</td>\n",
       "      <td>31</td>\n",
       "      <td>3</td>\n",
       "      <td>6</td>\n",
       "      <td>0</td>\n",
       "      <td>199</td>\n",
       "      <td>10187.723006</td>\n",
       "      <td>63</td>\n",
       "      <td>3</td>\n",
       "      <td>577</td>\n",
       "    </tr>\n",
       "    <tr>\n",
       "      <th>7</th>\n",
       "      <td>2</td>\n",
       "      <td>Омск</td>\n",
       "      <td>ultra</td>\n",
       "      <td>Станислав</td>\n",
       "      <td>31</td>\n",
       "      <td>4</td>\n",
       "      <td>6</td>\n",
       "      <td>0</td>\n",
       "      <td>199</td>\n",
       "      <td>6164.381824</td>\n",
       "      <td>40</td>\n",
       "      <td>2</td>\n",
       "      <td>439</td>\n",
       "    </tr>\n",
       "    <tr>\n",
       "      <th>8</th>\n",
       "      <td>2</td>\n",
       "      <td>Омск</td>\n",
       "      <td>ultra</td>\n",
       "      <td>Станислав</td>\n",
       "      <td>31</td>\n",
       "      <td>6</td>\n",
       "      <td>6</td>\n",
       "      <td>0</td>\n",
       "      <td>199</td>\n",
       "      <td>3255.338202</td>\n",
       "      <td>14</td>\n",
       "      <td>1</td>\n",
       "      <td>283</td>\n",
       "    </tr>\n",
       "    <tr>\n",
       "      <th>9</th>\n",
       "      <td>2</td>\n",
       "      <td>Омск</td>\n",
       "      <td>ultra</td>\n",
       "      <td>Станислав</td>\n",
       "      <td>31</td>\n",
       "      <td>7</td>\n",
       "      <td>6</td>\n",
       "      <td>0</td>\n",
       "      <td>199</td>\n",
       "      <td>6780.722964</td>\n",
       "      <td>48</td>\n",
       "      <td>2</td>\n",
       "      <td>487</td>\n",
       "    </tr>\n",
       "  </tbody>\n",
       "</table>\n",
       "</div>"
      ],
      "text/plain": [
       "   user_id    city subscription_type       name  age  month  minute_price  \\\n",
       "0        1  Тюмень             ultra       Кира   22      1             6   \n",
       "1        1  Тюмень             ultra       Кира   22      4             6   \n",
       "2        1  Тюмень             ultra       Кира   22      8             6   \n",
       "3        1  Тюмень             ultra       Кира   22     10             6   \n",
       "4        1  Тюмень             ultra       Кира   22     11             6   \n",
       "5        1  Тюмень             ultra       Кира   22     12             6   \n",
       "6        2    Омск             ultra  Станислав   31      3             6   \n",
       "7        2    Омск             ultra  Станислав   31      4             6   \n",
       "8        2    Омск             ultra  Станислав   31      6             6   \n",
       "9        2    Омск             ultra  Станислав   31      7             6   \n",
       "\n",
       "   start_ride_price  subscription_fee      distance  duration  rides_count  \\\n",
       "0                 0               199   7027.511294        42            2   \n",
       "1                 0               199    754.159807         7            1   \n",
       "2                 0               199   6723.470560        46            2   \n",
       "3                 0               199   5809.911100        32            2   \n",
       "4                 0               199   7003.499363        56            3   \n",
       "5                 0               199   6751.629942        28            2   \n",
       "6                 0               199  10187.723006        63            3   \n",
       "7                 0               199   6164.381824        40            2   \n",
       "8                 0               199   3255.338202        14            1   \n",
       "9                 0               199   6780.722964        48            2   \n",
       "\n",
       "   revenue  \n",
       "0      451  \n",
       "1      241  \n",
       "2      475  \n",
       "3      391  \n",
       "4      535  \n",
       "5      367  \n",
       "6      577  \n",
       "7      439  \n",
       "8      283  \n",
       "9      487  "
      ]
     },
     "execution_count": 23,
     "metadata": {},
     "output_type": "execute_result"
    }
   ],
   "source": [
    "df_gr['revenue']=  (df_gr['duration'] * df_gr['minute_price'] \n",
    "                              + df_gr['rides_count'] *  df_gr['start_ride_price']\n",
    "                              + df_gr['subscription_fee'])\n",
    "\n",
    "df_gr.head(10)"
   ]
  },
  {
   "cell_type": "markdown",
   "id": "93387a2f",
   "metadata": {},
   "source": [
    "## Шаг 6. Проверка гипотез\n"
   ]
  },
  {
   "cell_type": "markdown",
   "id": "23327944",
   "metadata": {},
   "source": [
    "### Первая гипотеза"
   ]
  },
  {
   "cell_type": "code",
   "execution_count": 24,
   "id": "c6725558",
   "metadata": {},
   "outputs": [],
   "source": [
    "alpha = 0.05"
   ]
  },
  {
   "cell_type": "markdown",
   "id": "6be9d99c",
   "metadata": {},
   "source": [
    "\n",
    " H0: Средняя продолжительность поездок пользователей с подпиской <= средней продолжительности поездок без подписки\n",
    " \n",
    " H1: Средняя продолжительность поездок пользователей с подпиской > средней продолжительности поездок без подписки\n"
   ]
  },
  {
   "cell_type": "code",
   "execution_count": 27,
   "id": "5c81bb78",
   "metadata": {
    "scrolled": true
   },
   "outputs": [
    {
     "name": "stdout",
     "output_type": "stream",
     "text": [
      "Средняя продолжительность поездок пользователей с подпиской: 19.037692307692307\n",
      "Средняя продолжительность поездок пользователей без подписки: 17.890992392807746\n"
     ]
    }
   ],
   "source": [
    "subscribers = df_full.query('subscription_type == \"ultra\"')\n",
    "non_subscribers = df_full.query('subscription_type == \"free\"')\n",
    "print('Средняя продолжительность поездок пользователей с подпиской:',np.mean(subscribers['duration']))\n",
    "print('Средняя продолжительность поездок пользователей без подписки:',np.mean(non_subscribers['duration']))"
   ]
  },
  {
   "cell_type": "code",
   "execution_count": 28,
   "id": "4a4d3626",
   "metadata": {},
   "outputs": [
    {
     "name": "stdout",
     "output_type": "stream",
     "text": [
      "р-значение: 1.1814679253701353e-36\n",
      "Отвергаем нулевую гипотезу\n",
      "Пользователи с подпиской тратят больше времени на поездки\n"
     ]
    }
   ],
   "source": [
    "results = st.ttest_ind(subscribers[\"duration\"], non_subscribers[\"duration\"],equal_var = False,alternative='greater')\n",
    "print('р-значение:', results.pvalue)\n",
    "\n",
    "if results.pvalue < alpha:\n",
    "    print('Отвергаем нулевую гипотезу')\n",
    "else:\n",
    "    print('Не отвергаем нулевую гипотезу')\n",
    "\n",
    "\n",
    "print('Пользователи с подпиской тратят больше времени на поездки')"
   ]
  },
  {
   "cell_type": "markdown",
   "id": "ad0fe8a0",
   "metadata": {},
   "source": [
    "### Вторая гипотеза"
   ]
  },
  {
   "cell_type": "markdown",
   "id": "933d5a3b",
   "metadata": {},
   "source": [
    "H0: Среднее расстояние, которое проезжают пользователи с подпиской за одну поездку, не превышает 3130 метров\n",
    "\n",
    "H1: Среднее расстояние поездки пользователей с подпиской превышает 3130 метров\n"
   ]
  },
  {
   "cell_type": "code",
   "execution_count": 29,
   "id": "950c766f",
   "metadata": {
    "scrolled": true
   },
   "outputs": [
    {
     "name": "stdout",
     "output_type": "stream",
     "text": [
      "Среднее расстояние, которое проезжают пользователи с подпиской за одну поездку: 3115.4453880370247\n",
      "p-value 0.9195368847849785\n",
      "He отвергаем нулевую гипотезу\n",
      "Среднее расстояние, которое проезжают пользователи с подпиской за одну поездку, не превышает 3130 метров\n"
     ]
    }
   ],
   "source": [
    "dist = df_full.query('subscription_type == \"ultra\"')\n",
    "print('Среднее расстояние, которое проезжают пользователи с подпиской за одну поездку:',  np.mean(dist['distance']))\n",
    "\n",
    "results = st.ttest_1samp(dist['distance'] , 3130 , alternative = 'greater')\n",
    "print('p-value', results.pvalue)\n",
    "if results.pvalue < alpha:\n",
    "    print('Отвергаем нулевую гипотезу')\n",
    "else:\n",
    "    print('He отвергаем нулевую гипотезу')\n",
    "    \n",
    "print('Среднее расстояние, которое проезжают пользователи с подпиской за одну поездку, не превышает 3130 метров')"
   ]
  },
  {
   "cell_type": "markdown",
   "id": "e68d7331",
   "metadata": {},
   "source": [
    "### Третья гипотеза "
   ]
  },
  {
   "cell_type": "markdown",
   "id": "7190f461",
   "metadata": {},
   "source": [
    "\n",
    "H0: Помесячная выручка от пользователей с подпиской не больше, чем выручка от пользователей без подписки\n",
    "\n",
    "H1: Помесячная выручка от пользователей с подпиской выше, чем выручка от пользователей без подписки"
   ]
  },
  {
   "cell_type": "code",
   "execution_count": 33,
   "id": "c2bd2701",
   "metadata": {},
   "outputs": [
    {
     "name": "stdout",
     "output_type": "stream",
     "text": [
      "Средняя выручка от пользователей с подпиской: 362.7921906022502\n",
      "Средняя выручка от пользователей без подписки: 328.6413651073845\n",
      "\n",
      "p-value: 1.8850394384715216e-31\n",
      "Отвергаем нулевую гипотезу\n",
      "Помесячная выручка от пользователей с подпиской выше\n"
     ]
    }
   ],
   "source": [
    "subscribers_revenue = df_gr.query('subscription_type == \"ultra\"')\n",
    "non_subscribers_revenue = df_gr.query('subscription_type == \"free\"')\n",
    "\n",
    "print('Средняя выручка от пользователей с подпиской:',np.mean(subscribers_revenue['revenue']))\n",
    "print('Средняя выручка от пользователей без подписки:',np.mean(non_subscribers_revenue['revenue']))\n",
    "print()\n",
    "\n",
    "results = st.ttest_ind(subscribers_revenue['revenue'], non_subscribers_revenue['revenue'], alternative='greater')\n",
    "\n",
    "print('p-value:', results.pvalue)\n",
    "if results.pvalue < alpha:\n",
    "    print(\"Отвергаем нулевую гипотезу\")\n",
    "else:\n",
    "    print(\"Не удалось отвергнуть нулевую гипотезу\")\n",
    "\n",
    "print('Помесячная выручка от пользователей с подпиской выше')"
   ]
  },
  {
   "cell_type": "markdown",
   "id": "eefe2ca7",
   "metadata": {},
   "source": [
    "## Вывод"
   ]
  },
  {
   "cell_type": "markdown",
   "id": "cf6d5368",
   "metadata": {},
   "source": [
    "## Предобработка данных\n",
    "\n",
    "Перед началом анализа были проведены важные шаги по предобработке данных:\n",
    "\n",
    " - Обработка пропущенных значений\n",
    " - Создание новых столбцов\n",
    " - удаление дубликатов\n",
    "\n",
    "## Исследовательский анализ данных\n",
    "\n",
    "В ходе исследовательского анализа данных были описана и визуализирована общая информация о пользователях и поездках\n",
    "\n",
    " - Большинство поездок покрывает расстояние от 500-4000м, что типично для городких поездок\n",
    " - Основная часть пользователей находится в диапозоне от 20 до 35 лет. Это соответствует тому,что молодые люди чаще пользуются кикшерингом нежели старое поколение\n",
    " - 54.43% пользователей используют подписку free, но также стоит отметить,что подпиской ultra пользуется 45.57% пользователей\n",
    " - Большинство поездок длятся от 10 до 30 минут. Странный пик около 0 (1-2 минуты) может свидетельствовать об акциях на бесплатные минуты, так что не стоит его удалять\n",
    " - Наибольший процент пользователей приходится на Пятигорск и Екатеринбург, Москва располагается всего лишь на 8 месте\n",
    "\n",
    "\n",
    "## Обьединение данных\n",
    "\n",
    "- С помощью метода merge мы обьединили данные о пользователях, поездках и подписках в один датафрейм\n",
    "- Создали два датафрейма из датафрейма, созданного на этапе 4.1: \n",
    "\n",
    "        c данными о пользователях без подписки\n",
    "        с данными о пользователях с подпиской\n",
    "\n",
    "\n",
    "- Визуализировали информацию о расстоянии и времени поездок для пользователей обеих категорий.\n",
    "   \n",
    "   Пользователи с подпиской, в целом, проезжают более стабильные расстояния, тогда как пользователи без подписки имеют больше разнообразия в длине поездок,это указывает на то, что они совершают как короткие, так и очень длинные поездки\n",
    "\n",
    "    Пользователи с подпиской тратят на поездки в среднем больше времени, чем пользователи без подписки. У подписчиков наблюдается меньше длинных поездок, что может свидетельствовать о более регулярном и предсказуемом использовании сервиса.\n",
    "\n",
    "## Подсчёт выручки\n",
    "- Создали датафрейм с агрегированными данными о поездках\n",
    "- Добавили столбец с помесячной выручкой, которую принёс каждый пользователь\n",
    "\n",
    "## Проверка гипотез\n",
    "- пользователи с подпиской тратят больше времени на поездки и именно они могут быть более выгодными для сервиса\n",
    "- Cреднее расстояние одной поездки пользователей с подпиской не превышает 3130 метров\n",
    "- Выручка от пользователей c подпиской больше, чем без подписки\n",
    "## Рекомендации \n",
    "\n",
    "Серивису стоит ориентироваться на пользователей с подпиской и объявлять акции для привлечения внимания новых клиентов,поскольку большая часть выручки приходится на данную категорию \n"
   ]
  }
 ],
 "metadata": {
  "ExecuteTimeLog": [
   {
    "duration": 1411,
    "start_time": "2024-10-26T15:06:51.280Z"
   },
   {
    "duration": 138,
    "start_time": "2024-10-26T15:06:52.693Z"
   },
   {
    "duration": 0,
    "start_time": "2024-10-26T15:06:52.834Z"
   },
   {
    "duration": 0,
    "start_time": "2024-10-26T15:06:52.835Z"
   },
   {
    "duration": 0,
    "start_time": "2024-10-26T15:06:52.837Z"
   },
   {
    "duration": 0,
    "start_time": "2024-10-26T15:06:52.838Z"
   },
   {
    "duration": 0,
    "start_time": "2024-10-26T15:06:52.839Z"
   },
   {
    "duration": 0,
    "start_time": "2024-10-26T15:06:52.840Z"
   },
   {
    "duration": 0,
    "start_time": "2024-10-26T15:06:52.852Z"
   },
   {
    "duration": 0,
    "start_time": "2024-10-26T15:06:52.853Z"
   },
   {
    "duration": 0,
    "start_time": "2024-10-26T15:06:52.855Z"
   },
   {
    "duration": 0,
    "start_time": "2024-10-26T15:06:52.856Z"
   },
   {
    "duration": 0,
    "start_time": "2024-10-26T15:06:52.857Z"
   },
   {
    "duration": 0,
    "start_time": "2024-10-26T15:06:52.858Z"
   },
   {
    "duration": 0,
    "start_time": "2024-10-26T15:06:52.860Z"
   },
   {
    "duration": 0,
    "start_time": "2024-10-26T15:06:52.861Z"
   },
   {
    "duration": 0,
    "start_time": "2024-10-26T15:06:52.862Z"
   },
   {
    "duration": 0,
    "start_time": "2024-10-26T15:06:52.864Z"
   },
   {
    "duration": 0,
    "start_time": "2024-10-26T15:06:52.866Z"
   },
   {
    "duration": 0,
    "start_time": "2024-10-26T15:06:52.867Z"
   },
   {
    "duration": 0,
    "start_time": "2024-10-26T15:06:52.868Z"
   },
   {
    "duration": 0,
    "start_time": "2024-10-26T15:06:52.869Z"
   },
   {
    "duration": 0,
    "start_time": "2024-10-26T15:06:52.871Z"
   },
   {
    "duration": 0,
    "start_time": "2024-10-26T15:06:52.872Z"
   },
   {
    "duration": 0,
    "start_time": "2024-10-26T15:06:52.874Z"
   },
   {
    "duration": 0,
    "start_time": "2024-10-26T15:06:52.875Z"
   },
   {
    "duration": 0,
    "start_time": "2024-10-26T15:06:52.876Z"
   },
   {
    "duration": 0,
    "start_time": "2024-10-26T15:06:52.878Z"
   },
   {
    "duration": 0,
    "start_time": "2024-10-26T15:06:52.879Z"
   },
   {
    "duration": 1257,
    "start_time": "2024-10-26T16:23:33.537Z"
   },
   {
    "duration": 130,
    "start_time": "2024-10-26T16:23:34.796Z"
   },
   {
    "duration": 0,
    "start_time": "2024-10-26T16:23:34.929Z"
   },
   {
    "duration": 0,
    "start_time": "2024-10-26T16:23:34.930Z"
   },
   {
    "duration": 0,
    "start_time": "2024-10-26T16:23:34.932Z"
   },
   {
    "duration": 0,
    "start_time": "2024-10-26T16:23:34.933Z"
   },
   {
    "duration": 0,
    "start_time": "2024-10-26T16:23:34.934Z"
   },
   {
    "duration": 0,
    "start_time": "2024-10-26T16:23:34.936Z"
   },
   {
    "duration": 0,
    "start_time": "2024-10-26T16:23:34.937Z"
   },
   {
    "duration": 0,
    "start_time": "2024-10-26T16:23:34.938Z"
   },
   {
    "duration": 0,
    "start_time": "2024-10-26T16:23:34.939Z"
   },
   {
    "duration": 0,
    "start_time": "2024-10-26T16:23:34.940Z"
   },
   {
    "duration": 0,
    "start_time": "2024-10-26T16:23:34.942Z"
   },
   {
    "duration": 0,
    "start_time": "2024-10-26T16:23:34.957Z"
   },
   {
    "duration": 0,
    "start_time": "2024-10-26T16:23:34.958Z"
   },
   {
    "duration": 0,
    "start_time": "2024-10-26T16:23:34.960Z"
   },
   {
    "duration": 0,
    "start_time": "2024-10-26T16:23:34.961Z"
   },
   {
    "duration": 0,
    "start_time": "2024-10-26T16:23:34.962Z"
   },
   {
    "duration": 1,
    "start_time": "2024-10-26T16:23:34.963Z"
   },
   {
    "duration": 0,
    "start_time": "2024-10-26T16:23:34.965Z"
   },
   {
    "duration": 0,
    "start_time": "2024-10-26T16:23:34.966Z"
   },
   {
    "duration": 0,
    "start_time": "2024-10-26T16:23:34.968Z"
   },
   {
    "duration": 0,
    "start_time": "2024-10-26T16:23:34.969Z"
   },
   {
    "duration": 0,
    "start_time": "2024-10-26T16:23:34.970Z"
   },
   {
    "duration": 0,
    "start_time": "2024-10-26T16:23:34.971Z"
   },
   {
    "duration": 0,
    "start_time": "2024-10-26T16:23:34.973Z"
   },
   {
    "duration": 0,
    "start_time": "2024-10-26T16:23:34.974Z"
   },
   {
    "duration": 0,
    "start_time": "2024-10-26T16:23:34.975Z"
   },
   {
    "duration": 0,
    "start_time": "2024-10-26T16:23:34.976Z"
   },
   {
    "duration": 282,
    "start_time": "2024-10-26T16:32:09.096Z"
   },
   {
    "duration": 1041,
    "start_time": "2024-10-26T16:34:12.674Z"
   },
   {
    "duration": 62,
    "start_time": "2024-10-26T16:34:13.717Z"
   },
   {
    "duration": 16,
    "start_time": "2024-10-26T16:34:13.781Z"
   },
   {
    "duration": 51,
    "start_time": "2024-10-26T16:34:13.799Z"
   },
   {
    "duration": 12,
    "start_time": "2024-10-26T16:34:13.852Z"
   },
   {
    "duration": 11,
    "start_time": "2024-10-26T16:34:13.865Z"
   },
   {
    "duration": 11,
    "start_time": "2024-10-26T16:34:13.877Z"
   },
   {
    "duration": 8,
    "start_time": "2024-10-26T16:34:13.889Z"
   },
   {
    "duration": 53,
    "start_time": "2024-10-26T16:34:13.898Z"
   },
   {
    "duration": 19,
    "start_time": "2024-10-26T16:34:13.954Z"
   },
   {
    "duration": 9,
    "start_time": "2024-10-26T16:34:13.975Z"
   },
   {
    "duration": 18,
    "start_time": "2024-10-26T16:34:13.986Z"
   },
   {
    "duration": 161,
    "start_time": "2024-10-26T16:34:14.006Z"
   },
   {
    "duration": 72,
    "start_time": "2024-10-26T16:34:14.168Z"
   },
   {
    "duration": 146,
    "start_time": "2024-10-26T16:34:14.241Z"
   },
   {
    "duration": 156,
    "start_time": "2024-10-26T16:34:14.388Z"
   },
   {
    "duration": 154,
    "start_time": "2024-10-26T16:34:14.546Z"
   },
   {
    "duration": 13,
    "start_time": "2024-10-26T16:34:14.701Z"
   },
   {
    "duration": 18,
    "start_time": "2024-10-26T16:34:14.715Z"
   },
   {
    "duration": 24,
    "start_time": "2024-10-26T16:34:14.734Z"
   },
   {
    "duration": 385,
    "start_time": "2024-10-26T16:34:14.760Z"
   },
   {
    "duration": 50,
    "start_time": "2024-10-26T16:34:15.146Z"
   },
   {
    "duration": 13,
    "start_time": "2024-10-26T16:34:15.198Z"
   },
   {
    "duration": 23,
    "start_time": "2024-10-26T16:34:15.213Z"
   },
   {
    "duration": 39,
    "start_time": "2024-10-26T16:34:15.237Z"
   },
   {
    "duration": 72,
    "start_time": "2024-10-26T16:34:15.278Z"
   },
   {
    "duration": 85,
    "start_time": "2024-10-26T16:34:15.351Z"
   },
   {
    "duration": 17,
    "start_time": "2024-10-26T16:34:15.439Z"
   },
   {
    "duration": 7,
    "start_time": "2024-10-26T16:34:15.457Z"
   },
   {
    "duration": 1033,
    "start_time": "2024-10-26T16:39:38.718Z"
   },
   {
    "duration": 65,
    "start_time": "2024-10-26T16:39:39.753Z"
   },
   {
    "duration": 17,
    "start_time": "2024-10-26T16:39:39.819Z"
   },
   {
    "duration": 15,
    "start_time": "2024-10-26T16:39:39.837Z"
   },
   {
    "duration": 11,
    "start_time": "2024-10-26T16:39:39.853Z"
   },
   {
    "duration": 17,
    "start_time": "2024-10-26T16:39:39.866Z"
   },
   {
    "duration": 9,
    "start_time": "2024-10-26T16:39:39.884Z"
   },
   {
    "duration": 7,
    "start_time": "2024-10-26T16:39:39.894Z"
   },
   {
    "duration": 9,
    "start_time": "2024-10-26T16:39:39.902Z"
   },
   {
    "duration": 16,
    "start_time": "2024-10-26T16:39:39.913Z"
   },
   {
    "duration": 30,
    "start_time": "2024-10-26T16:39:39.930Z"
   },
   {
    "duration": 18,
    "start_time": "2024-10-26T16:39:39.962Z"
   },
   {
    "duration": 172,
    "start_time": "2024-10-26T16:39:39.981Z"
   },
   {
    "duration": 75,
    "start_time": "2024-10-26T16:39:40.156Z"
   },
   {
    "duration": 155,
    "start_time": "2024-10-26T16:39:40.232Z"
   },
   {
    "duration": 156,
    "start_time": "2024-10-26T16:39:40.389Z"
   },
   {
    "duration": 155,
    "start_time": "2024-10-26T16:39:40.546Z"
   },
   {
    "duration": 12,
    "start_time": "2024-10-26T16:39:40.703Z"
   },
   {
    "duration": 17,
    "start_time": "2024-10-26T16:39:40.717Z"
   },
   {
    "duration": 24,
    "start_time": "2024-10-26T16:39:40.735Z"
   },
   {
    "duration": 398,
    "start_time": "2024-10-26T16:39:40.760Z"
   },
   {
    "duration": 49,
    "start_time": "2024-10-26T16:39:41.160Z"
   },
   {
    "duration": 14,
    "start_time": "2024-10-26T16:39:41.210Z"
   },
   {
    "duration": 2,
    "start_time": "2024-10-26T16:39:41.225Z"
   },
   {
    "duration": 25,
    "start_time": "2024-10-26T16:39:41.228Z"
   },
   {
    "duration": 25,
    "start_time": "2024-10-26T16:39:41.257Z"
   },
   {
    "duration": 22,
    "start_time": "2024-10-26T16:39:41.283Z"
   },
   {
    "duration": 18,
    "start_time": "2024-10-26T16:39:41.308Z"
   },
   {
    "duration": 11,
    "start_time": "2024-10-26T16:39:41.327Z"
   },
   {
    "duration": 1100,
    "start_time": "2024-10-26T16:41:27.650Z"
   },
   {
    "duration": 63,
    "start_time": "2024-10-26T16:41:28.752Z"
   },
   {
    "duration": 16,
    "start_time": "2024-10-26T16:41:28.817Z"
   },
   {
    "duration": 17,
    "start_time": "2024-10-26T16:41:28.834Z"
   },
   {
    "duration": 12,
    "start_time": "2024-10-26T16:41:28.852Z"
   },
   {
    "duration": 11,
    "start_time": "2024-10-26T16:41:28.865Z"
   },
   {
    "duration": 9,
    "start_time": "2024-10-26T16:41:28.877Z"
   },
   {
    "duration": 7,
    "start_time": "2024-10-26T16:41:28.887Z"
   },
   {
    "duration": 8,
    "start_time": "2024-10-26T16:41:28.896Z"
   },
   {
    "duration": 8,
    "start_time": "2024-10-26T16:41:28.905Z"
   },
   {
    "duration": 12,
    "start_time": "2024-10-26T16:41:28.915Z"
   },
   {
    "duration": 46,
    "start_time": "2024-10-26T16:41:28.928Z"
   },
   {
    "duration": 165,
    "start_time": "2024-10-26T16:41:28.975Z"
   },
   {
    "duration": 78,
    "start_time": "2024-10-26T16:41:29.142Z"
   },
   {
    "duration": 148,
    "start_time": "2024-10-26T16:41:29.221Z"
   },
   {
    "duration": 152,
    "start_time": "2024-10-26T16:41:29.370Z"
   },
   {
    "duration": 159,
    "start_time": "2024-10-26T16:41:29.523Z"
   },
   {
    "duration": 13,
    "start_time": "2024-10-26T16:41:29.683Z"
   },
   {
    "duration": 18,
    "start_time": "2024-10-26T16:41:29.697Z"
   },
   {
    "duration": 10,
    "start_time": "2024-10-26T16:41:29.716Z"
   },
   {
    "duration": 386,
    "start_time": "2024-10-26T16:41:29.727Z"
   },
   {
    "duration": 59,
    "start_time": "2024-10-26T16:41:30.114Z"
   },
   {
    "duration": 14,
    "start_time": "2024-10-26T16:41:30.174Z"
   },
   {
    "duration": 25,
    "start_time": "2024-10-26T16:41:30.189Z"
   },
   {
    "duration": 27,
    "start_time": "2024-10-26T16:41:30.215Z"
   },
   {
    "duration": 14,
    "start_time": "2024-10-26T16:41:30.243Z"
   },
   {
    "duration": 31,
    "start_time": "2024-10-26T16:41:30.259Z"
   },
   {
    "duration": 45,
    "start_time": "2024-10-26T16:41:30.291Z"
   },
   {
    "duration": 14,
    "start_time": "2024-10-26T16:41:30.338Z"
   },
   {
    "duration": 1199,
    "start_time": "2024-10-26T17:25:37.357Z"
   },
   {
    "duration": 79,
    "start_time": "2024-10-26T17:25:38.559Z"
   },
   {
    "duration": 21,
    "start_time": "2024-10-26T17:25:38.639Z"
   },
   {
    "duration": 20,
    "start_time": "2024-10-26T17:25:38.661Z"
   },
   {
    "duration": 16,
    "start_time": "2024-10-26T17:25:38.684Z"
   },
   {
    "duration": 20,
    "start_time": "2024-10-26T17:25:38.702Z"
   },
   {
    "duration": 12,
    "start_time": "2024-10-26T17:25:38.753Z"
   },
   {
    "duration": 10,
    "start_time": "2024-10-26T17:25:38.767Z"
   },
   {
    "duration": 12,
    "start_time": "2024-10-26T17:25:38.779Z"
   },
   {
    "duration": 12,
    "start_time": "2024-10-26T17:25:38.793Z"
   },
   {
    "duration": 51,
    "start_time": "2024-10-26T17:25:38.806Z"
   },
   {
    "duration": 25,
    "start_time": "2024-10-26T17:25:38.859Z"
   },
   {
    "duration": 205,
    "start_time": "2024-10-26T17:25:38.886Z"
   },
   {
    "duration": 95,
    "start_time": "2024-10-26T17:25:39.094Z"
   },
   {
    "duration": 178,
    "start_time": "2024-10-26T17:25:39.191Z"
   },
   {
    "duration": 193,
    "start_time": "2024-10-26T17:25:39.371Z"
   },
   {
    "duration": 200,
    "start_time": "2024-10-26T17:25:39.566Z"
   },
   {
    "duration": 18,
    "start_time": "2024-10-26T17:25:39.768Z"
   },
   {
    "duration": 24,
    "start_time": "2024-10-26T17:25:39.788Z"
   },
   {
    "duration": 40,
    "start_time": "2024-10-26T17:25:39.814Z"
   },
   {
    "duration": 451,
    "start_time": "2024-10-26T17:25:39.855Z"
   },
   {
    "duration": 63,
    "start_time": "2024-10-26T17:25:40.307Z"
   },
   {
    "duration": 17,
    "start_time": "2024-10-26T17:25:40.372Z"
   },
   {
    "duration": 3,
    "start_time": "2024-10-26T17:25:40.390Z"
   },
   {
    "duration": 14,
    "start_time": "2024-10-26T17:25:40.394Z"
   },
   {
    "duration": 5,
    "start_time": "2024-10-26T17:25:40.409Z"
   },
   {
    "duration": 39,
    "start_time": "2024-10-26T17:25:40.416Z"
   },
   {
    "duration": 22,
    "start_time": "2024-10-26T17:25:40.456Z"
   },
   {
    "duration": 9,
    "start_time": "2024-10-26T17:25:40.480Z"
   },
   {
    "duration": 6,
    "start_time": "2024-10-26T17:30:19.438Z"
   },
   {
    "duration": 1160,
    "start_time": "2024-10-26T17:33:00.492Z"
   },
   {
    "duration": 80,
    "start_time": "2024-10-26T17:33:01.654Z"
   },
   {
    "duration": 21,
    "start_time": "2024-10-26T17:33:01.735Z"
   },
   {
    "duration": 18,
    "start_time": "2024-10-26T17:33:01.757Z"
   },
   {
    "duration": 14,
    "start_time": "2024-10-26T17:33:01.777Z"
   },
   {
    "duration": 45,
    "start_time": "2024-10-26T17:33:01.793Z"
   },
   {
    "duration": 25,
    "start_time": "2024-10-26T17:33:01.840Z"
   },
   {
    "duration": 10,
    "start_time": "2024-10-26T17:33:01.867Z"
   },
   {
    "duration": 10,
    "start_time": "2024-10-26T17:33:01.879Z"
   },
   {
    "duration": 28,
    "start_time": "2024-10-26T17:33:01.892Z"
   },
   {
    "duration": 12,
    "start_time": "2024-10-26T17:33:01.922Z"
   },
   {
    "duration": 62,
    "start_time": "2024-10-26T17:33:01.935Z"
   },
   {
    "duration": 228,
    "start_time": "2024-10-26T17:33:01.999Z"
   },
   {
    "duration": 95,
    "start_time": "2024-10-26T17:33:02.229Z"
   },
   {
    "duration": 202,
    "start_time": "2024-10-26T17:33:02.325Z"
   },
   {
    "duration": 202,
    "start_time": "2024-10-26T17:33:02.529Z"
   },
   {
    "duration": 190,
    "start_time": "2024-10-26T17:33:02.733Z"
   },
   {
    "duration": 15,
    "start_time": "2024-10-26T17:33:02.925Z"
   },
   {
    "duration": 43,
    "start_time": "2024-10-26T17:33:02.941Z"
   },
   {
    "duration": 13,
    "start_time": "2024-10-26T17:33:02.985Z"
   },
   {
    "duration": 459,
    "start_time": "2024-10-26T17:33:02.999Z"
   },
   {
    "duration": 66,
    "start_time": "2024-10-26T17:33:03.460Z"
   },
   {
    "duration": 33,
    "start_time": "2024-10-26T17:33:03.528Z"
   },
   {
    "duration": 11,
    "start_time": "2024-10-26T17:33:03.563Z"
   },
   {
    "duration": 21,
    "start_time": "2024-10-26T17:33:03.576Z"
   },
   {
    "duration": 15,
    "start_time": "2024-10-26T17:33:03.599Z"
   },
   {
    "duration": 13,
    "start_time": "2024-10-26T17:33:03.616Z"
   },
   {
    "duration": 24,
    "start_time": "2024-10-26T17:33:03.630Z"
   },
   {
    "duration": 9,
    "start_time": "2024-10-26T17:33:03.656Z"
   },
   {
    "duration": 48,
    "start_time": "2024-10-27T21:32:58.706Z"
   },
   {
    "duration": 4,
    "start_time": "2024-10-27T21:34:15.869Z"
   },
   {
    "duration": 14,
    "start_time": "2024-10-27T21:34:34.757Z"
   },
   {
    "duration": 95,
    "start_time": "2024-10-27T21:35:03.962Z"
   },
   {
    "duration": 48,
    "start_time": "2024-10-27T21:35:09.923Z"
   },
   {
    "duration": 13,
    "start_time": "2024-10-27T21:35:12.614Z"
   },
   {
    "duration": 5,
    "start_time": "2024-10-27T21:39:36.447Z"
   },
   {
    "duration": 5,
    "start_time": "2024-10-27T21:41:35.159Z"
   },
   {
    "duration": 4,
    "start_time": "2024-10-27T21:42:01.910Z"
   },
   {
    "duration": 14,
    "start_time": "2024-10-27T21:46:05.361Z"
   },
   {
    "duration": 9,
    "start_time": "2024-10-27T21:46:13.613Z"
   },
   {
    "duration": 56,
    "start_time": "2024-10-27T21:49:00.970Z"
   },
   {
    "duration": 87,
    "start_time": "2024-10-27T21:49:07.230Z"
   },
   {
    "duration": 3,
    "start_time": "2024-10-27T21:49:11.534Z"
   },
   {
    "duration": 3,
    "start_time": "2024-10-27T21:49:30.477Z"
   },
   {
    "duration": 102,
    "start_time": "2024-10-27T21:50:07.396Z"
   },
   {
    "duration": 5,
    "start_time": "2024-10-27T21:50:12.606Z"
   },
   {
    "duration": 10,
    "start_time": "2024-10-27T21:53:01.553Z"
   },
   {
    "duration": 5,
    "start_time": "2024-10-27T21:56:08.197Z"
   },
   {
    "duration": 2,
    "start_time": "2024-10-27T21:57:27.213Z"
   },
   {
    "duration": 7,
    "start_time": "2024-10-27T21:58:30.189Z"
   },
   {
    "duration": 17,
    "start_time": "2024-10-27T22:01:59.199Z"
   },
   {
    "duration": 10,
    "start_time": "2024-10-27T22:03:45.731Z"
   },
   {
    "duration": 15,
    "start_time": "2024-10-27T22:03:56.151Z"
   },
   {
    "duration": 10,
    "start_time": "2024-10-27T22:03:58.392Z"
   },
   {
    "duration": 7,
    "start_time": "2024-10-27T22:04:25.610Z"
   },
   {
    "duration": 8,
    "start_time": "2024-10-27T22:04:38.194Z"
   },
   {
    "duration": 11,
    "start_time": "2024-10-27T22:05:36.618Z"
   },
   {
    "duration": 14,
    "start_time": "2024-10-27T22:05:53.578Z"
   },
   {
    "duration": 20,
    "start_time": "2024-10-27T22:06:02.661Z"
   },
   {
    "duration": 16,
    "start_time": "2024-10-27T22:07:02.553Z"
   },
   {
    "duration": 15,
    "start_time": "2024-10-27T22:29:05.395Z"
   },
   {
    "duration": 16,
    "start_time": "2024-10-27T22:29:07.741Z"
   },
   {
    "duration": 14,
    "start_time": "2024-10-27T22:29:14.417Z"
   },
   {
    "duration": 2,
    "start_time": "2024-10-27T22:33:42.830Z"
   },
   {
    "duration": 15,
    "start_time": "2024-10-27T22:38:38.996Z"
   },
   {
    "duration": 9,
    "start_time": "2024-10-27T22:38:48.463Z"
   },
   {
    "duration": 9,
    "start_time": "2024-10-27T22:39:03.585Z"
   },
   {
    "duration": 8,
    "start_time": "2024-10-27T22:39:24.678Z"
   },
   {
    "duration": 8,
    "start_time": "2024-10-27T22:42:37.869Z"
   },
   {
    "duration": 8,
    "start_time": "2024-10-27T22:44:04.450Z"
   },
   {
    "duration": 5,
    "start_time": "2024-10-27T23:02:17.579Z"
   },
   {
    "duration": 65,
    "start_time": "2024-10-27T23:03:31.576Z"
   },
   {
    "duration": 5,
    "start_time": "2024-10-27T23:04:45.335Z"
   },
   {
    "duration": 87,
    "start_time": "2024-10-27T23:06:28.324Z"
   },
   {
    "duration": 1121,
    "start_time": "2024-10-27T23:10:23.351Z"
   },
   {
    "duration": 989,
    "start_time": "2024-10-27T23:11:26.931Z"
   },
   {
    "duration": 1009,
    "start_time": "2024-10-27T23:11:37.223Z"
   },
   {
    "duration": 797,
    "start_time": "2024-10-27T23:12:35.735Z"
   },
   {
    "duration": 1137,
    "start_time": "2024-10-27T23:12:49.012Z"
   },
   {
    "duration": 1051,
    "start_time": "2024-10-27T23:13:03.384Z"
   },
   {
    "duration": 1079,
    "start_time": "2024-10-27T23:13:28.365Z"
   },
   {
    "duration": 1167,
    "start_time": "2024-10-27T23:14:06.675Z"
   },
   {
    "duration": 171,
    "start_time": "2024-10-27T23:18:59.820Z"
   },
   {
    "duration": 167,
    "start_time": "2024-10-27T23:19:50.724Z"
   },
   {
    "duration": 216,
    "start_time": "2024-10-27T23:20:01.238Z"
   },
   {
    "duration": 87,
    "start_time": "2024-10-27T23:42:53.916Z"
   },
   {
    "duration": 107,
    "start_time": "2024-10-27T23:42:58.876Z"
   },
   {
    "duration": 135,
    "start_time": "2024-10-27T23:43:07.211Z"
   },
   {
    "duration": 3,
    "start_time": "2024-10-27T23:44:07.949Z"
   },
   {
    "duration": 2,
    "start_time": "2024-10-27T23:45:34.495Z"
   },
   {
    "duration": 2,
    "start_time": "2024-10-27T23:45:56.676Z"
   },
   {
    "duration": 1057,
    "start_time": "2024-10-28T09:20:41.284Z"
   },
   {
    "duration": 63,
    "start_time": "2024-10-28T09:20:42.342Z"
   },
   {
    "duration": 17,
    "start_time": "2024-10-28T09:20:42.406Z"
   },
   {
    "duration": 13,
    "start_time": "2024-10-28T09:20:42.425Z"
   },
   {
    "duration": 11,
    "start_time": "2024-10-28T09:20:42.440Z"
   },
   {
    "duration": 15,
    "start_time": "2024-10-28T09:20:42.453Z"
   },
   {
    "duration": 8,
    "start_time": "2024-10-28T09:20:42.469Z"
   },
   {
    "duration": 27,
    "start_time": "2024-10-28T09:20:42.478Z"
   },
   {
    "duration": 17,
    "start_time": "2024-10-28T09:20:42.506Z"
   },
   {
    "duration": 3,
    "start_time": "2024-10-28T09:20:42.525Z"
   },
   {
    "duration": 11,
    "start_time": "2024-10-28T09:20:42.530Z"
   },
   {
    "duration": 4,
    "start_time": "2024-10-28T09:20:42.542Z"
   },
   {
    "duration": 20,
    "start_time": "2024-10-28T09:20:42.547Z"
   },
   {
    "duration": 152,
    "start_time": "2024-10-28T09:20:42.568Z"
   },
   {
    "duration": 81,
    "start_time": "2024-10-28T09:20:42.721Z"
   },
   {
    "duration": 145,
    "start_time": "2024-10-28T09:20:42.803Z"
   },
   {
    "duration": 163,
    "start_time": "2024-10-28T09:20:42.950Z"
   },
   {
    "duration": 238,
    "start_time": "2024-10-28T09:20:43.114Z"
   },
   {
    "duration": 15,
    "start_time": "2024-10-28T09:20:43.353Z"
   },
   {
    "duration": 19,
    "start_time": "2024-10-28T09:20:43.369Z"
   },
   {
    "duration": 10,
    "start_time": "2024-10-28T09:20:43.389Z"
   },
   {
    "duration": 4,
    "start_time": "2024-10-28T09:20:43.400Z"
   },
   {
    "duration": 1159,
    "start_time": "2024-10-28T09:20:43.405Z"
   },
   {
    "duration": 4,
    "start_time": "2024-10-28T09:20:44.565Z"
   },
   {
    "duration": 104,
    "start_time": "2024-10-28T09:20:44.570Z"
   },
   {
    "duration": 0,
    "start_time": "2024-10-28T09:20:44.676Z"
   },
   {
    "duration": 0,
    "start_time": "2024-10-28T09:20:44.677Z"
   },
   {
    "duration": 0,
    "start_time": "2024-10-28T09:20:44.677Z"
   },
   {
    "duration": 0,
    "start_time": "2024-10-28T09:20:44.731Z"
   },
   {
    "duration": 0,
    "start_time": "2024-10-28T09:20:44.732Z"
   },
   {
    "duration": 0,
    "start_time": "2024-10-28T09:20:44.733Z"
   },
   {
    "duration": 0,
    "start_time": "2024-10-28T09:20:44.733Z"
   },
   {
    "duration": 0,
    "start_time": "2024-10-28T09:20:44.734Z"
   },
   {
    "duration": 0,
    "start_time": "2024-10-28T09:20:44.735Z"
   },
   {
    "duration": 0,
    "start_time": "2024-10-28T09:20:44.736Z"
   },
   {
    "duration": 0,
    "start_time": "2024-10-28T09:20:44.737Z"
   },
   {
    "duration": 0,
    "start_time": "2024-10-28T09:20:44.757Z"
   },
   {
    "duration": 0,
    "start_time": "2024-10-28T09:20:44.758Z"
   },
   {
    "duration": 1048,
    "start_time": "2024-10-28T09:22:22.961Z"
   },
   {
    "duration": 64,
    "start_time": "2024-10-28T09:22:24.010Z"
   },
   {
    "duration": 18,
    "start_time": "2024-10-28T09:22:24.075Z"
   },
   {
    "duration": 14,
    "start_time": "2024-10-28T09:22:24.094Z"
   },
   {
    "duration": 12,
    "start_time": "2024-10-28T09:22:24.109Z"
   },
   {
    "duration": 28,
    "start_time": "2024-10-28T09:22:24.122Z"
   },
   {
    "duration": 10,
    "start_time": "2024-10-28T09:22:24.151Z"
   },
   {
    "duration": 9,
    "start_time": "2024-10-28T09:22:24.163Z"
   },
   {
    "duration": 14,
    "start_time": "2024-10-28T09:22:24.173Z"
   },
   {
    "duration": 3,
    "start_time": "2024-10-28T09:22:24.190Z"
   },
   {
    "duration": 15,
    "start_time": "2024-10-28T09:22:24.195Z"
   },
   {
    "duration": 11,
    "start_time": "2024-10-28T09:22:24.212Z"
   },
   {
    "duration": 20,
    "start_time": "2024-10-28T09:22:24.224Z"
   },
   {
    "duration": 166,
    "start_time": "2024-10-28T09:22:24.246Z"
   },
   {
    "duration": 85,
    "start_time": "2024-10-28T09:22:24.414Z"
   },
   {
    "duration": 142,
    "start_time": "2024-10-28T09:22:24.501Z"
   },
   {
    "duration": 157,
    "start_time": "2024-10-28T09:22:24.645Z"
   },
   {
    "duration": 240,
    "start_time": "2024-10-28T09:22:24.804Z"
   },
   {
    "duration": 16,
    "start_time": "2024-10-28T09:22:25.045Z"
   },
   {
    "duration": 28,
    "start_time": "2024-10-28T09:22:25.063Z"
   },
   {
    "duration": 10,
    "start_time": "2024-10-28T09:22:25.093Z"
   },
   {
    "duration": 4,
    "start_time": "2024-10-28T09:22:25.105Z"
   },
   {
    "duration": 1137,
    "start_time": "2024-10-28T09:22:25.111Z"
   },
   {
    "duration": 4,
    "start_time": "2024-10-28T09:22:26.249Z"
   },
   {
    "duration": 118,
    "start_time": "2024-10-28T09:22:26.255Z"
   },
   {
    "duration": 0,
    "start_time": "2024-10-28T09:22:26.375Z"
   },
   {
    "duration": 0,
    "start_time": "2024-10-28T09:22:26.376Z"
   },
   {
    "duration": 0,
    "start_time": "2024-10-28T09:22:26.378Z"
   },
   {
    "duration": 0,
    "start_time": "2024-10-28T09:22:26.379Z"
   },
   {
    "duration": 0,
    "start_time": "2024-10-28T09:22:26.380Z"
   },
   {
    "duration": 0,
    "start_time": "2024-10-28T09:22:26.435Z"
   },
   {
    "duration": 0,
    "start_time": "2024-10-28T09:22:26.458Z"
   },
   {
    "duration": 0,
    "start_time": "2024-10-28T09:22:26.459Z"
   },
   {
    "duration": 0,
    "start_time": "2024-10-28T09:22:26.460Z"
   },
   {
    "duration": 0,
    "start_time": "2024-10-28T09:22:26.461Z"
   },
   {
    "duration": 0,
    "start_time": "2024-10-28T09:22:26.462Z"
   },
   {
    "duration": 0,
    "start_time": "2024-10-28T09:22:26.464Z"
   },
   {
    "duration": 0,
    "start_time": "2024-10-28T09:22:26.465Z"
   },
   {
    "duration": 1076,
    "start_time": "2024-10-28T09:22:48.269Z"
   },
   {
    "duration": 63,
    "start_time": "2024-10-28T09:22:49.346Z"
   },
   {
    "duration": 18,
    "start_time": "2024-10-28T09:22:49.411Z"
   },
   {
    "duration": 104,
    "start_time": "2024-10-28T09:22:49.431Z"
   },
   {
    "duration": 10,
    "start_time": "2024-10-28T09:22:49.538Z"
   },
   {
    "duration": 19,
    "start_time": "2024-10-28T09:22:49.550Z"
   },
   {
    "duration": 8,
    "start_time": "2024-10-28T09:22:49.571Z"
   },
   {
    "duration": 6,
    "start_time": "2024-10-28T09:22:49.580Z"
   },
   {
    "duration": 9,
    "start_time": "2024-10-28T09:22:49.587Z"
   },
   {
    "duration": 4,
    "start_time": "2024-10-28T09:22:49.597Z"
   },
   {
    "duration": 5,
    "start_time": "2024-10-28T09:22:49.603Z"
   },
   {
    "duration": 6,
    "start_time": "2024-10-28T09:22:49.609Z"
   },
   {
    "duration": 52,
    "start_time": "2024-10-28T09:22:49.616Z"
   },
   {
    "duration": 160,
    "start_time": "2024-10-28T09:22:49.671Z"
   },
   {
    "duration": 83,
    "start_time": "2024-10-28T09:22:49.832Z"
   },
   {
    "duration": 153,
    "start_time": "2024-10-28T09:22:49.917Z"
   },
   {
    "duration": 164,
    "start_time": "2024-10-28T09:22:50.072Z"
   },
   {
    "duration": 241,
    "start_time": "2024-10-28T09:22:50.237Z"
   },
   {
    "duration": 13,
    "start_time": "2024-10-28T09:22:50.480Z"
   },
   {
    "duration": 38,
    "start_time": "2024-10-28T09:22:50.494Z"
   },
   {
    "duration": 9,
    "start_time": "2024-10-28T09:22:50.534Z"
   },
   {
    "duration": 5,
    "start_time": "2024-10-28T09:22:50.545Z"
   },
   {
    "duration": 1184,
    "start_time": "2024-10-28T09:22:50.552Z"
   },
   {
    "duration": 3,
    "start_time": "2024-10-28T09:22:51.737Z"
   },
   {
    "duration": 144,
    "start_time": "2024-10-28T09:22:51.742Z"
   },
   {
    "duration": 0,
    "start_time": "2024-10-28T09:22:51.887Z"
   },
   {
    "duration": 0,
    "start_time": "2024-10-28T09:22:51.889Z"
   },
   {
    "duration": 0,
    "start_time": "2024-10-28T09:22:51.890Z"
   },
   {
    "duration": 0,
    "start_time": "2024-10-28T09:22:51.891Z"
   },
   {
    "duration": 0,
    "start_time": "2024-10-28T09:22:51.892Z"
   },
   {
    "duration": 0,
    "start_time": "2024-10-28T09:22:51.893Z"
   },
   {
    "duration": 0,
    "start_time": "2024-10-28T09:22:51.894Z"
   },
   {
    "duration": 0,
    "start_time": "2024-10-28T09:22:51.895Z"
   },
   {
    "duration": 0,
    "start_time": "2024-10-28T09:22:51.896Z"
   },
   {
    "duration": 0,
    "start_time": "2024-10-28T09:22:51.897Z"
   },
   {
    "duration": 0,
    "start_time": "2024-10-28T09:22:51.898Z"
   },
   {
    "duration": 0,
    "start_time": "2024-10-28T09:22:51.992Z"
   },
   {
    "duration": 0,
    "start_time": "2024-10-28T09:22:51.993Z"
   },
   {
    "duration": 50,
    "start_time": "2024-10-28T18:20:43.372Z"
   },
   {
    "duration": 1378,
    "start_time": "2024-10-28T18:20:48.400Z"
   },
   {
    "duration": 299,
    "start_time": "2024-10-28T18:20:49.780Z"
   },
   {
    "duration": 25,
    "start_time": "2024-10-28T18:20:50.080Z"
   },
   {
    "duration": 24,
    "start_time": "2024-10-28T18:20:50.108Z"
   },
   {
    "duration": 14,
    "start_time": "2024-10-28T18:20:50.134Z"
   },
   {
    "duration": 35,
    "start_time": "2024-10-28T18:20:50.150Z"
   },
   {
    "duration": 11,
    "start_time": "2024-10-28T18:20:50.187Z"
   },
   {
    "duration": 8,
    "start_time": "2024-10-28T18:20:50.199Z"
   },
   {
    "duration": 9,
    "start_time": "2024-10-28T18:20:50.209Z"
   },
   {
    "duration": 3,
    "start_time": "2024-10-28T18:20:50.222Z"
   },
   {
    "duration": 6,
    "start_time": "2024-10-28T18:20:50.228Z"
   },
   {
    "duration": 6,
    "start_time": "2024-10-28T18:20:50.275Z"
   },
   {
    "duration": 26,
    "start_time": "2024-10-28T18:20:50.283Z"
   },
   {
    "duration": 229,
    "start_time": "2024-10-28T18:20:50.310Z"
   },
   {
    "duration": 107,
    "start_time": "2024-10-28T18:20:50.541Z"
   },
   {
    "duration": 163,
    "start_time": "2024-10-28T18:20:50.650Z"
   },
   {
    "duration": 185,
    "start_time": "2024-10-28T18:20:50.815Z"
   },
   {
    "duration": 287,
    "start_time": "2024-10-28T18:20:51.001Z"
   },
   {
    "duration": 16,
    "start_time": "2024-10-28T18:20:51.289Z"
   },
   {
    "duration": 22,
    "start_time": "2024-10-28T18:20:51.306Z"
   },
   {
    "duration": 11,
    "start_time": "2024-10-28T18:20:51.329Z"
   },
   {
    "duration": 5,
    "start_time": "2024-10-28T18:20:51.341Z"
   },
   {
    "duration": 1329,
    "start_time": "2024-10-28T18:20:51.347Z"
   },
   {
    "duration": 3,
    "start_time": "2024-10-28T18:20:52.678Z"
   },
   {
    "duration": 143,
    "start_time": "2024-10-28T18:20:52.683Z"
   },
   {
    "duration": 13,
    "start_time": "2024-10-28T18:20:52.827Z"
   },
   {
    "duration": 16,
    "start_time": "2024-10-28T18:20:52.841Z"
   },
   {
    "duration": 11,
    "start_time": "2024-10-28T18:20:52.860Z"
   },
   {
    "duration": 6,
    "start_time": "2024-10-28T18:20:52.872Z"
   },
   {
    "duration": 5,
    "start_time": "2024-10-28T18:20:52.880Z"
   },
   {
    "duration": 14,
    "start_time": "2024-10-28T18:20:52.886Z"
   },
   {
    "duration": 5,
    "start_time": "2024-10-28T18:20:52.902Z"
   },
   {
    "duration": 4,
    "start_time": "2024-10-28T18:20:52.908Z"
   },
   {
    "duration": 21,
    "start_time": "2024-10-28T18:20:52.913Z"
   },
   {
    "duration": 3,
    "start_time": "2024-10-28T18:20:52.936Z"
   },
   {
    "duration": 5,
    "start_time": "2024-10-28T18:20:52.940Z"
   },
   {
    "duration": 66,
    "start_time": "2024-10-28T18:20:52.947Z"
   },
   {
    "duration": 19,
    "start_time": "2024-10-28T18:20:53.014Z"
   },
   {
    "duration": 57,
    "start_time": "2024-10-28T18:21:28.058Z"
   },
   {
    "duration": 60,
    "start_time": "2024-10-28T18:21:30.964Z"
   },
   {
    "duration": 1198,
    "start_time": "2024-10-29T06:58:44.506Z"
   },
   {
    "duration": 74,
    "start_time": "2024-10-29T06:58:45.706Z"
   },
   {
    "duration": 20,
    "start_time": "2024-10-29T06:58:45.781Z"
   },
   {
    "duration": 21,
    "start_time": "2024-10-29T06:58:45.803Z"
   },
   {
    "duration": 88,
    "start_time": "2024-10-29T06:58:45.826Z"
   },
   {
    "duration": 35,
    "start_time": "2024-10-29T06:58:45.915Z"
   },
   {
    "duration": 39,
    "start_time": "2024-10-29T06:58:45.951Z"
   },
   {
    "duration": 17,
    "start_time": "2024-10-29T06:58:45.992Z"
   },
   {
    "duration": 26,
    "start_time": "2024-10-29T06:58:46.010Z"
   },
   {
    "duration": 12,
    "start_time": "2024-10-29T06:58:46.040Z"
   },
   {
    "duration": 54,
    "start_time": "2024-10-29T06:58:46.053Z"
   },
   {
    "duration": 64,
    "start_time": "2024-10-29T06:58:46.108Z"
   },
   {
    "duration": 33,
    "start_time": "2024-10-29T06:58:46.174Z"
   },
   {
    "duration": 186,
    "start_time": "2024-10-29T06:58:46.209Z"
   },
   {
    "duration": 92,
    "start_time": "2024-10-29T06:58:46.397Z"
   },
   {
    "duration": 173,
    "start_time": "2024-10-29T06:58:46.491Z"
   },
   {
    "duration": 190,
    "start_time": "2024-10-29T06:58:46.665Z"
   },
   {
    "duration": 274,
    "start_time": "2024-10-29T06:58:46.857Z"
   },
   {
    "duration": 15,
    "start_time": "2024-10-29T06:58:47.132Z"
   },
   {
    "duration": 66,
    "start_time": "2024-10-29T06:58:47.149Z"
   },
   {
    "duration": 12,
    "start_time": "2024-10-29T06:58:47.217Z"
   },
   {
    "duration": 11,
    "start_time": "2024-10-29T06:58:47.230Z"
   },
   {
    "duration": 1306,
    "start_time": "2024-10-29T06:58:47.243Z"
   },
   {
    "duration": 4,
    "start_time": "2024-10-29T06:58:48.551Z"
   },
   {
    "duration": 141,
    "start_time": "2024-10-29T06:58:48.556Z"
   },
   {
    "duration": 14,
    "start_time": "2024-10-29T06:58:48.699Z"
   },
   {
    "duration": 3,
    "start_time": "2024-10-29T06:58:48.721Z"
   },
   {
    "duration": 5,
    "start_time": "2024-10-29T06:58:48.727Z"
   },
   {
    "duration": 72,
    "start_time": "2024-10-29T06:58:48.734Z"
   },
   {
    "duration": 23,
    "start_time": "2024-10-29T06:58:48.807Z"
   },
   {
    "duration": 17,
    "start_time": "2024-10-29T06:58:48.833Z"
   },
   {
    "duration": 6,
    "start_time": "2024-10-29T06:58:48.852Z"
   },
   {
    "duration": 6,
    "start_time": "2024-10-29T06:58:48.859Z"
   },
   {
    "duration": 23,
    "start_time": "2024-10-29T06:58:48.866Z"
   },
   {
    "duration": 7,
    "start_time": "2024-10-29T06:58:48.890Z"
   },
   {
    "duration": 4,
    "start_time": "2024-10-29T06:58:48.898Z"
   },
   {
    "duration": 3,
    "start_time": "2024-10-29T06:58:48.904Z"
   },
   {
    "duration": 33,
    "start_time": "2024-10-29T06:58:48.908Z"
   },
   {
    "duration": 6,
    "start_time": "2024-10-29T06:59:42.611Z"
   },
   {
    "duration": 1120,
    "start_time": "2024-10-29T07:02:51.135Z"
   },
   {
    "duration": 72,
    "start_time": "2024-10-29T07:02:52.257Z"
   },
   {
    "duration": 22,
    "start_time": "2024-10-29T07:02:52.331Z"
   },
   {
    "duration": 47,
    "start_time": "2024-10-29T07:02:52.355Z"
   },
   {
    "duration": 22,
    "start_time": "2024-10-29T07:02:52.404Z"
   },
   {
    "duration": 24,
    "start_time": "2024-10-29T07:02:52.427Z"
   },
   {
    "duration": 27,
    "start_time": "2024-10-29T07:02:52.452Z"
   },
   {
    "duration": 8,
    "start_time": "2024-10-29T07:02:52.480Z"
   },
   {
    "duration": 10,
    "start_time": "2024-10-29T07:02:52.490Z"
   },
   {
    "duration": 3,
    "start_time": "2024-10-29T07:02:52.503Z"
   },
   {
    "duration": 15,
    "start_time": "2024-10-29T07:02:52.508Z"
   },
   {
    "duration": 15,
    "start_time": "2024-10-29T07:02:52.524Z"
   },
   {
    "duration": 24,
    "start_time": "2024-10-29T07:02:52.541Z"
   },
   {
    "duration": 193,
    "start_time": "2024-10-29T07:02:52.566Z"
   },
   {
    "duration": 106,
    "start_time": "2024-10-29T07:02:52.761Z"
   },
   {
    "duration": 206,
    "start_time": "2024-10-29T07:02:52.869Z"
   },
   {
    "duration": 201,
    "start_time": "2024-10-29T07:02:53.077Z"
   },
   {
    "duration": 297,
    "start_time": "2024-10-29T07:02:53.280Z"
   },
   {
    "duration": 17,
    "start_time": "2024-10-29T07:02:53.579Z"
   },
   {
    "duration": 46,
    "start_time": "2024-10-29T07:02:53.597Z"
   },
   {
    "duration": 12,
    "start_time": "2024-10-29T07:02:53.645Z"
   },
   {
    "duration": 5,
    "start_time": "2024-10-29T07:02:53.659Z"
   },
   {
    "duration": 1288,
    "start_time": "2024-10-29T07:02:53.666Z"
   },
   {
    "duration": 4,
    "start_time": "2024-10-29T07:02:54.955Z"
   },
   {
    "duration": 142,
    "start_time": "2024-10-29T07:02:54.960Z"
   },
   {
    "duration": 23,
    "start_time": "2024-10-29T07:02:55.104Z"
   },
   {
    "duration": 66,
    "start_time": "2024-10-29T07:02:55.130Z"
   },
   {
    "duration": 4,
    "start_time": "2024-10-29T07:02:55.199Z"
   },
   {
    "duration": 6,
    "start_time": "2024-10-29T07:02:55.205Z"
   },
   {
    "duration": 2,
    "start_time": "2024-10-29T07:02:55.213Z"
   },
   {
    "duration": 16,
    "start_time": "2024-10-29T07:02:55.217Z"
   },
   {
    "duration": 6,
    "start_time": "2024-10-29T07:02:55.235Z"
   },
   {
    "duration": 10,
    "start_time": "2024-10-29T07:02:55.243Z"
   },
   {
    "duration": 8,
    "start_time": "2024-10-29T07:02:55.254Z"
   },
   {
    "duration": 5,
    "start_time": "2024-10-29T07:02:55.264Z"
   },
   {
    "duration": 9,
    "start_time": "2024-10-29T07:02:55.270Z"
   },
   {
    "duration": 7,
    "start_time": "2024-10-29T07:02:55.280Z"
   },
   {
    "duration": 42,
    "start_time": "2024-10-29T07:02:55.289Z"
   },
   {
    "duration": 46,
    "start_time": "2024-10-29T07:07:37.695Z"
   },
   {
    "duration": 7,
    "start_time": "2024-10-29T07:07:40.939Z"
   },
   {
    "duration": 1303,
    "start_time": "2024-10-29T07:07:45.067Z"
   },
   {
    "duration": 281,
    "start_time": "2024-10-29T07:07:46.372Z"
   },
   {
    "duration": 19,
    "start_time": "2024-10-29T07:07:46.655Z"
   },
   {
    "duration": 46,
    "start_time": "2024-10-29T07:07:46.675Z"
   },
   {
    "duration": 33,
    "start_time": "2024-10-29T07:07:46.722Z"
   },
   {
    "duration": 58,
    "start_time": "2024-10-29T07:07:46.757Z"
   },
   {
    "duration": 24,
    "start_time": "2024-10-29T07:07:46.817Z"
   },
   {
    "duration": 21,
    "start_time": "2024-10-29T07:07:46.843Z"
   },
   {
    "duration": 25,
    "start_time": "2024-10-29T07:07:46.865Z"
   },
   {
    "duration": 12,
    "start_time": "2024-10-29T07:07:46.892Z"
   },
   {
    "duration": 14,
    "start_time": "2024-10-29T07:07:46.905Z"
   },
   {
    "duration": 26,
    "start_time": "2024-10-29T07:07:46.920Z"
   },
   {
    "duration": 41,
    "start_time": "2024-10-29T07:07:46.948Z"
   },
   {
    "duration": 173,
    "start_time": "2024-10-29T07:07:46.990Z"
   },
   {
    "duration": 85,
    "start_time": "2024-10-29T07:07:47.165Z"
   },
   {
    "duration": 158,
    "start_time": "2024-10-29T07:07:47.252Z"
   },
   {
    "duration": 203,
    "start_time": "2024-10-29T07:07:47.412Z"
   },
   {
    "duration": 301,
    "start_time": "2024-10-29T07:07:47.616Z"
   },
   {
    "duration": 24,
    "start_time": "2024-10-29T07:07:47.919Z"
   },
   {
    "duration": 22,
    "start_time": "2024-10-29T07:07:47.944Z"
   },
   {
    "duration": 10,
    "start_time": "2024-10-29T07:07:47.967Z"
   },
   {
    "duration": 19,
    "start_time": "2024-10-29T07:07:47.979Z"
   },
   {
    "duration": 1287,
    "start_time": "2024-10-29T07:07:48.000Z"
   },
   {
    "duration": 5,
    "start_time": "2024-10-29T07:07:49.289Z"
   },
   {
    "duration": 196,
    "start_time": "2024-10-29T07:07:49.296Z"
   },
   {
    "duration": 14,
    "start_time": "2024-10-29T07:07:49.494Z"
   },
   {
    "duration": 25,
    "start_time": "2024-10-29T07:07:49.510Z"
   },
   {
    "duration": 10,
    "start_time": "2024-10-29T07:07:49.538Z"
   },
   {
    "duration": 11,
    "start_time": "2024-10-29T07:07:49.549Z"
   },
   {
    "duration": 26,
    "start_time": "2024-10-29T07:07:49.561Z"
   },
   {
    "duration": 18,
    "start_time": "2024-10-29T07:07:49.588Z"
   },
   {
    "duration": 6,
    "start_time": "2024-10-29T07:07:49.607Z"
   },
   {
    "duration": 23,
    "start_time": "2024-10-29T07:07:49.614Z"
   },
   {
    "duration": 11,
    "start_time": "2024-10-29T07:07:49.639Z"
   },
   {
    "duration": 13,
    "start_time": "2024-10-29T07:07:49.651Z"
   },
   {
    "duration": 18,
    "start_time": "2024-10-29T07:07:49.665Z"
   },
   {
    "duration": 21,
    "start_time": "2024-10-29T07:07:49.684Z"
   },
   {
    "duration": 34,
    "start_time": "2024-10-29T07:07:49.707Z"
   },
   {
    "duration": 10,
    "start_time": "2024-10-29T07:16:37.201Z"
   },
   {
    "duration": 166,
    "start_time": "2024-10-29T07:19:30.699Z"
   },
   {
    "duration": 46,
    "start_time": "2024-10-29T07:19:54.528Z"
   },
   {
    "duration": 11,
    "start_time": "2024-10-29T07:20:18.731Z"
   },
   {
    "duration": 11,
    "start_time": "2024-10-29T07:20:44.029Z"
   },
   {
    "duration": 10,
    "start_time": "2024-10-29T07:22:31.976Z"
   },
   {
    "duration": 12,
    "start_time": "2024-10-29T07:24:55.224Z"
   },
   {
    "duration": 12,
    "start_time": "2024-10-29T07:25:05.250Z"
   },
   {
    "duration": 15,
    "start_time": "2024-10-29T07:40:40.072Z"
   },
   {
    "duration": 4,
    "start_time": "2024-10-29T07:42:30.898Z"
   },
   {
    "duration": 1206,
    "start_time": "2024-10-29T08:11:33.291Z"
   },
   {
    "duration": 79,
    "start_time": "2024-10-29T08:11:34.499Z"
   },
   {
    "duration": 21,
    "start_time": "2024-10-29T08:11:34.580Z"
   },
   {
    "duration": 18,
    "start_time": "2024-10-29T08:11:34.603Z"
   },
   {
    "duration": 23,
    "start_time": "2024-10-29T08:11:34.623Z"
   },
   {
    "duration": 60,
    "start_time": "2024-10-29T08:11:34.648Z"
   },
   {
    "duration": 12,
    "start_time": "2024-10-29T08:11:34.709Z"
   },
   {
    "duration": 31,
    "start_time": "2024-10-29T08:11:34.723Z"
   },
   {
    "duration": 18,
    "start_time": "2024-10-29T08:11:34.756Z"
   },
   {
    "duration": 6,
    "start_time": "2024-10-29T08:11:34.776Z"
   },
   {
    "duration": 9,
    "start_time": "2024-10-29T08:11:34.783Z"
   },
   {
    "duration": 7,
    "start_time": "2024-10-29T08:11:34.794Z"
   },
   {
    "duration": 29,
    "start_time": "2024-10-29T08:11:34.802Z"
   },
   {
    "duration": 179,
    "start_time": "2024-10-29T08:11:34.833Z"
   },
   {
    "duration": 93,
    "start_time": "2024-10-29T08:11:35.013Z"
   },
   {
    "duration": 175,
    "start_time": "2024-10-29T08:11:35.108Z"
   },
   {
    "duration": 200,
    "start_time": "2024-10-29T08:11:35.285Z"
   },
   {
    "duration": 295,
    "start_time": "2024-10-29T08:11:35.487Z"
   },
   {
    "duration": 15,
    "start_time": "2024-10-29T08:11:35.784Z"
   },
   {
    "duration": 41,
    "start_time": "2024-10-29T08:11:35.801Z"
   },
   {
    "duration": 41,
    "start_time": "2024-10-29T08:11:35.843Z"
   },
   {
    "duration": 74,
    "start_time": "2024-10-29T08:11:35.886Z"
   },
   {
    "duration": 1295,
    "start_time": "2024-10-29T08:11:35.963Z"
   },
   {
    "duration": 3,
    "start_time": "2024-10-29T08:11:37.260Z"
   },
   {
    "duration": 194,
    "start_time": "2024-10-29T08:11:37.265Z"
   },
   {
    "duration": 12,
    "start_time": "2024-10-29T08:11:37.461Z"
   },
   {
    "duration": 123,
    "start_time": "2024-10-29T08:11:37.474Z"
   },
   {
    "duration": 32,
    "start_time": "2024-10-29T08:11:37.601Z"
   },
   {
    "duration": 19,
    "start_time": "2024-10-29T08:11:37.636Z"
   },
   {
    "duration": 13,
    "start_time": "2024-10-29T08:11:37.657Z"
   },
   {
    "duration": 5,
    "start_time": "2024-10-29T08:11:37.672Z"
   },
   {
    "duration": 19,
    "start_time": "2024-10-29T08:11:37.679Z"
   },
   {
    "duration": 6,
    "start_time": "2024-10-29T08:11:37.699Z"
   },
   {
    "duration": 5,
    "start_time": "2024-10-29T08:11:37.706Z"
   },
   {
    "duration": 14,
    "start_time": "2024-10-29T08:11:37.713Z"
   },
   {
    "duration": 24,
    "start_time": "2024-10-29T08:11:37.729Z"
   },
   {
    "duration": 48,
    "start_time": "2025-07-12T11:07:17.012Z"
   },
   {
    "duration": 1357,
    "start_time": "2025-07-12T11:07:20.883Z"
   },
   {
    "duration": 76,
    "start_time": "2025-07-12T11:07:22.243Z"
   },
   {
    "duration": 22,
    "start_time": "2025-07-12T11:07:22.321Z"
   },
   {
    "duration": 54,
    "start_time": "2025-07-12T11:07:22.344Z"
   },
   {
    "duration": 14,
    "start_time": "2025-07-12T11:07:22.400Z"
   },
   {
    "duration": 18,
    "start_time": "2025-07-12T11:07:22.415Z"
   },
   {
    "duration": 10,
    "start_time": "2025-07-12T11:07:22.434Z"
   },
   {
    "duration": 8,
    "start_time": "2025-07-12T11:07:22.446Z"
   },
   {
    "duration": 11,
    "start_time": "2025-07-12T11:07:22.472Z"
   },
   {
    "duration": 54,
    "start_time": "2025-07-12T11:07:22.485Z"
   },
   {
    "duration": 9,
    "start_time": "2025-07-12T11:07:22.541Z"
   },
   {
    "duration": 21,
    "start_time": "2025-07-12T11:07:22.552Z"
   },
   {
    "duration": 172,
    "start_time": "2025-07-12T11:07:22.575Z"
   },
   {
    "duration": 94,
    "start_time": "2025-07-12T11:07:22.749Z"
   },
   {
    "duration": 162,
    "start_time": "2025-07-12T11:07:22.844Z"
   },
   {
    "duration": 179,
    "start_time": "2025-07-12T11:07:23.008Z"
   },
   {
    "duration": 274,
    "start_time": "2025-07-12T11:07:23.188Z"
   },
   {
    "duration": 21,
    "start_time": "2025-07-12T11:07:23.464Z"
   },
   {
    "duration": 71,
    "start_time": "2025-07-12T11:07:23.487Z"
   },
   {
    "duration": 13,
    "start_time": "2025-07-12T11:07:23.560Z"
   },
   {
    "duration": 1278,
    "start_time": "2025-07-12T11:07:23.574Z"
   },
   {
    "duration": 142,
    "start_time": "2025-07-12T11:07:24.854Z"
   },
   {
    "duration": 14,
    "start_time": "2025-07-12T11:07:24.998Z"
   },
   {
    "duration": 3,
    "start_time": "2025-07-12T11:07:25.013Z"
   },
   {
    "duration": 11,
    "start_time": "2025-07-12T11:07:25.018Z"
   },
   {
    "duration": 15,
    "start_time": "2025-07-12T11:07:25.030Z"
   },
   {
    "duration": 58,
    "start_time": "2025-07-12T11:07:25.046Z"
   },
   {
    "duration": 26,
    "start_time": "2025-07-12T11:07:25.106Z"
   },
   {
    "duration": 17,
    "start_time": "2025-07-12T11:07:25.134Z"
   },
   {
    "duration": 5,
    "start_time": "2025-07-12T11:07:25.152Z"
   },
   {
    "duration": 20,
    "start_time": "2025-07-12T11:07:25.159Z"
   },
   {
    "duration": 5,
    "start_time": "2025-07-12T11:07:25.181Z"
   },
   {
    "duration": 15,
    "start_time": "2025-07-12T11:07:25.188Z"
   }
  ],
  "kernelspec": {
   "display_name": "Python 3 (ipykernel)",
   "language": "python",
   "name": "python3"
  },
  "language_info": {
   "codemirror_mode": {
    "name": "ipython",
    "version": 3
   },
   "file_extension": ".py",
   "mimetype": "text/x-python",
   "name": "python",
   "nbconvert_exporter": "python",
   "pygments_lexer": "ipython3",
   "version": "3.9.5"
  },
  "toc": {
   "base_numbering": 1,
   "nav_menu": {},
   "number_sections": true,
   "sideBar": true,
   "skip_h1_title": true,
   "title_cell": "Table of Contents",
   "title_sidebar": "Contents",
   "toc_cell": false,
   "toc_position": {},
   "toc_section_display": true,
   "toc_window_display": false
  }
 },
 "nbformat": 4,
 "nbformat_minor": 5
}
